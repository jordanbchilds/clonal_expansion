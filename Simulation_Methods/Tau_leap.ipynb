{
 "cells": [
  {
   "cell_type": "code",
   "execution_count": 1,
   "id": "1dc6f8c3",
   "metadata": {},
   "outputs": [
    {
     "data": {
      "text/plain": [
       "\"Poisson leap process\\n\""
      ]
     },
     "execution_count": 1,
     "metadata": {},
     "output_type": "execute_result"
    }
   ],
   "source": [
    "\"\"\"\n",
    "Poisson leap process\n",
    "\"\"\""
   ]
  },
  {
   "cell_type": "code",
   "execution_count": 2,
   "id": "37b6b3aa",
   "metadata": {},
   "outputs": [],
   "source": [
    "using Distributed"
   ]
  },
  {
   "cell_type": "code",
   "execution_count": 3,
   "id": "8b7adffa",
   "metadata": {},
   "outputs": [],
   "source": [
    "length(Sys.cpu_info())\n",
    "addprocs(3) ;"
   ]
  },
  {
   "cell_type": "code",
   "execution_count": 4,
   "id": "5796b50e",
   "metadata": {},
   "outputs": [],
   "source": [
    "@everywhere using Random, Distributions, Plots, DelimitedFiles"
   ]
  },
  {
   "cell_type": "code",
   "execution_count": 5,
   "id": "c57bbd14",
   "metadata": {},
   "outputs": [],
   "source": [
    "@everywhere struct SPN\n",
    "    init::Vector{Real}\n",
    "    k::Vector{Real}\n",
    "    S::Array{Real}\n",
    "    Tmax::Real\n",
    "    dt::Real\n",
    "    function SPN(init, k, S, Tmax, dt)\n",
    "        new(Float64.(init), Float64.(k), Float64.(S), Float64.(Tmax), Float64.(dt))\n",
    "    end\n",
    "end"
   ]
  },
  {
   "cell_type": "code",
   "execution_count": 6,
   "id": "841efe70",
   "metadata": {},
   "outputs": [],
   "source": [
    "@everywhere init(N::SPN) = Float64.(N.init)\n",
    "@everywhere k(N::SPN) = Float64.(N.k)\n",
    "@everywhere S(N::SPN) = Float64.(N.S)\n",
    "@everywhere Tmax(N::SPN) = Float64.(N.Tmax)\n",
    "@everywhere dt(N::SPN) = Float64.(N.dt)\n",
    "@everywhere n(N::SPN) = trunc(Int, N.Tmax/N.dt)"
   ]
  },
  {
   "cell_type": "code",
   "execution_count": 7,
   "id": "82a9ceb2",
   "metadata": {},
   "outputs": [],
   "source": [
    "@everywhere function hazzy(x::Vector{Float64}, th::Vector{Float64})::Vector{Float64}\n",
    "    return [x[1], x[2], x[1], x[2], x[1]].*th[1:5]\n",
    "end"
   ]
  },
  {
   "cell_type": "code",
   "execution_count": 8,
   "id": "dea59d9b",
   "metadata": {},
   "outputs": [],
   "source": [
    "@everywhere const post = [[2,0,0,0,1] [0,2,0,0,1]]\n",
    "@everywhere const pre = [[1,0,1,0,1] [0,1,0,1,0]]\n",
    "@everywhere const SS = post - pre\n",
    "@everywhere const kk = [3.06e-8, 3.06e-8, 3.06e-8, 3.06e-8, 0.0, 8.99e-9, 2e-3];"
   ]
  },
  {
   "cell_type": "code",
   "execution_count": 9,
   "id": "ba667ef9",
   "metadata": {},
   "outputs": [
    {
     "data": {
      "text/plain": [
       "\"When specifying the parameters as ::Float64 the function is consistently a slower\\n...weird but okay.\\n\""
      ]
     },
     "execution_count": 9,
     "metadata": {},
     "output_type": "execute_result"
    }
   ],
   "source": [
    "@everywhere function gen_inits(μ::Real, σ::Real, α::Real, β::Real)::Vector{Float64}\n",
    "    CC = rand(Normal(μ, σ))\n",
    "    hh = rand(Beta(α, β))\n",
    "    return round.( [CC*(1-hh), CC*hh] )\n",
    "end\n",
    "\n",
    "\"\"\"\n",
    "When specifying the parameters as ::Float64 the function is consistently a slower\n",
    "...weird but okay.\n",
    "\"\"\""
   ]
  },
  {
   "cell_type": "code",
   "execution_count": 10,
   "id": "8e0e279a",
   "metadata": {},
   "outputs": [],
   "source": [
    "@everywhere function tauleap(N::SPN)\n",
    "    c = k(N)\n",
    "    nn = n(N)\n",
    "    SS = S(N)\n",
    "    δt = dt(N)\n",
    "    \n",
    "    xmat = fill(-1.0, (2,nn))\n",
    "    xmat[:,1] = init(N)\n",
    "    i = 1\n",
    "    while i<nn\n",
    "        h = hazzy(xmat[:,i], c)\n",
    "        if( sum(h)<1e-10 )\n",
    "            xmat[:,(i+1:nn)] = fill(0.0, (2,nn-i))\n",
    "            return xmat'\n",
    "        end\n",
    "        R = randPois(h*δt)\n",
    "        xmat[:,i+1] = xmat[:,i] + (SS'*R) \n",
    "        i += 1\n",
    "    end\n",
    "    xmat'\n",
    "end\n"
   ]
  },
  {
   "cell_type": "code",
   "execution_count": 11,
   "id": "e9d6f8f7",
   "metadata": {},
   "outputs": [],
   "source": [
    "@everywhere function randPois(λ::Vector{Float64})::Vector{Int64}\n",
    "    pos_rates = (λ.>0).*λ\n",
    "    [rand(Poisson(rate)) for rate in pos_rates]\n",
    "end"
   ]
  },
  {
   "cell_type": "code",
   "execution_count": 12,
   "id": "59382bd8",
   "metadata": {},
   "outputs": [],
   "source": [
    "@everywhere Nsim = 10000\n",
    "@everywhere Tsim = 80*365*24*3600\n",
    "@everywhere δt = 24*3600 ; "
   ]
  },
  {
   "cell_type": "code",
   "execution_count": 13,
   "id": "807d9193",
   "metadata": {},
   "outputs": [
    {
     "name": "stdout",
     "output_type": "stream",
     "text": [
      "  0.357407 seconds (1.89 M allocations: 125.473 MiB, 5.69% gc time, 92.60% compilation time)\n"
     ]
    },
    {
     "data": {
      "text/plain": [
       "\"a single runs takes ~0.04 seconds\\n\""
      ]
     },
     "execution_count": 13,
     "metadata": {},
     "output_type": "execute_result"
    }
   ],
   "source": [
    "Ntest = SPN([100,100], kk, SS, Tsim, δt)\n",
    "@time tauleap(Ntest)\n",
    "\"\"\"\n",
    "a single runs takes ~0.04 seconds\n",
    "\"\"\""
   ]
  },
  {
   "cell_type": "code",
   "execution_count": 14,
   "id": "0bc91f67",
   "metadata": {},
   "outputs": [
    {
     "data": {
      "text/plain": [
       "\"sim_single = Array{Float64}(undef, n(Ntest), 2,Nsim)\\n@time for i=1:Nsim\\n    sim_single[:,:,i] = tauleap(Ntest)\\nend\\n1000 simulations takes ~21 seconds\\n\""
      ]
     },
     "execution_count": 14,
     "metadata": {},
     "output_type": "execute_result"
    }
   ],
   "source": [
    "\"\"\"\n",
    "sim_single = Array{Float64}(undef, n(Ntest), 2,Nsim)\n",
    "@time for i=1:Nsim\n",
    "    sim_single[:,:,i] = tauleap(Ntest)\n",
    "end\n",
    "1000 simulations takes ~21 seconds\n",
    "\"\"\""
   ]
  },
  {
   "cell_type": "code",
   "execution_count": 15,
   "id": "c12dca5b",
   "metadata": {},
   "outputs": [],
   "source": [
    "# The arguments are: 1) a function 'f' and 2) a list with the input.\n",
    "@everywhere function simulation_map(f, lst)\n",
    "    np = nworkers()            # Number of processes available.\n",
    "    Nsim  = length(lst)  # Number of elements to apply the function.\n",
    "    nn = n(lst[1]) # dimension for output\n",
    "    output = Array{Any}(undef, nn,2,Nsim) # Where we will write the results. As we do not know\n",
    "                             # the type (Integer, Tuple...) we write \"Any\"\n",
    "    i = 1\n",
    "    nextidx() = (idx = i; i += 1; idx) # Function to know which is the next work item.\n",
    "                                       # In this case it is just an index.\n",
    "    @sync begin #@sync: must complete all jobs in block\n",
    "        for p = 1:np # loops through all processes (workers)\n",
    "            if p != myid() || np == 1 # first worker used only if all others are busy \n",
    "                @async begin # launch several tasks simultaneaously\n",
    "                    while true\n",
    "                        idx = nextidx()\n",
    "                        if idx > Nsim\n",
    "                            break\n",
    "                        end\n",
    "                        output[:,:,idx] = fetch(remotecall(f, p, lst[idx]))\n",
    "                    end\n",
    "                end\n",
    "            end\n",
    "        end\n",
    "    end\n",
    "    output\n",
    "end"
   ]
  },
  {
   "cell_type": "code",
   "execution_count": 16,
   "id": "b28c0bb3",
   "metadata": {},
   "outputs": [],
   "source": [
    "N_lst = [ Ntest for i=1:Nsim ] ;"
   ]
  },
  {
   "cell_type": "code",
   "execution_count": 17,
   "id": "01549ff0",
   "metadata": {},
   "outputs": [
    {
     "name": "stdout",
     "output_type": "stream",
     "text": [
      "489.474356 seconds (586.82 M allocations: 17.515 GiB, 72.76% gc time, 0.04% compilation time)\n"
     ]
    },
    {
     "data": {
      "text/plain": [
       "\"seems to be about as quick as the gillespied algorithm was before the SPN structure\\n1000 simulations takes ~15 seconds (13.042 s)\\n\""
      ]
     },
     "execution_count": 17,
     "metadata": {},
     "output_type": "execute_result"
    }
   ],
   "source": [
    "@time raw_simulations = simulation_map(tauleap, N_lst) ;\n",
    "\"\"\"\n",
    "seems to be about as quick as the gillespied algorithm was before the SPN structure\n",
    "1000 simulations: ~15 seconds (13.042 s)\n",
    "10000 simulations: ~500 seconds (489 s)\n",
    "\"\"\""
   ]
  },
  {
   "cell_type": "code",
   "execution_count": 18,
   "id": "ea46790e",
   "metadata": {},
   "outputs": [],
   "source": [
    "@everywhere function raw_to_summ(sims)::Array{Float64}\n",
    "    \"\"\"\n",
    "    converts the species populations from the gillespie algorithm to \n",
    "    copy number and mutation load\n",
    "    \"\"\"\n",
    "    Nsim = size(sims)[3] # no. of simulations\n",
    "    n = size(sims)[1] # length of one simulation\n",
    "    out = Array{Float64}(undef, n,2,Nsim)\n",
    "    for i=1:Nsim\n",
    "        copy_num = sum(sims[:,:,i], dims=2)\n",
    "        mut_load = sims[:,2,i]./copy_num\n",
    "        replace_nan(copy_num)\n",
    "        replace_nan(mut_load)\n",
    "        out[:,:,i] = hcat(copy_num, mut_load)\n",
    "    end\n",
    "    out\n",
    "end"
   ]
  },
  {
   "cell_type": "code",
   "execution_count": 19,
   "id": "c125976a",
   "metadata": {},
   "outputs": [],
   "source": [
    "@everywhere function quantiles(sims, p)\n",
    "    \"\"\"\n",
    "    returns quantile summaries from simulations\n",
    "    \"\"\"\n",
    "    Nsim = size(sims)[3] # Nsim: number of simulations\n",
    "    n = size(sims)[1] # length of one simulation\n",
    "    out = Array{Float64}(undef, n,length(p),2)\n",
    "    for t=1:n\n",
    "        out[t,:,1] = quantile([sims[t,1,i] for i=1:Nsim], p)\n",
    "        out[t,:,2] = quantile([sims[t,2,i] for i=1:Nsim], p)\n",
    "    end\n",
    "    out\n",
    "end"
   ]
  },
  {
   "cell_type": "code",
   "execution_count": 20,
   "id": "1ab2bc7c",
   "metadata": {},
   "outputs": [],
   "source": [
    "@everywhere function replace_nan(x)\n",
    "    \"\"\"\n",
    "    replaces NaN's caused by 0/0 in mutation load calculation\n",
    "    \"\"\"\n",
    "    for i=eachindex(x)\n",
    "        x[i] = isnan(x[i]) ? 0.0 : x[i]\n",
    "    end\n",
    "end"
   ]
  },
  {
   "cell_type": "code",
   "execution_count": 21,
   "id": "d13ffcac",
   "metadata": {},
   "outputs": [],
   "source": [
    "#writedlm(\"Simulations/CN_qnt_tau_jl.txt\", )"
   ]
  },
  {
   "cell_type": "code",
   "execution_count": 22,
   "id": "96fcf322",
   "metadata": {},
   "outputs": [],
   "source": [
    "simulations = raw_to_summ(raw_simulations);\n",
    "sims_qntl = quantiles(simulations, [0.025,0.25,0.5,0.75,0.975]) ;"
   ]
  },
  {
   "cell_type": "code",
   "execution_count": 23,
   "id": "d93508b6",
   "metadata": {},
   "outputs": [],
   "source": [
    "writedlm(\"Simulations/CN_qnt_tau_jl.txt\", sims_qntl[:,:,1])\n",
    "writedlm(\"Simulations/ML_qnt_tau_jl.txt\", sims_qntl[:,:,2]) ;"
   ]
  },
  {
   "cell_type": "code",
   "execution_count": 24,
   "id": "128d7063",
   "metadata": {},
   "outputs": [
    {
     "data": {
      "text/plain": [
       "distributions_t (generic function with 1 method)"
      ]
     },
     "execution_count": 24,
     "metadata": {},
     "output_type": "execute_result"
    }
   ],
   "source": [
    "function distributions_t(sims, t, Tsim, δt)\n",
    "    t_tot = [δt:δt:Tsim;]\n",
    "        Nsim = size(sims)[3]\n",
    "    nt = length(t)\n",
    "    sim_t = Array{Float64}(undef, Nsim,nt,2)\n",
    "    for i=1:Nsim\n",
    "        for j=1:nt\n",
    "            sim_t[i,j,1] = sims[findall(x->x==t[j], t_tot),1,i][1]\n",
    "            sim_t[i,j,2] = sims[findall(x->x==t[j], t_tot),2,i][1]\n",
    "        end\n",
    "    end\n",
    "    sim_t\n",
    "end"
   ]
  },
  {
   "cell_type": "code",
   "execution_count": 25,
   "id": "ef1a94bc",
   "metadata": {},
   "outputs": [],
   "source": [
    "dist_sims = distributions_t(simulations, [10:10:80;]*365*24*3600, Tsim, δt) ; "
   ]
  },
  {
   "cell_type": "code",
   "execution_count": 26,
   "id": "e56056fa",
   "metadata": {},
   "outputs": [],
   "source": [
    "writedlm(\"Simulations/CN_ts_tau_jl.txt\", dist_sims[:,:,1])\n",
    "writedlm(\"Simulations/ML_ts_tau_jl.txt\", dist_sims[:,:,2]) ;"
   ]
  }
 ],
 "metadata": {
  "kernelspec": {
   "display_name": "Julia 1.6.2",
   "language": "julia",
   "name": "julia-1.6"
  },
  "language_info": {
   "file_extension": ".jl",
   "mimetype": "application/julia",
   "name": "julia",
   "version": "1.6.2"
  }
 },
 "nbformat": 4,
 "nbformat_minor": 5
}
