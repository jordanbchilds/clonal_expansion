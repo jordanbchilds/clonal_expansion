{
 "cells": [
  {
   "cell_type": "code",
   "execution_count": 1,
   "id": "cfed173c",
   "metadata": {},
   "outputs": [],
   "source": [
    "import Pkg\n",
    "using Plots, DelimitedFiles, Colors, Random, Statistics\n",
    "using Distributed\n",
    "\n",
    "length(Sys.cpu_info())\n",
    "addprocs(4) ;"
   ]
  },
  {
   "cell_type": "code",
   "execution_count": 2,
   "id": "435b8360",
   "metadata": {},
   "outputs": [],
   "source": [
    "@everywhere using Random, Distributed, KernelDensity"
   ]
  },
  {
   "cell_type": "code",
   "execution_count": 3,
   "id": "ef24d767",
   "metadata": {},
   "outputs": [],
   "source": [
    "const hour = 3600\n",
    "const day = 24*hour\n",
    "const year = 365*day\n",
    "\n",
    "step_str = \"50\"\n",
    "\n",
    "step = 50*day # time step for the simulation\n",
    "step_out = 7*day # time step to save output\n",
    "Tmax = 80*year\n",
    "\n",
    "Nsim = 1000 ; # number of simulations"
   ]
  },
  {
   "cell_type": "code",
   "execution_count": 4,
   "id": "1cd68c4d",
   "metadata": {},
   "outputs": [],
   "source": [
    "@everywhere struct mtDNA \n",
    "    rates::Vector{Real}\n",
    "    unique_id::Int\n",
    "    parent_id::Int\n",
    "    status::String\n",
    "    \n",
    "    function mtDNA(rates, unique_id, parent_id, status)\n",
    "        if !(status in [\"wild\", \"mutant\"])\n",
    "            error(\"Molecules must be of type 'wild' or 'mutant' \")\n",
    "        end\n",
    "        if status==\"wild\"\n",
    "            new(rates, unique_id, parent_id, status)\n",
    "        elseif status==\"mutant\"\n",
    "            new(rates, unique_id, parent_id, status)\n",
    "        end\n",
    "    end\n",
    "end "
   ]
  },
  {
   "cell_type": "code",
   "execution_count": 5,
   "id": "f8285dfe",
   "metadata": {},
   "outputs": [],
   "source": [
    "@everywhere rates(mol::mtDNA) = mol.rates\n",
    "@everywhere unique_id(mol::mtDNA) = mol.unique_id\n",
    "@everywhere parent_id(mol::mtDNA) = mol.parent_id\n",
    "@everywhere status(mol::mtDNA) = mol.status "
   ]
  },
  {
   "cell_type": "code",
   "execution_count": 6,
   "id": "3935b19f",
   "metadata": {},
   "outputs": [],
   "source": [
    "@everywhere function counter(system_state)::Vector{Float64}\n",
    "    \"\"\"\n",
    "    Calculates the population size for wild and mutant type\n",
    "    \"\"\"\n",
    "    copy_num = length(system_state)\n",
    "    W = sum([1 for mol in system_state if status(mol)==\"wild\"])\n",
    "    return [W, copy_num-W]\n",
    "end"
   ]
  },
  {
   "cell_type": "code",
   "execution_count": 7,
   "id": "ef971b79",
   "metadata": {},
   "outputs": [],
   "source": [
    "@everywhere function transform_summ(popdym)::Array{Float64}\n",
    "    copy_num = popdym[:,1] .+ popdym[:,2]\n",
    "    \n",
    "    mut_load = zeros(length(copy_num))*NaN\n",
    "    nonzero_idx = copy_num .!= 0.0\n",
    "    mut_load[nonzero_idx] .=  popdym[nonzero_idx,2] ./ copy_num[nonzero_idx]\n",
    "    \n",
    "    return hcat(copy_num, mut_load)\n",
    "end"
   ]
  },
  {
   "cell_type": "code",
   "execution_count": 8,
   "id": "407c0677",
   "metadata": {},
   "outputs": [],
   "source": [
    "@everywhere function hazard(x::Vector{Float64}, molecule::mtDNA, th::Vector{Float64}, c0::Float64)::Vector{Float64}\n",
    "    error = sum(x) - c0\n",
    "    X = status(molecule) == \"wild\" ? x[1] : x[2]\n",
    "    k = rates(molecule)\n",
    "    if error > 0\n",
    "        k1 = 2*k[1]/(1+exp(error*th[1]))\n",
    "        return X * [k1, k[2], k[3]]\n",
    "    else \n",
    "        k1 = k[1]*(1+exp(-error*th[2]))/2\n",
    "        return X * [k1, k[2], k[3]]\n",
    "    end\n",
    "end"
   ]
  },
  {
   "cell_type": "code",
   "execution_count": 19,
   "id": "641917f7",
   "metadata": {},
   "outputs": [],
   "source": [
    "@everywhere function agented(init::Vector{mtDNA}, th::Vector{Float64}, Tmax::Real, dt::Real, dtout::Real)::Array{Float64, 2}\n",
    "    N = trunc(Int, Tmax/dt) + 1\n",
    "    Nout = trunc(Int, Tmax/dtout) + 1\n",
    "    system_state = init\n",
    "    current_id = length(init) + 1\n",
    "    popdym = Array{Float64,2}(undef, 2,Nout)\n",
    "    c0 = Float64(length(init))\n",
    "    \n",
    "    Kc = th[6:7]\n",
    "    \n",
    "    wild_rates = [th[1], th[3], th[5]]\n",
    "    mut_rates = [th[2], th[4], 0.0]\n",
    "    \n",
    "    target = 0.0\n",
    "    tt = 0.0\n",
    "    i = 1\n",
    "    \n",
    "    for _=1:N\n",
    "        x = counter(system_state)\n",
    "        while tt>=target && i<=Nout\n",
    "            popdym[:,i] = counter(system_state)\n",
    "            target += dtout\n",
    "            i += 1\n",
    "        end\n",
    "        molecules_to_remove = Vector{Int}()\n",
    "        new_molecules = Vector{mtDNA}()\n",
    "        \n",
    "        x = counter(system_state)\n",
    "        \n",
    "        for mol_ind=1:length(system_state)\n",
    "            molecule = system_state[mol_ind]\n",
    "    \n",
    "            h = hazard(counter(system_state), molecule, Kc, c0)\n",
    "        \n",
    "            roll = rand(Float64)\n",
    "            cdf = cumsum( h ) / sum(h)\n",
    "            if 0.0<roll && roll<cdf[1] # degredation\n",
    "                append!( molecules_to_remove, mol_ind )\n",
    "            elseif cdf[1]<roll && roll<cdf[2] # replication\n",
    "                append!(molecules_to_remove, mol_ind)\n",
    "                for j=1:2\n",
    "                    current_id += 1\n",
    "                    if status(molecule)==\"wild\"\n",
    "                        daughter = mtDNA( wild_rates*dt, current_id, unique_id(molecule), \"wild\" )\n",
    "                        push!(new_molecules, daughter)\n",
    "                    else \n",
    "                        daughter = mtDNA( mut_rates*dt, current_id, unique_id(molecule), \"mutant\" ) \n",
    "                        push!(new_molecules, daughter)\n",
    "                    end\n",
    "                end\n",
    "            elseif cdf[2]<roll && roll<=cdf[3] # mutation\n",
    "            # mutation last as has smallest probability\n",
    "               append!(molecules_to_remove, mol_ind)\n",
    "                for j=1:2\n",
    "                    current_id += 1\n",
    "                    daughter = mtDNA([wild_rates, mut_rates][j]*dt, current_id, unique_id(molecule), [\"wild\",\"mutant\"][j])\n",
    "                    push!(new_molecules, daughter)\n",
    "                end\n",
    "            end\n",
    "        end\n",
    "        system_state = [mol for (i,mol) in enumerate(system_state) if !(i in molecules_to_remove) ]\n",
    "        append!(system_state, new_molecules)\n",
    "        tt += dt\n",
    "        if length(system_state) == 0.0\n",
    "            popdym[:,i:Nout] = zeros(2, Nout-i+1)\n",
    "            return transform_summ(popdym')\n",
    "        end\n",
    "    end\n",
    "    return transform_summ(popdym')\n",
    "end"
   ]
  },
  {
   "cell_type": "code",
   "execution_count": 29,
   "id": "9788638f",
   "metadata": {},
   "outputs": [],
   "source": [
    "C0 = 200\n",
    "h = 0.5\n",
    "k = [3.06e-8,3.06e-8,3.06e-8,3.06e-8,0.0, 2e-3, 2e-3 ]\n",
    "W0 = round.( C0.*(1 .-h), digits=0)\n",
    "M0 = round.( C0.*h, digits=0)\n",
    "inits = [mtDNA([3.06e-8, 3.06e-8, 0]*step, x,-1,\"wild\") for x=1:W0 ]# initial state of system\n",
    "append!(inits, [mtDNA([3.06e-8, 3.06e-8, 0]*step, x,-1,\"mutant\") for x=W0+1:W0+M0] ) ;"
   ]
  },
  {
   "cell_type": "code",
   "execution_count": 36,
   "id": "b26b901b",
   "metadata": {},
   "outputs": [
    {
     "data": {
      "text/plain": [
       "4172×2 Matrix{Float64}:\n",
       " 200.0    0.5\n",
       " 198.0    0.444444\n",
       " 198.0    0.444444\n",
       " 198.0    0.444444\n",
       " 198.0    0.444444\n",
       " 198.0    0.444444\n",
       " 198.0    0.444444\n",
       " 198.0    0.444444\n",
       " 202.0    0.425743\n",
       " 202.0    0.425743\n",
       " 202.0    0.425743\n",
       " 202.0    0.425743\n",
       " 202.0    0.425743\n",
       "   ⋮    \n",
       "   0.0  NaN\n",
       "   0.0  NaN\n",
       "   0.0  NaN\n",
       "   0.0  NaN\n",
       "   0.0  NaN\n",
       "   0.0  NaN\n",
       "   0.0  NaN\n",
       "   0.0  NaN\n",
       "   0.0  NaN\n",
       "   0.0  NaN\n",
       "   0.0  NaN\n",
       "   0.0  NaN"
      ]
     },
     "execution_count": 36,
     "metadata": {},
     "output_type": "execute_result"
    }
   ],
   "source": [
    "agented(inits, k , Tmax, step, step_out)"
   ]
  },
  {
   "cell_type": "code",
   "execution_count": null,
   "id": "b4e2f209",
   "metadata": {},
   "outputs": [],
   "source": [
    "# @time map(agented, Nlist, Tmaxs, Δts, Δtouts) \n",
    "\"\"\"\n",
    "500 simple simulations: 950 seconds \n",
    "\"\"\""
   ]
  },
  {
   "cell_type": "code",
   "execution_count": null,
   "id": "a915cfc5",
   "metadata": {},
   "outputs": [],
   "source": [
    "function par_map(Nsim, f, init, th, Tmax, dt, dtout)\n",
    "    np = nworkers()  # determine the number of processes available\n",
    "    results = Vector{Array{Float64,2}}(undef, Nsim)\n",
    "    i = 1\n",
    "    # function to produce the next work item from the queue.\n",
    "    # in this case it's just an index.\n",
    "    nextidx() = (idx=i; i+=1; idx)\n",
    "    @sync begin\n",
    "        for p=1:np\n",
    "            if p != myid() || np == 1\n",
    "                @async begin\n",
    "                    while true\n",
    "                        idx = nextidx()\n",
    "                        if idx > Nsim\n",
    "                            break\n",
    "                        end\n",
    "                        results[idx] = remotecall_fetch(f, p, inits, th, Tmax, dt, dtout)\n",
    "                    end\n",
    "                end\n",
    "            end\n",
    "        end\n",
    "    end\n",
    "    results\n",
    "end"
   ]
  },
  {
   "cell_type": "code",
   "execution_count": null,
   "id": "9e4f7776",
   "metadata": {},
   "outputs": [],
   "source": [
    "@time simulations = par_map(Nsim, agented, inits, k, Tmax, step, step_out) ; "
   ]
  },
  {
   "cell_type": "code",
   "execution_count": null,
   "id": "717c2b99",
   "metadata": {},
   "outputs": [],
   "source": [
    "function quantiles(sims, p)\n",
    "    \"\"\"\n",
    "    returns quantile summaries from simulations\n",
    "    \"\"\"\n",
    "    Nsim = length(sims) # Nsim: number of simulations\n",
    "    n = size(sims[1])[1] # length of one simulation\n",
    "    out = Vector{Array{Float64, 2}}(undef, 2)\n",
    "    for t=1:n\n",
    "        out[1][t,:] = quantile([sims[i][t,1] for i=1:Nsim if !isnan(sims[i][t,1])], p)\n",
    "        out[2][t,:] = quantile([sims[i][t,2] for i=1:Nsim if !isnan(sims[i][t,2])], p)\n",
    "    end\n",
    "    out\n",
    "end"
   ]
  },
  {
   "cell_type": "code",
   "execution_count": null,
   "id": "35acc4ee",
   "metadata": {},
   "outputs": [],
   "source": [
    "sims_qntl = quantiles(simulations, [0.025,0.25,0.5,0.75,0.975]) ;"
   ]
  },
  {
   "cell_type": "code",
   "execution_count": null,
   "id": "b7d81489",
   "metadata": {
    "scrolled": true
   },
   "outputs": [],
   "source": [
    "myBlack = colorant\"rgb(0,0,0,0.1)\"\n",
    "ts = [0:step_out:Tmax;]./year;"
   ]
  },
  {
   "cell_type": "code",
   "execution_count": null,
   "id": "33c2a55a",
   "metadata": {},
   "outputs": [],
   "source": [
    "n = trunc(Int, Tmax/step_out)+1\n",
    "sim_mat = Array{Union{Float64, Missing}}(undef, (n,2,Nsim))\n",
    "\n",
    "for i=1:Nsim\n",
    "    sim_mat[:,:,i] = simulations[i]\n",
    "end"
   ]
  },
  {
   "cell_type": "code",
   "execution_count": null,
   "id": "77517a32",
   "metadata": {},
   "outputs": [],
   "source": [
    "p1 = plot(ts, sim_mat[:,1,:], color=myBlack, legend=false, title=\"Copy Number\")\n",
    "p2 = plot(ts, sim_mat[:,2,:], color=myBlack, legend=false, title=\"Mutation Load\")\n",
    "plot(p1, p2, layout=(1,2), legend=false)\n",
    "savefig(string(\"Simulations/PDF/abmcon_simulations_\",step_str,\"d.pdf\"))"
   ]
  },
  {
   "cell_type": "code",
   "execution_count": null,
   "id": "9825ff59",
   "metadata": {},
   "outputs": [],
   "source": [
    "p3 = plot(ts, sims_qntl[:,:,1], title=\"Copy Number Quantiles\")\n",
    "p4 = plot(ts, sims_qntl[:,:,2], title=\"Mutation Load Quantiles\")\n",
    "plot(p3, p4, layout=(1,2), legend=false)\n",
    "savefig(string(\"Simulations/PDF/abmcon_qntls_\",step_str,\"d.pdf\"))"
   ]
  },
  {
   "cell_type": "code",
   "execution_count": null,
   "id": "568ca732",
   "metadata": {},
   "outputs": [],
   "source": [
    "writedlm(string(\"Simulations/CN_qnt_abmcon_\",step_str,\"d.txt\"), sims_qntl[:,:,1])\n",
    "writedlm(string(\"Simulations/ML_qnt_abmcon_\",step_str,\"d.txt\"), sims_qntl[:,:,2])"
   ]
  },
  {
   "cell_type": "code",
   "execution_count": null,
   "id": "ae86f62e",
   "metadata": {},
   "outputs": [],
   "source": []
  },
  {
   "cell_type": "code",
   "execution_count": null,
   "id": "2e70041f",
   "metadata": {},
   "outputs": [],
   "source": [
    "\"\"\"\n",
    "WHAT'S THE TIME\n",
    "\"\"\" ;"
   ]
  },
  {
   "cell_type": "code",
   "execution_count": null,
   "id": "508db38c",
   "metadata": {},
   "outputs": [],
   "source": [
    "@everywhere function par_times(Nsim, f, inits, Tmax, step, step_out)\n",
    "    np = nworkers()            # Number of processes available.\n",
    "    Nout = trunc(Int, Tmax/step_out) + 1 # dimension for output\n",
    "    output = Array{Float64}(undef, Nsim) # Where we will write the results. As we do not know\n",
    "                             # the type (Integer, Tuple...) we write \"Any\"\n",
    "    i = 1\n",
    "    nextidx() = (idx = i; i += 1; idx) # Function to know which is the next work item.\n",
    "                                       # In this case it is just an index.\n",
    "    @sync begin #@sync: must complete all jobs in block\n",
    "        for p = 1:np # loops through all processes (workers)\n",
    "            if p != myid() || np == 1 # first worker used only if all others are busy \n",
    "                @async begin # launch several tasks simultaneaously\n",
    "                    while true\n",
    "                        idx = nextidx()\n",
    "                        if idx > Nsim\n",
    "                            break\n",
    "                        end\n",
    "                        output[idx] = @elapsed remotecall_fetch(f, p, inits, Tmax, step, step_out)\n",
    "                    end\n",
    "                end\n",
    "            end\n",
    "        end\n",
    "    end\n",
    "    output\n",
    "end"
   ]
  },
  {
   "cell_type": "code",
   "execution_count": null,
   "id": "39fd389e",
   "metadata": {},
   "outputs": [],
   "source": [
    "sim_times = par_times(Nsim, agented, inits, Tmax, step, step_out)\n",
    "\n",
    "mkpath(\"Simulations\")\n",
    "writedlm(string(\"Simulations/abmcon_\",step_str,\"d_times.txt\"), sim_times) ;"
   ]
  },
  {
   "cell_type": "code",
   "execution_count": null,
   "id": "8f6f002f",
   "metadata": {},
   "outputs": [],
   "source": [
    "dens = kde(sim_times)\n",
    "density_points = hcat(dens.x, dens.density)"
   ]
  },
  {
   "cell_type": "code",
   "execution_count": null,
   "id": "e913d93b",
   "metadata": {},
   "outputs": [],
   "source": [
    "plot(dens.x, dens.density)"
   ]
  },
  {
   "cell_type": "code",
   "execution_count": null,
   "id": "ef57489a",
   "metadata": {},
   "outputs": [],
   "source": []
  },
  {
   "cell_type": "code",
   "execution_count": null,
   "id": "90bed05f",
   "metadata": {},
   "outputs": [],
   "source": []
  },
  {
   "cell_type": "code",
   "execution_count": null,
   "id": "71f165e0",
   "metadata": {},
   "outputs": [],
   "source": []
  }
 ],
 "metadata": {
  "kernelspec": {
   "display_name": "Julia 1.6.2",
   "language": "julia",
   "name": "julia-1.6"
  },
  "language_info": {
   "file_extension": ".jl",
   "mimetype": "application/julia",
   "name": "julia",
   "version": "1.6.2"
  }
 },
 "nbformat": 4,
 "nbformat_minor": 5
}
