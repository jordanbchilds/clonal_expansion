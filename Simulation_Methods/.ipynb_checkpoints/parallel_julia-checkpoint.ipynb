{
 "cells": [
  {
   "cell_type": "code",
   "execution_count": 12,
   "id": "a47ed714",
   "metadata": {},
   "outputs": [],
   "source": [
    "using Pkg\n",
    "#Pkg.add(\"Distributed\")\n",
    "#Pkg.add(\"LinearAlgebra\")\n",
    "@everywhere using Distributed, LinearAlgebra"
   ]
  },
  {
   "cell_type": "code",
   "execution_count": 10,
   "id": "3bec4be9",
   "metadata": {},
   "outputs": [
    {
     "data": {
      "text/plain": [
       "3-element Vector{Int64}:\n",
       "  8\n",
       "  9\n",
       " 10"
      ]
     },
     "execution_count": 10,
     "metadata": {},
     "output_type": "execute_result"
    }
   ],
   "source": [
    "length(Sys.cpu_info())\n",
    "addprocs(3)"
   ]
  },
  {
   "cell_type": "code",
   "execution_count": 3,
   "id": "6a50512f",
   "metadata": {},
   "outputs": [
    {
     "data": {
      "text/plain": [
       "3-element Vector{Int64}:\n",
       " 2\n",
       " 3\n",
       " 4"
      ]
     },
     "execution_count": 3,
     "metadata": {},
     "output_type": "execute_result"
    }
   ],
   "source": [
    "nprocs()\n",
    "nworkers()\n",
    "workers()"
   ]
  },
  {
   "cell_type": "code",
   "execution_count": 6,
   "id": "158cd269",
   "metadata": {},
   "outputs": [
    {
     "data": {
      "text/plain": [
       "Future(2, 1, 8, nothing)"
      ]
     },
     "execution_count": 6,
     "metadata": {},
     "output_type": "execute_result"
    }
   ],
   "source": [
    "# run rand(2,2) and rand(1:8, 3,4) on worker 2\n",
    "r1 = remotecall(rand, 2, 2,2)\n",
    "r2 = remotecall(rand, 2, 1:8,3,4)"
   ]
  },
  {
   "cell_type": "code",
   "execution_count": 9,
   "id": "0708f8b3",
   "metadata": {},
   "outputs": [
    {
     "data": {
      "text/plain": [
       "3×4 Matrix{Int64}:\n",
       " 5  3  2  3\n",
       " 7  7  1  3\n",
       " 7  8  2  3"
      ]
     },
     "execution_count": 9,
     "metadata": {},
     "output_type": "execute_result"
    }
   ],
   "source": [
    "# retrieve the results\n",
    "\"\"\"\n",
    "To treat the output as normal output we must save it as another variable first, \n",
    "r1 & r2 are still type: Future so cannot do matrix things or whatever on them \n",
    "\"\"\"\n",
    "r11 = fetch(r1)\n",
    "r22 = fetch(r2)"
   ]
  },
  {
   "cell_type": "code",
   "execution_count": 18,
   "id": "21ed8a89",
   "metadata": {},
   "outputs": [
    {
     "data": {
      "text/plain": [
       "Matrix{Float64} (alias for Array{Float64, 2})"
      ]
     },
     "execution_count": 18,
     "metadata": {},
     "output_type": "execute_result"
    }
   ],
   "source": [
    "\"\"\"\n",
    "Can send task to a worked without specifying the worker\n",
    "\"\"\"\n",
    "s1 = @spawn rand(2,2) # s1 is still a Future type\n",
    "s2 = fetch(s1) # s2 is an Array"
   ]
  },
  {
   "cell_type": "code",
   "execution_count": 26,
   "id": "786dee16",
   "metadata": {},
   "outputs": [
    {
     "data": {
      "text/plain": [
       "Future(2, 1, 30, nothing)"
      ]
     },
     "execution_count": 26,
     "metadata": {},
     "output_type": "execute_result"
    }
   ],
   "source": [
    "\"\"\"\n",
    "Can do send tasks for worker to do on the things\n",
    "\"\"\"\n",
    "s3 = @spawn 1 .+ fetch(s1) # no need to specify worker (Julia selects it)\n",
    "r3 = @spawnat 2 1 .+ fetch(r1) # worker specified as first element\n"
   ]
  },
  {
   "cell_type": "code",
   "execution_count": 27,
   "id": "af9971b5",
   "metadata": {},
   "outputs": [
    {
     "ename": "LoadError",
     "evalue": "cannot document the following expression:\n\nremotecall_fetch(rand, 2, 2, 2)\n",
     "output_type": "error",
     "traceback": [
      "cannot document the following expression:\n\nremotecall_fetch(rand, 2, 2, 2)\n",
      "",
      "Stacktrace:",
      " [1] error(::String, ::String)",
      "   @ Base ./error.jl:42",
      " [2] top-level scope",
      "   @ In[27]:1",
      " [3] eval",
      "   @ ./boot.jl:360 [inlined]",
      " [4] include_string(mapexpr::typeof(REPL.softscope), mod::Module, code::String, filename::String)",
      "   @ Base ./loading.jl:1116"
     ]
    }
   ],
   "source": [
    "\"\"\"\n",
    "for efficiency, remotecall_fethc is quicker than fetch(remotecall())\n",
    "\"\"\"\n",
    "remotecall_fetch(rand, 2, 2,2)"
   ]
  },
  {
   "cell_type": "code",
   "execution_count": 19,
   "id": "440b7521",
   "metadata": {},
   "outputs": [
    {
     "data": {
      "text/plain": [
       "0.8748755957798569"
      ]
     },
     "execution_count": 19,
     "metadata": {},
     "output_type": "execute_result"
    }
   ],
   "source": [
    "function eig_sum(A) # computes the sum of the eigenvalues\n",
    "    autoVal = eigvals(A)\n",
    "    return sum(autoVal)\n",
    "end\n",
    "\n",
    "s1 = @spawnat 1 eig_sum(rand(2,2))\n",
    "fetch(s1)\n",
    "\"\"\"\n",
    "the function is definied on worked 1 (the parent/master node) but not any of the workers\n",
    "\n",
    "\n",
    "s2 = @spawnat 2 eig_sum(rand(2,2)) \n",
    "fetch(s2) # returns an error\n",
    "\n",
    "to define something on all workers we can use @everywhere\n",
    "\"\"\"\n",
    "\n",
    "@everywhere function eig_sum(A)\n",
    "    sum( eigvals(A))\n",
    "end\n",
    "\n",
    "s2 = @spawnat 2 eig_sum(rand(2,2))\n",
    "fetch(s2)"
   ]
  },
  {
   "cell_type": "code",
   "execution_count": null,
   "id": "eaed3d06",
   "metadata": {},
   "outputs": [],
   "source": [
    "\"\"\"\n",
    "DATA MOVEMENT                DATA MOVEMENT                  DATA MOVEMENT\n",
    "DATA MOVEMENT                DATA MOVEMNET                  DATA MOVEMENT\n",
    "\"\"\""
   ]
  },
  {
   "cell_type": "code",
   "execution_count": 14,
   "id": "88a9bc8d",
   "metadata": {},
   "outputs": [
    {
     "data": {
      "text/plain": [
       "Future(3, 1, 117, nothing)"
      ]
     },
     "execution_count": 14,
     "metadata": {},
     "output_type": "execute_result"
    }
   ],
   "source": [
    "\"\"\"\n",
    "data movemnet idea\n",
    "\"\"\"\n",
    "A = rand(10,10)\n",
    "A2 = @spawn A^2 # data is moved, locally -> [some] worker\n",
    "A22 = @spawn rand(10,10)^2 # less data movement, as matrix created by worker"
   ]
  },
  {
   "cell_type": "code",
   "execution_count": 21,
   "id": "e8b30b85",
   "metadata": {},
   "outputs": [
    {
     "data": {
      "text/plain": [
       "Future(2, 1, 144, nothing)"
      ]
     },
     "execution_count": 21,
     "metadata": {},
     "output_type": "execute_result"
    }
   ],
   "source": [
    "A = rand(2,2)\n",
    "varinfo()\n",
    "@spawnat 2 varinfo()\n",
    "\n",
    "s3 = @spawnat 2 eig_sum(A)\n",
    "fetch(s3)\n",
    "@spawnat 2 varinfo()\n",
    "\n"
   ]
  },
  {
   "cell_type": "code",
   "execution_count": null,
   "id": "cd051139",
   "metadata": {},
   "outputs": [],
   "source": []
  }
 ],
 "metadata": {
  "kernelspec": {
   "display_name": "Julia 1.6.2",
   "language": "julia",
   "name": "julia-1.6"
  },
  "language_info": {
   "file_extension": ".jl",
   "mimetype": "application/julia",
   "name": "julia",
   "version": "1.6.2"
  }
 },
 "nbformat": 4,
 "nbformat_minor": 5
}
