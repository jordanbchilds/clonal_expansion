{
 "cells": [
  {
   "cell_type": "code",
   "execution_count": null,
   "id": "eccef901",
   "metadata": {},
   "outputs": [],
   "source": [
    "\"\"\"\n",
    "ABC functions\n",
    "\"\"\""
   ]
  },
  {
   "cell_type": "code",
   "execution_count": null,
   "id": "d6f72656",
   "metadata": {},
   "outputs": [],
   "source": [
    "abc_rejone = function(f_sim, dist, prop, data, Nabc, Ntop, ...)::Vector{Array{Float64}}\n",
    "    theta_star = Vector{Array{Float64, length(prop())}}(undef, Nabc)\n",
    "    dist_vec = Vector{Float64}(undef, Nabc)\n",
    "    for i=1:Nabc\n",
    "        theta_star[i] = prop()\n",
    "        z_star = f_sim(theta_star[i], ...)\n",
    "        dist_vec[i] = dist(z_star, data)\n",
    "    end\n",
    "    top_idx = dist_vec .<= sort(dist_vsc)[Ntop]\n",
    "    return theta_star[top_idx]\n",
    "end"
   ]
  },
  {
   "cell_type": "code",
   "execution_count": null,
   "id": "2641e875",
   "metadata": {},
   "outputs": [],
   "source": [
    "abc_rej = function(f_sim, dist, prop, threshold, data, Nabc, ...)::Vector{Array{Float64}}\n",
    "    theta_post = Vector{Array{Float64, length(prop())}}(undef, Nabc)\n",
    "    i = 1\n",
    "    while i<=Nabc\n",
    "        theta_star = prop()\n",
    "        z_star = f_sim(theta_star, ...)\n",
    "        if dist(z_star, data) < threshold\n",
    "            theta_post[i] = theta_star\n",
    "            i += 1\n",
    "        end\n",
    "    end\n",
    "    theta_post\n",
    "end"
   ]
  },
  {
   "cell_type": "code",
   "execution_count": null,
   "id": "81953414",
   "metadata": {},
   "outputs": [],
   "source": [
    "abc_mcmc = function(f_dim, dist, prior, prop, threshold, data, Nabc, ...)::Vector{Array{Float64}}\n",
    "    theta_post = Vector{Array{Float64, length(prior())}}(undef, Nabc)\n",
    "    theta_post[1] = prior()\n",
    "    for i=1:(Nabc-1)\n",
    "        theta_star = prop(theta_post[i])\n",
    "        z_star = f_sim(theta_star, ...)\n",
    "        if dist(z_star, data) < threshold\n",
    "            loga = log(pi(theta_star)) + log(prop(theta_post[i], theta_star)) - log(pi(theta_post[i])) - log(prop(theta_star, theta_post[i]))\n",
    "            logalpha = min(0, loga)\n",
    "            logu = log(rand())\n",
    "            if logu < logalpha\n",
    "                theta_post[i+1] = theta_star\n",
    "            else\n",
    "                theta_post[i+1] = theat_post[i]\n",
    "            end\n",
    "        else \n",
    "            theta_post[i+1] = theta_post[i]\n",
    "        end\n",
    "    end\n",
    "    theta_post\n",
    "end"
   ]
  },
  {
   "cell_type": "code",
   "execution_count": null,
   "id": "62a24b81",
   "metadata": {},
   "outputs": [],
   "source": [
    "abc_smc = function(f_sim, thresholds pi, kernel, dist, ...)\n",
    "    T = length(thresholds)\n",
    "    t = 0\n",
    "    \n",
    "end"
   ]
  }
 ],
 "metadata": {
  "kernelspec": {
   "display_name": "Julia 1.6.2",
   "language": "julia",
   "name": "julia-1.6"
  },
  "language_info": {
   "file_extension": ".jl",
   "mimetype": "application/julia",
   "name": "julia",
   "version": "1.6.2"
  }
 },
 "nbformat": 4,
 "nbformat_minor": 5
}
