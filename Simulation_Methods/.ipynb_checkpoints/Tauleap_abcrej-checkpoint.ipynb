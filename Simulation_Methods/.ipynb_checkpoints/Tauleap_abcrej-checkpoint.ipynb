{
 "cells": [
  {
   "cell_type": "code",
   "execution_count": 1,
   "id": "1dc6f8c3",
   "metadata": {},
   "outputs": [],
   "source": [
    "\"\"\"\n",
    "simple ABC for Wild type mtDNA in Moraes paper.\n",
    "Using the Jordan top hazard function and the JPMorgan bottom hazard function\n",
    "\n",
    "\"\"\" ;"
   ]
  },
  {
   "cell_type": "code",
   "execution_count": 2,
   "id": "37b6b3aa",
   "metadata": {},
   "outputs": [],
   "source": [
    "using Distributed, Plots, DelimitedFiles, CSV, DataFrames, Random, Distributions"
   ]
  },
  {
   "cell_type": "code",
   "execution_count": 3,
   "id": "8b7adffa",
   "metadata": {},
   "outputs": [],
   "source": [
    "length(Sys.cpu_info())\n",
    "addprocs(4) ;"
   ]
  },
  {
   "cell_type": "code",
   "execution_count": 4,
   "id": "5796b50e",
   "metadata": {},
   "outputs": [],
   "source": [
    "@everywhere using Random, Distributions"
   ]
  },
  {
   "cell_type": "code",
   "execution_count": 5,
   "id": "b14877ee",
   "metadata": {},
   "outputs": [],
   "source": [
    "moraes = DataFrame(CSV.File(\"../Moraes_data.csv\"))\n",
    "moraes_df = filter(r->r.time>=15, moraes)\n",
    "\n",
    "wild_df = filter(row->row.type==\"wild\", moraes_df)  ; "
   ]
  },
  {
   "cell_type": "code",
   "execution_count": 6,
   "id": "e225c381",
   "metadata": {},
   "outputs": [],
   "source": [
    "data_mat = Array{Float64, 2}(undef, length(unique(moraes_df.time)), length(unique(moraes_df.bound)))\n",
    "bounds = unique(wild_df.bound)\n",
    "for i=1:length(bounds)\n",
    "        data_mat[:,i] = filter(r->r.bound==bounds[i], wild_df).exp_level\n",
    "end"
   ]
  },
  {
   "cell_type": "code",
   "execution_count": 7,
   "id": "c57bbd14",
   "metadata": {},
   "outputs": [],
   "source": [
    "@everywhere struct SPN\n",
    "    init_pop::Real\n",
    "    pops::Real\n",
    "    rate_vec::Vector{Real}\n",
    "    Stoichiometry_matrix::Vector{Real}\n",
    "    function SPN(init_pop, pops, rate_vec, Stoichiometry_matrix)\n",
    "        new(init_pop, pops, rate_vec, Stoichiometry_matrix)\n",
    "    end\n",
    "end"
   ]
  },
  {
   "cell_type": "code",
   "execution_count": 8,
   "id": "841efe70",
   "metadata": {},
   "outputs": [],
   "source": [
    "@everywhere init(N::SPN) = Float64.(N.init_pop)\n",
    "@everywhere starting_pop(N::SPN) = Float64.(N.pops)\n",
    "@everywhere rates(N::SPN) = Float64.(N.rate_vec)\n",
    "@everywhere StoiMat(N::SPN) = Float64.(N.Stoichiometry_matrix)"
   ]
  },
  {
   "cell_type": "code",
   "execution_count": 9,
   "id": "dea59d9b",
   "metadata": {},
   "outputs": [],
   "source": [
    "@everywhere const post = [2,0] \n",
    "@everywhere const pre = [1,1]\n",
    "@everywhere const S = post - pre"
   ]
  },
  {
   "cell_type": "code",
   "execution_count": 10,
   "id": "d0b66015",
   "metadata": {},
   "outputs": [],
   "source": [
    "hour = 3600\n",
    "day = 24*hour\n",
    "year = 365*day\n",
    "\n",
    "step_str = \"1\"\n",
    "step = 1*day\n",
    "step_out = 1*day\n",
    "\n",
    "Tmax = 50*year \n",
    "Nsim = 1000 \n",
    "timed = unique(wild_df[:,\"time\"])*day \n",
    "xt = timed[3:length(timed)] ;"
   ]
  },
  {
   "cell_type": "code",
   "execution_count": 11,
   "id": "e4e4217e",
   "metadata": {},
   "outputs": [],
   "source": [
    "@everywhere function hazard(x::Float64, th::Vector{Float64}, error::Float64)::Vector{Float64}\n",
    "    k = th[1:2]\n",
    "    Kc = th[3:4]\n",
    "    if error>=0\n",
    "        k1 = k[1]+error*Kc[1]\n",
    "        return x .*[k1, k[2]]\n",
    "    else \n",
    "        k1 = 2*k[1]/(1+exp(-error*Kc[2]))\n",
    "        return x .*[k1, k[2]]\n",
    "    end\n",
    "end"
   ]
  },
  {
   "cell_type": "code",
   "execution_count": 12,
   "id": "2d24dd79",
   "metadata": {},
   "outputs": [],
   "source": [
    "@everywhere function randPois(λ::Vector{Float64})::Vector{Int64}\n",
    "    pos_rates = (λ.>0).*λ\n",
    "    [rand(Poisson(rate)) for rate in pos_rates]\n",
    "end"
   ]
  },
  {
   "cell_type": "code",
   "execution_count": 13,
   "id": "abcc5080",
   "metadata": {},
   "outputs": [],
   "source": [
    "@everywhere function transform_summ(popdym, C0)::Array{Union{Float64, Missing}}\n",
    "    popdym / C0\n",
    "end"
   ]
  },
  {
   "cell_type": "code",
   "execution_count": 14,
   "id": "8e0e279a",
   "metadata": {},
   "outputs": [],
   "source": [
    "@everywhere function tauleap(spn::SPN, Tmax::Real, dt::Real, dtout::Real, target)::Array{Union{Float64, Missing}}\n",
    "\n",
    "    x = starting_pop(spn) # population to start simulation\n",
    "    C0 = isnan(init(spn)) ? x : init(spn) # if NaN given for initial population then x starts simuatlion\n",
    "                                          # if not the given C0 starts the simulation\n",
    "    k = rates(spn)\n",
    "    S = StoiMat(spn)\n",
    "    N = trunc(Int, Tmax/dt) \n",
    "    Nout = length(target) \n",
    "    popdym = Array{Float64, 2}(undef, length(x),Nout)\n",
    "    # target = 0.0\n",
    "    tt = 0.0\n",
    "    i = 1\n",
    "    for _=1:N\n",
    "        while i<=Nout && tt>=target[i] \n",
    "            popdym[i] = x\n",
    "            #target += dtout\n",
    "            i += 1\n",
    "        end\n",
    "        error = C0 - x\n",
    "        h = hazard(x, k, error)\n",
    "        if( sum(h) < 1e-10 )\n",
    "            popdym[i:Nout] = zeros(Nout-i+1)\n",
    "            return transform_summ(popdym, C0)\n",
    "        end\n",
    "        R = randPois(h*dt)\n",
    "        x = x + (S'*R) \n",
    "        x = x<0.0 ? 0.0 : x\n",
    "        if x > 10*C0\n",
    "            popdym = fill(NaN, Nout)\n",
    "            return popdym\n",
    "        end\n",
    "        tt += dt\n",
    "    end\n",
    "    return transform_summ(popdym, C0)\n",
    "end\n"
   ]
  },
  {
   "cell_type": "code",
   "execution_count": 15,
   "id": "c12dca5b",
   "metadata": {},
   "outputs": [],
   "source": [
    "# The arguments are: 1) a function 'f' and 2) a list with the input.\n",
    "@everywhere function par_sim(Nsim::Int64, f, spn::SPN, Tmax::Real, dt::Real, dtout::Real, target)\n",
    "    np = nworkers()            # Number of processes available.\n",
    "    output = Vector{Array{Float64}}(undef, Nsim) \n",
    "    i = 1\n",
    "    nextidx() = (idx = i; i += 1; idx) # Function to know which is the next work item.\n",
    "    @sync begin #@sync: must complete all jobs in block\n",
    "        for p = 1:np # loops through all processes (workers)\n",
    "            if p != myid() || np == 1 # first worker used only if all others are busy \n",
    "                @async begin # launch several tasks simultaneaously\n",
    "                    while true\n",
    "                        idx = nextidx()\n",
    "                        if idx > Nsim\n",
    "                            break\n",
    "                        end\n",
    "                        output[idx] = remotecall_fetch(f, p, spn, Tmax, dt, dtout, target)\n",
    "                    end\n",
    "                end\n",
    "            end\n",
    "        end\n",
    "    end\n",
    "    output\n",
    "end"
   ]
  },
  {
   "cell_type": "code",
   "execution_count": 16,
   "id": "6e7f5b88",
   "metadata": {},
   "outputs": [],
   "source": [
    "spn = SPN(200, 20, [3.06e-8, 3.06e-8, 8.99e-9, 2e-4], S) ; "
   ]
  },
  {
   "cell_type": "code",
   "execution_count": 17,
   "id": "01549ff0",
   "metadata": {},
   "outputs": [
    {
     "name": "stdout",
     "output_type": "stream",
     "text": [
      "  4.015863 seconds (2.34 M allocations: 136.050 MiB, 0.51% gc time, 9.60% compilation time)\n"
     ]
    }
   ],
   "source": [
    "@time simulations = par_sim(Nsim, tauleap, spn, Tmax, step, step_out, xt) ;"
   ]
  },
  {
   "cell_type": "code",
   "execution_count": 18,
   "id": "a17a0909",
   "metadata": {},
   "outputs": [
    {
     "ename": "LoadError",
     "evalue": "DimensionMismatch(\"tried to assign 2×1 array to 1×4 destination\")",
     "output_type": "error",
     "traceback": [
      "DimensionMismatch(\"tried to assign 2×1 array to 1×4 destination\")",
      "",
      "Stacktrace:",
      " [1] throw_setindex_mismatch(X::LinearAlgebra.Adjoint{Float64, Matrix{Float64}}, I::Tuple{Int64, Int64})",
      "   @ Base ./indices.jl:193",
      " [2] setindex_shape_check",
      "   @ ./indices.jl:253 [inlined]",
      " [3] _unsafe_setindex!(::IndexLinear, ::Matrix{Float64}, ::LinearAlgebra.Adjoint{Float64, Matrix{Float64}}, ::Int64, ::Base.Slice{Base.OneTo{Int64}})",
      "   @ Base ./multidimensional.jl:896",
      " [4] _setindex!",
      "   @ ./multidimensional.jl:887 [inlined]",
      " [5] setindex!(::Matrix{Float64}, ::LinearAlgebra.Adjoint{Float64, Matrix{Float64}}, ::Int64, ::Function)",
      "   @ Base ./abstractarray.jl:1267",
      " [6] top-level scope",
      "   @ ./In[18]:5",
      " [7] eval",
      "   @ ./boot.jl:360 [inlined]",
      " [8] include_string(mapexpr::typeof(REPL.softscope), mod::Module, code::String, filename::String)",
      "   @ Base ./loading.jl:1116"
     ]
    }
   ],
   "source": [
    "n = trunc(Int, Tmax/step_out)\n",
    "sim_mat = Array{Float64}(undef, Nsim,4)\n",
    "\n",
    "for i=1:Nsim\n",
    "    sim_mat[i,:] = simulations[i]'\n",
    "end\n",
    "\n",
    "sim_mat ;"
   ]
  },
  {
   "cell_type": "code",
   "execution_count": 19,
   "id": "e97bf009",
   "metadata": {},
   "outputs": [],
   "source": [
    "myBlack = colorant\"rgb(0,0,0,0.1)\"\n",
    "ts = timed[3:length(timed)]./day  ;"
   ]
  },
  {
   "cell_type": "code",
   "execution_count": 20,
   "id": "f8571184",
   "metadata": {},
   "outputs": [
    {
     "ename": "LoadError",
     "evalue": "Expects 2 elements in each col of y, found 4.",
     "output_type": "error",
     "traceback": [
      "Expects 2 elements in each col of y, found 4.",
      "",
      "Stacktrace:",
      "  [1] error(s::String)",
      "    @ Base ./error.jl:33",
      "  [2] _compute_xyz(x::Vector{Float64}, y::Vector{Float64}, z::Nothing, nice_error::Bool)",
      "    @ RecipesPipeline ~/.julia/packages/RecipesPipeline/Bxu2O/src/series.jl:97",
      "  [3] macro expansion",
      "    @ ~/.julia/packages/RecipesPipeline/Bxu2O/src/series.jl:163 [inlined]",
      "  [4] apply_recipe(plotattributes::AbstractDict{Symbol, Any}, #unused#::Type{RecipesPipeline.SliceIt}, x::Any, y::Any, z::Any)",
      "    @ RecipesPipeline ~/.julia/packages/RecipesBase/3fzVq/src/RecipesBase.jl:283",
      "  [5] _process_userrecipes!(plt::Any, plotattributes::Any, args::Any)",
      "    @ RecipesPipeline ~/.julia/packages/RecipesPipeline/Bxu2O/src/user_recipe.jl:36",
      "  [6] recipe_pipeline!(plt::Any, plotattributes::Any, args::Any)",
      "    @ RecipesPipeline ~/.julia/packages/RecipesPipeline/Bxu2O/src/RecipesPipeline.jl:70",
      "  [7] _plot!(plt::Plots.Plot, plotattributes::Any, args::Any)",
      "    @ Plots ~/.julia/packages/Plots/Ye1xf/src/plot.jl:208",
      "  [8] #plot#157",
      "    @ ~/.julia/packages/Plots/Ye1xf/src/plot.jl:91 [inlined]",
      "  [9] top-level scope",
      "    @ In[20]:1",
      " [10] eval",
      "    @ ./boot.jl:360 [inlined]",
      " [11] include_string(mapexpr::typeof(REPL.softscope), mod::Module, code::String, filename::String)",
      "    @ Base ./loading.jl:1116"
     ]
    }
   ],
   "source": [
    "p1 = plot(xt./day, sim_mat', xlims=(0,50), ylims=(0,1.2), color=myBlack, legend=false, title=\"mtDNA levels\")\n",
    "savefig(\"asdf.pdf\")"
   ]
  },
  {
   "cell_type": "code",
   "execution_count": 21,
   "id": "c125976a",
   "metadata": {},
   "outputs": [],
   "source": [
    "@everywhere function quantiles(sims, p)::Array{Float64, 2}\n",
    "    \"\"\"\n",
    "    returns quantile summaries from simulations\n",
    "    \"\"\"\n",
    "    Nsim = length(sims) # Nsim: number of simulations\n",
    "    n = length(sims[1]) # length of one simulation\n",
    "    out = Array{Float64}(undef, n,length(p))\n",
    "    for t=1:n\n",
    "        out[t,:] = quantile(skipmissing([sims[i][t] for i=1:Nsim]), p)\n",
    "    end\n",
    "    out\n",
    "end"
   ]
  },
  {
   "cell_type": "code",
   "execution_count": 22,
   "id": "96fcf322",
   "metadata": {},
   "outputs": [],
   "source": [
    "sims_qntl = quantiles(simulations, [0.025,0.5,0.975]) ;"
   ]
  },
  {
   "cell_type": "code",
   "execution_count": 23,
   "id": "5479bed6",
   "metadata": {},
   "outputs": [
    {
     "data": {
      "image/svg+xml": [
       "<?xml version=\"1.0\" encoding=\"utf-8\"?>\n",
       "<svg xmlns=\"http://www.w3.org/2000/svg\" xmlns:xlink=\"http://www.w3.org/1999/xlink\" width=\"600\" height=\"400\" viewBox=\"0 0 2400 1600\">\n",
       "<defs>\n",
       "  <clipPath id=\"clip920\">\n",
       "    <rect x=\"0\" y=\"0\" width=\"2400\" height=\"1600\"/>\n",
       "  </clipPath>\n",
       "</defs>\n",
       "<path clip-path=\"url(#clip920)\" d=\"\n",
       "M0 1600 L2400 1600 L2400 0 L0 0  Z\n",
       "  \" fill=\"#ffffff\" fill-rule=\"evenodd\" fill-opacity=\"1\"/>\n",
       "<defs>\n",
       "  <clipPath id=\"clip921\">\n",
       "    <rect x=\"480\" y=\"0\" width=\"1681\" height=\"1600\"/>\n",
       "  </clipPath>\n",
       "</defs>\n",
       "<path clip-path=\"url(#clip920)\" d=\"\n",
       "M186.274 1486.45 L2352.76 1486.45 L2352.76 123.472 L186.274 123.472  Z\n",
       "  \" fill=\"#ffffff\" fill-rule=\"evenodd\" fill-opacity=\"1\"/>\n",
       "<defs>\n",
       "  <clipPath id=\"clip922\">\n",
       "    <rect x=\"186\" y=\"123\" width=\"2167\" height=\"1364\"/>\n",
       "  </clipPath>\n",
       "</defs>\n",
       "<polyline clip-path=\"url(#clip922)\" style=\"stroke:#000000; stroke-linecap:butt; stroke-linejoin:round; stroke-width:2; stroke-opacity:0.1; fill:none\" points=\"\n",
       "  186.274,1486.45 186.274,123.472 \n",
       "  \"/>\n",
       "<polyline clip-path=\"url(#clip922)\" style=\"stroke:#000000; stroke-linecap:butt; stroke-linejoin:round; stroke-width:2; stroke-opacity:0.1; fill:none\" points=\"\n",
       "  667.714,1486.45 667.714,123.472 \n",
       "  \"/>\n",
       "<polyline clip-path=\"url(#clip922)\" style=\"stroke:#000000; stroke-linecap:butt; stroke-linejoin:round; stroke-width:2; stroke-opacity:0.1; fill:none\" points=\"\n",
       "  1149.15,1486.45 1149.15,123.472 \n",
       "  \"/>\n",
       "<polyline clip-path=\"url(#clip922)\" style=\"stroke:#000000; stroke-linecap:butt; stroke-linejoin:round; stroke-width:2; stroke-opacity:0.1; fill:none\" points=\"\n",
       "  1630.6,1486.45 1630.6,123.472 \n",
       "  \"/>\n",
       "<polyline clip-path=\"url(#clip922)\" style=\"stroke:#000000; stroke-linecap:butt; stroke-linejoin:round; stroke-width:2; stroke-opacity:0.1; fill:none\" points=\"\n",
       "  2112.04,1486.45 2112.04,123.472 \n",
       "  \"/>\n",
       "<polyline clip-path=\"url(#clip920)\" style=\"stroke:#000000; stroke-linecap:butt; stroke-linejoin:round; stroke-width:4; stroke-opacity:1; fill:none\" points=\"\n",
       "  186.274,1486.45 2352.76,1486.45 \n",
       "  \"/>\n",
       "<polyline clip-path=\"url(#clip920)\" style=\"stroke:#000000; stroke-linecap:butt; stroke-linejoin:round; stroke-width:4; stroke-opacity:1; fill:none\" points=\"\n",
       "  186.274,1486.45 186.274,1467.55 \n",
       "  \"/>\n",
       "<polyline clip-path=\"url(#clip920)\" style=\"stroke:#000000; stroke-linecap:butt; stroke-linejoin:round; stroke-width:4; stroke-opacity:1; fill:none\" points=\"\n",
       "  667.714,1486.45 667.714,1467.55 \n",
       "  \"/>\n",
       "<polyline clip-path=\"url(#clip920)\" style=\"stroke:#000000; stroke-linecap:butt; stroke-linejoin:round; stroke-width:4; stroke-opacity:1; fill:none\" points=\"\n",
       "  1149.15,1486.45 1149.15,1467.55 \n",
       "  \"/>\n",
       "<polyline clip-path=\"url(#clip920)\" style=\"stroke:#000000; stroke-linecap:butt; stroke-linejoin:round; stroke-width:4; stroke-opacity:1; fill:none\" points=\"\n",
       "  1630.6,1486.45 1630.6,1467.55 \n",
       "  \"/>\n",
       "<polyline clip-path=\"url(#clip920)\" style=\"stroke:#000000; stroke-linecap:butt; stroke-linejoin:round; stroke-width:4; stroke-opacity:1; fill:none\" points=\"\n",
       "  2112.04,1486.45 2112.04,1467.55 \n",
       "  \"/>\n",
       "<path clip-path=\"url(#clip920)\" d=\"M186.274 1517.37 Q182.663 1517.37 180.834 1520.93 Q179.029 1524.47 179.029 1531.6 Q179.029 1538.71 180.834 1542.27 Q182.663 1545.82 186.274 1545.82 Q189.908 1545.82 191.714 1542.27 Q193.542 1538.71 193.542 1531.6 Q193.542 1524.47 191.714 1520.93 Q189.908 1517.37 186.274 1517.37 M186.274 1513.66 Q192.084 1513.66 195.14 1518.27 Q198.218 1522.85 198.218 1531.6 Q198.218 1540.33 195.14 1544.94 Q192.084 1549.52 186.274 1549.52 Q180.464 1549.52 177.385 1544.94 Q174.33 1540.33 174.33 1531.6 Q174.33 1522.85 177.385 1518.27 Q180.464 1513.66 186.274 1513.66 Z\" fill=\"#000000\" fill-rule=\"evenodd\" fill-opacity=\"1\" /><path clip-path=\"url(#clip920)\" d=\"M642.402 1544.91 L650.041 1544.91 L650.041 1518.55 L641.731 1520.21 L641.731 1515.95 L649.995 1514.29 L654.671 1514.29 L654.671 1544.91 L662.309 1544.91 L662.309 1548.85 L642.402 1548.85 L642.402 1544.91 Z\" fill=\"#000000\" fill-rule=\"evenodd\" fill-opacity=\"1\" /><path clip-path=\"url(#clip920)\" d=\"M681.754 1517.37 Q678.143 1517.37 676.314 1520.93 Q674.508 1524.47 674.508 1531.6 Q674.508 1538.71 676.314 1542.27 Q678.143 1545.82 681.754 1545.82 Q685.388 1545.82 687.193 1542.27 Q689.022 1538.71 689.022 1531.6 Q689.022 1524.47 687.193 1520.93 Q685.388 1517.37 681.754 1517.37 M681.754 1513.66 Q687.564 1513.66 690.619 1518.27 Q693.698 1522.85 693.698 1531.6 Q693.698 1540.33 690.619 1544.94 Q687.564 1549.52 681.754 1549.52 Q675.944 1549.52 672.865 1544.94 Q669.809 1540.33 669.809 1531.6 Q669.809 1522.85 672.865 1518.27 Q675.944 1513.66 681.754 1513.66 Z\" fill=\"#000000\" fill-rule=\"evenodd\" fill-opacity=\"1\" /><path clip-path=\"url(#clip920)\" d=\"M1127.93 1544.91 L1144.25 1544.91 L1144.25 1548.85 L1122.3 1548.85 L1122.3 1544.91 Q1124.97 1542.16 1129.55 1537.53 Q1134.15 1532.88 1135.34 1531.53 Q1137.58 1529.01 1138.46 1527.27 Q1139.36 1525.51 1139.36 1523.82 Q1139.36 1521.07 1137.42 1519.33 Q1135.5 1517.6 1132.4 1517.6 Q1130.2 1517.6 1127.74 1518.36 Q1125.31 1519.13 1122.53 1520.68 L1122.53 1515.95 Q1125.36 1514.82 1127.81 1514.24 Q1130.27 1513.66 1132.3 1513.66 Q1137.67 1513.66 1140.87 1516.35 Q1144.06 1519.03 1144.06 1523.52 Q1144.06 1525.65 1143.25 1527.57 Q1142.47 1529.47 1140.36 1532.07 Q1139.78 1532.74 1136.68 1535.95 Q1133.58 1539.15 1127.93 1544.91 Z\" fill=\"#000000\" fill-rule=\"evenodd\" fill-opacity=\"1\" /><path clip-path=\"url(#clip920)\" d=\"M1164.06 1517.37 Q1160.45 1517.37 1158.62 1520.93 Q1156.82 1524.47 1156.82 1531.6 Q1156.82 1538.71 1158.62 1542.27 Q1160.45 1545.82 1164.06 1545.82 Q1167.7 1545.82 1169.5 1542.27 Q1171.33 1538.71 1171.33 1531.6 Q1171.33 1524.47 1169.5 1520.93 Q1167.7 1517.37 1164.06 1517.37 M1164.06 1513.66 Q1169.87 1513.66 1172.93 1518.27 Q1176.01 1522.85 1176.01 1531.6 Q1176.01 1540.33 1172.93 1544.94 Q1169.87 1549.52 1164.06 1549.52 Q1158.25 1549.52 1155.17 1544.94 Q1152.12 1540.33 1152.12 1531.6 Q1152.12 1522.85 1155.17 1518.27 Q1158.25 1513.66 1164.06 1513.66 Z\" fill=\"#000000\" fill-rule=\"evenodd\" fill-opacity=\"1\" /><path clip-path=\"url(#clip920)\" d=\"M1619.44 1530.21 Q1622.79 1530.93 1624.67 1533.2 Q1626.57 1535.47 1626.57 1538.8 Q1626.57 1543.92 1623.05 1546.72 Q1619.53 1549.52 1613.05 1549.52 Q1610.87 1549.52 1608.56 1549.08 Q1606.27 1548.66 1603.81 1547.81 L1603.81 1543.29 Q1605.76 1544.43 1608.07 1545.01 Q1610.39 1545.58 1612.91 1545.58 Q1617.31 1545.58 1619.6 1543.85 Q1621.91 1542.11 1621.91 1538.8 Q1621.91 1535.75 1619.76 1534.03 Q1617.63 1532.3 1613.81 1532.3 L1609.79 1532.3 L1609.79 1528.45 L1614 1528.45 Q1617.45 1528.45 1619.28 1527.09 Q1621.1 1525.7 1621.1 1523.11 Q1621.1 1520.45 1619.21 1519.03 Q1617.33 1517.6 1613.81 1517.6 Q1611.89 1517.6 1609.69 1518.01 Q1607.49 1518.43 1604.85 1519.31 L1604.85 1515.14 Q1607.52 1514.4 1609.83 1514.03 Q1612.17 1513.66 1614.23 1513.66 Q1619.55 1513.66 1622.66 1516.09 Q1625.76 1518.5 1625.76 1522.62 Q1625.76 1525.49 1624.11 1527.48 Q1622.47 1529.45 1619.44 1530.21 Z\" fill=\"#000000\" fill-rule=\"evenodd\" fill-opacity=\"1\" /><path clip-path=\"url(#clip920)\" d=\"M1645.43 1517.37 Q1641.82 1517.37 1639.99 1520.93 Q1638.19 1524.47 1638.19 1531.6 Q1638.19 1538.71 1639.99 1542.27 Q1641.82 1545.82 1645.43 1545.82 Q1649.07 1545.82 1650.87 1542.27 Q1652.7 1538.71 1652.7 1531.6 Q1652.7 1524.47 1650.87 1520.93 Q1649.07 1517.37 1645.43 1517.37 M1645.43 1513.66 Q1651.24 1513.66 1654.3 1518.27 Q1657.38 1522.85 1657.38 1531.6 Q1657.38 1540.33 1654.3 1544.94 Q1651.24 1549.52 1645.43 1549.52 Q1639.62 1549.52 1636.54 1544.94 Q1633.49 1540.33 1633.49 1531.6 Q1633.49 1522.85 1636.54 1518.27 Q1639.62 1513.66 1645.43 1513.66 Z\" fill=\"#000000\" fill-rule=\"evenodd\" fill-opacity=\"1\" /><path clip-path=\"url(#clip920)\" d=\"M2100.21 1518.36 L2088.4 1536.81 L2100.21 1536.81 L2100.21 1518.36 M2098.98 1514.29 L2104.86 1514.29 L2104.86 1536.81 L2109.79 1536.81 L2109.79 1540.7 L2104.86 1540.7 L2104.86 1548.85 L2100.21 1548.85 L2100.21 1540.7 L2084.61 1540.7 L2084.61 1536.19 L2098.98 1514.29 Z\" fill=\"#000000\" fill-rule=\"evenodd\" fill-opacity=\"1\" /><path clip-path=\"url(#clip920)\" d=\"M2127.52 1517.37 Q2123.91 1517.37 2122.08 1520.93 Q2120.28 1524.47 2120.28 1531.6 Q2120.28 1538.71 2122.08 1542.27 Q2123.91 1545.82 2127.52 1545.82 Q2131.16 1545.82 2132.96 1542.27 Q2134.79 1538.71 2134.79 1531.6 Q2134.79 1524.47 2132.96 1520.93 Q2131.16 1517.37 2127.52 1517.37 M2127.52 1513.66 Q2133.33 1513.66 2136.39 1518.27 Q2139.47 1522.85 2139.47 1531.6 Q2139.47 1540.33 2136.39 1544.94 Q2133.33 1549.52 2127.52 1549.52 Q2121.71 1549.52 2118.63 1544.94 Q2115.58 1540.33 2115.58 1531.6 Q2115.58 1522.85 2118.63 1518.27 Q2121.71 1513.66 2127.52 1513.66 Z\" fill=\"#000000\" fill-rule=\"evenodd\" fill-opacity=\"1\" /><polyline clip-path=\"url(#clip922)\" style=\"stroke:#000000; stroke-linecap:butt; stroke-linejoin:round; stroke-width:2; stroke-opacity:0.1; fill:none\" points=\"\n",
       "  186.274,1486.45 2352.76,1486.45 \n",
       "  \"/>\n",
       "<polyline clip-path=\"url(#clip922)\" style=\"stroke:#000000; stroke-linecap:butt; stroke-linejoin:round; stroke-width:2; stroke-opacity:0.1; fill:none\" points=\"\n",
       "  186.274,1202.49 2352.76,1202.49 \n",
       "  \"/>\n",
       "<polyline clip-path=\"url(#clip922)\" style=\"stroke:#000000; stroke-linecap:butt; stroke-linejoin:round; stroke-width:2; stroke-opacity:0.1; fill:none\" points=\"\n",
       "  186.274,918.541 2352.76,918.541 \n",
       "  \"/>\n",
       "<polyline clip-path=\"url(#clip922)\" style=\"stroke:#000000; stroke-linecap:butt; stroke-linejoin:round; stroke-width:2; stroke-opacity:0.1; fill:none\" points=\"\n",
       "  186.274,634.588 2352.76,634.588 \n",
       "  \"/>\n",
       "<polyline clip-path=\"url(#clip922)\" style=\"stroke:#000000; stroke-linecap:butt; stroke-linejoin:round; stroke-width:2; stroke-opacity:0.1; fill:none\" points=\"\n",
       "  186.274,350.635 2352.76,350.635 \n",
       "  \"/>\n",
       "<polyline clip-path=\"url(#clip920)\" style=\"stroke:#000000; stroke-linecap:butt; stroke-linejoin:round; stroke-width:4; stroke-opacity:1; fill:none\" points=\"\n",
       "  186.274,1486.45 186.274,123.472 \n",
       "  \"/>\n",
       "<polyline clip-path=\"url(#clip920)\" style=\"stroke:#000000; stroke-linecap:butt; stroke-linejoin:round; stroke-width:4; stroke-opacity:1; fill:none\" points=\"\n",
       "  186.274,1486.45 205.172,1486.45 \n",
       "  \"/>\n",
       "<polyline clip-path=\"url(#clip920)\" style=\"stroke:#000000; stroke-linecap:butt; stroke-linejoin:round; stroke-width:4; stroke-opacity:1; fill:none\" points=\"\n",
       "  186.274,1202.49 205.172,1202.49 \n",
       "  \"/>\n",
       "<polyline clip-path=\"url(#clip920)\" style=\"stroke:#000000; stroke-linecap:butt; stroke-linejoin:round; stroke-width:4; stroke-opacity:1; fill:none\" points=\"\n",
       "  186.274,918.541 205.172,918.541 \n",
       "  \"/>\n",
       "<polyline clip-path=\"url(#clip920)\" style=\"stroke:#000000; stroke-linecap:butt; stroke-linejoin:round; stroke-width:4; stroke-opacity:1; fill:none\" points=\"\n",
       "  186.274,634.588 205.172,634.588 \n",
       "  \"/>\n",
       "<polyline clip-path=\"url(#clip920)\" style=\"stroke:#000000; stroke-linecap:butt; stroke-linejoin:round; stroke-width:4; stroke-opacity:1; fill:none\" points=\"\n",
       "  186.274,350.635 205.172,350.635 \n",
       "  \"/>\n",
       "<path clip-path=\"url(#clip920)\" d=\"M62.9365 1472.25 Q59.3254 1472.25 57.4967 1475.81 Q55.6912 1479.35 55.6912 1486.48 Q55.6912 1493.59 57.4967 1497.15 Q59.3254 1500.7 62.9365 1500.7 Q66.5707 1500.7 68.3763 1497.15 Q70.205 1493.59 70.205 1486.48 Q70.205 1479.35 68.3763 1475.81 Q66.5707 1472.25 62.9365 1472.25 M62.9365 1468.54 Q68.7467 1468.54 71.8022 1473.15 Q74.8809 1477.73 74.8809 1486.48 Q74.8809 1495.21 71.8022 1499.82 Q68.7467 1504.4 62.9365 1504.4 Q57.1264 1504.4 54.0477 1499.82 Q50.9921 1495.21 50.9921 1486.48 Q50.9921 1477.73 54.0477 1473.15 Q57.1264 1468.54 62.9365 1468.54 Z\" fill=\"#000000\" fill-rule=\"evenodd\" fill-opacity=\"1\" /><path clip-path=\"url(#clip920)\" d=\"M83.0984 1497.85 L87.9827 1497.85 L87.9827 1503.73 L83.0984 1503.73 L83.0984 1497.85 Z\" fill=\"#000000\" fill-rule=\"evenodd\" fill-opacity=\"1\" /><path clip-path=\"url(#clip920)\" d=\"M108.168 1472.25 Q104.557 1472.25 102.728 1475.81 Q100.922 1479.35 100.922 1486.48 Q100.922 1493.59 102.728 1497.15 Q104.557 1500.7 108.168 1500.7 Q111.802 1500.7 113.608 1497.15 Q115.436 1493.59 115.436 1486.48 Q115.436 1479.35 113.608 1475.81 Q111.802 1472.25 108.168 1472.25 M108.168 1468.54 Q113.978 1468.54 117.033 1473.15 Q120.112 1477.73 120.112 1486.48 Q120.112 1495.21 117.033 1499.82 Q113.978 1504.4 108.168 1504.4 Q102.358 1504.4 99.2789 1499.82 Q96.2234 1495.21 96.2234 1486.48 Q96.2234 1477.73 99.2789 1473.15 Q102.358 1468.54 108.168 1468.54 Z\" fill=\"#000000\" fill-rule=\"evenodd\" fill-opacity=\"1\" /><path clip-path=\"url(#clip920)\" d=\"M138.33 1472.25 Q134.719 1472.25 132.89 1475.81 Q131.084 1479.35 131.084 1486.48 Q131.084 1493.59 132.89 1497.15 Q134.719 1500.7 138.33 1500.7 Q141.964 1500.7 143.769 1497.15 Q145.598 1493.59 145.598 1486.48 Q145.598 1479.35 143.769 1475.81 Q141.964 1472.25 138.33 1472.25 M138.33 1468.54 Q144.14 1468.54 147.195 1473.15 Q150.274 1477.73 150.274 1486.48 Q150.274 1495.21 147.195 1499.82 Q144.14 1504.4 138.33 1504.4 Q132.519 1504.4 129.441 1499.82 Q126.385 1495.21 126.385 1486.48 Q126.385 1477.73 129.441 1473.15 Q132.519 1468.54 138.33 1468.54 Z\" fill=\"#000000\" fill-rule=\"evenodd\" fill-opacity=\"1\" /><path clip-path=\"url(#clip920)\" d=\"M63.9319 1188.29 Q60.3208 1188.29 58.4921 1191.86 Q56.6865 1195.4 56.6865 1202.53 Q56.6865 1209.64 58.4921 1213.2 Q60.3208 1216.74 63.9319 1216.74 Q67.5661 1216.74 69.3717 1213.2 Q71.2004 1209.64 71.2004 1202.53 Q71.2004 1195.4 69.3717 1191.86 Q67.5661 1188.29 63.9319 1188.29 M63.9319 1184.59 Q69.742 1184.59 72.7976 1189.2 Q75.8763 1193.78 75.8763 1202.53 Q75.8763 1211.26 72.7976 1215.86 Q69.742 1220.45 63.9319 1220.45 Q58.1217 1220.45 55.043 1215.86 Q51.9875 1211.26 51.9875 1202.53 Q51.9875 1193.78 55.043 1189.2 Q58.1217 1184.59 63.9319 1184.59 Z\" fill=\"#000000\" fill-rule=\"evenodd\" fill-opacity=\"1\" /><path clip-path=\"url(#clip920)\" d=\"M84.0938 1213.89 L88.978 1213.89 L88.978 1219.77 L84.0938 1219.77 L84.0938 1213.89 Z\" fill=\"#000000\" fill-rule=\"evenodd\" fill-opacity=\"1\" /><path clip-path=\"url(#clip920)\" d=\"M103.191 1215.84 L119.51 1215.84 L119.51 1219.77 L97.566 1219.77 L97.566 1215.84 Q100.228 1213.08 104.811 1208.46 Q109.418 1203.8 110.598 1202.46 Q112.844 1199.94 113.723 1198.2 Q114.626 1196.44 114.626 1194.75 Q114.626 1192 112.682 1190.26 Q110.76 1188.52 107.658 1188.52 Q105.459 1188.52 103.006 1189.29 Q100.575 1190.05 97.7974 1191.6 L97.7974 1186.88 Q100.621 1185.75 103.075 1185.17 Q105.529 1184.59 107.566 1184.59 Q112.936 1184.59 116.131 1187.27 Q119.325 1189.96 119.325 1194.45 Q119.325 1196.58 118.515 1198.5 Q117.728 1200.4 115.621 1202.99 Q115.043 1203.66 111.941 1206.88 Q108.839 1210.08 103.191 1215.84 Z\" fill=\"#000000\" fill-rule=\"evenodd\" fill-opacity=\"1\" /><path clip-path=\"url(#clip920)\" d=\"M129.371 1185.21 L147.728 1185.21 L147.728 1189.15 L133.654 1189.15 L133.654 1197.62 Q134.672 1197.27 135.691 1197.11 Q136.709 1196.93 137.728 1196.93 Q143.515 1196.93 146.894 1200.1 Q150.274 1203.27 150.274 1208.69 Q150.274 1214.27 146.802 1217.37 Q143.33 1220.45 137.01 1220.45 Q134.834 1220.45 132.566 1220.08 Q130.32 1219.71 127.913 1218.96 L127.913 1214.27 Q129.996 1215.4 132.219 1215.96 Q134.441 1216.51 136.918 1216.51 Q140.922 1216.51 143.26 1214.4 Q145.598 1212.3 145.598 1208.69 Q145.598 1205.08 143.26 1202.97 Q140.922 1200.86 136.918 1200.86 Q135.043 1200.86 133.168 1201.28 Q131.316 1201.7 129.371 1202.58 L129.371 1185.21 Z\" fill=\"#000000\" fill-rule=\"evenodd\" fill-opacity=\"1\" /><path clip-path=\"url(#clip920)\" d=\"M62.9365 904.34 Q59.3254 904.34 57.4967 907.905 Q55.6912 911.446 55.6912 918.576 Q55.6912 925.682 57.4967 929.247 Q59.3254 932.789 62.9365 932.789 Q66.5707 932.789 68.3763 929.247 Q70.205 925.682 70.205 918.576 Q70.205 911.446 68.3763 907.905 Q66.5707 904.34 62.9365 904.34 M62.9365 900.636 Q68.7467 900.636 71.8022 905.243 Q74.8809 909.826 74.8809 918.576 Q74.8809 927.303 71.8022 931.909 Q68.7467 936.493 62.9365 936.493 Q57.1264 936.493 54.0477 931.909 Q50.9921 927.303 50.9921 918.576 Q50.9921 909.826 54.0477 905.243 Q57.1264 900.636 62.9365 900.636 Z\" fill=\"#000000\" fill-rule=\"evenodd\" fill-opacity=\"1\" /><path clip-path=\"url(#clip920)\" d=\"M83.0984 929.942 L87.9827 929.942 L87.9827 935.821 L83.0984 935.821 L83.0984 929.942 Z\" fill=\"#000000\" fill-rule=\"evenodd\" fill-opacity=\"1\" /><path clip-path=\"url(#clip920)\" d=\"M98.2141 901.261 L116.57 901.261 L116.57 905.196 L102.496 905.196 L102.496 913.669 Q103.515 913.321 104.534 913.159 Q105.552 912.974 106.571 912.974 Q112.358 912.974 115.737 916.145 Q119.117 919.317 119.117 924.733 Q119.117 930.312 115.645 933.414 Q112.172 936.493 105.853 936.493 Q103.677 936.493 101.409 936.122 Q99.1632 935.752 96.7558 935.011 L96.7558 930.312 Q98.8391 931.446 101.061 932.002 Q103.284 932.557 105.76 932.557 Q109.765 932.557 112.103 930.451 Q114.441 928.345 114.441 924.733 Q114.441 921.122 112.103 919.016 Q109.765 916.909 105.76 916.909 Q103.885 916.909 102.01 917.326 Q100.159 917.743 98.2141 918.622 L98.2141 901.261 Z\" fill=\"#000000\" fill-rule=\"evenodd\" fill-opacity=\"1\" /><path clip-path=\"url(#clip920)\" d=\"M138.33 904.34 Q134.719 904.34 132.89 907.905 Q131.084 911.446 131.084 918.576 Q131.084 925.682 132.89 929.247 Q134.719 932.789 138.33 932.789 Q141.964 932.789 143.769 929.247 Q145.598 925.682 145.598 918.576 Q145.598 911.446 143.769 907.905 Q141.964 904.34 138.33 904.34 M138.33 900.636 Q144.14 900.636 147.195 905.243 Q150.274 909.826 150.274 918.576 Q150.274 927.303 147.195 931.909 Q144.14 936.493 138.33 936.493 Q132.519 936.493 129.441 931.909 Q126.385 927.303 126.385 918.576 Q126.385 909.826 129.441 905.243 Q132.519 900.636 138.33 900.636 Z\" fill=\"#000000\" fill-rule=\"evenodd\" fill-opacity=\"1\" /><path clip-path=\"url(#clip920)\" d=\"M63.9319 620.387 Q60.3208 620.387 58.4921 623.952 Q56.6865 627.493 56.6865 634.623 Q56.6865 641.729 58.4921 645.294 Q60.3208 648.836 63.9319 648.836 Q67.5661 648.836 69.3717 645.294 Q71.2004 641.729 71.2004 634.623 Q71.2004 627.493 69.3717 623.952 Q67.5661 620.387 63.9319 620.387 M63.9319 616.683 Q69.742 616.683 72.7976 621.289 Q75.8763 625.873 75.8763 634.623 Q75.8763 643.35 72.7976 647.956 Q69.742 652.539 63.9319 652.539 Q58.1217 652.539 55.043 647.956 Q51.9875 643.35 51.9875 634.623 Q51.9875 625.873 55.043 621.289 Q58.1217 616.683 63.9319 616.683 Z\" fill=\"#000000\" fill-rule=\"evenodd\" fill-opacity=\"1\" /><path clip-path=\"url(#clip920)\" d=\"M84.0938 645.988 L88.978 645.988 L88.978 651.868 L84.0938 651.868 L84.0938 645.988 Z\" fill=\"#000000\" fill-rule=\"evenodd\" fill-opacity=\"1\" /><path clip-path=\"url(#clip920)\" d=\"M97.9826 617.308 L120.205 617.308 L120.205 619.299 L107.658 651.868 L102.774 651.868 L114.58 621.243 L97.9826 621.243 L97.9826 617.308 Z\" fill=\"#000000\" fill-rule=\"evenodd\" fill-opacity=\"1\" /><path clip-path=\"url(#clip920)\" d=\"M129.371 617.308 L147.728 617.308 L147.728 621.243 L133.654 621.243 L133.654 629.715 Q134.672 629.368 135.691 629.206 Q136.709 629.021 137.728 629.021 Q143.515 629.021 146.894 632.192 Q150.274 635.363 150.274 640.78 Q150.274 646.359 146.802 649.461 Q143.33 652.539 137.01 652.539 Q134.834 652.539 132.566 652.169 Q130.32 651.799 127.913 651.058 L127.913 646.359 Q129.996 647.493 132.219 648.049 Q134.441 648.604 136.918 648.604 Q140.922 648.604 143.26 646.498 Q145.598 644.391 145.598 640.78 Q145.598 637.169 143.26 635.063 Q140.922 632.956 136.918 632.956 Q135.043 632.956 133.168 633.373 Q131.316 633.789 129.371 634.669 L129.371 617.308 Z\" fill=\"#000000\" fill-rule=\"evenodd\" fill-opacity=\"1\" /><path clip-path=\"url(#clip920)\" d=\"M53.7467 363.98 L61.3856 363.98 L61.3856 337.614 L53.0754 339.281 L53.0754 335.021 L61.3393 333.355 L66.0152 333.355 L66.0152 363.98 L73.654 363.98 L73.654 367.915 L53.7467 367.915 L53.7467 363.98 Z\" fill=\"#000000\" fill-rule=\"evenodd\" fill-opacity=\"1\" /><path clip-path=\"url(#clip920)\" d=\"M83.0984 362.035 L87.9827 362.035 L87.9827 367.915 L83.0984 367.915 L83.0984 362.035 Z\" fill=\"#000000\" fill-rule=\"evenodd\" fill-opacity=\"1\" /><path clip-path=\"url(#clip920)\" d=\"M108.168 336.433 Q104.557 336.433 102.728 339.998 Q100.922 343.54 100.922 350.669 Q100.922 357.776 102.728 361.341 Q104.557 364.882 108.168 364.882 Q111.802 364.882 113.608 361.341 Q115.436 357.776 115.436 350.669 Q115.436 343.54 113.608 339.998 Q111.802 336.433 108.168 336.433 M108.168 332.73 Q113.978 332.73 117.033 337.336 Q120.112 341.92 120.112 350.669 Q120.112 359.396 117.033 364.003 Q113.978 368.586 108.168 368.586 Q102.358 368.586 99.2789 364.003 Q96.2234 359.396 96.2234 350.669 Q96.2234 341.92 99.2789 337.336 Q102.358 332.73 108.168 332.73 Z\" fill=\"#000000\" fill-rule=\"evenodd\" fill-opacity=\"1\" /><path clip-path=\"url(#clip920)\" d=\"M138.33 336.433 Q134.719 336.433 132.89 339.998 Q131.084 343.54 131.084 350.669 Q131.084 357.776 132.89 361.341 Q134.719 364.882 138.33 364.882 Q141.964 364.882 143.769 361.341 Q145.598 357.776 145.598 350.669 Q145.598 343.54 143.769 339.998 Q141.964 336.433 138.33 336.433 M138.33 332.73 Q144.14 332.73 147.195 337.336 Q150.274 341.92 150.274 350.669 Q150.274 359.396 147.195 364.003 Q144.14 368.586 138.33 368.586 Q132.519 368.586 129.441 364.003 Q126.385 359.396 126.385 350.669 Q126.385 341.92 129.441 337.336 Q132.519 332.73 138.33 332.73 Z\" fill=\"#000000\" fill-rule=\"evenodd\" fill-opacity=\"1\" /><path clip-path=\"url(#clip920)\" d=\"M1029.46 35.9153 Q1032.25 30.8922 1036.14 28.5022 Q1040.03 26.1121 1045.3 26.1121 Q1052.39 26.1121 1056.23 31.0947 Q1060.08 36.0368 1060.08 45.1919 L1060.08 72.576 L1052.59 72.576 L1052.59 45.4349 Q1052.59 38.913 1050.28 35.7533 Q1047.97 32.5936 1043.23 32.5936 Q1037.44 32.5936 1034.08 36.4419 Q1030.71 40.2903 1030.71 46.9338 L1030.71 72.576 L1023.22 72.576 L1023.22 45.4349 Q1023.22 38.8725 1020.91 35.7533 Q1018.6 32.5936 1013.78 32.5936 Q1008.07 32.5936 1004.71 36.4824 Q1001.35 40.3308 1001.35 46.9338 L1001.35 72.576 L993.851 72.576 L993.851 27.2059 L1001.35 27.2059 L1001.35 34.2544 Q1003.9 30.082 1007.46 28.0971 Q1011.03 26.1121 1015.93 26.1121 Q1020.87 26.1121 1024.31 28.6237 Q1027.8 31.1352 1029.46 35.9153 Z\" fill=\"#000000\" fill-rule=\"evenodd\" fill-opacity=\"1\" /><path clip-path=\"url(#clip920)\" d=\"M1082.32 14.324 L1082.32 27.2059 L1097.68 27.2059 L1097.68 32.9987 L1082.32 32.9987 L1082.32 57.6282 Q1082.32 63.1779 1083.82 64.7578 Q1085.36 66.3376 1090.02 66.3376 L1097.68 66.3376 L1097.68 72.576 L1090.02 72.576 Q1081.39 72.576 1078.11 69.3758 Q1074.83 66.1351 1074.83 57.6282 L1074.83 32.9987 L1069.36 32.9987 L1069.36 27.2059 L1074.83 27.2059 L1074.83 14.324 L1082.32 14.324 Z\" fill=\"#000000\" fill-rule=\"evenodd\" fill-opacity=\"1\" /><path clip-path=\"url(#clip920)\" d=\"M1115.99 18.8205 L1115.99 65.8515 L1125.87 65.8515 Q1138.39 65.8515 1144.18 60.1802 Q1150.01 54.509 1150.01 42.2752 Q1150.01 30.1225 1144.18 24.4918 Q1138.39 18.8205 1125.87 18.8205 L1115.99 18.8205 M1107.8 12.096 L1124.61 12.096 Q1142.2 12.096 1150.42 19.4281 Q1158.64 26.7198 1158.64 42.2752 Q1158.64 57.9117 1150.38 65.2439 Q1142.11 72.576 1124.61 72.576 L1107.8 72.576 L1107.8 12.096 Z\" fill=\"#000000\" fill-rule=\"evenodd\" fill-opacity=\"1\" /><path clip-path=\"url(#clip920)\" d=\"M1171.69 12.096 L1182.7 12.096 L1209.52 62.6918 L1209.52 12.096 L1217.46 12.096 L1217.46 72.576 L1206.44 72.576 L1179.63 21.9802 L1179.63 72.576 L1171.69 72.576 L1171.69 12.096 Z\" fill=\"#000000\" fill-rule=\"evenodd\" fill-opacity=\"1\" /><path clip-path=\"url(#clip920)\" d=\"M1253.96 20.1573 L1242.86 50.2555 L1265.1 50.2555 L1253.96 20.1573 M1249.34 12.096 L1258.62 12.096 L1281.67 72.576 L1273.16 72.576 L1267.65 57.061 L1240.39 57.061 L1234.88 72.576 L1226.25 72.576 L1249.34 12.096 Z\" fill=\"#000000\" fill-rule=\"evenodd\" fill-opacity=\"1\" /><path clip-path=\"url(#clip920)\" d=\"M1316.55 9.54393 L1324 9.54393 L1324 72.576 L1316.55 72.576 L1316.55 9.54393 Z\" fill=\"#000000\" fill-rule=\"evenodd\" fill-opacity=\"1\" /><path clip-path=\"url(#clip920)\" d=\"M1378.4 48.0275 L1378.4 51.6733 L1344.13 51.6733 Q1344.62 59.3701 1348.75 63.421 Q1352.92 67.4314 1360.34 67.4314 Q1364.63 67.4314 1368.64 66.3781 Q1372.69 65.3249 1376.66 63.2184 L1376.66 70.267 Q1372.65 71.9684 1368.44 72.8596 Q1364.23 73.7508 1359.89 73.7508 Q1349.03 73.7508 1342.67 67.4314 Q1336.35 61.1119 1336.35 50.3365 Q1336.35 39.1965 1342.35 32.6746 Q1348.39 26.1121 1358.59 26.1121 Q1367.75 26.1121 1373.06 32.0264 Q1378.4 37.9003 1378.4 48.0275 M1370.95 45.84 Q1370.87 39.7232 1367.51 36.0774 Q1364.18 32.4315 1358.68 32.4315 Q1352.44 32.4315 1348.67 35.9558 Q1344.94 39.4801 1344.38 45.8805 L1370.95 45.84 Z\" fill=\"#000000\" fill-rule=\"evenodd\" fill-opacity=\"1\" /><path clip-path=\"url(#clip920)\" d=\"M1385.29 27.2059 L1393.19 27.2059 L1407.37 65.2844 L1421.55 27.2059 L1429.44 27.2059 L1412.43 72.576 L1402.3 72.576 L1385.29 27.2059 Z\" fill=\"#000000\" fill-rule=\"evenodd\" fill-opacity=\"1\" /><path clip-path=\"url(#clip920)\" d=\"M1478.54 48.0275 L1478.54 51.6733 L1444.27 51.6733 Q1444.76 59.3701 1448.89 63.421 Q1453.06 67.4314 1460.47 67.4314 Q1464.77 67.4314 1468.78 66.3781 Q1472.83 65.3249 1476.8 63.2184 L1476.8 70.267 Q1472.79 71.9684 1468.58 72.8596 Q1464.36 73.7508 1460.03 73.7508 Q1449.17 73.7508 1442.81 67.4314 Q1436.49 61.1119 1436.49 50.3365 Q1436.49 39.1965 1442.49 32.6746 Q1448.52 26.1121 1458.73 26.1121 Q1467.89 26.1121 1473.19 32.0264 Q1478.54 37.9003 1478.54 48.0275 M1471.09 45.84 Q1471.01 39.7232 1467.64 36.0774 Q1464.32 32.4315 1458.81 32.4315 Q1452.58 32.4315 1448.81 35.9558 Q1445.08 39.4801 1444.51 45.8805 L1471.09 45.84 Z\" fill=\"#000000\" fill-rule=\"evenodd\" fill-opacity=\"1\" /><path clip-path=\"url(#clip920)\" d=\"M1490.78 9.54393 L1498.23 9.54393 L1498.23 72.576 L1490.78 72.576 L1490.78 9.54393 Z\" fill=\"#000000\" fill-rule=\"evenodd\" fill-opacity=\"1\" /><path clip-path=\"url(#clip920)\" d=\"M1542.75 28.5427 L1542.75 35.5912 Q1539.59 33.9709 1536.19 33.1607 Q1532.78 32.3505 1529.14 32.3505 Q1523.59 32.3505 1520.79 34.0519 Q1518.04 35.7533 1518.04 39.156 Q1518.04 41.7486 1520.02 43.2475 Q1522.01 44.7058 1528 46.0426 L1530.56 46.6097 Q1538.49 48.3111 1541.82 51.4303 Q1545.18 54.509 1545.18 60.0587 Q1545.18 66.3781 1540.16 70.0644 Q1535.17 73.7508 1526.42 73.7508 Q1522.78 73.7508 1518.81 73.0216 Q1514.88 72.3329 1510.5 70.9151 L1510.5 63.2184 Q1514.64 65.3654 1518.65 66.4591 Q1522.66 67.5124 1526.59 67.5124 Q1531.85 67.5124 1534.69 65.73 Q1537.52 63.9071 1537.52 60.6258 Q1537.52 57.5877 1535.46 55.9673 Q1533.43 54.3469 1526.5 52.8481 L1523.91 52.2405 Q1516.98 50.7821 1513.91 47.7845 Q1510.83 44.7463 1510.83 39.4801 Q1510.83 33.0797 1515.36 29.5959 Q1519.9 26.1121 1528.25 26.1121 Q1532.38 26.1121 1536.02 26.7198 Q1539.67 27.3274 1542.75 28.5427 Z\" fill=\"#000000\" fill-rule=\"evenodd\" fill-opacity=\"1\" /><polyline clip-path=\"url(#clip922)\" style=\"stroke:#009af9; stroke-linecap:butt; stroke-linejoin:round; stroke-width:4; stroke-opacity:1; fill:none\" points=\"\n",
       "  1630.6,526.686 2352.76,384.709 \n",
       "  \"/>\n",
       "<polyline clip-path=\"url(#clip922)\" style=\"stroke:#e26f46; stroke-linecap:butt; stroke-linejoin:round; stroke-width:4; stroke-opacity:1; fill:none\" points=\"\n",
       "  1630.6,438.66 2352.76,356.314 \n",
       "  \"/>\n",
       "<polyline clip-path=\"url(#clip922)\" style=\"stroke:#3da44d; stroke-linecap:butt; stroke-linejoin:round; stroke-width:4; stroke-opacity:1; fill:none\" points=\"\n",
       "  1630.6,379.03 2352.76,327.918 \n",
       "  \"/>\n",
       "</svg>\n"
      ]
     },
     "execution_count": 23,
     "metadata": {},
     "output_type": "execute_result"
    }
   ],
   "source": [
    "plot(xt./day, sims_qntl, legend=false, xlims=(0,45), ylims=(0,1.2), title=\"mtDNA levels\")"
   ]
  },
  {
   "cell_type": "code",
   "execution_count": 24,
   "id": "7f75ba94",
   "metadata": {},
   "outputs": [],
   "source": [
    "function prior_draws(Nabc)::Array{Float64, 2}\n",
    "    # some priors taken from JPMorgan\n",
    "    k1 = rand(Uniform(3.06e-8*0.9, 3.06e-6*1.1), Nabc)\n",
    "    k2 = rand(Uniform(3.06e-8*0.9, 3.06e-6*1.1), Nabc)\n",
    "    kc1 = rand(Uniform(8.99e-9*0.9, 8.99e-9*1.1), Nabc)\n",
    "    kc2 = rand(Uniform(2e-4*0.9, 2e-4*1.1), Nabc)\n",
    "    return hcat(k1,k2,kc1,kc2)\n",
    "end ;"
   ]
  },
  {
   "cell_type": "code",
   "execution_count": 25,
   "id": "ab798f8e",
   "metadata": {},
   "outputs": [],
   "source": [
    "function euclidean_dist(sims::Vector{Array{Float64}}, data::Array{Float64})\n",
    "    Nabc = length(sims)\n",
    "    output = Array{Float64, 1}(undef, Nabc)\n",
    "    for i=1:Nabc\n",
    "        output[i] = sum(sims[i] - data)^2\n",
    "    end\n",
    "    output\n",
    "end ;"
   ]
  },
  {
   "cell_type": "code",
   "execution_count": 26,
   "id": "2992083b",
   "metadata": {},
   "outputs": [
    {
     "data": {
      "text/plain": [
       "easy_abc (generic function with 1 method)"
      ]
     },
     "execution_count": 26,
     "metadata": {},
     "output_type": "execute_result"
    }
   ],
   "source": [
    "function easy_abc(Nabc, data, inits, Tmax, dt, dtout, target, Nsim)\n",
    "    # draw parameters\n",
    "    abc_sims = Vector{Array{Float64}}(undef, Nabc) # use three as length of  s(z)\n",
    "    theta_star = prior_draws(Nabc)\n",
    "    \n",
    "    for i=1:Nabc\n",
    "        # init_pop, pops, rate_vec, Stoichiometry_matrix\n",
    "        spn_star = SPN(inits[1], inits[2], theta_star[i,:], inits[3])\n",
    "        sims = par_sim(Nsim, tauleap, spn_star, Tmax, dt, dtout, target)\n",
    "        abc_sims[i] = quantiles(sims, [0.025,0.5,0.975])\n",
    "    end\n",
    "    \n",
    "    rank = euclidean_dist(abc_sims, data)\n",
    "    rank\n",
    "end"
   ]
  },
  {
   "cell_type": "code",
   "execution_count": 27,
   "id": "8961fe95",
   "metadata": {},
   "outputs": [
    {
     "ename": "LoadError",
     "evalue": "ArgumentError: quantiles are undefined in presence of NaNs",
     "output_type": "error",
     "traceback": [
      "ArgumentError: quantiles are undefined in presence of NaNs",
      "",
      "Stacktrace:",
      "  [1] _quantilesort!(v::Vector{Float64}, sorted::Bool, minp::Float64, maxp::Float64)",
      "    @ Statistics /Users/julia/buildbot/worker/package_macos64/build/usr/share/julia/stdlib/v1.6/Statistics/src/Statistics.jl:960",
      "  [2] #quantile!#49",
      "    @ /Users/julia/buildbot/worker/package_macos64/build/usr/share/julia/stdlib/v1.6/Statistics/src/Statistics.jl:938 [inlined]",
      "  [3] #quantile#54",
      "    @ /Users/julia/buildbot/worker/package_macos64/build/usr/share/julia/stdlib/v1.6/Statistics/src/Statistics.jl:1049 [inlined]",
      "  [4] quantile",
      "    @ /Users/julia/buildbot/worker/package_macos64/build/usr/share/julia/stdlib/v1.6/Statistics/src/Statistics.jl:1049 [inlined]",
      "  [5] quantiles(sims::Vector{Array{Float64, N} where N}, p::Vector{Float64})",
      "    @ Main ./In[21]:9",
      "  [6] easy_abc(Nabc::Int64, data::Matrix{Float64}, inits::Tuple{Float64, Float64, Vector{Int64}}, Tmax::Int64, dt::Int64, dtout::Int64, target::Vector{Int64}, Nsim::Int64)",
      "    @ Main ./In[26]:10",
      "  [7] top-level scope",
      "    @ ./timing.jl:210 [inlined]",
      "  [8] top-level scope",
      "    @ ./In[27]:0",
      "  [9] eval",
      "    @ ./boot.jl:360 [inlined]",
      " [10] include_string(mapexpr::typeof(REPL.softscope), mod::Module, code::String, filename::String)",
      "    @ Base ./loading.jl:1116"
     ]
    }
   ],
   "source": [
    "@time abc_output = easy_abc(100, data_mat, (200.0, 200.0*0.101, S), Tmax, step, step_out, timed[3:length(timed)], Nsim) \n",
    "\"\"\"\n",
    "100 runs: ~ 330 seconds\n",
    "\"\"\" ;\n"
   ]
  },
  {
   "cell_type": "code",
   "execution_count": 28,
   "id": "1f8966a1",
   "metadata": {},
   "outputs": [
    {
     "ename": "LoadError",
     "evalue": "UndefVarError: tt not defined",
     "output_type": "error",
     "traceback": [
      "UndefVarError: tt not defined",
      "",
      "Stacktrace:",
      " [1] top-level scope",
      "   @ In[28]:1",
      " [2] eval",
      "   @ ./boot.jl:360 [inlined]",
      " [3] include_string(mapexpr::typeof(REPL.softscope), mod::Module, code::String, filename::String)",
      "   @ Base ./loading.jl:1116"
     ]
    }
   ],
   "source": [
    "minimum(euclidean_dist(tt, data_mat)), maximum(euclidean_dist(tt, data_mat))"
   ]
  },
  {
   "cell_type": "code",
   "execution_count": null,
   "id": "ce6ddc4f",
   "metadata": {},
   "outputs": [],
   "source": []
  }
 ],
 "metadata": {
  "kernelspec": {
   "display_name": "Julia 1.6.2",
   "language": "julia",
   "name": "julia-1.6"
  },
  "language_info": {
   "file_extension": ".jl",
   "mimetype": "application/julia",
   "name": "julia",
   "version": "1.6.2"
  }
 },
 "nbformat": 4,
 "nbformat_minor": 5
}
