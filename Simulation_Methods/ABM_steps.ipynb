{
 "cells": [
  {
   "cell_type": "code",
   "execution_count": 1,
   "id": "cfed173c",
   "metadata": {},
   "outputs": [],
   "source": [
    "import Pkg\n",
    "using Plots, DelimitedFiles, Colors, Random, Statistics\n",
    "using Distributed\n",
    "\n",
    "length(Sys.cpu_info())\n",
    "addprocs(4) ;"
   ]
  },
  {
   "cell_type": "code",
   "execution_count": 2,
   "id": "435b8360",
   "metadata": {},
   "outputs": [],
   "source": [
    "@everywhere using Random, Distributed, KernelDensity"
   ]
  },
  {
   "cell_type": "code",
   "execution_count": 3,
   "id": "ef24d767",
   "metadata": {},
   "outputs": [],
   "source": [
    "const hour = 3600\n",
    "const day = 24*hour\n",
    "const year = 365*day\n",
    "\n",
    "#step_str = \"50\"\n",
    "\n",
    "#step = 50*day # time step for the simulation\n",
    "step_out = 7*day # time step to save output\n",
    "Tmax = 80*year\n",
    "\n",
    "Nsim = 1000 ; # number of simulations"
   ]
  },
  {
   "cell_type": "code",
   "execution_count": 4,
   "id": "1cd68c4d",
   "metadata": {},
   "outputs": [],
   "source": [
    "@everywhere struct mtDNA \n",
    "    rates::Vector{Real}\n",
    "    unique_id::Int\n",
    "    parent_id::Int\n",
    "    status::String\n",
    "    \n",
    "    function mtDNA(rates, unique_id, parent_id, status)\n",
    "        if !(status in [\"wild\", \"mutant\"])\n",
    "            error(\"Molecules must be of type 'wild' or 'mutant' \")\n",
    "        end\n",
    "        if status==\"wild\"\n",
    "            new(rates, unique_id, parent_id, status)\n",
    "        elseif status==\"mutant\"\n",
    "            new(rates, unique_id, parent_id, status)\n",
    "        end\n",
    "    end\n",
    "end "
   ]
  },
  {
   "cell_type": "code",
   "execution_count": 5,
   "id": "f8285dfe",
   "metadata": {},
   "outputs": [],
   "source": [
    "@everywhere rates(mol::mtDNA) = mol.rates\n",
    "@everywhere unique_id(mol::mtDNA) = mol.unique_id\n",
    "@everywhere parent_id(mol::mtDNA) = mol.parent_id\n",
    "@everywhere status(mol::mtDNA) = mol.status "
   ]
  },
  {
   "cell_type": "code",
   "execution_count": 6,
   "id": "3935b19f",
   "metadata": {},
   "outputs": [],
   "source": [
    "@everywhere function counter(system_state::Vector{mtDNA})::Vector{Float64}\n",
    "    \"\"\"\n",
    "    Calculates the population size for wild and mutant type\n",
    "    \"\"\"\n",
    "    copy_num = length(system_state)\n",
    "    W = sum([1 for mol in system_state if status(mol)==\"wild\"])\n",
    "    return [W, copy_num-W]\n",
    "end"
   ]
  },
  {
   "cell_type": "code",
   "execution_count": 7,
   "id": "ef971b79",
   "metadata": {},
   "outputs": [],
   "source": [
    "@everywhere function transform_summ(popdym)::Array{Float64, 2}\n",
    "    \"\"\"\n",
    "    Transforms the population sizes in to copy number and mutation load\n",
    "    \"\"\"\n",
    "    copy_num = popdym[:,1] .+ popdym[:,2]\n",
    "    \n",
    "    mut_load = zeros(length(copy_num))*NaN\n",
    "    nonzero_idx = copy_num .!= 0.0\n",
    "    mut_load[nonzero_idx] .=  popdym[nonzero_idx,2] ./ copy_num[nonzero_idx]\n",
    "    \n",
    "    return hcat(copy_num, mut_load)\n",
    "end"
   ]
  },
  {
   "cell_type": "code",
   "execution_count": 8,
   "id": "641917f7",
   "metadata": {},
   "outputs": [],
   "source": [
    "@everywhere function agented(init::Vector{mtDNA}, Tmax::Real, dt::Real, dtout::Real)::Array{Float64, 2}\n",
    "    N = trunc(Int, Tmax/dt) + 1\n",
    "    Nout = trunc(Int, Tmax/dtout) + 1\n",
    "    system_state = init\n",
    "    current_id = length(init) + 1\n",
    "    popdym = Array{Float64}(undef, (2,Nout))\n",
    "    C0 = length(init)\n",
    "    \n",
    "    target = 0.0\n",
    "    tt = 0.0\n",
    "    i = 1\n",
    "    for _=1:N\n",
    "        while tt>=target && i<=Nout\n",
    "            popdym[:,i] = counter(system_state)\n",
    "            target += dtout\n",
    "            i += 1\n",
    "        end\n",
    "        \n",
    "        molecules_to_remove = Vector{Int}()\n",
    "        new_molecules = Vector{mtDNA}()\n",
    "        for mol_ind=1:length(system_state)\n",
    "            molecule = system_state[mol_ind]\n",
    "            roll = rand(Float64)\n",
    "            cdf = cumsum( rates(molecule) ) / sum( rates(molecule) )\n",
    "            if 0.0<roll && roll<cdf[1] # degredation\n",
    "                append!( molecules_to_remove, mol_ind )\n",
    "            elseif cdf[1]<roll && roll<cdf[2] # replication\n",
    "                append!(molecules_to_remove, mol_ind)\n",
    "                for j=1:2\n",
    "                    current_id += 1\n",
    "                    daughter = mtDNA([3.06e-8,3.06e-8,0], current_id, unique_id(molecule), status(molecule) )\n",
    "                    push!(new_molecules, daughter)\n",
    "                end\n",
    "            elseif cdf[2]<roll && roll<=cdf[3] # mutation\n",
    "            # mutation last as has smallest probability\n",
    "               append!(molecules_to_remove, mol_ind)\n",
    "                for j=1:2\n",
    "                    current_id += 1\n",
    "                    daughter = mtDNA([3.06e-8,3.06e-8,0], current_id, unique_id(molecule), [\"wild\",\"mutant\"][j])\n",
    "                    push!(new_molecules, daughter)\n",
    "                end\n",
    "            end\n",
    "        end\n",
    "        system_state = [mol for (i,mol) in enumerate(system_state) if !(i in molecules_to_remove) ]\n",
    "        append!(system_state, new_molecules)\n",
    "        tt += dt\n",
    "        if length(system_state) == 0\n",
    "            popdym[:,i:Nout] = zeros(2, Nout-i+1)\n",
    "            return transform_summ(popdym')\n",
    "        end\n",
    "    end\n",
    "    return transform_summ(popdym')\n",
    "end"
   ]
  },
  {
   "cell_type": "code",
   "execution_count": 9,
   "id": "9788638f",
   "metadata": {},
   "outputs": [],
   "source": [
    "C0 = 200\n",
    "h = 0.5\n",
    "W0 = round.( C0.*(1 .-h), digits=0)\n",
    "M0 = round.( C0.*h, digits=0)\n",
    "inits = [mtDNA([3.06e-8, 3.06e-8, 0], x,-1,\"wild\") for x=1:W0 ]# initial state of system\n",
    "append!(inits, [mtDNA([3.06e-8, 3.06e-8, 0], x,-1,\"mutant\") for x=W0+1:W0+M0] ) ;"
   ]
  },
  {
   "cell_type": "code",
   "execution_count": 10,
   "id": "b4e2f209",
   "metadata": {},
   "outputs": [
    {
     "data": {
      "text/plain": [
       "\"500 simple simulations: 950 seconds \\n\""
      ]
     },
     "execution_count": 10,
     "metadata": {},
     "output_type": "execute_result"
    }
   ],
   "source": [
    "# @time map(agented, Nlist, Tmaxs, Δts, Δtouts) \n",
    "\"\"\"\n",
    "500 simple simulations: 950 seconds \n",
    "\"\"\""
   ]
  },
  {
   "cell_type": "code",
   "execution_count": 11,
   "id": "a915cfc5",
   "metadata": {},
   "outputs": [
    {
     "data": {
      "text/plain": [
       "par_map (generic function with 1 method)"
      ]
     },
     "execution_count": 11,
     "metadata": {},
     "output_type": "execute_result"
    }
   ],
   "source": [
    "function par_map(Nsim, f, init, Tmax, dt, dtout)\n",
    "    np = nworkers()  # determine the number of processes available\n",
    "    results = Vector{Array{Union{Float64, Missing}}}(undef, Nsim)\n",
    "    i = 1\n",
    "    # function to produce the next work item from the queue.\n",
    "    # in this case it's just an index.\n",
    "    nextidx() = (idx=i; i+=1; idx)\n",
    "    @sync begin\n",
    "        for p=1:np\n",
    "            if p != myid() || np == 1\n",
    "                @async begin\n",
    "                    while true\n",
    "                        idx = nextidx()\n",
    "                        if idx > Nsim\n",
    "                            break\n",
    "                        end\n",
    "                        results[idx] = remotecall_fetch(f, p, inits, Tmax, dt, dtout)\n",
    "                    end\n",
    "                end\n",
    "            end\n",
    "        end\n",
    "    end\n",
    "    results\n",
    "end"
   ]
  },
  {
   "cell_type": "code",
   "execution_count": 12,
   "id": "9e4f7776",
   "metadata": {},
   "outputs": [
    {
     "name": "stdout",
     "output_type": "stream",
     "text": [
      "105.574511 seconds (4.73 M allocations: 375.945 MiB, 0.08% gc time, 0.31% compilation time)\n"
     ]
    }
   ],
   "source": [
    "# @time simulations = par_map(Nsim, agented, inits, Tmax, step, step_out) ; "
   ]
  },
  {
   "cell_type": "code",
   "execution_count": 13,
   "id": "6314a8cd",
   "metadata": {},
   "outputs": [
    {
     "data": {
      "text/plain": [
       "\"time step: 50 days\\ntime taken: 106 seconds\\n4 workers, 1000 simulations\\n\""
      ]
     },
     "execution_count": 13,
     "metadata": {},
     "output_type": "execute_result"
    }
   ],
   "source": [
    "\"\"\"\n",
    "time step: 50 days\n",
    "time taken: 106 seconds\n",
    "4 workers, 1000 simulations\n",
    "\"\"\""
   ]
  },
  {
   "cell_type": "code",
   "execution_count": 14,
   "id": "717c2b99",
   "metadata": {},
   "outputs": [
    {
     "data": {
      "text/plain": [
       "quantiles (generic function with 1 method)"
      ]
     },
     "execution_count": 14,
     "metadata": {},
     "output_type": "execute_result"
    }
   ],
   "source": [
    "function quantiles(sims, p)\n",
    "    \"\"\"\n",
    "    returns quantile summaries from simulations\n",
    "    \"\"\"\n",
    "    Nsim = length(sims) # Nsim: number of simulations\n",
    "    n = size(sims[1])[1] # length of one simulation\n",
    "    out = Array{Float64}(undef, n,length(p),2)\n",
    "    for t=1:n\n",
    "        out[t,:,1] = quantile([sims[i][t,1] for i=1:Nsim if !isnan(sims[i][t,1])], p)\n",
    "        out[t,:,2] = quantile([sims[i][t,2] for i=1:Nsim if !isnan(sims[i][t,2])], p)\n",
    "    end\n",
    "    out\n",
    "end"
   ]
  },
  {
   "cell_type": "code",
   "execution_count": 16,
   "id": "508db38c",
   "metadata": {},
   "outputs": [],
   "source": [
    "@everywhere function par_times(Nsim, f, inits, Tmax, step, step_out)\n",
    "    np = nworkers()            # Number of processes available.\n",
    "    Nout = trunc(Int, Tmax/step_out) + 1 # dimension for output\n",
    "    output = Vector{Vector{Union{Float64, Array{Float64,2}}}}(undef, Nsim) # Where we will write the results. As we do not know\n",
    "                             # the type (Integer, Tuple...) we write \"Any\"\n",
    "    i = 1\n",
    "    nextidx() = (idx = i; i += 1; idx) # Function to know which is the next work item.\n",
    "                                       # In this case it is just an index.\n",
    "    @sync begin #@sync: must complete all jobs in block\n",
    "        for p = 1:np # loops through all processes (workers)\n",
    "            if p != myid() || np == 1 # first worker used only if all others are busy \n",
    "                @async begin # launch several tasks simultaneaously\n",
    "                    while true\n",
    "                        idx = nextidx()\n",
    "                        if idx > Nsim\n",
    "                            break\n",
    "                        end\n",
    "                        output[idx] = Vector{Union{Float64, Array{Float64,2}}}(undef, 2)\n",
    "                        output[idx][2] = @elapsed sim = remotecall_fetch(f, p, inits, Tmax, step, step_out)\n",
    "                        output[idx][1] = sim\n",
    "                    end\n",
    "                end\n",
    "            end\n",
    "        end\n",
    "    end\n",
    "    output\n",
    "end"
   ]
  },
  {
   "cell_type": "code",
   "execution_count": 24,
   "id": "f371cc65",
   "metadata": {},
   "outputs": [],
   "source": [
    "step_days = [1,2,5,10,15,25,50]\n",
    "times = zeros(length(step_days))\n",
    "\n",
    "myBlack = colorant\"rgb(0,0,0,0.1)\"\n",
    "ts = [0:step_out:Tmax;]./year;\n",
    "\n",
    "for  i=1:length(step_days)\n",
    "    step_str = string(step_days[i])\n",
    "    step = step_days[i]*day\n",
    "    \n",
    "    simulations_times = par_times(Nsim, agented, inits, Tmax, step, step_out)\n",
    "\n",
    "    simulations = Vector{Array{Float64,2}}(undef, Nsim)\n",
    "    sim_times = Vector{Float64}(undef, Nsim)\n",
    "    for i=1:Nsim\n",
    "        simulations[i] = simulations_times[i][1]\n",
    "        sim_times[i] = simulations_times[i][2]\n",
    "    end\n",
    "\n",
    "\n",
    "    sims_qntl = quantiles(simulations, [0.025,0.25,0.5,0.75,0.975])\n",
    "    \n",
    "    mkpath(\"Simulations\")\n",
    "    writedlm(string(\"Simulations/CN_qnt_abm_\",step_str,\"d.txt\"), sims_qntl[:,:,1])\n",
    "    writedlm(string(\"Simulations/ML_qnt_abm_\",step_str,\"d.txt\"), sims_qntl[:,:,2])\n",
    "    writedlm(string(\"Simulations/abm_\",step_str,\"d_times.txt\"), sim_times)\n",
    "\n",
    "end"
   ]
  },
  {
   "cell_type": "code",
   "execution_count": null,
   "id": "90bed05f",
   "metadata": {},
   "outputs": [],
   "source": []
  },
  {
   "cell_type": "code",
   "execution_count": null,
   "id": "71f165e0",
   "metadata": {},
   "outputs": [],
   "source": []
  }
 ],
 "metadata": {
  "kernelspec": {
   "display_name": "Julia 1.6.2",
   "language": "julia",
   "name": "julia-1.6"
  },
  "language_info": {
   "file_extension": ".jl",
   "mimetype": "application/julia",
   "name": "julia",
   "version": "1.6.2"
  }
 },
 "nbformat": 4,
 "nbformat_minor": 5
}
