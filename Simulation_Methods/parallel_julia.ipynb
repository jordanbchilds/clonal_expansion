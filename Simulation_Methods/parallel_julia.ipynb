{
 "cells": [
  {
   "cell_type": "code",
   "execution_count": 1,
   "id": "a47ed714",
   "metadata": {},
   "outputs": [
    {
     "name": "stderr",
     "output_type": "stream",
     "text": [
      "\u001b[32m\u001b[1m    Updating\u001b[22m\u001b[39m registry at `~/.julia/registries/General`\n",
      "\u001b[32m\u001b[1m   Resolving\u001b[22m\u001b[39m package versions...\n",
      "\u001b[32m\u001b[1m  No Changes\u001b[22m\u001b[39m to `~/.julia/environments/v1.6/Project.toml`\n",
      "\u001b[32m\u001b[1m  No Changes\u001b[22m\u001b[39m to `~/.julia/environments/v1.6/Manifest.toml`\n",
      "\u001b[32m\u001b[1m   Resolving\u001b[22m\u001b[39m package versions...\n",
      "\u001b[32m\u001b[1m  No Changes\u001b[22m\u001b[39m to `~/.julia/environments/v1.6/Project.toml`\n",
      "\u001b[32m\u001b[1m  No Changes\u001b[22m\u001b[39m to `~/.julia/environments/v1.6/Manifest.toml`\n",
      "\u001b[32m\u001b[1m   Resolving\u001b[22m\u001b[39m package versions...\n",
      "\u001b[32m\u001b[1m  No Changes\u001b[22m\u001b[39m to `~/.julia/environments/v1.6/Project.toml`\n",
      "\u001b[32m\u001b[1m  No Changes\u001b[22m\u001b[39m to `~/.julia/environments/v1.6/Manifest.toml`\n"
     ]
    }
   ],
   "source": [
    "using Pkg\n",
    "Pkg.add(\"Distributed\") ;\n",
    "Pkg.add(\"LinearAlgebra\") ;\n",
    "Pkg.add(\"Random\") ;\n",
    "using Distributed, Random, LinearAlgebra ;"
   ]
  },
  {
   "cell_type": "code",
   "execution_count": 2,
   "id": "3bec4be9",
   "metadata": {},
   "outputs": [
    {
     "data": {
      "text/plain": [
       "3-element Vector{Int64}:\n",
       " 2\n",
       " 3\n",
       " 4"
      ]
     },
     "execution_count": 2,
     "metadata": {},
     "output_type": "execute_result"
    }
   ],
   "source": [
    "length(Sys.cpu_info())\n",
    "addprocs(3)"
   ]
  },
  {
   "cell_type": "code",
   "execution_count": 3,
   "id": "f22fc44a",
   "metadata": {},
   "outputs": [
    {
     "data": {
      "text/plain": [
       "3"
      ]
     },
     "execution_count": 3,
     "metadata": {},
     "output_type": "execute_result"
    }
   ],
   "source": [
    "nworkers()"
   ]
  },
  {
   "cell_type": "code",
   "execution_count": 17,
   "id": "f54d4e8e",
   "metadata": {},
   "outputs": [],
   "source": [
    "@everywhere using  Random, LinearAlgebra, Distributed"
   ]
  },
  {
   "cell_type": "code",
   "execution_count": 5,
   "id": "736cadb5",
   "metadata": {},
   "outputs": [
    {
     "data": {
      "text/plain": [
       "Future(2, 1, 12, nothing)"
      ]
     },
     "execution_count": 5,
     "metadata": {},
     "output_type": "execute_result"
    }
   ],
   "source": [
    "# run rand(2,2) and rand(1:8, 3,4) on worker 2\n",
    "r1 = remotecall(rand, 2, 2,2)\n",
    "r2 = remotecall(rand, 2, 1:8,3,4)"
   ]
  },
  {
   "cell_type": "code",
   "execution_count": 6,
   "id": "dc08cf69",
   "metadata": {},
   "outputs": [
    {
     "data": {
      "text/plain": [
       "3×4 Matrix{Int64}:\n",
       " 1  7  6  7\n",
       " 1  6  2  7\n",
       " 7  3  8  5"
      ]
     },
     "execution_count": 6,
     "metadata": {},
     "output_type": "execute_result"
    }
   ],
   "source": [
    "# retrieve the results\n",
    "\"\"\"\n",
    "To treat the output as normal output we must save it as another variable first, \n",
    "r1 & r2 are still type: Future so cannot do matrix things or whatever on them \n",
    "\"\"\"\n",
    "r11 = fetch(r1)\n",
    "r22 = fetch(r2)"
   ]
  },
  {
   "cell_type": "code",
   "execution_count": 7,
   "id": "323ae40e",
   "metadata": {},
   "outputs": [
    {
     "data": {
      "text/plain": [
       "2×2 Matrix{Float64}:\n",
       " 0.559097  0.179241\n",
       " 0.10152   0.982152"
      ]
     },
     "execution_count": 7,
     "metadata": {},
     "output_type": "execute_result"
    }
   ],
   "source": [
    "\"\"\"\n",
    "Can send task to a worked without specifying the worker\n",
    "\"\"\"\n",
    "s1 = @spawn rand(2,2) # s1 is still a Future type\n",
    "s2 = fetch(s1) # s2 is an Array"
   ]
  },
  {
   "cell_type": "code",
   "execution_count": 8,
   "id": "9270ae9f",
   "metadata": {},
   "outputs": [
    {
     "data": {
      "text/plain": [
       "Future(2, 1, 18, nothing)"
      ]
     },
     "execution_count": 8,
     "metadata": {},
     "output_type": "execute_result"
    }
   ],
   "source": [
    "\"\"\"\n",
    "Can do send tasks for worker to do on the things\n",
    "\"\"\"\n",
    "s3 = @spawn 1 .+ fetch(s1) # no need to specify worker (Julia selects it)\n",
    "r3 = @spawnat 2 1 .+ fetch(r1) # worker specified as first element\n"
   ]
  },
  {
   "cell_type": "code",
   "execution_count": 19,
   "id": "45e7c4f2",
   "metadata": {},
   "outputs": [
    {
     "data": {
      "text/plain": [
       "2×2 Matrix{Float64}:\n",
       " 0.0281693  0.632558\n",
       " 0.540143   0.211267"
      ]
     },
     "execution_count": 19,
     "metadata": {},
     "output_type": "execute_result"
    }
   ],
   "source": [
    "\"\"\"\n",
    "for efficiency, remotecall_fetch is quicker than fetch(remotecall())\n",
    "IS NOT WORKING \n",
    "GO F*** YOURSELF, remotecall_fetch. I HATE YOU!!!!!!\n",
    "\"\"\"\n",
    "# remotecall_fetch(rand, 2, 2,2)\n",
    "fetch(remotecall(rand, 2, 2,2))"
   ]
  },
  {
   "cell_type": "code",
   "execution_count": 10,
   "id": "3c491aa1",
   "metadata": {},
   "outputs": [
    {
     "data": {
      "text/plain": [
       "1.11180940918371"
      ]
     },
     "execution_count": 10,
     "metadata": {},
     "output_type": "execute_result"
    }
   ],
   "source": [
    "function eig_sum(A) # computes the sum of the eigenvalues\n",
    "    autoVal = eigvals(A)\n",
    "    return sum(autoVal)\n",
    "end\n",
    "\n",
    "s1 = @spawnat 1 eig_sum(rand(2,2))\n",
    "fetch(s1)\n",
    "\"\"\"\n",
    "the function is definied on worked 1 (the parent/master node) but not any of the workers\n",
    "\n",
    "\n",
    "s2 = @spawnat 2 eig_sum(rand(2,2)) \n",
    "fetch(s2) # returns an error\n",
    "\n",
    "to define something on all workers we can use @everywhere\n",
    "\"\"\"\n",
    "\n",
    "@everywhere function eig_sum(A)\n",
    "    sum(eigvals(A))\n",
    "end\n",
    "\n",
    "s2 = @spawnat 2 eig_sum(rand(2,2))\n",
    "fetch(s2)"
   ]
  },
  {
   "cell_type": "code",
   "execution_count": 11,
   "id": "ac3d8b7d",
   "metadata": {},
   "outputs": [
    {
     "data": {
      "text/plain": [
       "\"DATA MOVEMENT                DATA MOVEMENT                  DATA MOVEMENT\\nDATA MOVEMENT                DATA MOVEMNET                  DATA MOVEMENT\\n\""
      ]
     },
     "execution_count": 11,
     "metadata": {},
     "output_type": "execute_result"
    }
   ],
   "source": [
    "\"\"\"\n",
    "DATA MOVEMENT                DATA MOVEMENT                  DATA MOVEMENT\n",
    "DATA MOVEMENT                DATA MOVEMNET                  DATA MOVEMENT\n",
    "\"\"\""
   ]
  },
  {
   "cell_type": "code",
   "execution_count": 12,
   "id": "7988e872",
   "metadata": {},
   "outputs": [
    {
     "data": {
      "text/plain": [
       "Future(2, 1, 29, nothing)"
      ]
     },
     "execution_count": 12,
     "metadata": {},
     "output_type": "execute_result"
    }
   ],
   "source": [
    "\"\"\"\n",
    "data movemnet idea\n",
    "\"\"\"\n",
    "A = rand(10,10)\n",
    "A2 = @spawn A^2 # data is moved, locally -> [some] worker\n",
    "A22 = @spawn rand(10,10)^2 # less data movement, as matrix created by worker"
   ]
  },
  {
   "cell_type": "code",
   "execution_count": 13,
   "id": "b2e2a987",
   "metadata": {},
   "outputs": [
    {
     "data": {
      "text/plain": [
       "Task (runnable) @0x000000011d6b3420"
      ]
     },
     "execution_count": 13,
     "metadata": {},
     "output_type": "execute_result"
    }
   ],
   "source": [
    "\"\"\"\n",
    "parallel For loop, counting the number of 1's from a Bernoulli random variable\n",
    "\"\"\"\n",
    "n = 200000000\n",
    "nhead = @distributed for i=1:n\n",
    "                Int(rand(Bool)) \n",
    "end"
   ]
  },
  {
   "cell_type": "code",
   "execution_count": 14,
   "id": "adba474e",
   "metadata": {},
   "outputs": [
    {
     "data": {
      "text/plain": [
       "200000000"
      ]
     },
     "execution_count": 14,
     "metadata": {},
     "output_type": "execute_result"
    }
   ],
   "source": [
    "n"
   ]
  },
  {
   "cell_type": "code",
   "execution_count": 15,
   "id": "9ae716dd",
   "metadata": {},
   "outputs": [
    {
     "data": {
      "text/plain": [
       "3.14165024"
      ]
     },
     "execution_count": 15,
     "metadata": {},
     "output_type": "execute_result"
    }
   ],
   "source": [
    "\"\"\"\n",
    "estimating pi via monte carlo methods\n",
    "\"\"\"\n",
    "pi = 0.0\n",
    "pi = @distributed (+) for i=1:n\n",
    "    Int(rand()^2 + rand()^2 <= 1);\n",
    "end\n",
    "pi /= n/4"
   ]
  },
  {
   "cell_type": "code",
   "execution_count": 16,
   "id": "0e23e1af",
   "metadata": {},
   "outputs": [
    {
     "name": "stdout",
     "output_type": "stream",
     "text": [
      "  0.000519 seconds (18.95 k allocations: 296.141 KiB)\n",
      "  0.022213 seconds (48.15 k allocations: 2.725 MiB, 39.12% compilation time)\n",
      "  0.000213 seconds (2 allocations: 156.328 KiB)\n",
      "  0.427328 seconds (48.24 k allocations: 2.733 MiB, 1.89% compilation time)\n"
     ]
    },
    {
     "data": {
      "text/plain": [
       "100001086"
      ]
     },
     "execution_count": 16,
     "metadata": {},
     "output_type": "execute_result"
    }
   ],
   "source": [
    "a = 0;\n",
    "@time for i=1:20000\n",
    "    a += Int(rand(Bool));\n",
    "end\n",
    "\n",
    "@time @distributed (+) for i=1:20000\n",
    "    Int(rand(Bool));\n",
    "end\n",
    "\n",
    "@time sum(rand(0:1, 20000));\n",
    "\n",
    "n = 200000000;\n",
    "@time @distributed (+) for i=1:n\n",
    "    Int(rand(Bool));\n",
    "end\n"
   ]
  },
  {
   "cell_type": "code",
   "execution_count": null,
   "id": "7003bb6d",
   "metadata": {},
   "outputs": [],
   "source": [
    "\"\"\"\n",
    "DYNAMIC SCHEDULING                       DYNAMIC SCHEDULING\n",
    "DYNAMIC SCHEDULING                       DYNAMIC SCHEDULING \n",
    "Often and for my stochastic simulations tasks will take varying amounts of time to complete\n",
    "dynamic scheduling allows new tasks to be started as soon as the previous has been\n",
    "completed, rather than waiting, idle, useless and impedent for other tasks to be finished.\n",
    "\"\"\""
   ]
  },
  {
   "cell_type": "code",
   "execution_count": null,
   "id": "0d8ef0c7",
   "metadata": {},
   "outputs": [],
   "source": [
    "# The arguments are: 1) a function 'f' and 2) a list with the input.\n",
    "function f_pmap(f, lst)\n",
    "    np = nprocs()            # Number of processes available.\n",
    "    n  = length(lst)         # Number of elements to apply the function.\n",
    "    results = Vector{Any}(n) # Where we will write the results. As we do not know\n",
    "                             # the type (Integer, Tuple...) we write \"Any\"\n",
    "    i = 1\n",
    "    nextidx() = (idx = i; i += 1; idx) # Function to know which is the next work item.\n",
    "                                       # In this case it is just an index.\n",
    "    @sync begin #@sync: must complete all jobs in block\n",
    "        for p = 1:np # loops through all processes (workers)\n",
    "            if p != myid() || np == 1 # first worker used only if all others are busy \n",
    "                @async begin # launch several tasks simultaneaously\n",
    "                    while true\n",
    "                        idx = nextidx()\n",
    "                        if idx > n\n",
    "                            break\n",
    "                        end\n",
    "                        results[idx] = fetch(remotecall(f, p, lst[idx]))\n",
    "                    end\n",
    "                end\n",
    "            end\n",
    "        end\n",
    "    end\n",
    "    results\n",
    "end"
   ]
  },
  {
   "cell_type": "code",
   "execution_count": null,
   "id": "1958cac5",
   "metadata": {},
   "outputs": [],
   "source": []
  },
  {
   "cell_type": "code",
   "execution_count": null,
   "id": "18005c9f",
   "metadata": {},
   "outputs": [],
   "source": []
  },
  {
   "cell_type": "code",
   "execution_count": null,
   "id": "e8eb8474",
   "metadata": {},
   "outputs": [],
   "source": []
  },
  {
   "cell_type": "code",
   "execution_count": null,
   "id": "a6e9f686",
   "metadata": {},
   "outputs": [],
   "source": []
  },
  {
   "cell_type": "code",
   "execution_count": null,
   "id": "b04539c1",
   "metadata": {},
   "outputs": [],
   "source": []
  },
  {
   "cell_type": "code",
   "execution_count": null,
   "id": "28a6677e",
   "metadata": {},
   "outputs": [],
   "source": []
  },
  {
   "cell_type": "code",
   "execution_count": null,
   "id": "aaf179d7",
   "metadata": {},
   "outputs": [],
   "source": []
  },
  {
   "cell_type": "code",
   "execution_count": null,
   "id": "a2e26db5",
   "metadata": {},
   "outputs": [],
   "source": []
  },
  {
   "cell_type": "code",
   "execution_count": null,
   "id": "cbf9151e",
   "metadata": {},
   "outputs": [],
   "source": []
  },
  {
   "cell_type": "code",
   "execution_count": null,
   "id": "71cdb0f8",
   "metadata": {},
   "outputs": [],
   "source": []
  },
  {
   "cell_type": "code",
   "execution_count": null,
   "id": "e2f91c4f",
   "metadata": {},
   "outputs": [],
   "source": []
  }
 ],
 "metadata": {
  "kernelspec": {
   "display_name": "Julia 1.6.2",
   "language": "julia",
   "name": "julia-1.6"
  },
  "language_info": {
   "file_extension": ".jl",
   "mimetype": "application/julia",
   "name": "julia",
   "version": "1.6.2"
  }
 },
 "nbformat": 4,
 "nbformat_minor": 5
}
