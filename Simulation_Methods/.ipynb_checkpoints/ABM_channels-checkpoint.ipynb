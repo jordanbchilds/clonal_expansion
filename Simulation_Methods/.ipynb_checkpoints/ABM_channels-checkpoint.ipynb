{
 "cells": [
  {
   "cell_type": "code",
   "execution_count": 2,
   "id": "cfed173c",
   "metadata": {},
   "outputs": [],
   "source": [
    "import Pkg\n",
    "using Distributed, Plots, DelimitedFiles, Colors\n",
    "length(Sys.cpu_info())\n",
    "addprocs(4) ;"
   ]
  },
  {
   "cell_type": "code",
   "execution_count": null,
   "id": "435b8360",
   "metadata": {},
   "outputs": [],
   "source": [
    "@everywhere using StatsKit, Random, DelimitedFiles, Distributed"
   ]
  },
  {
   "cell_type": "code",
   "execution_count": null,
   "id": "ef24d767",
   "metadata": {},
   "outputs": [],
   "source": [
    " Tmax = 80*365\n",
    "Δtout = 7 # time step to save output\n",
    "Δt = 1 # time step for the simulation\n",
    "Nsim = 500 ; # number of simulations"
   ]
  },
  {
   "cell_type": "code",
   "execution_count": null,
   "id": "1cd68c4d",
   "metadata": {},
   "outputs": [],
   "source": [
    "@everywhere struct mtDNA \n",
    "    rates::Vector{Real}\n",
    "    unique_id::Int\n",
    "    parent_id::Int\n",
    "    status::String\n",
    "    \n",
    "    function mtDNA(rates, unique_id, parent_id, status)\n",
    "        if status ∉ [\"wild\", \"mutant\"]\n",
    "            error(\"Molecules must be of type 'wild' or 'mutant' \")\n",
    "        end\n",
    "        if status==\"wild\"\n",
    "            new(rates, unique_id, parent_id, status)\n",
    "        elseif status==\"mutant\"\n",
    "            new(rates, unique_id, parent_id, status)\n",
    "        end\n",
    "    end\n",
    "end "
   ]
  },
  {
   "cell_type": "code",
   "execution_count": null,
   "id": "f8285dfe",
   "metadata": {},
   "outputs": [],
   "source": [
    "@everywhere rates(mol::mtDNA) = mol.rates\n",
    "@everywhere unique_id(mol::mtDNA) = mol.unique_id\n",
    "@everywhere parent_id(mol::mtDNA) = mol.parent_id\n",
    "@everywhere status(mol::mtDNA) = mol.status "
   ]
  },
  {
   "cell_type": "code",
   "execution_count": null,
   "id": "3935b19f",
   "metadata": {},
   "outputs": [],
   "source": [
    "@everywhere function counter(system_state)::Vector{Int64}\n",
    "    \"\"\"\n",
    "    Calculates the population size for wild and mutant type\n",
    "    \"\"\"\n",
    "    copy_num = length(system_state)\n",
    "    W = sum([1 for x in system_state if status(x)==\"wild\"])\n",
    "    return [W, copy_num-W]\n",
    "end"
   ]
  },
  {
   "cell_type": "code",
   "execution_count": null,
   "id": "641917f7",
   "metadata": {},
   "outputs": [],
   "source": [
    "@everywhere function agented(init, Tmax::Real, dt::Real, out_dt::Real)\n",
    "    N = trunc(Int, Tmax/dt)\n",
    "    Nout = trunc(Int, Tmax/out_dt)\n",
    "    system_state = init\n",
    "    current_id = length(init) + 1.0\n",
    "    output = Array{Any}(undef, (2,Nout+1))\n",
    "    C0 = length(init)\n",
    "    target = 0.0\n",
    "    tt = 0.0\n",
    "    i = 1\n",
    "    for k=1:N\n",
    "        if tt>=target\n",
    "            output[:,i] = counter(system_state)\n",
    "            target += out_dt\n",
    "            i += 1\n",
    "        end\n",
    "        molecules_to_remove = Vector{Int}()\n",
    "        new_molecules = Vector{mtDNA}()\n",
    "        for mol_ind=1:length(system_state)\n",
    "            molecule = system_state[mol_ind]\n",
    "            roll = rand(Float64)\n",
    "            cdf = cumsum( rates(molecule) ) \n",
    "            if 0.0<roll && roll<cdf[1] # degredation\n",
    "                append!( molecules_to_remove, mol_ind)\n",
    "            elseif cdf[1]<roll && roll<cdf[2] # replication\n",
    "                append!(molecules_to_remove, mol_ind)\n",
    "                for j=1:2\n",
    "                    current_id += 1\n",
    "                    daughter = mtDNA([3.06e-8,3.06e-8,0]*24*2600, current_id, unique_id(molecule), status(molecule) )\n",
    "                    push!(new_molecules, daughter)\n",
    "                end\n",
    "            elseif cdf[2]<roll && roll<=cdf[3] # mutation\n",
    "            # mutation last as has smallest probability\n",
    "               append!(molecules_to_remove, mol_ind)\n",
    "                for j=1:2\n",
    "                    current_id += 1\n",
    "                    daughter = mtDNA([3.06e-8,3.06e-8,0]*24*3600, current_id, unique_id(molecule), [\"wild\",\"mutant\"][j])\n",
    "                    push!(new_molecules, daughter)\n",
    "                end\n",
    "            end\n",
    "        end\n",
    "        system_state = [mol for (i,mol) in enumerate(system_state) if !(i in molecules_to_remove) ]\n",
    "        append!(system_state, new_molecules)\n",
    "        tt += dt\n",
    "        if sum(counter(system_state)) == 0\n",
    "            output[:,i:Nout] = fill(0.0, (2,Nout-i+1))\n",
    "            return output'\n",
    "        end\n",
    "    end\n",
    "    return output'\n",
    "end"
   ]
  },
  {
   "cell_type": "code",
   "execution_count": null,
   "id": "9788638f",
   "metadata": {},
   "outputs": [],
   "source": [
    "C0 = 200\n",
    "h = 0.5\n",
    "W0 = round.( C0.*(1 .-h), digits=0)\n",
    "M0 = round.( C0.*h, digits=0)\n",
    "inits = [mtDNA([3.06e-8, 3.06e-8, 0]*24*3600, x,-1,\"wild\") for x=1:W0 ]# initial state of system\n",
    "append!(inits, [mtDNA([3.06e-8, 3.06e-8, 0]*24*3600, x,-1,\"mutant\") for x=W0+1:W0+M0] ) ;"
   ]
  },
  {
   "cell_type": "code",
   "execution_count": null,
   "id": "3b66e212",
   "metadata": {},
   "outputs": [],
   "source": [
    "@time abm_sim = agented(inits, Tmax, Δt, Δtout)\n",
    "\"\"\"\n",
    "one simple simulation takes 0 - 1.5 seconds\n",
    "\"\"\""
   ]
  },
  {
   "cell_type": "code",
   "execution_count": null,
   "id": "f067aa73",
   "metadata": {},
   "outputs": [],
   "source": []
  },
  {
   "cell_type": "code",
   "execution_count": null,
   "id": "12af7c16",
   "metadata": {},
   "outputs": [],
   "source": [
    "@everywhere function raw_to_summ(sims)::Array{Any}\n",
    "    \"\"\"\n",
    "    converts the species populations from the gillespie algorithm to \n",
    "    copy number and mutation load\n",
    "    \"\"\"\n",
    "    Nsim = size(sims)[3] # no. of simulations\n",
    "    n = size(sims)[1] # length of one simulation\n",
    "    out = Array{Any}(undef, n,2,Nsim)\n",
    "    for i=1:Nsim\n",
    "        copy_num = sum(sims[:,:,i], dims=2)\n",
    "        mut_load = sims[:,2,i]./copy_num\n",
    "        # replace_nan(copy_num)\n",
    "        # replace_nan(mut_load)\n",
    "        out[:,:,i] = hcat(copy_num, mut_load)\n",
    "    end\n",
    "    out\n",
    "end"
   ]
  },
  {
   "cell_type": "code",
   "execution_count": null,
   "id": "5e5ca7e6",
   "metadata": {},
   "outputs": [],
   "source": [
    "@everywhere function replace_nan(x)\n",
    "    \"\"\"\n",
    "    replaces NaN's caused by 0/0 in mutation load calculation with missing\n",
    "    \"\"\"\n",
    "    for i=eachindex(x)\n",
    "        x[i] = isnan(x[i]) ? missing : x[i]\n",
    "    end\n",
    "end"
   ]
  },
  {
   "cell_type": "code",
   "execution_count": null,
   "id": "717c2b99",
   "metadata": {},
   "outputs": [],
   "source": [
    "@everywhere function quantiles(sims, p)\n",
    "    \"\"\"\n",
    "    returns quantile summaries from simulations\n",
    "    \"\"\"\n",
    "    Nsim = size(sims)[3] # Nsim: number of simulations\n",
    "    n = size(sims)[1] # length of one simulation\n",
    "    out = Array{Float64}(undef, n,length(p),2)\n",
    "    for t=1:n\n",
    "        out[t,:,1] = quantile(skipmissing([sims[t,1,i] for i=1:Nsim]), p)\n",
    "        out[t,:,2] = quantile(skipmissing([sims[t,2,i] for i=1:Nsim]), p)\n",
    "    end\n",
    "    out\n",
    "end"
   ]
  },
  {
   "cell_type": "code",
   "execution_count": null,
   "id": "5f566d37",
   "metadata": {},
   "outputs": [],
   "source": [
    "N_list = [inits for i=1:Nsim] ;"
   ]
  },
  {
   "cell_type": "code",
   "execution_count": null,
   "id": "633ab4ef",
   "metadata": {},
   "outputs": [],
   "source": [
    "@time raw_simulations = simulation_map(agented, N_list, Tmax, Δt, Δtout) ;\n",
    "\"\"\"\n",
    "500 simple simulations, Δt = 1 day: ~400 seconds\n",
    "(simple: equal replication and degredation, no mutations and constant initial condiditions)\n",
    "C0 = 200 # initial copy number\n",
    "h0 = 0.5 # initial mutation load\n",
    "rep & deg rate: 3.06e-8*Δt (from JPMorgan)\n",
    "mut rate: 0.0\n",
    "\"\"\""
   ]
  },
  {
   "cell_type": "code",
   "execution_count": null,
   "id": "35acc4ee",
   "metadata": {},
   "outputs": [],
   "source": [
    "simulations = raw_to_summ(raw_simulations);\n",
    "sims_qntl = quantiles(simulations, [0.025,0.25,0.5,0.75,0.975]) ;"
   ]
  },
  {
   "cell_type": "code",
   "execution_count": null,
   "id": "b7d81489",
   "metadata": {
    "scrolled": true
   },
   "outputs": [],
   "source": [
    "myBlack = colorant\"rgb(0,0,0,0.1)\"\n",
    "ts = [0:Δtout:Tmax;]./(365*24*3600);"
   ]
  },
  {
   "cell_type": "code",
   "execution_count": null,
   "id": "dade8b16",
   "metadata": {},
   "outputs": [],
   "source": [
    "simulations"
   ]
  },
  {
   "cell_type": "code",
   "execution_count": null,
   "id": "77517a32",
   "metadata": {},
   "outputs": [],
   "source": [
    "p1 = plot(ts, simulations[:,1,:], color=myBlack, legend=false, title=\"Copy Number\")\n",
    "p2 = plot(ts, simulations[:,2,:], color=myBlack, legend=false, title=\"Mutation Load\")\n",
    "plot(p1, p2, layout=(1,2), legend=false)\n",
    "savefig(\"cheekypdf.pdf\")"
   ]
  },
  {
   "cell_type": "code",
   "execution_count": null,
   "id": "9825ff59",
   "metadata": {},
   "outputs": [],
   "source": [
    "p3 = plot(ts, sims_qntl[:,:,1], title=\"Copy Number Qunatiles\")\n",
    "p4 = plot(ts, sims_qntl[:,:,2], title=\"Mutation Load Quantiles\")\n",
    "plot(p3, p4, layout=(1,2), legend=false)"
   ]
  },
  {
   "cell_type": "code",
   "execution_count": null,
   "id": "568ca732",
   "metadata": {},
   "outputs": [],
   "source": [
    "writedlm(\"Simulations/CN_qnt_abm_jl.txt\", sims_qntl[:,:,1])\n",
    "writedlm(\"Simulations/ML_qnt_abm_jl.txt\", sims_qntl[:,:,2])"
   ]
  },
  {
   "cell_type": "code",
   "execution_count": null,
   "id": "ae86f62e",
   "metadata": {},
   "outputs": [],
   "source": []
  },
  {
   "cell_type": "code",
   "execution_count": 1,
   "id": "8c88fc76",
   "metadata": {},
   "outputs": [
    {
     "ename": "LoadError",
     "evalue": "syntax: expected assignment after \"const\"",
     "output_type": "error",
     "traceback": [
      "syntax: expected assignment after \"const\"",
      "",
      "Stacktrace:",
      " [1] top-level scope",
      "   @ In[1]:2",
      " [2] eval",
      "   @ ./boot.jl:360 [inlined]",
      " [3] include_string(mapexpr::typeof(REPL.softscope), mod::Module, code::String, filename::String)",
      "   @ Base ./loading.jl:1116"
     ]
    }
   ],
   "source": [
    "const jobs = Channel{Int}(32)\n",
    "const results - Channel{Tuple}(32);\n"
   ]
  },
  {
   "cell_type": "code",
   "execution_count": null,
   "id": "e63f1d78",
   "metadata": {},
   "outputs": [],
   "source": []
  },
  {
   "cell_type": "code",
   "execution_count": null,
   "id": "14d39c86",
   "metadata": {},
   "outputs": [],
   "source": []
  },
  {
   "cell_type": "code",
   "execution_count": null,
   "id": "876eff45",
   "metadata": {},
   "outputs": [],
   "source": []
  },
  {
   "cell_type": "code",
   "execution_count": null,
   "id": "511a36ec",
   "metadata": {},
   "outputs": [],
   "source": []
  },
  {
   "cell_type": "code",
   "execution_count": null,
   "id": "ece22ff1",
   "metadata": {},
   "outputs": [],
   "source": []
  },
  {
   "cell_type": "code",
   "execution_count": null,
   "id": "eca5642c",
   "metadata": {},
   "outputs": [],
   "source": []
  },
  {
   "cell_type": "code",
   "execution_count": null,
   "id": "54157978",
   "metadata": {},
   "outputs": [],
   "source": []
  },
  {
   "cell_type": "code",
   "execution_count": null,
   "id": "1958a0ee",
   "metadata": {},
   "outputs": [],
   "source": []
  },
  {
   "cell_type": "code",
   "execution_count": null,
   "id": "3b479cd3",
   "metadata": {},
   "outputs": [],
   "source": []
  }
 ],
 "metadata": {
  "kernelspec": {
   "display_name": "Julia 1.6.2",
   "language": "julia",
   "name": "julia-1.6"
  },
  "language_info": {
   "file_extension": ".jl",
   "mimetype": "application/julia",
   "name": "julia",
   "version": "1.6.2"
  }
 },
 "nbformat": 4,
 "nbformat_minor": 5
}
