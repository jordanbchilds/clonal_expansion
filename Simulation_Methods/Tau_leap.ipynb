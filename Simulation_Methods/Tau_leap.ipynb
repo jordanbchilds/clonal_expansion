{
 "cells": [
  {
   "cell_type": "code",
   "execution_count": 1,
   "id": "1dc6f8c3",
   "metadata": {},
   "outputs": [
    {
     "data": {
      "text/plain": [
       "\"Poisson leap process\\n\""
      ]
     },
     "execution_count": 1,
     "metadata": {},
     "output_type": "execute_result"
    }
   ],
   "source": [
    "\"\"\"\n",
    "Poisson leap process\n",
    "\"\"\""
   ]
  },
  {
   "cell_type": "code",
   "execution_count": 2,
   "id": "37b6b3aa",
   "metadata": {},
   "outputs": [],
   "source": [
    "using Distributed, Plots, DelimitedFiles, KernelDensity"
   ]
  },
  {
   "cell_type": "code",
   "execution_count": 3,
   "id": "8b7adffa",
   "metadata": {},
   "outputs": [],
   "source": [
    "length(Sys.cpu_info())\n",
    "addprocs(4) ;"
   ]
  },
  {
   "cell_type": "code",
   "execution_count": 4,
   "id": "5796b50e",
   "metadata": {},
   "outputs": [],
   "source": [
    "@everywhere using Random, Distributions"
   ]
  },
  {
   "cell_type": "code",
   "execution_count": 5,
   "id": "c57bbd14",
   "metadata": {},
   "outputs": [],
   "source": [
    "@everywhere struct SPN\n",
    "    init_pops::Vector{Real}\n",
    "    rate_vec::Vector{Real}\n",
    "    Stoichiometry_matrix::Array{Real, 2}\n",
    "    function SPN(init_pops, rate_vec, Stoichiometry_matrix)\n",
    "        new(init_pops, rate_vec, Stoichiometry_matrix)\n",
    "    end\n",
    "end"
   ]
  },
  {
   "cell_type": "code",
   "execution_count": 6,
   "id": "841efe70",
   "metadata": {},
   "outputs": [],
   "source": [
    "@everywhere init(N::SPN) = Float64.(N.init_pops)\n",
    "@everywhere rates(N::SPN) = Float64.(N.rate_vec)\n",
    "@everywhere StoiMat(N::SPN) = Float64.(N.Stoichiometry_matrix)"
   ]
  },
  {
   "cell_type": "code",
   "execution_count": 7,
   "id": "dea59d9b",
   "metadata": {},
   "outputs": [],
   "source": [
    "@everywhere const post = [[2,0,0,0,1] [0,2,0,0,1]]\n",
    "@everywhere const pre = [[1,0,1,0,1] [0,1,0,1,0]]\n",
    "@everywhere const S = post - pre\n",
    "@everywhere const k = [3.06e-8, 3.06e-8, 3.06e-8, 3.06e-8, 0.0, 8.99e-9, 2e-3];"
   ]
  },
  {
   "cell_type": "code",
   "execution_count": 35,
   "id": "d0b66015",
   "metadata": {},
   "outputs": [],
   "source": [
    "hour = 3600\n",
    "day = 24*hour\n",
    "year = 365*day\n",
    "\n",
    "step_str = \"200\"\n",
    "step = 200*day\n",
    "step_out = 200*day\n",
    "\n",
    "Tmax = 80*year \n",
    "Nsim = 10000 ; "
   ]
  },
  {
   "cell_type": "code",
   "execution_count": 9,
   "id": "ba667ef9",
   "metadata": {},
   "outputs": [],
   "source": [
    "@everywhere function gen_inits(μ::Real, σ::Real, α::Real, β::Real)::Vector{Float64}\n",
    "    CC = rand(Normal(μ, σ))\n",
    "    hh = rand(Beta(α, β))\n",
    "    return round.( [CC*(1-hh), CC*hh] )\n",
    "end"
   ]
  },
  {
   "cell_type": "code",
   "execution_count": 10,
   "id": "e4e4217e",
   "metadata": {},
   "outputs": [],
   "source": [
    "@everywhere function hazzy(x::Vector{Float64}, th::Vector{Float64})\n",
    "    return [x[1], x[2], x[1], x[2], x[1]].*th[1:5]\n",
    "end"
   ]
  },
  {
   "cell_type": "code",
   "execution_count": 11,
   "id": "2d24dd79",
   "metadata": {},
   "outputs": [],
   "source": [
    "@everywhere function randPois(λ::Vector{Float64})::Vector{Int64}\n",
    "    pos_rates = (λ.>0).*λ\n",
    "    [rand(Poisson(rate)) for rate in pos_rates]\n",
    "end"
   ]
  },
  {
   "cell_type": "code",
   "execution_count": 12,
   "id": "abcc5080",
   "metadata": {},
   "outputs": [],
   "source": [
    "@everywhere function transform_summ(popdym)::Array{Union{Float64, Missing}}\n",
    "    copy_num = popdym[:,1] .+ popdym[:,2]\n",
    "    \n",
    "    mut_load = Array{Union{Float64, Missing}}(undef, length(copy_num))\n",
    "    idx = copy_num .!= 0.0\n",
    "    mut_load[.!idx] .= missing\n",
    "    mut_load[idx] .=  popdym[idx,2] ./ copy_num[idx]\n",
    "    \n",
    "    return hcat(copy_num, mut_load)\n",
    "end"
   ]
  },
  {
   "cell_type": "code",
   "execution_count": 13,
   "id": "8e0e279a",
   "metadata": {},
   "outputs": [],
   "source": [
    "@everywhere function tauleap(spn::SPN, Tmax::Real, dt::Real, dtout::Real)::Array{Union{Float64, Missing}}\n",
    "    x = init(spn)\n",
    "    k = rates(spn)\n",
    "    S = StoiMat(spn)\n",
    "    N = trunc(Int, Tmax/dt) \n",
    "    Nout = trunc(Int, Tmax/dtout) + 1\n",
    "    popdym = Array{Float64}(undef, 2,Nout)\n",
    "    target = 0.0\n",
    "    tt = 0.0\n",
    "    \n",
    "    popdym[:,1] = x\n",
    "    i = 2\n",
    "    for _=1:N\n",
    "        h = hazzy(x, k)\n",
    "        if( sum(h) < 1e-10 )\n",
    "            popdym[:,(i:Nout)] = zeros(2, Nout-i+1)\n",
    "            return transform_summ(popdym')\n",
    "        end\n",
    "        R = randPois(h*dt)\n",
    "        x = x + (S'*R) \n",
    "        x[x.<0.0] .= 0.0 \n",
    "        tt += dt\n",
    "        \n",
    "        while tt>=target && i<=Nout\n",
    "            popdym[:,i] = x\n",
    "            target += dtout\n",
    "            i += 1\n",
    "        end\n",
    "    end\n",
    "    return transform_summ(popdym')\n",
    "end\n"
   ]
  },
  {
   "cell_type": "code",
   "execution_count": 14,
   "id": "4c56f284",
   "metadata": {},
   "outputs": [
    {
     "name": "stdout",
     "output_type": "stream",
     "text": [
      "  1.160423 seconds (4.89 M allocations: 279.505 MiB, 5.68% gc time)\n"
     ]
    }
   ],
   "source": [
    "Ntest = SPN([100,100], k, S)\n",
    "\n",
    "@time tt = tauleap(Ntest, T_max, step, step_out) ;"
   ]
  },
  {
   "cell_type": "code",
   "execution_count": 15,
   "id": "0bc91f67",
   "metadata": {},
   "outputs": [
    {
     "data": {
      "text/plain": [
       "\"sim_single = Array{Float64}(undef, n(Ntest), 2,Nsim)\\n@time for i=1:Nsim\\n    sim_single[:,:,i] = tauleap(Ntest)\\nend\\n1000 simulations takes ~21 seconds\\n\""
      ]
     },
     "execution_count": 15,
     "metadata": {},
     "output_type": "execute_result"
    }
   ],
   "source": [
    "\"\"\"\n",
    "sim_single = Array{Float64}(undef, n(Ntest), 2,Nsim)\n",
    "@time for i=1:Nsim\n",
    "    sim_single[:,:,i] = tauleap(Ntest)\n",
    "end\n",
    "1000 simulations takes ~21 seconds\n",
    "\"\"\""
   ]
  },
  {
   "cell_type": "code",
   "execution_count": 16,
   "id": "c12dca5b",
   "metadata": {},
   "outputs": [],
   "source": [
    "# The arguments are: 1) a function 'f' and 2) a list with the input.\n",
    "@everywhere function par_map(Nsim::Int64, f, spn::SPN, Tmax::Real, dt::Real, dtout::Real)\n",
    "    np = nworkers()            # Number of processes available.\n",
    "    output = Vector{Array{Union{Float64, Missing}, 2}}(undef, Nsim) \n",
    "    i = 1\n",
    "    nextidx() = (idx = i; i += 1; idx) # Function to know which is the next work item.\n",
    "    @sync begin #@sync: must complete all jobs in block\n",
    "        for p = 1:np # loops through all processes (workers)\n",
    "            if p != myid() || np == 1 # first worker used only if all others are busy \n",
    "                @async begin # launch several tasks simultaneaously\n",
    "                    while true\n",
    "                        idx = nextidx()\n",
    "                        if idx > Nsim\n",
    "                            break\n",
    "                        end\n",
    "                        output[idx] = remotecall_fetch(f, p, spn, Tmax, dt, dtout)\n",
    "                    end\n",
    "                end\n",
    "            end\n",
    "        end\n",
    "    end\n",
    "    output\n",
    "end"
   ]
  },
  {
   "cell_type": "code",
   "execution_count": 17,
   "id": "01549ff0",
   "metadata": {},
   "outputs": [
    {
     "name": "stdout",
     "output_type": "stream",
     "text": [
      "  2.465918 seconds (7.14 M allocations: 189.719 MiB, 1.23% gc time, 5.89% compilation time)\n"
     ]
    }
   ],
   "source": [
    "@time simulations = par_map(Nsim, tauleap, Ntest, T_max, step, step_out) ;\n",
    "\"\"\"\n",
    "time step = 200 days\n",
    "time taken: ~ 0.14 seconds\n",
    "4 workers, 1000 simulations\n",
    "\n",
    "time step = 150 days\n",
    "time taken: 0.15 seconds\n",
    "4 workers, 1000 simulations\n",
    "\n",
    "time step = 100 days\n",
    "simple simulation: ~ 0.18 seconds\n",
    "workers = 4\n",
    "\n",
    "time step = 50 days \n",
    "simple simulation: ~0.32 seconds\n",
    "workers = 4\n",
    "\n",
    "time step = 25 days\n",
    "simple sim: ~0.55 seconds\n",
    "workers = 4\n",
    "\n",
    "time step = 10 days\n",
    "simple sim = ~1.2 seconds\n",
    "\n",
    "time step = 7 days\n",
    "simple simulation: ~2.5 seconds\n",
    "workers = 4, 1000 simulations\n",
    "\n",
    "time steo = 5 days\n",
    "simple simulation: 2.7 seconds\n",
    "4 workers, 1000 simulations \n",
    "\n",
    "time step = 2 days\n",
    "simple simulations: ~ 6.5 seconds\n",
    "4 workers, 1000 simulations\n",
    "\n",
    "time step = 1 day\n",
    "simple simulation: 14 seconds\n",
    "workers = 4, 1000 simulations\n",
    "\n",
    "\"\"\";"
   ]
  },
  {
   "cell_type": "code",
   "execution_count": 18,
   "id": "070b4622",
   "metadata": {},
   "outputs": [],
   "source": [
    "sim_temp = par_map(Nsim, tauleap, Ntest, T_max, step, step_out) ; "
   ]
  },
  {
   "cell_type": "code",
   "execution_count": 19,
   "id": "c4d2209f",
   "metadata": {},
   "outputs": [
    {
     "data": {
      "text/plain": [
       "0.0"
      ]
     },
     "execution_count": 19,
     "metadata": {},
     "output_type": "execute_result"
    }
   ],
   "source": [
    "minimum( minimum.(skipmissing.(sim_temp)) )"
   ]
  },
  {
   "cell_type": "code",
   "execution_count": 20,
   "id": "c125976a",
   "metadata": {},
   "outputs": [],
   "source": [
    "@everywhere function quantiles(sims, p)::Array{Float64, 3}\n",
    "    \"\"\"\n",
    "    returns quantile summaries from simulations\n",
    "    \"\"\"\n",
    "    Nsim = length(sims) # Nsim: number of simulations\n",
    "    n = size(sims[1])[1] # length of one simulation\n",
    "    out = Array{Float64}(undef, n,length(p),2)\n",
    "    for t=1:n\n",
    "        out[t,:,1] = quantile(skipmissing([sims[i][t,1] for i=1:Nsim]), p)\n",
    "        out[t,:,2] = quantile(skipmissing([sims[i][t,2] for i=1:Nsim]), p)\n",
    "    end\n",
    "    out\n",
    "end"
   ]
  },
  {
   "cell_type": "code",
   "execution_count": 21,
   "id": "d13ffcac",
   "metadata": {},
   "outputs": [],
   "source": [
    "#writedlm(\"Simulations/CN_qnt_tau_jl.txt\", )"
   ]
  },
  {
   "cell_type": "code",
   "execution_count": 22,
   "id": "96fcf322",
   "metadata": {},
   "outputs": [],
   "source": [
    "sims_qntl = quantiles(simulations, [0.025,0.25,0.5,0.75,0.975]) ;"
   ]
  },
  {
   "cell_type": "code",
   "execution_count": 23,
   "id": "b4d3333a",
   "metadata": {},
   "outputs": [],
   "source": [
    "mkpath(\"Simulations\")\n",
    "writedlm(string(\"Simulations/CN_qnt_tau_\",step_str,\"d.txt\"), sims_qntl[:,:,1])\n",
    "writedlm(string(\"Simulations/ML_qnt_tau_\",step_str,\"d.txt\"), sims_qntl[:,:,2]) ;"
   ]
  },
  {
   "cell_type": "code",
   "execution_count": 24,
   "id": "159546b2",
   "metadata": {},
   "outputs": [],
   "source": [
    "mkpath(\"Simulations/PDF\")\n",
    "myBlack = colorant\"rgb(0,0,0,0.1)\"\n",
    "ts = [0:step_out:T_max;]./year ;"
   ]
  },
  {
   "cell_type": "code",
   "execution_count": 25,
   "id": "4f679728",
   "metadata": {},
   "outputs": [],
   "source": [
    "p3 = plot(ts, sims_qntl[:,:,1], title=\"Copy Number Quantiles\")\n",
    "p4 = plot(ts, sims_qntl[:,:,2], title=\"Mutation Load Quantiles\")\n",
    "plot(p3, p4, layout=(1,2), legend=false)\n",
    "savefig(string(\"Simulations/PDF/tau_qntls_\",step_str,\"d.pdf\"))"
   ]
  },
  {
   "cell_type": "code",
   "execution_count": 89,
   "id": "128d7063",
   "metadata": {},
   "outputs": [
    {
     "data": {
      "text/plain": [
       "time_slice (generic function with 1 method)"
      ]
     },
     "execution_count": 89,
     "metadata": {},
     "output_type": "execute_result"
    }
   ],
   "source": [
    "function time_slice(sims, t, Tmax, dtout)\n",
    "    t_low = [0:dtout:Tmax-dtout;]\n",
    "    t_up = [dtout:dtout:Tmax;]\n",
    "    Nsim = length(sims)\n",
    "    nt = length(t)\n",
    "    sim_slice = Array{Any, 3}(undef, Nsim,nt,2)\n",
    "    for i=1:Nsim\n",
    "        for j=1:nt\n",
    "            indx = t[j].>=t_low .& t[j].<t_up\n",
    "            sim_slice[i,j,1] = sims[i][vcat(indx, false),1]\n",
    "            sim_slice[i,j,2] = sims[i][vcat(indx, false),2]\n",
    "        end\n",
    "    end\n",
    "    return sim_slice\n",
    "end"
   ]
  },
  {
   "cell_type": "code",
   "execution_count": 92,
   "id": "ef1a94bc",
   "metadata": {},
   "outputs": [],
   "source": [
    "dist_sims = time_slice(simulations, [10:10:80;]*year, T_max, step_out) ; "
   ]
  },
  {
   "cell_type": "code",
   "execution_count": 28,
   "id": "3bf647f3",
   "metadata": {},
   "outputs": [],
   "source": [
    "\"\"\"\n",
    "Simulation times\n",
    "\"\"\" ;"
   ]
  },
  {
   "cell_type": "code",
   "execution_count": 29,
   "id": "6fa07970",
   "metadata": {},
   "outputs": [],
   "source": [
    "@everywhere function par_times(Nsim, f, spn::SPN, Tmax::Real, dt::Real, dtout::Real)\n",
    "    np = nworkers()            # Number of processes available.\n",
    "    Nout = trunc(Int, Tmax/dtout) + 1 # dimension for output\n",
    "    output = Array{Float64}(undef, Nsim) # Where we will write the results. As we do not know\n",
    "                             # the type (Integer, Tuple...) we write \"Any\"\n",
    "    i = 1\n",
    "    nextidx() = (idx = i; i += 1; idx) # Function to know which is the next work item.\n",
    "                                       # In this case it is just an index.\n",
    "    @sync begin #@sync: must complete all jobs in block\n",
    "        for p = 1:np # loops through all processes (workers)\n",
    "            if p != myid() || np == 1 # first worker used only if all others are busy \n",
    "                @async begin # launch several tasks simultaneaously\n",
    "                    while true\n",
    "                        idx = nextidx()\n",
    "                        if idx > Nsim\n",
    "                            break\n",
    "                        end\n",
    "                        output[idx] = @elapsed remotecall_fetch(f, p, spn, Tmax, dt, dtout)\n",
    "                    end\n",
    "                end\n",
    "            end\n",
    "        end\n",
    "    end\n",
    "    output\n",
    "end"
   ]
  },
  {
   "cell_type": "code",
   "execution_count": 30,
   "id": "d812615b",
   "metadata": {},
   "outputs": [],
   "source": [
    "sim_times = par_times(Nsim, tauleap, Ntest, T_max, step, step_out) \n",
    "\n",
    "mkpath(\"Simulations\")\n",
    "writedlm(string(\"Simulations/tau_\",step_str,\"d_times.txt\"), sim_times) ;"
   ]
  },
  {
   "cell_type": "code",
   "execution_count": 31,
   "id": "fda62b56",
   "metadata": {},
   "outputs": [],
   "source": [
    "dens = kde(sim_times)\n",
    "density_points = hcat(dens.x, dens.density) ;"
   ]
  },
  {
   "cell_type": "code",
   "execution_count": 32,
   "id": "35db66e1",
   "metadata": {},
   "outputs": [
    {
     "data": {
      "image/svg+xml": [
       "<?xml version=\"1.0\" encoding=\"utf-8\"?>\n",
       "<svg xmlns=\"http://www.w3.org/2000/svg\" xmlns:xlink=\"http://www.w3.org/1999/xlink\" width=\"600\" height=\"400\" viewBox=\"0 0 2400 1600\">\n",
       "<defs>\n",
       "  <clipPath id=\"clip280\">\n",
       "    <rect x=\"0\" y=\"0\" width=\"2400\" height=\"1600\"/>\n",
       "  </clipPath>\n",
       "</defs>\n",
       "<path clip-path=\"url(#clip280)\" d=\"\n",
       "M0 1600 L2400 1600 L2400 0 L0 0  Z\n",
       "  \" fill=\"#ffffff\" fill-rule=\"evenodd\" fill-opacity=\"1\"/>\n",
       "<defs>\n",
       "  <clipPath id=\"clip281\">\n",
       "    <rect x=\"480\" y=\"0\" width=\"1681\" height=\"1600\"/>\n",
       "  </clipPath>\n",
       "</defs>\n",
       "<path clip-path=\"url(#clip280)\" d=\"\n",
       "M304.699 1486.45 L2352.76 1486.45 L2352.76 123.472 L304.699 123.472  Z\n",
       "  \" fill=\"#ffffff\" fill-rule=\"evenodd\" fill-opacity=\"1\"/>\n",
       "<defs>\n",
       "  <clipPath id=\"clip282\">\n",
       "    <rect x=\"304\" y=\"123\" width=\"2049\" height=\"1364\"/>\n",
       "  </clipPath>\n",
       "</defs>\n",
       "<polyline clip-path=\"url(#clip282)\" style=\"stroke:#000000; stroke-linecap:butt; stroke-linejoin:round; stroke-width:2; stroke-opacity:0.1; fill:none\" points=\"\n",
       "  344.731,1486.45 344.731,123.472 \n",
       "  \"/>\n",
       "<polyline clip-path=\"url(#clip282)\" style=\"stroke:#000000; stroke-linecap:butt; stroke-linejoin:round; stroke-width:2; stroke-opacity:0.1; fill:none\" points=\"\n",
       "  735.077,1486.45 735.077,123.472 \n",
       "  \"/>\n",
       "<polyline clip-path=\"url(#clip282)\" style=\"stroke:#000000; stroke-linecap:butt; stroke-linejoin:round; stroke-width:2; stroke-opacity:0.1; fill:none\" points=\"\n",
       "  1125.42,1486.45 1125.42,123.472 \n",
       "  \"/>\n",
       "<polyline clip-path=\"url(#clip282)\" style=\"stroke:#000000; stroke-linecap:butt; stroke-linejoin:round; stroke-width:2; stroke-opacity:0.1; fill:none\" points=\"\n",
       "  1515.77,1486.45 1515.77,123.472 \n",
       "  \"/>\n",
       "<polyline clip-path=\"url(#clip282)\" style=\"stroke:#000000; stroke-linecap:butt; stroke-linejoin:round; stroke-width:2; stroke-opacity:0.1; fill:none\" points=\"\n",
       "  1906.11,1486.45 1906.11,123.472 \n",
       "  \"/>\n",
       "<polyline clip-path=\"url(#clip282)\" style=\"stroke:#000000; stroke-linecap:butt; stroke-linejoin:round; stroke-width:2; stroke-opacity:0.1; fill:none\" points=\"\n",
       "  2296.46,1486.45 2296.46,123.472 \n",
       "  \"/>\n",
       "<polyline clip-path=\"url(#clip280)\" style=\"stroke:#000000; stroke-linecap:butt; stroke-linejoin:round; stroke-width:4; stroke-opacity:1; fill:none\" points=\"\n",
       "  304.699,1486.45 2352.76,1486.45 \n",
       "  \"/>\n",
       "<polyline clip-path=\"url(#clip280)\" style=\"stroke:#000000; stroke-linecap:butt; stroke-linejoin:round; stroke-width:4; stroke-opacity:1; fill:none\" points=\"\n",
       "  344.731,1486.45 344.731,1467.55 \n",
       "  \"/>\n",
       "<polyline clip-path=\"url(#clip280)\" style=\"stroke:#000000; stroke-linecap:butt; stroke-linejoin:round; stroke-width:4; stroke-opacity:1; fill:none\" points=\"\n",
       "  735.077,1486.45 735.077,1467.55 \n",
       "  \"/>\n",
       "<polyline clip-path=\"url(#clip280)\" style=\"stroke:#000000; stroke-linecap:butt; stroke-linejoin:round; stroke-width:4; stroke-opacity:1; fill:none\" points=\"\n",
       "  1125.42,1486.45 1125.42,1467.55 \n",
       "  \"/>\n",
       "<polyline clip-path=\"url(#clip280)\" style=\"stroke:#000000; stroke-linecap:butt; stroke-linejoin:round; stroke-width:4; stroke-opacity:1; fill:none\" points=\"\n",
       "  1515.77,1486.45 1515.77,1467.55 \n",
       "  \"/>\n",
       "<polyline clip-path=\"url(#clip280)\" style=\"stroke:#000000; stroke-linecap:butt; stroke-linejoin:round; stroke-width:4; stroke-opacity:1; fill:none\" points=\"\n",
       "  1906.11,1486.45 1906.11,1467.55 \n",
       "  \"/>\n",
       "<polyline clip-path=\"url(#clip280)\" style=\"stroke:#000000; stroke-linecap:butt; stroke-linejoin:round; stroke-width:4; stroke-opacity:1; fill:none\" points=\"\n",
       "  2296.46,1486.45 2296.46,1467.55 \n",
       "  \"/>\n",
       "<path clip-path=\"url(#clip280)\" d=\"M291.953 1517.37 Q288.342 1517.37 286.514 1520.93 Q284.708 1524.47 284.708 1531.6 Q284.708 1538.71 286.514 1542.27 Q288.342 1545.82 291.953 1545.82 Q295.588 1545.82 297.393 1542.27 Q299.222 1538.71 299.222 1531.6 Q299.222 1524.47 297.393 1520.93 Q295.588 1517.37 291.953 1517.37 M291.953 1513.66 Q297.764 1513.66 300.819 1518.27 Q303.898 1522.85 303.898 1531.6 Q303.898 1540.33 300.819 1544.94 Q297.764 1549.52 291.953 1549.52 Q286.143 1549.52 283.065 1544.94 Q280.009 1540.33 280.009 1531.6 Q280.009 1522.85 283.065 1518.27 Q286.143 1513.66 291.953 1513.66 Z\" fill=\"#000000\" fill-rule=\"evenodd\" fill-opacity=\"1\" /><path clip-path=\"url(#clip280)\" d=\"M312.115 1542.97 L317 1542.97 L317 1548.85 L312.115 1548.85 L312.115 1542.97 Z\" fill=\"#000000\" fill-rule=\"evenodd\" fill-opacity=\"1\" /><path clip-path=\"url(#clip280)\" d=\"M337.185 1517.37 Q333.574 1517.37 331.745 1520.93 Q329.939 1524.47 329.939 1531.6 Q329.939 1538.71 331.745 1542.27 Q333.574 1545.82 337.185 1545.82 Q340.819 1545.82 342.624 1542.27 Q344.453 1538.71 344.453 1531.6 Q344.453 1524.47 342.624 1520.93 Q340.819 1517.37 337.185 1517.37 M337.185 1513.66 Q342.995 1513.66 346.05 1518.27 Q349.129 1522.85 349.129 1531.6 Q349.129 1540.33 346.05 1544.94 Q342.995 1549.52 337.185 1549.52 Q331.375 1549.52 328.296 1544.94 Q325.24 1540.33 325.24 1531.6 Q325.24 1522.85 328.296 1518.27 Q331.375 1513.66 337.185 1513.66 Z\" fill=\"#000000\" fill-rule=\"evenodd\" fill-opacity=\"1\" /><path clip-path=\"url(#clip280)\" d=\"M367.347 1517.37 Q363.735 1517.37 361.907 1520.93 Q360.101 1524.47 360.101 1531.6 Q360.101 1538.71 361.907 1542.27 Q363.735 1545.82 367.347 1545.82 Q370.981 1545.82 372.786 1542.27 Q374.615 1538.71 374.615 1531.6 Q374.615 1524.47 372.786 1520.93 Q370.981 1517.37 367.347 1517.37 M367.347 1513.66 Q373.157 1513.66 376.212 1518.27 Q379.291 1522.85 379.291 1531.6 Q379.291 1540.33 376.212 1544.94 Q373.157 1549.52 367.347 1549.52 Q361.536 1549.52 358.458 1544.94 Q355.402 1540.33 355.402 1531.6 Q355.402 1522.85 358.458 1518.27 Q361.536 1513.66 367.347 1513.66 Z\" fill=\"#000000\" fill-rule=\"evenodd\" fill-opacity=\"1\" /><path clip-path=\"url(#clip280)\" d=\"M397.508 1517.37 Q393.897 1517.37 392.069 1520.93 Q390.263 1524.47 390.263 1531.6 Q390.263 1538.71 392.069 1542.27 Q393.897 1545.82 397.508 1545.82 Q401.143 1545.82 402.948 1542.27 Q404.777 1538.71 404.777 1531.6 Q404.777 1524.47 402.948 1520.93 Q401.143 1517.37 397.508 1517.37 M397.508 1513.66 Q403.319 1513.66 406.374 1518.27 Q409.453 1522.85 409.453 1531.6 Q409.453 1540.33 406.374 1544.94 Q403.319 1549.52 397.508 1549.52 Q391.698 1549.52 388.62 1544.94 Q385.564 1540.33 385.564 1531.6 Q385.564 1522.85 388.62 1518.27 Q391.698 1513.66 397.508 1513.66 Z\" fill=\"#000000\" fill-rule=\"evenodd\" fill-opacity=\"1\" /><path clip-path=\"url(#clip280)\" d=\"M682.797 1517.37 Q679.186 1517.37 677.357 1520.93 Q675.552 1524.47 675.552 1531.6 Q675.552 1538.71 677.357 1542.27 Q679.186 1545.82 682.797 1545.82 Q686.431 1545.82 688.237 1542.27 Q690.065 1538.71 690.065 1531.6 Q690.065 1524.47 688.237 1520.93 Q686.431 1517.37 682.797 1517.37 M682.797 1513.66 Q688.607 1513.66 691.663 1518.27 Q694.741 1522.85 694.741 1531.6 Q694.741 1540.33 691.663 1544.94 Q688.607 1549.52 682.797 1549.52 Q676.987 1549.52 673.908 1544.94 Q670.853 1540.33 670.853 1531.6 Q670.853 1522.85 673.908 1518.27 Q676.987 1513.66 682.797 1513.66 Z\" fill=\"#000000\" fill-rule=\"evenodd\" fill-opacity=\"1\" /><path clip-path=\"url(#clip280)\" d=\"M702.959 1542.97 L707.843 1542.97 L707.843 1548.85 L702.959 1548.85 L702.959 1542.97 Z\" fill=\"#000000\" fill-rule=\"evenodd\" fill-opacity=\"1\" /><path clip-path=\"url(#clip280)\" d=\"M728.028 1517.37 Q724.417 1517.37 722.588 1520.93 Q720.783 1524.47 720.783 1531.6 Q720.783 1538.71 722.588 1542.27 Q724.417 1545.82 728.028 1545.82 Q731.662 1545.82 733.468 1542.27 Q735.297 1538.71 735.297 1531.6 Q735.297 1524.47 733.468 1520.93 Q731.662 1517.37 728.028 1517.37 M728.028 1513.66 Q733.838 1513.66 736.894 1518.27 Q739.973 1522.85 739.973 1531.6 Q739.973 1540.33 736.894 1544.94 Q733.838 1549.52 728.028 1549.52 Q722.218 1549.52 719.139 1544.94 Q716.084 1540.33 716.084 1531.6 Q716.084 1522.85 719.139 1518.27 Q722.218 1513.66 728.028 1513.66 Z\" fill=\"#000000\" fill-rule=\"evenodd\" fill-opacity=\"1\" /><path clip-path=\"url(#clip280)\" d=\"M758.19 1517.37 Q754.579 1517.37 752.75 1520.93 Q750.945 1524.47 750.945 1531.6 Q750.945 1538.71 752.75 1542.27 Q754.579 1545.82 758.19 1545.82 Q761.824 1545.82 763.63 1542.27 Q765.459 1538.71 765.459 1531.6 Q765.459 1524.47 763.63 1520.93 Q761.824 1517.37 758.19 1517.37 M758.19 1513.66 Q764 1513.66 767.056 1518.27 Q770.134 1522.85 770.134 1531.6 Q770.134 1540.33 767.056 1544.94 Q764 1549.52 758.19 1549.52 Q752.38 1549.52 749.301 1544.94 Q746.246 1540.33 746.246 1531.6 Q746.246 1522.85 749.301 1518.27 Q752.38 1513.66 758.19 1513.66 Z\" fill=\"#000000\" fill-rule=\"evenodd\" fill-opacity=\"1\" /><path clip-path=\"url(#clip280)\" d=\"M778.398 1514.29 L796.755 1514.29 L796.755 1518.22 L782.681 1518.22 L782.681 1526.7 Q783.699 1526.35 784.718 1526.19 Q785.736 1526 786.755 1526 Q792.542 1526 795.921 1529.17 Q799.301 1532.34 799.301 1537.76 Q799.301 1543.34 795.829 1546.44 Q792.357 1549.52 786.037 1549.52 Q783.861 1549.52 781.593 1549.15 Q779.347 1548.78 776.94 1548.04 L776.94 1543.34 Q779.023 1544.47 781.245 1545.03 Q783.468 1545.58 785.945 1545.58 Q789.949 1545.58 792.287 1543.48 Q794.625 1541.37 794.625 1537.76 Q794.625 1534.15 792.287 1532.04 Q789.949 1529.94 785.945 1529.94 Q784.07 1529.94 782.195 1530.35 Q780.343 1530.77 778.398 1531.65 L778.398 1514.29 Z\" fill=\"#000000\" fill-rule=\"evenodd\" fill-opacity=\"1\" /><path clip-path=\"url(#clip280)\" d=\"M1072.65 1517.37 Q1069.03 1517.37 1067.21 1520.93 Q1065.4 1524.47 1065.4 1531.6 Q1065.4 1538.71 1067.21 1542.27 Q1069.03 1545.82 1072.65 1545.82 Q1076.28 1545.82 1078.08 1542.27 Q1079.91 1538.71 1079.91 1531.6 Q1079.91 1524.47 1078.08 1520.93 Q1076.28 1517.37 1072.65 1517.37 M1072.65 1513.66 Q1078.46 1513.66 1081.51 1518.27 Q1084.59 1522.85 1084.59 1531.6 Q1084.59 1540.33 1081.51 1544.94 Q1078.46 1549.52 1072.65 1549.52 Q1066.83 1549.52 1063.76 1544.94 Q1060.7 1540.33 1060.7 1531.6 Q1060.7 1522.85 1063.76 1518.27 Q1066.83 1513.66 1072.65 1513.66 Z\" fill=\"#000000\" fill-rule=\"evenodd\" fill-opacity=\"1\" /><path clip-path=\"url(#clip280)\" d=\"M1092.81 1542.97 L1097.69 1542.97 L1097.69 1548.85 L1092.81 1548.85 L1092.81 1542.97 Z\" fill=\"#000000\" fill-rule=\"evenodd\" fill-opacity=\"1\" /><path clip-path=\"url(#clip280)\" d=\"M1117.88 1517.37 Q1114.27 1517.37 1112.44 1520.93 Q1110.63 1524.47 1110.63 1531.6 Q1110.63 1538.71 1112.44 1542.27 Q1114.27 1545.82 1117.88 1545.82 Q1121.51 1545.82 1123.32 1542.27 Q1125.14 1538.71 1125.14 1531.6 Q1125.14 1524.47 1123.32 1520.93 Q1121.51 1517.37 1117.88 1517.37 M1117.88 1513.66 Q1123.69 1513.66 1126.74 1518.27 Q1129.82 1522.85 1129.82 1531.6 Q1129.82 1540.33 1126.74 1544.94 Q1123.69 1549.52 1117.88 1549.52 Q1112.07 1549.52 1108.99 1544.94 Q1105.93 1540.33 1105.93 1531.6 Q1105.93 1522.85 1108.99 1518.27 Q1112.07 1513.66 1117.88 1513.66 Z\" fill=\"#000000\" fill-rule=\"evenodd\" fill-opacity=\"1\" /><path clip-path=\"url(#clip280)\" d=\"M1138.85 1544.91 L1146.49 1544.91 L1146.49 1518.55 L1138.18 1520.21 L1138.18 1515.95 L1146.44 1514.29 L1151.12 1514.29 L1151.12 1544.91 L1158.76 1544.91 L1158.76 1548.85 L1138.85 1548.85 L1138.85 1544.91 Z\" fill=\"#000000\" fill-rule=\"evenodd\" fill-opacity=\"1\" /><path clip-path=\"url(#clip280)\" d=\"M1178.2 1517.37 Q1174.59 1517.37 1172.76 1520.93 Q1170.95 1524.47 1170.95 1531.6 Q1170.95 1538.71 1172.76 1542.27 Q1174.59 1545.82 1178.2 1545.82 Q1181.83 1545.82 1183.64 1542.27 Q1185.47 1538.71 1185.47 1531.6 Q1185.47 1524.47 1183.64 1520.93 Q1181.83 1517.37 1178.2 1517.37 M1178.2 1513.66 Q1184.01 1513.66 1187.07 1518.27 Q1190.14 1522.85 1190.14 1531.6 Q1190.14 1540.33 1187.07 1544.94 Q1184.01 1549.52 1178.2 1549.52 Q1172.39 1549.52 1169.31 1544.94 Q1166.26 1540.33 1166.26 1531.6 Q1166.26 1522.85 1169.31 1518.27 Q1172.39 1513.66 1178.2 1513.66 Z\" fill=\"#000000\" fill-rule=\"evenodd\" fill-opacity=\"1\" /><path clip-path=\"url(#clip280)\" d=\"M1463.49 1517.37 Q1459.88 1517.37 1458.05 1520.93 Q1456.24 1524.47 1456.24 1531.6 Q1456.24 1538.71 1458.05 1542.27 Q1459.88 1545.82 1463.49 1545.82 Q1467.12 1545.82 1468.93 1542.27 Q1470.76 1538.71 1470.76 1531.6 Q1470.76 1524.47 1468.93 1520.93 Q1467.12 1517.37 1463.49 1517.37 M1463.49 1513.66 Q1469.3 1513.66 1472.35 1518.27 Q1475.43 1522.85 1475.43 1531.6 Q1475.43 1540.33 1472.35 1544.94 Q1469.3 1549.52 1463.49 1549.52 Q1457.68 1549.52 1454.6 1544.94 Q1451.54 1540.33 1451.54 1531.6 Q1451.54 1522.85 1454.6 1518.27 Q1457.68 1513.66 1463.49 1513.66 Z\" fill=\"#000000\" fill-rule=\"evenodd\" fill-opacity=\"1\" /><path clip-path=\"url(#clip280)\" d=\"M1483.65 1542.97 L1488.53 1542.97 L1488.53 1548.85 L1483.65 1548.85 L1483.65 1542.97 Z\" fill=\"#000000\" fill-rule=\"evenodd\" fill-opacity=\"1\" /><path clip-path=\"url(#clip280)\" d=\"M1508.72 1517.37 Q1505.11 1517.37 1503.28 1520.93 Q1501.47 1524.47 1501.47 1531.6 Q1501.47 1538.71 1503.28 1542.27 Q1505.11 1545.82 1508.72 1545.82 Q1512.35 1545.82 1514.16 1542.27 Q1515.99 1538.71 1515.99 1531.6 Q1515.99 1524.47 1514.16 1520.93 Q1512.35 1517.37 1508.72 1517.37 M1508.72 1513.66 Q1514.53 1513.66 1517.59 1518.27 Q1520.66 1522.85 1520.66 1531.6 Q1520.66 1540.33 1517.59 1544.94 Q1514.53 1549.52 1508.72 1549.52 Q1502.91 1549.52 1499.83 1544.94 Q1496.78 1540.33 1496.78 1531.6 Q1496.78 1522.85 1499.83 1518.27 Q1502.91 1513.66 1508.72 1513.66 Z\" fill=\"#000000\" fill-rule=\"evenodd\" fill-opacity=\"1\" /><path clip-path=\"url(#clip280)\" d=\"M1529.69 1544.91 L1537.33 1544.91 L1537.33 1518.55 L1529.02 1520.21 L1529.02 1515.95 L1537.28 1514.29 L1541.96 1514.29 L1541.96 1544.91 L1549.6 1544.91 L1549.6 1548.85 L1529.69 1548.85 L1529.69 1544.91 Z\" fill=\"#000000\" fill-rule=\"evenodd\" fill-opacity=\"1\" /><path clip-path=\"url(#clip280)\" d=\"M1559.09 1514.29 L1577.45 1514.29 L1577.45 1518.22 L1563.37 1518.22 L1563.37 1526.7 Q1564.39 1526.35 1565.41 1526.19 Q1566.43 1526 1567.45 1526 Q1573.23 1526 1576.61 1529.17 Q1579.99 1532.34 1579.99 1537.76 Q1579.99 1543.34 1576.52 1546.44 Q1573.05 1549.52 1566.73 1549.52 Q1564.55 1549.52 1562.28 1549.15 Q1560.04 1548.78 1557.63 1548.04 L1557.63 1543.34 Q1559.71 1544.47 1561.94 1545.03 Q1564.16 1545.58 1566.64 1545.58 Q1570.64 1545.58 1572.98 1543.48 Q1575.32 1541.37 1575.32 1537.76 Q1575.32 1534.15 1572.98 1532.04 Q1570.64 1529.94 1566.64 1529.94 Q1564.76 1529.94 1562.89 1530.35 Q1561.03 1530.77 1559.09 1531.65 L1559.09 1514.29 Z\" fill=\"#000000\" fill-rule=\"evenodd\" fill-opacity=\"1\" /><path clip-path=\"url(#clip280)\" d=\"M1853.34 1517.37 Q1849.73 1517.37 1847.9 1520.93 Q1846.09 1524.47 1846.09 1531.6 Q1846.09 1538.71 1847.9 1542.27 Q1849.73 1545.82 1853.34 1545.82 Q1856.97 1545.82 1858.78 1542.27 Q1860.61 1538.71 1860.61 1531.6 Q1860.61 1524.47 1858.78 1520.93 Q1856.97 1517.37 1853.34 1517.37 M1853.34 1513.66 Q1859.15 1513.66 1862.2 1518.27 Q1865.28 1522.85 1865.28 1531.6 Q1865.28 1540.33 1862.2 1544.94 Q1859.15 1549.52 1853.34 1549.52 Q1847.53 1549.52 1844.45 1544.94 Q1841.39 1540.33 1841.39 1531.6 Q1841.39 1522.85 1844.45 1518.27 Q1847.53 1513.66 1853.34 1513.66 Z\" fill=\"#000000\" fill-rule=\"evenodd\" fill-opacity=\"1\" /><path clip-path=\"url(#clip280)\" d=\"M1873.5 1542.97 L1878.38 1542.97 L1878.38 1548.85 L1873.5 1548.85 L1873.5 1542.97 Z\" fill=\"#000000\" fill-rule=\"evenodd\" fill-opacity=\"1\" /><path clip-path=\"url(#clip280)\" d=\"M1898.57 1517.37 Q1894.96 1517.37 1893.13 1520.93 Q1891.32 1524.47 1891.32 1531.6 Q1891.32 1538.71 1893.13 1542.27 Q1894.96 1545.82 1898.57 1545.82 Q1902.2 1545.82 1904.01 1542.27 Q1905.84 1538.71 1905.84 1531.6 Q1905.84 1524.47 1904.01 1520.93 Q1902.2 1517.37 1898.57 1517.37 M1898.57 1513.66 Q1904.38 1513.66 1907.43 1518.27 Q1910.51 1522.85 1910.51 1531.6 Q1910.51 1540.33 1907.43 1544.94 Q1904.38 1549.52 1898.57 1549.52 Q1892.76 1549.52 1889.68 1544.94 Q1886.62 1540.33 1886.62 1531.6 Q1886.62 1522.85 1889.68 1518.27 Q1892.76 1513.66 1898.57 1513.66 Z\" fill=\"#000000\" fill-rule=\"evenodd\" fill-opacity=\"1\" /><path clip-path=\"url(#clip280)\" d=\"M1922.76 1544.91 L1939.08 1544.91 L1939.08 1548.85 L1917.13 1548.85 L1917.13 1544.91 Q1919.79 1542.16 1924.38 1537.53 Q1928.98 1532.88 1930.16 1531.53 Q1932.41 1529.01 1933.29 1527.27 Q1934.19 1525.51 1934.19 1523.82 Q1934.19 1521.07 1932.25 1519.33 Q1930.33 1517.6 1927.23 1517.6 Q1925.03 1517.6 1922.57 1518.36 Q1920.14 1519.13 1917.36 1520.68 L1917.36 1515.95 Q1920.19 1514.82 1922.64 1514.24 Q1925.1 1513.66 1927.13 1513.66 Q1932.5 1513.66 1935.7 1516.35 Q1938.89 1519.03 1938.89 1523.52 Q1938.89 1525.65 1938.08 1527.57 Q1937.29 1529.47 1935.19 1532.07 Q1934.61 1532.74 1931.51 1535.95 Q1928.41 1539.15 1922.76 1544.91 Z\" fill=\"#000000\" fill-rule=\"evenodd\" fill-opacity=\"1\" /><path clip-path=\"url(#clip280)\" d=\"M1958.89 1517.37 Q1955.28 1517.37 1953.45 1520.93 Q1951.65 1524.47 1951.65 1531.6 Q1951.65 1538.71 1953.45 1542.27 Q1955.28 1545.82 1958.89 1545.82 Q1962.53 1545.82 1964.33 1542.27 Q1966.16 1538.71 1966.16 1531.6 Q1966.16 1524.47 1964.33 1520.93 Q1962.53 1517.37 1958.89 1517.37 M1958.89 1513.66 Q1964.7 1513.66 1967.76 1518.27 Q1970.84 1522.85 1970.84 1531.6 Q1970.84 1540.33 1967.76 1544.94 Q1964.7 1549.52 1958.89 1549.52 Q1953.08 1549.52 1950 1544.94 Q1946.95 1540.33 1946.95 1531.6 Q1946.95 1522.85 1950 1518.27 Q1953.08 1513.66 1958.89 1513.66 Z\" fill=\"#000000\" fill-rule=\"evenodd\" fill-opacity=\"1\" /><path clip-path=\"url(#clip280)\" d=\"M2244.18 1517.37 Q2240.57 1517.37 2238.74 1520.93 Q2236.93 1524.47 2236.93 1531.6 Q2236.93 1538.71 2238.74 1542.27 Q2240.57 1545.82 2244.18 1545.82 Q2247.81 1545.82 2249.62 1542.27 Q2251.45 1538.71 2251.45 1531.6 Q2251.45 1524.47 2249.62 1520.93 Q2247.81 1517.37 2244.18 1517.37 M2244.18 1513.66 Q2249.99 1513.66 2253.05 1518.27 Q2256.12 1522.85 2256.12 1531.6 Q2256.12 1540.33 2253.05 1544.94 Q2249.99 1549.52 2244.18 1549.52 Q2238.37 1549.52 2235.29 1544.94 Q2232.24 1540.33 2232.24 1531.6 Q2232.24 1522.85 2235.29 1518.27 Q2238.37 1513.66 2244.18 1513.66 Z\" fill=\"#000000\" fill-rule=\"evenodd\" fill-opacity=\"1\" /><path clip-path=\"url(#clip280)\" d=\"M2264.34 1542.97 L2269.23 1542.97 L2269.23 1548.85 L2264.34 1548.85 L2264.34 1542.97 Z\" fill=\"#000000\" fill-rule=\"evenodd\" fill-opacity=\"1\" /><path clip-path=\"url(#clip280)\" d=\"M2289.41 1517.37 Q2285.8 1517.37 2283.97 1520.93 Q2282.17 1524.47 2282.17 1531.6 Q2282.17 1538.71 2283.97 1542.27 Q2285.8 1545.82 2289.41 1545.82 Q2293.05 1545.82 2294.85 1542.27 Q2296.68 1538.71 2296.68 1531.6 Q2296.68 1524.47 2294.85 1520.93 Q2293.05 1517.37 2289.41 1517.37 M2289.41 1513.66 Q2295.22 1513.66 2298.28 1518.27 Q2301.36 1522.85 2301.36 1531.6 Q2301.36 1540.33 2298.28 1544.94 Q2295.22 1549.52 2289.41 1549.52 Q2283.6 1549.52 2280.52 1544.94 Q2277.47 1540.33 2277.47 1531.6 Q2277.47 1522.85 2280.52 1518.27 Q2283.6 1513.66 2289.41 1513.66 Z\" fill=\"#000000\" fill-rule=\"evenodd\" fill-opacity=\"1\" /><path clip-path=\"url(#clip280)\" d=\"M2313.6 1544.91 L2329.92 1544.91 L2329.92 1548.85 L2307.98 1548.85 L2307.98 1544.91 Q2310.64 1542.16 2315.22 1537.53 Q2319.83 1532.88 2321.01 1531.53 Q2323.25 1529.01 2324.13 1527.27 Q2325.04 1525.51 2325.04 1523.82 Q2325.04 1521.07 2323.09 1519.33 Q2321.17 1517.6 2318.07 1517.6 Q2315.87 1517.6 2313.42 1518.36 Q2310.99 1519.13 2308.21 1520.68 L2308.21 1515.95 Q2311.03 1514.82 2313.49 1514.24 Q2315.94 1513.66 2317.98 1513.66 Q2323.35 1513.66 2326.54 1516.35 Q2329.74 1519.03 2329.74 1523.52 Q2329.74 1525.65 2328.92 1527.57 Q2328.14 1529.47 2326.03 1532.07 Q2325.45 1532.74 2322.35 1535.95 Q2319.25 1539.15 2313.6 1544.91 Z\" fill=\"#000000\" fill-rule=\"evenodd\" fill-opacity=\"1\" /><path clip-path=\"url(#clip280)\" d=\"M2339.78 1514.29 L2358.14 1514.29 L2358.14 1518.22 L2344.06 1518.22 L2344.06 1526.7 Q2345.08 1526.35 2346.1 1526.19 Q2347.12 1526 2348.14 1526 Q2353.92 1526 2357.3 1529.17 Q2360.68 1532.34 2360.68 1537.76 Q2360.68 1543.34 2357.21 1546.44 Q2353.74 1549.52 2347.42 1549.52 Q2345.24 1549.52 2342.98 1549.15 Q2340.73 1548.78 2338.32 1548.04 L2338.32 1543.34 Q2340.41 1544.47 2342.63 1545.03 Q2344.85 1545.58 2347.33 1545.58 Q2351.33 1545.58 2353.67 1543.48 Q2356.01 1541.37 2356.01 1537.76 Q2356.01 1534.15 2353.67 1532.04 Q2351.33 1529.94 2347.33 1529.94 Q2345.45 1529.94 2343.58 1530.35 Q2341.73 1530.77 2339.78 1531.65 L2339.78 1514.29 Z\" fill=\"#000000\" fill-rule=\"evenodd\" fill-opacity=\"1\" /><polyline clip-path=\"url(#clip282)\" style=\"stroke:#000000; stroke-linecap:butt; stroke-linejoin:round; stroke-width:2; stroke-opacity:0.1; fill:none\" points=\"\n",
       "  304.699,1447.87 2352.76,1447.87 \n",
       "  \"/>\n",
       "<polyline clip-path=\"url(#clip282)\" style=\"stroke:#000000; stroke-linecap:butt; stroke-linejoin:round; stroke-width:2; stroke-opacity:0.1; fill:none\" points=\"\n",
       "  304.699,1099.81 2352.76,1099.81 \n",
       "  \"/>\n",
       "<polyline clip-path=\"url(#clip282)\" style=\"stroke:#000000; stroke-linecap:butt; stroke-linejoin:round; stroke-width:2; stroke-opacity:0.1; fill:none\" points=\"\n",
       "  304.699,751.753 2352.76,751.753 \n",
       "  \"/>\n",
       "<polyline clip-path=\"url(#clip282)\" style=\"stroke:#000000; stroke-linecap:butt; stroke-linejoin:round; stroke-width:2; stroke-opacity:0.1; fill:none\" points=\"\n",
       "  304.699,403.693 2352.76,403.693 \n",
       "  \"/>\n",
       "<polyline clip-path=\"url(#clip280)\" style=\"stroke:#000000; stroke-linecap:butt; stroke-linejoin:round; stroke-width:4; stroke-opacity:1; fill:none\" points=\"\n",
       "  304.699,1486.45 304.699,123.472 \n",
       "  \"/>\n",
       "<polyline clip-path=\"url(#clip280)\" style=\"stroke:#000000; stroke-linecap:butt; stroke-linejoin:round; stroke-width:4; stroke-opacity:1; fill:none\" points=\"\n",
       "  304.699,1447.87 323.597,1447.87 \n",
       "  \"/>\n",
       "<polyline clip-path=\"url(#clip280)\" style=\"stroke:#000000; stroke-linecap:butt; stroke-linejoin:round; stroke-width:4; stroke-opacity:1; fill:none\" points=\"\n",
       "  304.699,1099.81 323.597,1099.81 \n",
       "  \"/>\n",
       "<polyline clip-path=\"url(#clip280)\" style=\"stroke:#000000; stroke-linecap:butt; stroke-linejoin:round; stroke-width:4; stroke-opacity:1; fill:none\" points=\"\n",
       "  304.699,751.753 323.597,751.753 \n",
       "  \"/>\n",
       "<polyline clip-path=\"url(#clip280)\" style=\"stroke:#000000; stroke-linecap:butt; stroke-linejoin:round; stroke-width:4; stroke-opacity:1; fill:none\" points=\"\n",
       "  304.699,403.693 323.597,403.693 \n",
       "  \"/>\n",
       "<path clip-path=\"url(#clip280)\" d=\"M256.755 1433.67 Q253.144 1433.67 251.315 1437.24 Q249.51 1440.78 249.51 1447.91 Q249.51 1455.01 251.315 1458.58 Q253.144 1462.12 256.755 1462.12 Q260.389 1462.12 262.195 1458.58 Q264.023 1455.01 264.023 1447.91 Q264.023 1440.78 262.195 1437.24 Q260.389 1433.67 256.755 1433.67 M256.755 1429.97 Q262.565 1429.97 265.621 1434.57 Q268.699 1439.16 268.699 1447.91 Q268.699 1456.63 265.621 1461.24 Q262.565 1465.82 256.755 1465.82 Q250.945 1465.82 247.866 1461.24 Q244.811 1456.63 244.811 1447.91 Q244.811 1439.16 247.866 1434.57 Q250.945 1429.97 256.755 1429.97 Z\" fill=\"#000000\" fill-rule=\"evenodd\" fill-opacity=\"1\" /><path clip-path=\"url(#clip280)\" d=\"M52.8743 1088.98 L71.2307 1088.98 L71.2307 1092.92 L57.1567 1092.92 L57.1567 1101.39 Q58.1752 1101.04 59.1938 1100.88 Q60.2123 1100.69 61.2308 1100.69 Q67.0178 1100.69 70.3974 1103.86 Q73.777 1107.04 73.777 1112.45 Q73.777 1118.03 70.3048 1121.13 Q66.8326 1124.21 60.5132 1124.21 Q58.3373 1124.21 56.0688 1123.84 Q53.8234 1123.47 51.416 1122.73 L51.416 1118.03 Q53.4993 1119.17 55.7216 1119.72 Q57.9438 1120.28 60.4206 1120.28 Q64.4252 1120.28 66.7632 1118.17 Q69.1011 1116.06 69.1011 1112.45 Q69.1011 1108.84 66.7632 1106.74 Q64.4252 1104.63 60.4206 1104.63 Q58.5456 1104.63 56.6706 1105.05 Q54.8188 1105.46 52.8743 1106.34 L52.8743 1088.98 Z\" fill=\"#000000\" fill-rule=\"evenodd\" fill-opacity=\"1\" /><path clip-path=\"url(#clip280)\" d=\"M82.9899 1117.66 L87.8742 1117.66 L87.8742 1123.54 L82.9899 1123.54 L82.9899 1117.66 Z\" fill=\"#000000\" fill-rule=\"evenodd\" fill-opacity=\"1\" /><path clip-path=\"url(#clip280)\" d=\"M108.059 1092.06 Q104.448 1092.06 102.619 1095.62 Q100.814 1099.17 100.814 1106.3 Q100.814 1113.4 102.619 1116.97 Q104.448 1120.51 108.059 1120.51 Q111.693 1120.51 113.499 1116.97 Q115.328 1113.4 115.328 1106.3 Q115.328 1099.17 113.499 1095.62 Q111.693 1092.06 108.059 1092.06 M108.059 1088.36 Q113.869 1088.36 116.925 1092.96 Q120.004 1097.55 120.004 1106.3 Q120.004 1115.02 116.925 1119.63 Q113.869 1124.21 108.059 1124.21 Q102.249 1124.21 99.1704 1119.63 Q96.1149 1115.02 96.1149 1106.3 Q96.1149 1097.55 99.1704 1092.96 Q102.249 1088.36 108.059 1088.36 Z\" fill=\"#000000\" fill-rule=\"evenodd\" fill-opacity=\"1\" /><path clip-path=\"url(#clip280)\" d=\"M138.221 1092.06 Q134.61 1092.06 132.781 1095.62 Q130.976 1099.17 130.976 1106.3 Q130.976 1113.4 132.781 1116.97 Q134.61 1120.51 138.221 1120.51 Q141.855 1120.51 143.661 1116.97 Q145.49 1113.4 145.49 1106.3 Q145.49 1099.17 143.661 1095.62 Q141.855 1092.06 138.221 1092.06 M138.221 1088.36 Q144.031 1088.36 147.087 1092.96 Q150.165 1097.55 150.165 1106.3 Q150.165 1115.02 147.087 1119.63 Q144.031 1124.21 138.221 1124.21 Q132.411 1124.21 129.332 1119.63 Q126.277 1115.02 126.277 1106.3 Q126.277 1097.55 129.332 1092.96 Q132.411 1088.36 138.221 1088.36 Z\" fill=\"#000000\" fill-rule=\"evenodd\" fill-opacity=\"1\" /><path clip-path=\"url(#clip280)\" d=\"M186.554 1098.08 L175.976 1108.7 L186.554 1119.28 L183.8 1122.08 L173.175 1111.46 L162.55 1122.08 L159.818 1119.28 L170.374 1108.7 L159.818 1098.08 L162.55 1095.28 L173.175 1105.9 L183.8 1095.28 L186.554 1098.08 Z\" fill=\"#000000\" fill-rule=\"evenodd\" fill-opacity=\"1\" /><path clip-path=\"url(#clip280)\" d=\"M198.915 1119.61 L206.554 1119.61 L206.554 1093.24 L198.244 1094.91 L198.244 1090.65 L206.508 1088.98 L211.184 1088.98 L211.184 1119.61 L218.823 1119.61 L218.823 1123.54 L198.915 1123.54 L198.915 1119.61 Z\" fill=\"#000000\" fill-rule=\"evenodd\" fill-opacity=\"1\" /><path clip-path=\"url(#clip280)\" d=\"M238.267 1092.06 Q234.656 1092.06 232.827 1095.62 Q231.022 1099.17 231.022 1106.3 Q231.022 1113.4 232.827 1116.97 Q234.656 1120.51 238.267 1120.51 Q241.901 1120.51 243.707 1116.97 Q245.535 1113.4 245.535 1106.3 Q245.535 1099.17 243.707 1095.62 Q241.901 1092.06 238.267 1092.06 M238.267 1088.36 Q244.077 1088.36 247.133 1092.96 Q250.211 1097.55 250.211 1106.3 Q250.211 1115.02 247.133 1119.63 Q244.077 1124.21 238.267 1124.21 Q232.457 1124.21 229.378 1119.63 Q226.322 1115.02 226.322 1106.3 Q226.322 1097.55 229.378 1092.96 Q232.457 1088.36 238.267 1088.36 Z\" fill=\"#000000\" fill-rule=\"evenodd\" fill-opacity=\"1\" /><path clip-path=\"url(#clip280)\" d=\"M262.906 1080.99 Q265.634 1081.57 267.157 1083.42 Q268.699 1085.26 268.699 1087.97 Q268.699 1092.12 265.841 1094.4 Q262.982 1096.68 257.716 1096.68 Q255.948 1096.68 254.067 1096.32 Q252.205 1095.98 250.211 1095.28 L250.211 1091.62 Q251.791 1092.54 253.672 1093.01 Q255.553 1093.48 257.603 1093.48 Q261.176 1093.48 263.038 1092.07 Q264.919 1090.66 264.919 1087.97 Q264.919 1085.48 263.17 1084.09 Q261.439 1082.68 258.336 1082.68 L255.064 1082.68 L255.064 1079.56 L258.487 1079.56 Q261.289 1079.56 262.775 1078.45 Q264.261 1077.32 264.261 1075.22 Q264.261 1073.05 262.718 1071.91 Q261.195 1070.74 258.336 1070.74 Q256.775 1070.74 254.988 1071.08 Q253.202 1071.42 251.058 1072.13 L251.058 1068.75 Q253.22 1068.14 255.101 1067.84 Q257.001 1067.54 258.675 1067.54 Q263.001 1067.54 265.521 1069.52 Q268.041 1071.47 268.041 1074.82 Q268.041 1077.15 266.706 1078.77 Q265.37 1080.37 262.906 1080.99 Z\" fill=\"#000000\" fill-rule=\"evenodd\" fill-opacity=\"1\" /><path clip-path=\"url(#clip280)\" d=\"M51.6634 771.545 L59.3023 771.545 L59.3023 745.18 L50.9921 746.846 L50.9921 742.587 L59.256 740.92 L63.9319 740.92 L63.9319 771.545 L71.5707 771.545 L71.5707 775.48 L51.6634 775.48 L51.6634 771.545 Z\" fill=\"#000000\" fill-rule=\"evenodd\" fill-opacity=\"1\" /><path clip-path=\"url(#clip280)\" d=\"M81.0151 769.601 L85.8993 769.601 L85.8993 775.48 L81.0151 775.48 L81.0151 769.601 Z\" fill=\"#000000\" fill-rule=\"evenodd\" fill-opacity=\"1\" /><path clip-path=\"url(#clip280)\" d=\"M106.084 743.999 Q102.473 743.999 100.645 747.564 Q98.8391 751.105 98.8391 758.235 Q98.8391 765.341 100.645 768.906 Q102.473 772.448 106.084 772.448 Q109.719 772.448 111.524 768.906 Q113.353 765.341 113.353 758.235 Q113.353 751.105 111.524 747.564 Q109.719 743.999 106.084 743.999 M106.084 740.295 Q111.895 740.295 114.95 744.902 Q118.029 749.485 118.029 758.235 Q118.029 766.962 114.95 771.568 Q111.895 776.152 106.084 776.152 Q100.274 776.152 97.1956 771.568 Q94.14 766.962 94.14 758.235 Q94.14 749.485 97.1956 744.902 Q100.274 740.295 106.084 740.295 Z\" fill=\"#000000\" fill-rule=\"evenodd\" fill-opacity=\"1\" /><path clip-path=\"url(#clip280)\" d=\"M136.246 743.999 Q132.635 743.999 130.807 747.564 Q129.001 751.105 129.001 758.235 Q129.001 765.341 130.807 768.906 Q132.635 772.448 136.246 772.448 Q139.881 772.448 141.686 768.906 Q143.515 765.341 143.515 758.235 Q143.515 751.105 141.686 747.564 Q139.881 743.999 136.246 743.999 M136.246 740.295 Q142.056 740.295 145.112 744.902 Q148.191 749.485 148.191 758.235 Q148.191 766.962 145.112 771.568 Q142.056 776.152 136.246 776.152 Q130.436 776.152 127.357 771.568 Q124.302 766.962 124.302 758.235 Q124.302 749.485 127.357 744.902 Q130.436 740.295 136.246 740.295 Z\" fill=\"#000000\" fill-rule=\"evenodd\" fill-opacity=\"1\" /><path clip-path=\"url(#clip280)\" d=\"M184.579 750.017 L174.001 760.642 L184.579 771.221 L181.825 774.022 L171.2 763.397 L160.575 774.022 L157.843 771.221 L168.399 760.642 L157.843 750.017 L160.575 747.217 L171.2 757.842 L181.825 747.217 L184.579 750.017 Z\" fill=\"#000000\" fill-rule=\"evenodd\" fill-opacity=\"1\" /><path clip-path=\"url(#clip280)\" d=\"M196.94 771.545 L204.579 771.545 L204.579 745.18 L196.269 746.846 L196.269 742.587 L204.533 740.92 L209.209 740.92 L209.209 771.545 L216.848 771.545 L216.848 775.48 L196.94 775.48 L196.94 771.545 Z\" fill=\"#000000\" fill-rule=\"evenodd\" fill-opacity=\"1\" /><path clip-path=\"url(#clip280)\" d=\"M236.292 743.999 Q232.681 743.999 230.852 747.564 Q229.047 751.105 229.047 758.235 Q229.047 765.341 230.852 768.906 Q232.681 772.448 236.292 772.448 Q239.926 772.448 241.732 768.906 Q243.561 765.341 243.561 758.235 Q243.561 751.105 241.732 747.564 Q239.926 743.999 236.292 743.999 M236.292 740.295 Q242.102 740.295 245.158 744.902 Q248.236 749.485 248.236 758.235 Q248.236 766.962 245.158 771.568 Q242.102 776.152 236.292 776.152 Q230.482 776.152 227.403 771.568 Q224.348 766.962 224.348 758.235 Q224.348 749.485 227.403 744.902 Q230.482 740.295 236.292 740.295 Z\" fill=\"#000000\" fill-rule=\"evenodd\" fill-opacity=\"1\" /><path clip-path=\"url(#clip280)\" d=\"M260.913 723.3 L251.321 738.29 L260.913 738.29 L260.913 723.3 M259.916 719.99 L264.693 719.99 L264.693 738.29 L268.699 738.29 L268.699 741.45 L264.693 741.45 L264.693 748.07 L260.913 748.07 L260.913 741.45 L248.236 741.45 L248.236 737.782 L259.916 719.99 Z\" fill=\"#000000\" fill-rule=\"evenodd\" fill-opacity=\"1\" /><path clip-path=\"url(#clip280)\" d=\"M51.6634 423.485 L59.3023 423.485 L59.3023 397.119 L50.9921 398.786 L50.9921 394.527 L59.256 392.86 L63.9319 392.86 L63.9319 423.485 L71.5707 423.485 L71.5707 427.42 L51.6634 427.42 L51.6634 423.485 Z\" fill=\"#000000\" fill-rule=\"evenodd\" fill-opacity=\"1\" /><path clip-path=\"url(#clip280)\" d=\"M81.0151 421.541 L85.8993 421.541 L85.8993 427.42 L81.0151 427.42 L81.0151 421.541 Z\" fill=\"#000000\" fill-rule=\"evenodd\" fill-opacity=\"1\" /><path clip-path=\"url(#clip280)\" d=\"M96.1308 392.86 L114.487 392.86 L114.487 396.795 L100.413 396.795 L100.413 405.267 Q101.432 404.92 102.45 404.758 Q103.469 404.573 104.487 404.573 Q110.274 404.573 113.654 407.744 Q117.033 410.916 117.033 416.332 Q117.033 421.911 113.561 425.013 Q110.089 428.091 103.77 428.091 Q101.594 428.091 99.3252 427.721 Q97.0798 427.351 94.6724 426.61 L94.6724 421.911 Q96.7558 423.045 98.978 423.601 Q101.2 424.156 103.677 424.156 Q107.682 424.156 110.02 422.05 Q112.358 419.943 112.358 416.332 Q112.358 412.721 110.02 410.615 Q107.682 408.508 103.677 408.508 Q101.802 408.508 99.927 408.925 Q98.0752 409.342 96.1308 410.221 L96.1308 392.86 Z\" fill=\"#000000\" fill-rule=\"evenodd\" fill-opacity=\"1\" /><path clip-path=\"url(#clip280)\" d=\"M136.246 395.939 Q132.635 395.939 130.807 399.504 Q129.001 403.045 129.001 410.175 Q129.001 417.281 130.807 420.846 Q132.635 424.388 136.246 424.388 Q139.881 424.388 141.686 420.846 Q143.515 417.281 143.515 410.175 Q143.515 403.045 141.686 399.504 Q139.881 395.939 136.246 395.939 M136.246 392.235 Q142.056 392.235 145.112 396.842 Q148.191 401.425 148.191 410.175 Q148.191 418.902 145.112 423.508 Q142.056 428.091 136.246 428.091 Q130.436 428.091 127.357 423.508 Q124.302 418.902 124.302 410.175 Q124.302 401.425 127.357 396.842 Q130.436 392.235 136.246 392.235 Z\" fill=\"#000000\" fill-rule=\"evenodd\" fill-opacity=\"1\" /><path clip-path=\"url(#clip280)\" d=\"M184.579 401.957 L174.001 412.582 L184.579 423.161 L181.825 425.962 L171.2 415.337 L160.575 425.962 L157.843 423.161 L168.399 412.582 L157.843 401.957 L160.575 399.156 L171.2 409.781 L181.825 399.156 L184.579 401.957 Z\" fill=\"#000000\" fill-rule=\"evenodd\" fill-opacity=\"1\" /><path clip-path=\"url(#clip280)\" d=\"M196.94 423.485 L204.579 423.485 L204.579 397.119 L196.269 398.786 L196.269 394.527 L204.533 392.86 L209.209 392.86 L209.209 423.485 L216.848 423.485 L216.848 427.42 L196.94 427.42 L196.94 423.485 Z\" fill=\"#000000\" fill-rule=\"evenodd\" fill-opacity=\"1\" /><path clip-path=\"url(#clip280)\" d=\"M236.292 395.939 Q232.681 395.939 230.852 399.504 Q229.047 403.045 229.047 410.175 Q229.047 417.281 230.852 420.846 Q232.681 424.388 236.292 424.388 Q239.926 424.388 241.732 420.846 Q243.561 417.281 243.561 410.175 Q243.561 403.045 241.732 399.504 Q239.926 395.939 236.292 395.939 M236.292 392.235 Q242.102 392.235 245.158 396.842 Q248.236 401.425 248.236 410.175 Q248.236 418.902 245.158 423.508 Q242.102 428.091 236.292 428.091 Q230.482 428.091 227.403 423.508 Q224.348 418.902 224.348 410.175 Q224.348 401.425 227.403 396.842 Q230.482 392.235 236.292 392.235 Z\" fill=\"#000000\" fill-rule=\"evenodd\" fill-opacity=\"1\" /><path clip-path=\"url(#clip280)\" d=\"M260.913 375.24 L251.321 390.23 L260.913 390.23 L260.913 375.24 M259.916 371.93 L264.693 371.93 L264.693 390.23 L268.699 390.23 L268.699 393.389 L264.693 393.389 L264.693 400.01 L260.913 400.01 L260.913 393.389 L248.236 393.389 L248.236 389.722 L259.916 371.93 Z\" fill=\"#000000\" fill-rule=\"evenodd\" fill-opacity=\"1\" /><path clip-path=\"url(#clip280)\" d=\"M579.938 12.096 L631.101 12.096 L631.101 18.9825 L609.631 18.9825 L609.631 72.576 L601.408 72.576 L601.408 18.9825 L579.938 18.9825 L579.938 12.096 Z\" fill=\"#000000\" fill-rule=\"evenodd\" fill-opacity=\"1\" /><path clip-path=\"url(#clip280)\" d=\"M645.563 49.7694 Q636.529 49.7694 633.046 51.8354 Q629.562 53.9013 629.562 58.8839 Q629.562 62.8538 632.154 65.2034 Q634.787 67.5124 639.284 67.5124 Q645.482 67.5124 649.209 63.1374 Q652.976 58.7219 652.976 51.4303 L652.976 49.7694 L645.563 49.7694 M660.43 46.6907 L660.43 72.576 L652.976 72.576 L652.976 65.6895 Q650.424 69.8214 646.616 71.8063 Q642.808 73.7508 637.299 73.7508 Q630.331 73.7508 626.2 69.8619 Q622.108 65.9325 622.108 59.3701 Q622.108 51.7138 627.212 47.825 Q632.357 43.9361 642.525 43.9361 L652.976 43.9361 L652.976 43.2069 Q652.976 38.0623 649.573 35.2672 Q646.211 32.4315 640.094 32.4315 Q636.205 32.4315 632.519 33.3632 Q628.833 34.295 625.43 36.1584 L625.43 29.2718 Q629.521 27.692 633.37 26.9223 Q637.218 26.1121 640.864 26.1121 Q650.708 26.1121 655.569 31.2163 Q660.43 36.3204 660.43 46.6907 Z\" fill=\"#000000\" fill-rule=\"evenodd\" fill-opacity=\"1\" /><path clip-path=\"url(#clip280)\" d=\"M675.013 54.671 L675.013 27.2059 L682.467 27.2059 L682.467 54.3874 Q682.467 60.8284 684.978 64.0691 Q687.49 67.2693 692.513 67.2693 Q698.549 67.2693 702.032 63.421 Q705.557 59.5726 705.557 52.9291 L705.557 27.2059 L713.01 27.2059 L713.01 72.576 L705.557 72.576 L705.557 65.6084 Q702.843 69.7404 699.237 71.7658 Q695.673 73.7508 690.933 73.7508 Q683.115 73.7508 679.064 68.8897 Q675.013 64.0286 675.013 54.671 M693.769 26.1121 L693.769 26.1121 Z\" fill=\"#000000\" fill-rule=\"evenodd\" fill-opacity=\"1\" /><path clip-path=\"url(#clip280)\" d=\"M755.059 12.096 L763.242 12.096 L763.242 65.6895 L792.692 65.6895 L792.692 72.576 L755.059 72.576 L755.059 12.096 Z\" fill=\"#000000\" fill-rule=\"evenodd\" fill-opacity=\"1\" /><path clip-path=\"url(#clip280)\" d=\"M838.305 48.0275 L838.305 51.6733 L804.034 51.6733 Q804.52 59.3701 808.652 63.421 Q812.825 67.4314 820.238 67.4314 Q824.532 67.4314 828.542 66.3781 Q832.593 65.3249 836.563 63.2184 L836.563 70.267 Q832.553 71.9684 828.34 72.8596 Q824.127 73.7508 819.792 73.7508 Q808.936 73.7508 802.576 67.4314 Q796.256 61.1119 796.256 50.3365 Q796.256 39.1965 802.252 32.6746 Q808.288 26.1121 818.496 26.1121 Q827.651 26.1121 832.958 32.0264 Q838.305 37.9003 838.305 48.0275 M830.851 45.84 Q830.77 39.7232 827.408 36.0774 Q824.086 32.4315 818.577 32.4315 Q812.339 32.4315 808.571 35.9558 Q804.844 39.4801 804.277 45.8805 L830.851 45.84 Z\" fill=\"#000000\" fill-rule=\"evenodd\" fill-opacity=\"1\" /><path clip-path=\"url(#clip280)\" d=\"M871.158 49.7694 Q862.124 49.7694 858.64 51.8354 Q855.157 53.9013 855.157 58.8839 Q855.157 62.8538 857.749 65.2034 Q860.382 67.5124 864.879 67.5124 Q871.077 67.5124 874.804 63.1374 Q878.571 58.7219 878.571 51.4303 L878.571 49.7694 L871.158 49.7694 M886.025 46.6907 L886.025 72.576 L878.571 72.576 L878.571 65.6895 Q876.019 69.8214 872.211 71.8063 Q868.403 73.7508 862.894 73.7508 Q855.926 73.7508 851.794 69.8619 Q847.703 65.9325 847.703 59.3701 Q847.703 51.7138 852.807 47.825 Q857.952 43.9361 868.12 43.9361 L878.571 43.9361 L878.571 43.2069 Q878.571 38.0623 875.168 35.2672 Q871.806 32.4315 865.689 32.4315 Q861.8 32.4315 858.114 33.3632 Q854.427 34.295 851.025 36.1584 L851.025 29.2718 Q855.116 27.692 858.964 26.9223 Q862.813 26.1121 866.459 26.1121 Q876.302 26.1121 881.163 31.2163 Q886.025 36.3204 886.025 46.6907 Z\" fill=\"#000000\" fill-rule=\"evenodd\" fill-opacity=\"1\" /><path clip-path=\"url(#clip280)\" d=\"M908.588 65.7705 L908.588 89.8329 L901.094 89.8329 L901.094 27.2059 L908.588 27.2059 L908.588 34.0924 Q910.938 30.0415 914.502 28.0971 Q918.108 26.1121 923.09 26.1121 Q931.354 26.1121 936.499 32.6746 Q941.684 39.2371 941.684 49.9314 Q941.684 60.6258 936.499 67.1883 Q931.354 73.7508 923.09 73.7508 Q918.108 73.7508 914.502 71.8063 Q910.938 69.8214 908.588 65.7705 M933.947 49.9314 Q933.947 41.7081 930.544 37.0496 Q927.182 32.3505 921.267 32.3505 Q915.353 32.3505 911.95 37.0496 Q908.588 41.7081 908.588 49.9314 Q908.588 58.1548 911.95 62.8538 Q915.353 67.5124 921.267 67.5124 Q927.182 67.5124 930.544 62.8538 Q933.947 58.1548 933.947 49.9314 Z\" fill=\"#000000\" fill-rule=\"evenodd\" fill-opacity=\"1\" /><path clip-path=\"url(#clip280)\" d=\"M1016.99 14.0809 L1016.99 22.0612 Q1012.33 19.8332 1008.2 18.7395 Q1004.07 17.6457 1000.22 17.6457 Q993.536 17.6457 989.89 20.2383 Q986.284 22.8309 986.284 27.611 Q986.284 31.6214 988.674 33.6873 Q991.105 35.7128 997.829 36.9686 L1002.77 37.9813 Q1011.93 39.7232 1016.26 44.1387 Q1020.64 48.5136 1020.64 55.8863 Q1020.64 64.6767 1014.72 69.2137 Q1008.85 73.7508 997.465 73.7508 Q993.171 73.7508 988.31 72.7785 Q983.489 71.8063 978.304 69.9024 L978.304 61.4765 Q983.287 64.2716 988.067 65.6895 Q992.847 67.1073 997.465 67.1073 Q1004.47 67.1073 1008.28 64.3527 Q1012.09 61.598 1012.09 56.4939 Q1012.09 52.0379 1009.33 49.5264 Q1006.62 47.0148 1000.38 45.759 L995.399 44.7868 Q986.244 42.9639 982.152 39.075 Q978.061 35.1862 978.061 28.2591 Q978.061 20.2383 983.692 15.6203 Q989.363 11.0023 999.288 11.0023 Q1003.54 11.0023 1007.96 11.7719 Q1012.37 12.5416 1016.99 14.0809 Z\" fill=\"#000000\" fill-rule=\"evenodd\" fill-opacity=\"1\" /><path clip-path=\"url(#clip280)\" d=\"M1033.07 27.2059 L1040.53 27.2059 L1040.53 72.576 L1033.07 72.576 L1033.07 27.2059 M1033.07 9.54393 L1040.53 9.54393 L1040.53 18.9825 L1033.07 18.9825 L1033.07 9.54393 Z\" fill=\"#000000\" fill-rule=\"evenodd\" fill-opacity=\"1\" /><path clip-path=\"url(#clip280)\" d=\"M1091.45 35.9153 Q1094.24 30.8922 1098.13 28.5022 Q1102.02 26.1121 1107.28 26.1121 Q1114.37 26.1121 1118.22 31.0947 Q1122.07 36.0368 1122.07 45.1919 L1122.07 72.576 L1114.58 72.576 L1114.58 45.4349 Q1114.58 38.913 1112.27 35.7533 Q1109.96 32.5936 1105.22 32.5936 Q1099.43 32.5936 1096.06 36.4419 Q1092.7 40.2903 1092.7 46.9338 L1092.7 72.576 L1085.21 72.576 L1085.21 45.4349 Q1085.21 38.8725 1082.9 35.7533 Q1080.59 32.5936 1075.77 32.5936 Q1070.06 32.5936 1066.69 36.4824 Q1063.33 40.3308 1063.33 46.9338 L1063.33 72.576 L1055.84 72.576 L1055.84 27.2059 L1063.33 27.2059 L1063.33 34.2544 Q1065.88 30.082 1069.45 28.0971 Q1073.01 26.1121 1077.92 26.1121 Q1082.86 26.1121 1086.3 28.6237 Q1089.79 31.1352 1091.45 35.9153 Z\" fill=\"#000000\" fill-rule=\"evenodd\" fill-opacity=\"1\" /><path clip-path=\"url(#clip280)\" d=\"M1136.17 54.671 L1136.17 27.2059 L1143.62 27.2059 L1143.62 54.3874 Q1143.62 60.8284 1146.13 64.0691 Q1148.64 67.2693 1153.67 67.2693 Q1159.7 67.2693 1163.19 63.421 Q1166.71 59.5726 1166.71 52.9291 L1166.71 27.2059 L1174.17 27.2059 L1174.17 72.576 L1166.71 72.576 L1166.71 65.6084 Q1164 69.7404 1160.39 71.7658 Q1156.83 73.7508 1152.09 73.7508 Q1144.27 73.7508 1140.22 68.8897 Q1136.17 64.0286 1136.17 54.671 M1154.92 26.1121 L1154.92 26.1121 Z\" fill=\"#000000\" fill-rule=\"evenodd\" fill-opacity=\"1\" /><path clip-path=\"url(#clip280)\" d=\"M1189.52 9.54393 L1196.97 9.54393 L1196.97 72.576 L1189.52 72.576 L1189.52 9.54393 Z\" fill=\"#000000\" fill-rule=\"evenodd\" fill-opacity=\"1\" /><path clip-path=\"url(#clip280)\" d=\"M1233.19 49.7694 Q1224.15 49.7694 1220.67 51.8354 Q1217.19 53.9013 1217.19 58.8839 Q1217.19 62.8538 1219.78 65.2034 Q1222.41 67.5124 1226.91 67.5124 Q1233.11 67.5124 1236.83 63.1374 Q1240.6 58.7219 1240.6 51.4303 L1240.6 49.7694 L1233.19 49.7694 M1248.05 46.6907 L1248.05 72.576 L1240.6 72.576 L1240.6 65.6895 Q1238.05 69.8214 1234.24 71.8063 Q1230.43 73.7508 1224.92 73.7508 Q1217.96 73.7508 1213.82 69.8619 Q1209.73 65.9325 1209.73 59.3701 Q1209.73 51.7138 1214.84 47.825 Q1219.98 43.9361 1230.15 43.9361 L1240.6 43.9361 L1240.6 43.2069 Q1240.6 38.0623 1237.2 35.2672 Q1233.84 32.4315 1227.72 32.4315 Q1223.83 32.4315 1220.14 33.3632 Q1216.46 34.295 1213.05 36.1584 L1213.05 29.2718 Q1217.15 27.692 1220.99 26.9223 Q1224.84 26.1121 1228.49 26.1121 Q1238.33 26.1121 1243.19 31.2163 Q1248.05 36.3204 1248.05 46.6907 Z\" fill=\"#000000\" fill-rule=\"evenodd\" fill-opacity=\"1\" /><path clip-path=\"url(#clip280)\" d=\"M1270.78 14.324 L1270.78 27.2059 L1286.13 27.2059 L1286.13 32.9987 L1270.78 32.9987 L1270.78 57.6282 Q1270.78 63.1779 1272.28 64.7578 Q1273.82 66.3376 1278.48 66.3376 L1286.13 66.3376 L1286.13 72.576 L1278.48 72.576 Q1269.85 72.576 1266.57 69.3758 Q1263.29 66.1351 1263.29 57.6282 L1263.29 32.9987 L1257.82 32.9987 L1257.82 27.2059 L1263.29 27.2059 L1263.29 14.324 L1270.78 14.324 Z\" fill=\"#000000\" fill-rule=\"evenodd\" fill-opacity=\"1\" /><path clip-path=\"url(#clip280)\" d=\"M1295.94 27.2059 L1303.39 27.2059 L1303.39 72.576 L1295.94 72.576 L1295.94 27.2059 M1295.94 9.54393 L1303.39 9.54393 L1303.39 18.9825 L1295.94 18.9825 L1295.94 9.54393 Z\" fill=\"#000000\" fill-rule=\"evenodd\" fill-opacity=\"1\" /><path clip-path=\"url(#clip280)\" d=\"M1336.57 32.4315 Q1330.57 32.4315 1327.09 37.1306 Q1323.6 41.7891 1323.6 49.9314 Q1323.6 58.0738 1327.05 62.7728 Q1330.53 67.4314 1336.57 67.4314 Q1342.52 67.4314 1346 62.7323 Q1349.49 58.0333 1349.49 49.9314 Q1349.49 41.8701 1346 37.1711 Q1342.52 32.4315 1336.57 32.4315 M1336.57 26.1121 Q1346.29 26.1121 1351.84 32.4315 Q1357.39 38.7509 1357.39 49.9314 Q1357.39 61.0714 1351.84 67.4314 Q1346.29 73.7508 1336.57 73.7508 Q1326.8 73.7508 1321.25 67.4314 Q1315.74 61.0714 1315.74 49.9314 Q1315.74 38.7509 1321.25 32.4315 Q1326.8 26.1121 1336.57 26.1121 Z\" fill=\"#000000\" fill-rule=\"evenodd\" fill-opacity=\"1\" /><path clip-path=\"url(#clip280)\" d=\"M1407.46 45.1919 L1407.46 72.576 L1400 72.576 L1400 45.4349 Q1400 38.994 1397.49 35.7938 Q1394.98 32.5936 1389.96 32.5936 Q1383.92 32.5936 1380.44 36.4419 Q1376.95 40.2903 1376.95 46.9338 L1376.95 72.576 L1369.46 72.576 L1369.46 27.2059 L1376.95 27.2059 L1376.95 34.2544 Q1379.63 30.163 1383.23 28.1376 Q1386.88 26.1121 1391.62 26.1121 Q1399.44 26.1121 1403.45 30.9732 Q1407.46 35.7938 1407.46 45.1919 Z\" fill=\"#000000\" fill-rule=\"evenodd\" fill-opacity=\"1\" /><path clip-path=\"url(#clip280)\" d=\"M1424.23 62.2867 L1432.78 62.2867 L1432.78 69.2543 L1426.13 82.2172 L1420.91 82.2172 L1424.23 69.2543 L1424.23 62.2867 Z\" fill=\"#000000\" fill-rule=\"evenodd\" fill-opacity=\"1\" /><path clip-path=\"url(#clip280)\" d=\"M1503.99 28.5427 L1503.99 35.5912 Q1500.83 33.9709 1497.43 33.1607 Q1494.02 32.3505 1490.38 32.3505 Q1484.83 32.3505 1482.03 34.0519 Q1479.28 35.7533 1479.28 39.156 Q1479.28 41.7486 1481.26 43.2475 Q1483.25 44.7058 1489.24 46.0426 L1491.8 46.6097 Q1499.74 48.3111 1503.06 51.4303 Q1506.42 54.509 1506.42 60.0587 Q1506.42 66.3781 1501.4 70.0644 Q1496.41 73.7508 1487.66 73.7508 Q1484.02 73.7508 1480.05 73.0216 Q1476.12 72.3329 1471.74 70.9151 L1471.74 63.2184 Q1475.88 65.3654 1479.89 66.4591 Q1483.9 67.5124 1487.83 67.5124 Q1493.09 67.5124 1495.93 65.73 Q1498.76 63.9071 1498.76 60.6258 Q1498.76 57.5877 1496.7 55.9673 Q1494.67 54.3469 1487.75 52.8481 L1485.15 52.2405 Q1478.23 50.7821 1475.15 47.7845 Q1472.07 44.7463 1472.07 39.4801 Q1472.07 33.0797 1476.61 29.5959 Q1481.14 26.1121 1489.49 26.1121 Q1493.62 26.1121 1497.27 26.7198 Q1500.91 27.3274 1503.99 28.5427 Z\" fill=\"#000000\" fill-rule=\"evenodd\" fill-opacity=\"1\" /><path clip-path=\"url(#clip280)\" d=\"M1525.66 14.324 L1525.66 27.2059 L1541.02 27.2059 L1541.02 32.9987 L1525.66 32.9987 L1525.66 57.6282 Q1525.66 63.1779 1527.16 64.7578 Q1528.7 66.3376 1533.36 66.3376 L1541.02 66.3376 L1541.02 72.576 L1533.36 72.576 Q1524.73 72.576 1521.45 69.3758 Q1518.17 66.1351 1518.17 57.6282 L1518.17 32.9987 L1512.7 32.9987 L1512.7 27.2059 L1518.17 27.2059 L1518.17 14.324 L1525.66 14.324 Z\" fill=\"#000000\" fill-rule=\"evenodd\" fill-opacity=\"1\" /><path clip-path=\"url(#clip280)\" d=\"M1589.63 48.0275 L1589.63 51.6733 L1555.36 51.6733 Q1555.84 59.3701 1559.97 63.421 Q1564.15 67.4314 1571.56 67.4314 Q1575.85 67.4314 1579.86 66.3781 Q1583.91 65.3249 1587.88 63.2184 L1587.88 70.267 Q1583.87 71.9684 1579.66 72.8596 Q1575.45 73.7508 1571.11 73.7508 Q1560.26 73.7508 1553.9 67.4314 Q1547.58 61.1119 1547.58 50.3365 Q1547.58 39.1965 1553.57 32.6746 Q1559.61 26.1121 1569.82 26.1121 Q1578.97 26.1121 1584.28 32.0264 Q1589.63 37.9003 1589.63 48.0275 M1582.17 45.84 Q1582.09 39.7232 1578.73 36.0774 Q1575.41 32.4315 1569.9 32.4315 Q1563.66 32.4315 1559.89 35.9558 Q1556.17 39.4801 1555.6 45.8805 L1582.17 45.84 Z\" fill=\"#000000\" fill-rule=\"evenodd\" fill-opacity=\"1\" /><path clip-path=\"url(#clip280)\" d=\"M1609.07 65.7705 L1609.07 89.8329 L1601.58 89.8329 L1601.58 27.2059 L1609.07 27.2059 L1609.07 34.0924 Q1611.42 30.0415 1614.98 28.0971 Q1618.59 26.1121 1623.57 26.1121 Q1631.84 26.1121 1636.98 32.6746 Q1642.17 39.2371 1642.17 49.9314 Q1642.17 60.6258 1636.98 67.1883 Q1631.84 73.7508 1623.57 73.7508 Q1618.59 73.7508 1614.98 71.8063 Q1611.42 69.8214 1609.07 65.7705 M1634.43 49.9314 Q1634.43 41.7081 1631.03 37.0496 Q1627.66 32.3505 1621.75 32.3505 Q1615.84 32.3505 1612.43 37.0496 Q1609.07 41.7081 1609.07 49.9314 Q1609.07 58.1548 1612.43 62.8538 Q1615.84 67.5124 1621.75 67.5124 Q1627.66 67.5124 1631.03 62.8538 Q1634.43 58.1548 1634.43 49.9314 Z\" fill=\"#000000\" fill-rule=\"evenodd\" fill-opacity=\"1\" /><path clip-path=\"url(#clip280)\" d=\"M1656.43 62.2867 L1664.97 62.2867 L1664.97 72.576 L1656.43 72.576 L1656.43 62.2867 M1656.43 29.6769 L1664.97 29.6769 L1664.97 39.9662 L1656.43 39.9662 L1656.43 29.6769 Z\" fill=\"#000000\" fill-rule=\"evenodd\" fill-opacity=\"1\" /><path clip-path=\"url(#clip280)\" d=\"M1716.95 65.6895 L1745.5 65.6895 L1745.5 72.576 L1707.1 72.576 L1707.1 65.6895 Q1711.76 60.8689 1719.78 52.7671 Q1727.84 44.6248 1729.91 42.2752 Q1733.84 37.8598 1735.38 34.8216 Q1736.96 31.7429 1736.96 28.7857 Q1736.96 23.9651 1733.55 20.927 Q1730.19 17.8888 1724.76 17.8888 Q1720.92 17.8888 1716.62 19.2256 Q1712.37 20.5624 1707.51 23.2765 L1707.51 15.0127 Q1712.45 13.0277 1716.74 12.015 Q1721.04 11.0023 1724.6 11.0023 Q1734 11.0023 1739.59 15.7013 Q1745.18 20.4004 1745.18 28.2591 Q1745.18 31.9859 1743.76 35.3482 Q1742.39 38.6699 1738.7 43.2069 Q1737.69 44.3817 1732.26 50.0125 Q1726.83 55.6027 1716.95 65.6895 Z\" fill=\"#000000\" fill-rule=\"evenodd\" fill-opacity=\"1\" /><path clip-path=\"url(#clip280)\" d=\"M1780.18 17.4837 Q1773.86 17.4837 1770.66 23.7221 Q1767.5 29.92 1767.5 42.3968 Q1767.5 54.833 1770.66 61.0714 Q1773.86 67.2693 1780.18 67.2693 Q1786.54 67.2693 1789.7 61.0714 Q1792.9 54.833 1792.9 42.3968 Q1792.9 29.92 1789.7 23.7221 Q1786.54 17.4837 1780.18 17.4837 M1780.18 11.0023 Q1790.35 11.0023 1795.7 19.0636 Q1801.08 27.0843 1801.08 42.3968 Q1801.08 57.6687 1795.7 65.73 Q1790.35 73.7508 1780.18 73.7508 Q1770.01 73.7508 1764.63 65.73 Q1759.28 57.6687 1759.28 42.3968 Q1759.28 27.0843 1764.63 19.0636 Q1770.01 11.0023 1780.18 11.0023 Z\" fill=\"#000000\" fill-rule=\"evenodd\" fill-opacity=\"1\" /><path clip-path=\"url(#clip280)\" d=\"M1832.96 17.4837 Q1826.64 17.4837 1823.44 23.7221 Q1820.28 29.92 1820.28 42.3968 Q1820.28 54.833 1823.44 61.0714 Q1826.64 67.2693 1832.96 67.2693 Q1839.32 67.2693 1842.48 61.0714 Q1845.68 54.833 1845.68 42.3968 Q1845.68 29.92 1842.48 23.7221 Q1839.32 17.4837 1832.96 17.4837 M1832.96 11.0023 Q1843.13 11.0023 1848.48 19.0636 Q1853.87 27.0843 1853.87 42.3968 Q1853.87 57.6687 1848.48 65.73 Q1843.13 73.7508 1832.96 73.7508 Q1822.8 73.7508 1817.41 65.73 Q1812.06 57.6687 1812.06 42.3968 Q1812.06 27.0843 1817.41 19.0636 Q1822.8 11.0023 1832.96 11.0023 Z\" fill=\"#000000\" fill-rule=\"evenodd\" fill-opacity=\"1\" /><path clip-path=\"url(#clip280)\" d=\"M1923.42 34.0924 L1923.42 9.54393 L1930.87 9.54393 L1930.87 72.576 L1923.42 72.576 L1923.42 65.7705 Q1921.07 69.8214 1917.47 71.8063 Q1913.9 73.7508 1908.88 73.7508 Q1900.65 73.7508 1895.47 67.1883 Q1890.32 60.6258 1890.32 49.9314 Q1890.32 39.2371 1895.47 32.6746 Q1900.65 26.1121 1908.88 26.1121 Q1913.9 26.1121 1917.47 28.0971 Q1921.07 30.0415 1923.42 34.0924 M1898.02 49.9314 Q1898.02 58.1548 1901.38 62.8538 Q1904.79 67.5124 1910.7 67.5124 Q1916.62 67.5124 1920.02 62.8538 Q1923.42 58.1548 1923.42 49.9314 Q1923.42 41.7081 1920.02 37.0496 Q1916.62 32.3505 1910.7 32.3505 Q1904.79 32.3505 1901.38 37.0496 Q1898.02 41.7081 1898.02 49.9314 Z\" fill=\"#000000\" fill-rule=\"evenodd\" fill-opacity=\"1\" /><path clip-path=\"url(#clip280)\" d=\"M1966.85 49.7694 Q1957.81 49.7694 1954.33 51.8354 Q1950.85 53.9013 1950.85 58.8839 Q1950.85 62.8538 1953.44 65.2034 Q1956.07 67.5124 1960.57 67.5124 Q1966.77 67.5124 1970.49 63.1374 Q1974.26 58.7219 1974.26 51.4303 L1974.26 49.7694 L1966.85 49.7694 M1981.71 46.6907 L1981.71 72.576 L1974.26 72.576 L1974.26 65.6895 Q1971.71 69.8214 1967.9 71.8063 Q1964.09 73.7508 1958.58 73.7508 Q1951.61 73.7508 1947.48 69.8619 Q1943.39 65.9325 1943.39 59.3701 Q1943.39 51.7138 1948.5 47.825 Q1953.64 43.9361 1963.81 43.9361 L1974.26 43.9361 L1974.26 43.2069 Q1974.26 38.0623 1970.86 35.2672 Q1967.49 32.4315 1961.38 32.4315 Q1957.49 32.4315 1953.8 33.3632 Q1950.12 34.295 1946.71 36.1584 L1946.71 29.2718 Q1950.8 27.692 1954.65 26.9223 Q1958.5 26.1121 1962.15 26.1121 Q1971.99 26.1121 1976.85 31.2163 Q1981.71 36.3204 1981.71 46.6907 Z\" fill=\"#000000\" fill-rule=\"evenodd\" fill-opacity=\"1\" /><path clip-path=\"url(#clip280)\" d=\"M2015.94 76.7889 Q2012.78 84.8907 2009.79 87.3618 Q2006.79 89.8329 2001.77 89.8329 L1995.81 89.8329 L1995.81 83.5945 L2000.19 83.5945 Q2003.26 83.5945 2004.97 82.1361 Q2006.67 80.6778 2008.73 75.2496 L2010.07 71.8468 L1991.72 27.2059 L1999.62 27.2059 L2013.8 62.6918 L2027.97 27.2059 L2035.87 27.2059 L2015.94 76.7889 Z\" fill=\"#000000\" fill-rule=\"evenodd\" fill-opacity=\"1\" /><path clip-path=\"url(#clip280)\" d=\"M2075.09 28.5427 L2075.09 35.5912 Q2071.93 33.9709 2068.52 33.1607 Q2065.12 32.3505 2061.48 32.3505 Q2055.93 32.3505 2053.13 34.0519 Q2050.38 35.7533 2050.38 39.156 Q2050.38 41.7486 2052.36 43.2475 Q2054.35 44.7058 2060.34 46.0426 L2062.89 46.6097 Q2070.83 48.3111 2074.15 51.4303 Q2077.52 54.509 2077.52 60.0587 Q2077.52 66.3781 2072.49 70.0644 Q2067.51 73.7508 2058.76 73.7508 Q2055.12 73.7508 2051.15 73.0216 Q2047.22 72.3329 2042.84 70.9151 L2042.84 63.2184 Q2046.97 65.3654 2050.98 66.4591 Q2054.99 67.5124 2058.92 67.5124 Q2064.19 67.5124 2067.03 65.73 Q2069.86 63.9071 2069.86 60.6258 Q2069.86 57.5877 2067.79 55.9673 Q2065.77 54.3469 2058.84 52.8481 L2056.25 52.2405 Q2049.32 50.7821 2046.24 47.7845 Q2043.17 44.7463 2043.17 39.4801 Q2043.17 33.0797 2047.7 29.5959 Q2052.24 26.1121 2060.58 26.1121 Q2064.72 26.1121 2068.36 26.7198 Q2072.01 27.3274 2075.09 28.5427 Z\" fill=\"#000000\" fill-rule=\"evenodd\" fill-opacity=\"1\" /><polyline clip-path=\"url(#clip282)\" style=\"stroke:#009af9; stroke-linecap:butt; stroke-linejoin:round; stroke-width:4; stroke-opacity:1; fill:none\" points=\"\n",
       "  362.663,1447.71 363.607,1446.6 364.551,1439.23 365.495,1396.79 366.439,1369.27 367.383,1304.59 368.326,831.349 369.27,162.047 370.214,223.321 371.158,552.049 \n",
       "  372.102,794.77 373.046,1095.5 373.99,1303.91 374.934,1389 375.878,1416.35 376.821,1427.07 377.765,1428.38 378.709,1432.36 379.653,1438.84 380.597,1438.06 \n",
       "  381.541,1439.91 382.485,1442.71 383.429,1443.59 384.372,1444.17 385.316,1443.97 386.26,1446.02 387.204,1446.24 388.148,1446.54 389.092,1447.12 390.036,1447.56 \n",
       "  390.98,1447.85 391.924,1447.87 392.867,1447.47 393.811,1446.67 394.755,1446.72 395.699,1446.2 396.643,1446.8 397.587,1446.83 398.531,1445.65 399.475,1443.23 \n",
       "  400.418,1443.16 401.362,1440.79 402.306,1438.09 403.25,1442.89 404.194,1442.59 405.138,1443.4 406.082,1444.38 407.026,1442.99 407.97,1442.63 408.913,1444.72 \n",
       "  409.857,1446.66 410.801,1447.22 411.745,1446.61 412.689,1446.88 413.633,1447.69 414.577,1447.84 415.521,1447.42 416.465,1447.77 417.408,1447.87 418.352,1447.87 \n",
       "  419.296,1447.87 420.24,1447.87 421.184,1447.87 422.128,1447.87 423.072,1447.87 424.016,1447.87 424.959,1447.87 425.903,1447.87 426.847,1447.87 427.791,1447.87 \n",
       "  428.735,1447.87 429.679,1447.87 430.623,1447.87 431.567,1447.87 432.511,1447.87 433.454,1447.87 434.398,1447.87 435.342,1447.87 436.286,1447.87 437.23,1447.87 \n",
       "  438.174,1447.87 439.118,1447.87 440.062,1447.87 441.005,1447.87 441.949,1447.87 442.893,1447.87 443.837,1447.87 444.781,1447.87 445.725,1447.87 446.669,1447.87 \n",
       "  447.613,1447.87 448.557,1447.68 449.5,1447.51 450.444,1447.65 451.388,1447.21 452.332,1447.6 453.276,1447.87 454.22,1447.87 455.164,1447.87 456.108,1447.81 \n",
       "  457.051,1446.95 457.995,1447.7 458.939,1447.87 459.883,1447.87 460.827,1447.87 461.771,1447.87 462.715,1447.87 463.659,1447.87 464.603,1447.87 465.546,1447.87 \n",
       "  466.49,1447.87 467.434,1447.87 468.378,1447.87 469.322,1447.87 470.266,1447.87 471.21,1447.87 472.154,1447.87 473.097,1447.61 474.041,1447.23 474.985,1447.63 \n",
       "  475.929,1447.87 476.873,1447.87 477.817,1447.87 478.761,1447.86 479.705,1447.64 480.649,1447.55 481.592,1447.86 482.536,1447.87 483.48,1447.87 484.424,1447.87 \n",
       "  485.368,1447.87 486.312,1447.87 487.256,1447.87 488.2,1447.87 489.144,1447.87 490.087,1447.87 491.031,1447.87 491.975,1447.87 492.919,1447.87 493.863,1447.87 \n",
       "  494.807,1447.87 495.751,1447.87 496.695,1447.87 497.638,1447.87 498.582,1447.87 499.526,1447.87 500.47,1447.87 501.414,1447.87 502.358,1447.87 503.302,1447.87 \n",
       "  504.246,1447.87 505.19,1447.87 506.133,1447.87 507.077,1447.87 508.021,1447.87 508.965,1447.87 509.909,1447.87 510.853,1447.87 511.797,1447.87 512.741,1447.87 \n",
       "  513.684,1447.87 514.628,1447.87 515.572,1447.87 516.516,1447.87 517.46,1447.87 518.404,1447.87 519.348,1447.87 520.292,1447.87 521.236,1447.87 522.179,1447.87 \n",
       "  523.123,1447.87 524.067,1447.87 525.011,1447.87 525.955,1447.87 526.899,1447.87 527.843,1447.87 528.787,1447.87 529.73,1447.87 530.674,1447.87 531.618,1447.87 \n",
       "  532.562,1447.87 533.506,1447.87 534.45,1447.87 535.394,1447.87 536.338,1447.87 537.282,1447.87 538.225,1447.87 539.169,1447.87 540.113,1447.87 541.057,1447.87 \n",
       "  542.001,1447.87 542.945,1447.87 543.889,1447.87 544.833,1447.87 545.776,1447.87 546.72,1447.87 547.664,1447.87 548.608,1447.87 549.552,1447.87 550.496,1447.85 \n",
       "  551.44,1447.5 552.384,1447.7 553.328,1447.82 554.271,1447.18 555.215,1447.45 556.159,1447.29 557.103,1447.03 558.047,1447.59 558.991,1447.87 559.935,1447.83 \n",
       "  560.879,1447.16 561.823,1447.25 562.766,1447.51 563.71,1447.33 564.654,1447.33 565.598,1447.81 566.542,1447.87 567.486,1447.87 568.43,1447.87 569.374,1447.87 \n",
       "  570.317,1447.87 571.261,1447.87 572.205,1447.86 573.149,1447.57 574.093,1447.63 575.037,1447.86 575.981,1447.87 576.925,1447.84 577.869,1447.35 578.812,1447.43 \n",
       "  579.756,1447.72 580.7,1447.87 581.644,1447.87 582.588,1447.87 583.532,1447.87 584.476,1447.87 585.42,1447.6 586.363,1446.45 587.307,1446.91 588.251,1447.65 \n",
       "  589.195,1447.87 590.139,1447.85 591.083,1447.51 592.027,1447.42 592.971,1447.55 593.915,1447.63 594.858,1447.56 595.802,1447.81 596.746,1447.36 597.69,1447.53 \n",
       "  598.634,1447.14 599.578,1447 600.522,1447.51 601.466,1447.59 602.409,1447.22 603.353,1447.34 604.297,1447.1 605.241,1447.38 606.185,1447.72 607.129,1447.87 \n",
       "  608.073,1447.87 609.017,1447.87 609.961,1447.87 610.904,1447.87 611.848,1447.87 612.792,1447.85 613.736,1447.48 614.68,1447.38 615.624,1447.64 616.568,1447.86 \n",
       "  617.512,1447.87 618.456,1447.84 619.399,1447.41 620.343,1447.78 621.287,1447.87 622.231,1447.87 623.175,1447.85 624.119,1447.46 625.063,1447.73 626.007,1447.87 \n",
       "  626.95,1447.87 627.894,1447.85 628.838,1447.45 629.782,1447.75 630.726,1447.87 631.67,1447.87 632.614,1447.87 633.558,1447.87 634.502,1447.85 635.445,1447.54 \n",
       "  636.389,1447.66 637.333,1447.86 638.277,1447.87 639.221,1447.87 640.165,1447.87 641.109,1447.87 642.053,1447.87 642.996,1447.87 643.94,1447.87 644.884,1447.87 \n",
       "  645.828,1447.87 646.772,1447.87 647.716,1447.87 648.66,1447.87 649.604,1447.87 650.548,1447.87 651.491,1447.87 652.435,1447.87 653.379,1447.87 654.323,1447.87 \n",
       "  655.267,1447.87 656.211,1447.87 657.155,1447.87 658.099,1447.87 659.042,1447.87 659.986,1447.87 660.93,1447.87 661.874,1447.87 662.818,1447.87 663.762,1447.87 \n",
       "  664.706,1447.87 665.65,1447.87 666.594,1447.87 667.537,1447.87 668.481,1447.87 669.425,1447.87 670.369,1447.87 671.313,1447.87 672.257,1447.87 673.201,1447.87 \n",
       "  674.145,1447.87 675.088,1447.87 676.032,1447.87 676.976,1447.87 677.92,1447.87 678.864,1447.87 679.808,1447.87 680.752,1447.87 681.696,1447.87 682.64,1447.87 \n",
       "  683.583,1447.87 684.527,1447.87 685.471,1447.87 686.415,1447.87 687.359,1447.87 688.303,1447.87 689.247,1447.87 690.191,1447.87 691.135,1447.87 692.078,1447.87 \n",
       "  693.022,1447.87 693.966,1447.87 694.91,1447.87 695.854,1447.87 696.798,1447.85 697.742,1447.52 698.686,1447.68 699.629,1447.87 700.573,1447.87 701.517,1447.87 \n",
       "  702.461,1447.87 703.405,1447.85 704.349,1447.48 705.293,1447.72 706.237,1447.87 707.181,1447.87 708.124,1447.87 709.068,1447.86 710.012,1447.66 710.956,1447.54 \n",
       "  711.9,1447.85 712.844,1447.87 713.788,1447.87 714.732,1447.87 715.675,1447.87 716.619,1447.87 717.563,1447.87 718.507,1447.87 719.451,1447.87 720.395,1447.87 \n",
       "  721.339,1447.87 722.283,1447.87 723.227,1447.87 724.17,1447.87 725.114,1447.86 726.058,1447.59 727.002,1447.6 727.946,1447.86 728.89,1447.87 729.834,1447.87 \n",
       "  730.778,1447.87 731.721,1447.87 732.665,1447.87 733.609,1447.87 734.553,1447.87 735.497,1447.87 736.441,1447.87 737.385,1447.87 738.329,1447.87 739.273,1447.87 \n",
       "  740.216,1447.87 741.16,1447.87 742.104,1447.87 743.048,1447.87 743.992,1447.87 744.936,1447.87 745.88,1447.87 746.824,1447.87 747.767,1447.87 748.711,1447.68 \n",
       "  749.655,1447.52 750.599,1447.85 751.543,1447.87 752.487,1447.87 753.431,1447.87 754.375,1447.87 755.319,1447.87 756.262,1447.87 757.206,1447.87 758.15,1447.87 \n",
       "  759.094,1447.87 760.038,1447.87 760.982,1447.87 761.926,1447.87 762.87,1447.87 763.814,1447.87 764.757,1447.87 765.701,1447.76 766.645,1447.44 767.589,1447.84 \n",
       "  768.533,1447.87 769.477,1447.87 770.421,1447.87 771.365,1447.87 772.308,1447.87 773.252,1447.87 774.196,1447.87 775.14,1447.87 776.084,1447.87 777.028,1447.87 \n",
       "  777.972,1447.87 778.916,1447.87 779.86,1447.87 780.803,1447.87 781.747,1447.87 782.691,1447.87 783.635,1447.87 784.579,1447.87 785.523,1447.87 786.467,1447.87 \n",
       "  787.411,1447.87 788.354,1447.87 789.298,1447.87 790.242,1447.87 791.186,1447.87 792.13,1447.87 793.074,1447.87 794.018,1447.87 794.962,1447.87 795.906,1447.87 \n",
       "  796.849,1447.87 797.793,1447.87 798.737,1447.87 799.681,1447.87 800.625,1447.87 801.569,1447.87 802.513,1447.87 803.457,1447.87 804.4,1447.87 805.344,1447.87 \n",
       "  806.288,1447.87 807.232,1447.87 808.176,1447.87 809.12,1447.87 810.064,1447.87 811.008,1447.87 811.952,1447.87 812.895,1447.82 813.839,1447.37 814.783,1447.84 \n",
       "  815.727,1447.87 816.671,1447.87 817.615,1447.87 818.559,1447.87 819.503,1447.87 820.447,1447.87 821.39,1447.87 822.334,1447.87 823.278,1447.87 824.222,1447.87 \n",
       "  825.166,1447.87 826.11,1447.87 827.054,1447.87 827.998,1447.75 828.941,1447.45 829.885,1447.85 830.829,1447.87 831.773,1447.87 832.717,1447.87 833.661,1447.87 \n",
       "  834.605,1447.87 835.549,1447.87 836.493,1447.87 837.436,1447.87 838.38,1447.87 839.324,1447.87 840.268,1447.87 841.212,1447.87 842.156,1447.87 843.1,1447.87 \n",
       "  844.044,1447.87 844.987,1447.87 845.931,1447.87 846.875,1447.87 847.819,1447.87 848.763,1447.87 849.707,1447.87 850.651,1447.87 851.595,1447.87 852.539,1447.87 \n",
       "  853.482,1447.87 854.426,1447.87 855.37,1447.87 856.314,1447.87 857.258,1447.87 858.202,1447.87 859.146,1447.87 860.09,1447.87 861.033,1447.87 861.977,1447.87 \n",
       "  862.921,1447.87 863.865,1447.87 864.809,1447.87 865.753,1447.87 866.697,1447.87 867.641,1447.87 868.585,1447.87 869.528,1447.87 870.472,1447.87 871.416,1447.87 \n",
       "  872.36,1447.87 873.304,1447.87 874.248,1447.87 875.192,1447.87 876.136,1447.87 877.079,1447.87 878.023,1447.87 878.967,1447.87 879.911,1447.87 880.855,1447.87 \n",
       "  881.799,1447.87 882.743,1447.87 883.687,1447.87 884.631,1447.87 885.574,1447.87 886.518,1447.87 887.462,1447.87 888.406,1447.87 889.35,1447.87 890.294,1447.87 \n",
       "  891.238,1447.87 892.182,1447.87 893.126,1447.87 894.069,1447.87 895.013,1447.87 895.957,1447.87 896.901,1447.87 897.845,1447.87 898.789,1447.87 899.733,1447.87 \n",
       "  900.677,1447.87 901.62,1447.87 902.564,1447.87 903.508,1447.87 904.452,1447.87 905.396,1447.87 906.34,1447.87 907.284,1447.87 908.228,1447.87 909.172,1447.87 \n",
       "  910.115,1447.87 911.059,1447.87 912.003,1447.87 912.947,1447.87 913.891,1447.87 914.835,1447.87 915.779,1447.87 916.723,1447.87 917.666,1447.87 918.61,1447.87 \n",
       "  919.554,1447.87 920.498,1447.87 921.442,1447.87 922.386,1447.87 923.33,1447.87 924.274,1447.87 925.218,1447.87 926.161,1447.87 927.105,1447.87 928.049,1447.87 \n",
       "  928.993,1447.87 929.937,1447.87 930.881,1447.87 931.825,1447.87 932.769,1447.87 933.712,1447.87 934.656,1447.87 935.6,1447.87 936.544,1447.87 937.488,1447.87 \n",
       "  938.432,1447.87 939.376,1447.87 940.32,1447.87 941.264,1447.87 942.207,1447.87 943.151,1447.87 944.095,1447.87 945.039,1447.87 945.983,1447.87 946.927,1447.87 \n",
       "  947.871,1447.87 948.815,1447.87 949.759,1447.87 950.702,1447.87 951.646,1447.87 952.59,1447.87 953.534,1447.87 954.478,1447.87 955.422,1447.87 956.366,1447.87 \n",
       "  957.31,1447.87 958.253,1447.87 959.197,1447.87 960.141,1447.87 961.085,1447.87 962.029,1447.87 962.973,1447.87 963.917,1447.87 964.861,1447.87 965.805,1447.87 \n",
       "  966.748,1447.87 967.692,1447.87 968.636,1447.87 969.58,1447.87 970.524,1447.87 971.468,1447.87 972.412,1447.87 973.356,1447.87 974.299,1447.87 975.243,1447.87 \n",
       "  976.187,1447.87 977.131,1447.87 978.075,1447.87 979.019,1447.87 979.963,1447.87 980.907,1447.87 981.851,1447.87 982.794,1447.87 983.738,1447.87 984.682,1447.87 \n",
       "  985.626,1447.87 986.57,1447.87 987.514,1447.87 988.458,1447.87 989.402,1447.87 990.345,1447.87 991.289,1447.87 992.233,1447.87 993.177,1447.87 994.121,1447.87 \n",
       "  995.065,1447.87 996.009,1447.87 996.953,1447.87 997.897,1447.87 998.84,1447.87 999.784,1447.87 1000.73,1447.87 1001.67,1447.87 1002.62,1447.87 1003.56,1447.87 \n",
       "  1004.5,1447.87 1005.45,1447.87 1006.39,1447.87 1007.34,1447.87 1008.28,1447.87 1009.22,1447.87 1010.17,1447.87 1011.11,1447.87 1012.05,1447.87 1013,1447.87 \n",
       "  1013.94,1447.87 1014.89,1447.87 1015.83,1447.87 1016.77,1447.87 1017.72,1447.87 1018.66,1447.87 1019.61,1447.87 1020.55,1447.87 1021.49,1447.87 1022.44,1447.87 \n",
       "  1023.38,1447.87 1024.33,1447.87 1025.27,1447.87 1026.21,1447.87 1027.16,1447.87 1028.1,1447.87 1029.04,1447.87 1029.99,1447.87 1030.93,1447.87 1031.88,1447.87 \n",
       "  1032.82,1447.87 1033.76,1447.87 1034.71,1447.87 1035.65,1447.87 1036.6,1447.87 1037.54,1447.87 1038.48,1447.87 1039.43,1447.87 1040.37,1447.87 1041.32,1447.87 \n",
       "  1042.26,1447.87 1043.2,1447.87 1044.15,1447.87 1045.09,1447.87 1046.03,1447.87 1046.98,1447.87 1047.92,1447.87 1048.87,1447.87 1049.81,1447.87 1050.75,1447.87 \n",
       "  1051.7,1447.87 1052.64,1447.87 1053.59,1447.87 1054.53,1447.87 1055.47,1447.87 1056.42,1447.87 1057.36,1447.87 1058.31,1447.87 1059.25,1447.87 1060.19,1447.87 \n",
       "  1061.14,1447.87 1062.08,1447.87 1063.02,1447.87 1063.97,1447.87 1064.91,1447.87 1065.86,1447.87 1066.8,1447.87 1067.74,1447.87 1068.69,1447.87 1069.63,1447.87 \n",
       "  1070.58,1447.87 1071.52,1447.87 1072.46,1447.87 1073.41,1447.87 1074.35,1447.87 1075.29,1447.87 1076.24,1447.87 1077.18,1447.87 1078.13,1447.87 1079.07,1447.87 \n",
       "  1080.01,1447.87 1080.96,1447.87 1081.9,1447.87 1082.85,1447.87 1083.79,1447.87 1084.73,1447.87 1085.68,1447.87 1086.62,1447.87 1087.57,1447.87 1088.51,1447.87 \n",
       "  1089.45,1447.87 1090.4,1447.87 1091.34,1447.87 1092.28,1447.87 1093.23,1447.87 1094.17,1447.87 1095.12,1447.87 1096.06,1447.87 1097,1447.87 1097.95,1447.87 \n",
       "  1098.89,1447.87 1099.84,1447.87 1100.78,1447.87 1101.72,1447.87 1102.67,1447.87 1103.61,1447.87 1104.56,1447.87 1105.5,1447.87 1106.44,1447.87 1107.39,1447.87 \n",
       "  1108.33,1447.87 1109.27,1447.87 1110.22,1447.87 1111.16,1447.87 1112.11,1447.87 1113.05,1447.87 1113.99,1447.87 1114.94,1447.87 1115.88,1447.87 1116.83,1447.87 \n",
       "  1117.77,1447.87 1118.71,1447.87 1119.66,1447.87 1120.6,1447.87 1121.55,1447.87 1122.49,1447.87 1123.43,1447.87 1124.38,1447.87 1125.32,1447.87 1126.26,1447.87 \n",
       "  1127.21,1447.87 1128.15,1447.87 1129.1,1447.87 1130.04,1447.87 1130.98,1447.87 1131.93,1447.87 1132.87,1447.87 1133.82,1447.87 1134.76,1447.87 1135.7,1447.87 \n",
       "  1136.65,1447.87 1137.59,1447.87 1138.54,1447.87 1139.48,1447.87 1140.42,1447.87 1141.37,1447.87 1142.31,1447.87 1143.25,1447.87 1144.2,1447.87 1145.14,1447.87 \n",
       "  1146.09,1447.87 1147.03,1447.87 1147.97,1447.87 1148.92,1447.87 1149.86,1447.87 1150.81,1447.87 1151.75,1447.87 1152.69,1447.87 1153.64,1447.87 1154.58,1447.87 \n",
       "  1155.53,1447.87 1156.47,1447.87 1157.41,1447.87 1158.36,1447.87 1159.3,1447.87 1160.24,1447.87 1161.19,1447.87 1162.13,1447.87 1163.08,1447.87 1164.02,1447.87 \n",
       "  1164.96,1447.87 1165.91,1447.87 1166.85,1447.87 1167.8,1447.87 1168.74,1447.87 1169.68,1447.87 1170.63,1447.87 1171.57,1447.87 1172.51,1447.87 1173.46,1447.87 \n",
       "  1174.4,1447.87 1175.35,1447.87 1176.29,1447.87 1177.23,1447.87 1178.18,1447.87 1179.12,1447.87 1180.07,1447.87 1181.01,1447.87 1181.95,1447.87 1182.9,1447.87 \n",
       "  1183.84,1447.87 1184.79,1447.87 1185.73,1447.87 1186.67,1447.87 1187.62,1447.87 1188.56,1447.87 1189.5,1447.87 1190.45,1447.87 1191.39,1447.87 1192.34,1447.87 \n",
       "  1193.28,1447.87 1194.22,1447.87 1195.17,1447.87 1196.11,1447.87 1197.06,1447.87 1198,1447.87 1198.94,1447.87 1199.89,1447.87 1200.83,1447.87 1201.78,1447.87 \n",
       "  1202.72,1447.87 1203.66,1447.87 1204.61,1447.87 1205.55,1447.87 1206.49,1447.87 1207.44,1447.87 1208.38,1447.87 1209.33,1447.87 1210.27,1447.87 1211.21,1447.87 \n",
       "  1212.16,1447.87 1213.1,1447.87 1214.05,1447.87 1214.99,1447.87 1215.93,1447.87 1216.88,1447.87 1217.82,1447.87 1218.77,1447.87 1219.71,1447.87 1220.65,1447.87 \n",
       "  1221.6,1447.87 1222.54,1447.87 1223.48,1447.87 1224.43,1447.87 1225.37,1447.87 1226.32,1447.87 1227.26,1447.87 1228.2,1447.87 1229.15,1447.87 1230.09,1447.87 \n",
       "  1231.04,1447.87 1231.98,1447.87 1232.92,1447.87 1233.87,1447.87 1234.81,1447.87 1235.76,1447.87 1236.7,1447.87 1237.64,1447.87 1238.59,1447.87 1239.53,1447.87 \n",
       "  1240.47,1447.87 1241.42,1447.87 1242.36,1447.87 1243.31,1447.87 1244.25,1447.87 1245.19,1447.87 1246.14,1447.87 1247.08,1447.87 1248.03,1447.87 1248.97,1447.87 \n",
       "  1249.91,1447.87 1250.86,1447.87 1251.8,1447.87 1252.75,1447.87 1253.69,1447.87 1254.63,1447.87 1255.58,1447.87 1256.52,1447.87 1257.46,1447.87 1258.41,1447.87 \n",
       "  1259.35,1447.87 1260.3,1447.87 1261.24,1447.87 1262.18,1447.87 1263.13,1447.87 1264.07,1447.87 1265.02,1447.87 1265.96,1447.87 1266.9,1447.87 1267.85,1447.87 \n",
       "  1268.79,1447.87 1269.73,1447.87 1270.68,1447.87 1271.62,1447.87 1272.57,1447.87 1273.51,1447.87 1274.45,1447.87 1275.4,1447.87 1276.34,1447.87 1277.29,1447.87 \n",
       "  1278.23,1447.87 1279.17,1447.87 1280.12,1447.87 1281.06,1447.87 1282.01,1447.87 1282.95,1447.87 1283.89,1447.87 1284.84,1447.87 1285.78,1447.87 1286.72,1447.87 \n",
       "  1287.67,1447.87 1288.61,1447.87 1289.56,1447.87 1290.5,1447.87 1291.44,1447.87 1292.39,1447.87 1293.33,1447.87 1294.28,1447.87 1295.22,1447.87 1296.16,1447.87 \n",
       "  1297.11,1447.87 1298.05,1447.87 1299,1447.87 1299.94,1447.87 1300.88,1447.87 1301.83,1447.87 1302.77,1447.87 1303.71,1447.87 1304.66,1447.87 1305.6,1447.87 \n",
       "  1306.55,1447.87 1307.49,1447.87 1308.43,1447.87 1309.38,1447.87 1310.32,1447.87 1311.27,1447.87 1312.21,1447.87 1313.15,1447.87 1314.1,1447.87 1315.04,1447.87 \n",
       "  1315.99,1447.87 1316.93,1447.87 1317.87,1447.87 1318.82,1447.87 1319.76,1447.87 1320.7,1447.87 1321.65,1447.87 1322.59,1447.87 1323.54,1447.87 1324.48,1447.87 \n",
       "  1325.42,1447.87 1326.37,1447.87 1327.31,1447.87 1328.26,1447.87 1329.2,1447.87 1330.14,1447.87 1331.09,1447.87 1332.03,1447.87 1332.98,1447.87 1333.92,1447.87 \n",
       "  1334.86,1447.87 1335.81,1447.87 1336.75,1447.87 1337.69,1447.87 1338.64,1447.87 1339.58,1447.87 1340.53,1447.87 1341.47,1447.87 1342.41,1447.87 1343.36,1447.87 \n",
       "  1344.3,1447.87 1345.25,1447.87 1346.19,1447.87 1347.13,1447.87 1348.08,1447.87 1349.02,1447.87 1349.96,1447.87 1350.91,1447.87 1351.85,1447.87 1352.8,1447.87 \n",
       "  1353.74,1447.87 1354.68,1447.87 1355.63,1447.87 1356.57,1447.87 1357.52,1447.87 1358.46,1447.87 1359.4,1447.87 1360.35,1447.87 1361.29,1447.87 1362.24,1447.87 \n",
       "  1363.18,1447.87 1364.12,1447.87 1365.07,1447.87 1366.01,1447.87 1366.95,1447.87 1367.9,1447.87 1368.84,1447.87 1369.79,1447.87 1370.73,1447.87 1371.67,1447.87 \n",
       "  1372.62,1447.87 1373.56,1447.87 1374.51,1447.87 1375.45,1447.87 1376.39,1447.87 1377.34,1447.87 1378.28,1447.87 1379.23,1447.87 1380.17,1447.87 1381.11,1447.87 \n",
       "  1382.06,1447.87 1383,1447.87 1383.94,1447.87 1384.89,1447.87 1385.83,1447.87 1386.78,1447.87 1387.72,1447.87 1388.66,1447.87 1389.61,1447.87 1390.55,1447.87 \n",
       "  1391.5,1447.86 1392.44,1447.63 1393.38,1447.57 1394.33,1447.86 1395.27,1447.87 1396.22,1447.87 1397.16,1447.86 1398.1,1447.6 1399.05,1447.59 1399.99,1447.67 \n",
       "  1400.93,1447.51 1401.88,1447.84 1402.82,1447.68 1403.77,1447.52 1404.71,1447.84 1405.65,1447.56 1406.6,1447.64 1407.54,1447.86 1408.49,1447.87 1409.43,1447.87 \n",
       "  1410.37,1447.87 1411.32,1447.72 1412.26,1447.47 1413.21,1447.85 1414.15,1447.87 1415.09,1447.87 1416.04,1447.87 1416.98,1447.87 1417.92,1447.87 1418.87,1447.87 \n",
       "  1419.81,1447.87 1420.76,1447.87 1421.7,1447.87 1422.64,1447.87 1423.59,1447.87 1424.53,1447.87 1425.48,1447.87 1426.42,1447.87 1427.36,1447.87 1428.31,1447.87 \n",
       "  1429.25,1447.87 1430.2,1447.87 1431.14,1447.87 1432.08,1447.87 1433.03,1447.87 1433.97,1447.87 1434.91,1447.87 1435.86,1447.87 1436.8,1447.87 1437.75,1447.87 \n",
       "  1438.69,1447.87 1439.63,1447.87 1440.58,1447.87 1441.52,1447.87 1442.47,1447.87 1443.41,1447.87 1444.35,1447.87 1445.3,1447.87 1446.24,1447.87 1447.18,1447.87 \n",
       "  1448.13,1447.87 1449.07,1447.87 1450.02,1447.87 1450.96,1447.87 1451.9,1447.87 1452.85,1447.87 1453.79,1447.87 1454.74,1447.87 1455.68,1447.87 1456.62,1447.87 \n",
       "  1457.57,1447.87 1458.51,1447.87 1459.46,1447.87 1460.4,1447.87 1461.34,1447.87 1462.29,1447.87 1463.23,1447.87 1464.17,1447.87 1465.12,1447.87 1466.06,1447.87 \n",
       "  1467.01,1447.87 1467.95,1447.87 1468.89,1447.87 1469.84,1447.87 1470.78,1447.87 1471.73,1447.87 1472.67,1447.87 1473.61,1447.87 1474.56,1447.87 1475.5,1447.87 \n",
       "  1476.45,1447.87 1477.39,1447.87 1478.33,1447.87 1479.28,1447.87 1480.22,1447.87 1481.16,1447.87 1482.11,1447.87 1483.05,1447.87 1484,1447.87 1484.94,1447.87 \n",
       "  1485.88,1447.87 1486.83,1447.87 1487.77,1447.87 1488.72,1447.87 1489.66,1447.87 1490.6,1447.87 1491.55,1447.87 1492.49,1447.87 1493.44,1447.87 1494.38,1447.87 \n",
       "  1495.32,1447.87 1496.27,1447.87 1497.21,1447.87 1498.15,1447.87 1499.1,1447.87 1500.04,1447.87 1500.99,1447.87 1501.93,1447.87 1502.87,1447.87 1503.82,1447.87 \n",
       "  1504.76,1447.87 1505.71,1447.87 1506.65,1447.87 1507.59,1447.87 1508.54,1447.87 1509.48,1447.87 1510.43,1447.87 1511.37,1447.87 1512.31,1447.87 1513.26,1447.87 \n",
       "  1514.2,1447.87 1515.14,1447.87 1516.09,1447.87 1517.03,1447.87 1517.98,1447.87 1518.92,1447.87 1519.86,1447.87 1520.81,1447.87 1521.75,1447.87 1522.7,1447.87 \n",
       "  1523.64,1447.87 1524.58,1447.87 1525.53,1447.87 1526.47,1447.87 1527.42,1447.87 1528.36,1447.87 1529.3,1447.87 1530.25,1447.87 1531.19,1447.87 1532.13,1447.87 \n",
       "  1533.08,1447.87 1534.02,1447.87 1534.97,1447.87 1535.91,1447.87 1536.85,1447.87 1537.8,1447.87 1538.74,1447.87 1539.69,1447.87 1540.63,1447.87 1541.57,1447.87 \n",
       "  1542.52,1447.87 1543.46,1447.87 1544.4,1447.87 1545.35,1447.87 1546.29,1447.87 1547.24,1447.87 1548.18,1447.87 1549.12,1447.87 1550.07,1447.87 1551.01,1447.87 \n",
       "  1551.96,1447.87 1552.9,1447.87 1553.84,1447.87 1554.79,1447.87 1555.73,1447.87 1556.68,1447.87 1557.62,1447.87 1558.56,1447.87 1559.51,1447.87 1560.45,1447.87 \n",
       "  1561.39,1447.87 1562.34,1447.87 1563.28,1447.87 1564.23,1447.87 1565.17,1447.87 1566.11,1447.87 1567.06,1447.87 1568,1447.87 1568.95,1447.87 1569.89,1447.87 \n",
       "  1570.83,1447.87 1571.78,1447.87 1572.72,1447.87 1573.67,1447.87 1574.61,1447.87 1575.55,1447.87 1576.5,1447.87 1577.44,1447.87 1578.38,1447.87 1579.33,1447.87 \n",
       "  1580.27,1447.87 1581.22,1447.87 1582.16,1447.87 1583.1,1447.87 1584.05,1447.87 1584.99,1447.87 1585.94,1447.87 1586.88,1447.87 1587.82,1447.87 1588.77,1447.87 \n",
       "  1589.71,1447.87 1590.66,1447.87 1591.6,1447.87 1592.54,1447.87 1593.49,1447.87 1594.43,1447.87 1595.37,1447.87 1596.32,1447.87 1597.26,1447.87 1598.21,1447.87 \n",
       "  1599.15,1447.87 1600.09,1447.87 1601.04,1447.87 1601.98,1447.87 1602.93,1447.87 1603.87,1447.87 1604.81,1447.87 1605.76,1447.87 1606.7,1447.87 1607.65,1447.87 \n",
       "  1608.59,1447.87 1609.53,1447.87 1610.48,1447.87 1611.42,1447.87 1612.36,1447.87 1613.31,1447.87 1614.25,1447.87 1615.2,1447.87 1616.14,1447.87 1617.08,1447.87 \n",
       "  1618.03,1447.87 1618.97,1447.87 1619.92,1447.87 1620.86,1447.87 1621.8,1447.87 1622.75,1447.87 1623.69,1447.87 1624.63,1447.87 1625.58,1447.87 1626.52,1447.87 \n",
       "  1627.47,1447.87 1628.41,1447.87 1629.35,1447.87 1630.3,1447.87 1631.24,1447.87 1632.19,1447.87 1633.13,1447.87 1634.07,1447.87 1635.02,1447.87 1635.96,1447.87 \n",
       "  1636.91,1447.87 1637.85,1447.87 1638.79,1447.87 1639.74,1447.87 1640.68,1447.87 1641.62,1447.87 1642.57,1447.87 1643.51,1447.87 1644.46,1447.87 1645.4,1447.87 \n",
       "  1646.34,1447.87 1647.29,1447.87 1648.23,1447.87 1649.18,1447.87 1650.12,1447.87 1651.06,1447.87 1652.01,1447.87 1652.95,1447.87 1653.9,1447.87 1654.84,1447.87 \n",
       "  1655.78,1447.87 1656.73,1447.87 1657.67,1447.87 1658.61,1447.87 1659.56,1447.87 1660.5,1447.87 1661.45,1447.87 1662.39,1447.87 1663.33,1447.87 1664.28,1447.87 \n",
       "  1665.22,1447.87 1666.17,1447.87 1667.11,1447.87 1668.05,1447.87 1669,1447.87 1669.94,1447.87 1670.89,1447.87 1671.83,1447.87 1672.77,1447.87 1673.72,1447.87 \n",
       "  1674.66,1447.87 1675.6,1447.87 1676.55,1447.87 1677.49,1447.87 1678.44,1447.87 1679.38,1447.87 1680.32,1447.87 1681.27,1447.87 1682.21,1447.87 1683.16,1447.87 \n",
       "  1684.1,1447.87 1685.04,1447.87 1685.99,1447.87 1686.93,1447.87 1687.88,1447.87 1688.82,1447.87 1689.76,1447.87 1690.71,1447.87 1691.65,1447.87 1692.59,1447.87 \n",
       "  1693.54,1447.87 1694.48,1447.87 1695.43,1447.87 1696.37,1447.87 1697.31,1447.87 1698.26,1447.87 1699.2,1447.87 1700.15,1447.87 1701.09,1447.87 1702.03,1447.87 \n",
       "  1702.98,1447.87 1703.92,1447.87 1704.87,1447.87 1705.81,1447.87 1706.75,1447.87 1707.7,1447.87 1708.64,1447.87 1709.58,1447.87 1710.53,1447.87 1711.47,1447.87 \n",
       "  1712.42,1447.87 1713.36,1447.87 1714.3,1447.87 1715.25,1447.87 1716.19,1447.87 1717.14,1447.87 1718.08,1447.87 1719.02,1447.87 1719.97,1447.87 1720.91,1447.87 \n",
       "  1721.85,1447.87 1722.8,1447.87 1723.74,1447.87 1724.69,1447.87 1725.63,1447.87 1726.57,1447.87 1727.52,1447.87 1728.46,1447.87 1729.41,1447.87 1730.35,1447.87 \n",
       "  1731.29,1447.87 1732.24,1447.87 1733.18,1447.87 1734.13,1447.87 1735.07,1447.87 1736.01,1447.87 1736.96,1447.87 1737.9,1447.87 1738.84,1447.87 1739.79,1447.87 \n",
       "  1740.73,1447.87 1741.68,1447.87 1742.62,1447.87 1743.56,1447.87 1744.51,1447.87 1745.45,1447.87 1746.4,1447.87 1747.34,1447.87 1748.28,1447.87 1749.23,1447.87 \n",
       "  1750.17,1447.87 1751.12,1447.87 1752.06,1447.87 1753,1447.87 1753.95,1447.87 1754.89,1447.87 1755.83,1447.87 1756.78,1447.87 1757.72,1447.87 1758.67,1447.87 \n",
       "  1759.61,1447.87 1760.55,1447.87 1761.5,1447.87 1762.44,1447.87 1763.39,1447.87 1764.33,1447.87 1765.27,1447.87 1766.22,1447.87 1767.16,1447.87 1768.11,1447.87 \n",
       "  1769.05,1447.87 1769.99,1447.87 1770.94,1447.87 1771.88,1447.87 1772.82,1447.87 1773.77,1447.87 1774.71,1447.87 1775.66,1447.87 1776.6,1447.87 1777.54,1447.87 \n",
       "  1778.49,1447.87 1779.43,1447.87 1780.38,1447.87 1781.32,1447.87 1782.26,1447.87 1783.21,1447.87 1784.15,1447.87 1785.1,1447.87 1786.04,1447.87 1786.98,1447.87 \n",
       "  1787.93,1447.87 1788.87,1447.87 1789.81,1447.87 1790.76,1447.87 1791.7,1447.87 1792.65,1447.87 1793.59,1447.87 1794.53,1447.87 1795.48,1447.87 1796.42,1447.87 \n",
       "  1797.37,1447.87 1798.31,1447.87 1799.25,1447.87 1800.2,1447.87 1801.14,1447.87 1802.09,1447.87 1803.03,1447.87 1803.97,1447.87 1804.92,1447.87 1805.86,1447.87 \n",
       "  1806.8,1447.87 1807.75,1447.87 1808.69,1447.87 1809.64,1447.87 1810.58,1447.87 1811.52,1447.87 1812.47,1447.87 1813.41,1447.87 1814.36,1447.87 1815.3,1447.87 \n",
       "  1816.24,1447.87 1817.19,1447.87 1818.13,1447.87 1819.07,1447.87 1820.02,1447.87 1820.96,1447.87 1821.91,1447.87 1822.85,1447.87 1823.79,1447.87 1824.74,1447.87 \n",
       "  1825.68,1447.87 1826.63,1447.87 1827.57,1447.87 1828.51,1447.87 1829.46,1447.87 1830.4,1447.87 1831.35,1447.87 1832.29,1447.87 1833.23,1447.87 1834.18,1447.87 \n",
       "  1835.12,1447.87 1836.06,1447.87 1837.01,1447.87 1837.95,1447.87 1838.9,1447.87 1839.84,1447.87 1840.78,1447.87 1841.73,1447.87 1842.67,1447.87 1843.62,1447.87 \n",
       "  1844.56,1447.87 1845.5,1447.87 1846.45,1447.87 1847.39,1447.87 1848.34,1447.87 1849.28,1447.87 1850.22,1447.87 1851.17,1447.87 1852.11,1447.87 1853.05,1447.87 \n",
       "  1854,1447.87 1854.94,1447.87 1855.89,1447.87 1856.83,1447.87 1857.77,1447.87 1858.72,1447.87 1859.66,1447.87 1860.61,1447.87 1861.55,1447.87 1862.49,1447.87 \n",
       "  1863.44,1447.87 1864.38,1447.87 1865.33,1447.87 1866.27,1447.87 1867.21,1447.87 1868.16,1447.87 1869.1,1447.87 1870.04,1447.87 1870.99,1447.87 1871.93,1447.87 \n",
       "  1872.88,1447.87 1873.82,1447.87 1874.76,1447.87 1875.71,1447.87 1876.65,1447.87 1877.6,1447.87 1878.54,1447.87 1879.48,1447.87 1880.43,1447.87 1881.37,1447.87 \n",
       "  1882.32,1447.87 1883.26,1447.87 1884.2,1447.87 1885.15,1447.87 1886.09,1447.87 1887.03,1447.87 1887.98,1447.87 1888.92,1447.87 1889.87,1447.87 1890.81,1447.87 \n",
       "  1891.75,1447.87 1892.7,1447.87 1893.64,1447.87 1894.59,1447.87 1895.53,1447.87 1896.47,1447.87 1897.42,1447.87 1898.36,1447.87 1899.3,1447.87 1900.25,1447.87 \n",
       "  1901.19,1447.87 1902.14,1447.87 1903.08,1447.87 1904.02,1447.87 1904.97,1447.87 1905.91,1447.87 1906.86,1447.87 1907.8,1447.87 1908.74,1447.87 1909.69,1447.87 \n",
       "  1910.63,1447.87 1911.58,1447.87 1912.52,1447.87 1913.46,1447.87 1914.41,1447.87 1915.35,1447.87 1916.29,1447.87 1917.24,1447.87 1918.18,1447.87 1919.13,1447.87 \n",
       "  1920.07,1447.87 1921.01,1447.87 1921.96,1447.87 1922.9,1447.87 1923.85,1447.87 1924.79,1447.87 1925.73,1447.87 1926.68,1447.87 1927.62,1447.87 1928.57,1447.87 \n",
       "  1929.51,1447.87 1930.45,1447.87 1931.4,1447.87 1932.34,1447.87 1933.28,1447.87 1934.23,1447.87 1935.17,1447.87 1936.12,1447.87 1937.06,1447.87 1938,1447.87 \n",
       "  1938.95,1447.87 1939.89,1447.87 1940.84,1447.87 1941.78,1447.87 1942.72,1447.87 1943.67,1447.87 1944.61,1447.87 1945.56,1447.87 1946.5,1447.87 1947.44,1447.87 \n",
       "  1948.39,1447.87 1949.33,1447.87 1950.27,1447.87 1951.22,1447.87 1952.16,1447.87 1953.11,1447.87 1954.05,1447.87 1954.99,1447.87 1955.94,1447.87 1956.88,1447.87 \n",
       "  1957.83,1447.87 1958.77,1447.87 1959.71,1447.87 1960.66,1447.87 1961.6,1447.87 1962.55,1447.87 1963.49,1447.87 1964.43,1447.87 1965.38,1447.87 1966.32,1447.87 \n",
       "  1967.26,1447.87 1968.21,1447.87 1969.15,1447.87 1970.1,1447.87 1971.04,1447.87 1971.98,1447.87 1972.93,1447.87 1973.87,1447.87 1974.82,1447.87 1975.76,1447.87 \n",
       "  1976.7,1447.87 1977.65,1447.87 1978.59,1447.87 1979.54,1447.87 1980.48,1447.87 1981.42,1447.87 1982.37,1447.87 1983.31,1447.87 1984.25,1447.87 1985.2,1447.87 \n",
       "  1986.14,1447.87 1987.09,1447.87 1988.03,1447.87 1988.97,1447.87 1989.92,1447.87 1990.86,1447.87 1991.81,1447.87 1992.75,1447.87 1993.69,1447.87 1994.64,1447.87 \n",
       "  1995.58,1447.87 1996.52,1447.87 1997.47,1447.87 1998.41,1447.87 1999.36,1447.87 2000.3,1447.87 2001.24,1447.87 2002.19,1447.87 2003.13,1447.87 2004.08,1447.87 \n",
       "  2005.02,1447.87 2005.96,1447.87 2006.91,1447.87 2007.85,1447.87 2008.8,1447.87 2009.74,1447.87 2010.68,1447.87 2011.63,1447.87 2012.57,1447.87 2013.51,1447.87 \n",
       "  2014.46,1447.87 2015.4,1447.87 2016.35,1447.87 2017.29,1447.87 2018.23,1447.87 2019.18,1447.87 2020.12,1447.87 2021.07,1447.87 2022.01,1447.87 2022.95,1447.87 \n",
       "  2023.9,1447.87 2024.84,1447.87 2025.79,1447.87 2026.73,1447.87 2027.67,1447.87 2028.62,1447.87 2029.56,1447.87 2030.5,1447.87 2031.45,1447.87 2032.39,1447.87 \n",
       "  2033.34,1447.87 2034.28,1447.87 2035.22,1447.87 2036.17,1447.87 2037.11,1447.87 2038.06,1447.87 2039,1447.87 2039.94,1447.87 2040.89,1447.87 2041.83,1447.87 \n",
       "  2042.78,1447.87 2043.72,1447.87 2044.66,1447.87 2045.61,1447.87 2046.55,1447.87 2047.49,1447.87 2048.44,1447.87 2049.38,1447.87 2050.33,1447.87 2051.27,1447.87 \n",
       "  2052.21,1447.87 2053.16,1447.87 2054.1,1447.87 2055.05,1447.87 2055.99,1447.87 2056.93,1447.87 2057.88,1447.87 2058.82,1447.87 2059.77,1447.87 2060.71,1447.87 \n",
       "  2061.65,1447.87 2062.6,1447.87 2063.54,1447.87 2064.48,1447.87 2065.43,1447.87 2066.37,1447.87 2067.32,1447.87 2068.26,1447.87 2069.2,1447.87 2070.15,1447.87 \n",
       "  2071.09,1447.87 2072.04,1447.87 2072.98,1447.87 2073.92,1447.87 2074.87,1447.87 2075.81,1447.87 2076.76,1447.87 2077.7,1447.87 2078.64,1447.87 2079.59,1447.87 \n",
       "  2080.53,1447.87 2081.47,1447.87 2082.42,1447.87 2083.36,1447.87 2084.31,1447.87 2085.25,1447.87 2086.19,1447.87 2087.14,1447.87 2088.08,1447.87 2089.03,1447.87 \n",
       "  2089.97,1447.87 2090.91,1447.87 2091.86,1447.87 2092.8,1447.87 2093.74,1447.87 2094.69,1447.87 2095.63,1447.87 2096.58,1447.87 2097.52,1447.87 2098.46,1447.87 \n",
       "  2099.41,1447.87 2100.35,1447.87 2101.3,1447.87 2102.24,1447.87 2103.18,1447.87 2104.13,1447.87 2105.07,1447.87 2106.02,1447.87 2106.96,1447.87 2107.9,1447.87 \n",
       "  2108.85,1447.87 2109.79,1447.87 2110.73,1447.87 2111.68,1447.87 2112.62,1447.87 2113.57,1447.87 2114.51,1447.87 2115.45,1447.87 2116.4,1447.87 2117.34,1447.87 \n",
       "  2118.29,1447.87 2119.23,1447.87 2120.17,1447.87 2121.12,1447.87 2122.06,1447.87 2123.01,1447.87 2123.95,1447.87 2124.89,1447.87 2125.84,1447.87 2126.78,1447.87 \n",
       "  2127.72,1447.87 2128.67,1447.87 2129.61,1447.87 2130.56,1447.87 2131.5,1447.87 2132.44,1447.87 2133.39,1447.87 2134.33,1447.87 2135.28,1447.87 2136.22,1447.87 \n",
       "  2137.16,1447.87 2138.11,1447.87 2139.05,1447.87 2140,1447.87 2140.94,1447.87 2141.88,1447.87 2142.83,1447.87 2143.77,1447.87 2144.71,1447.87 2145.66,1447.87 \n",
       "  2146.6,1447.87 2147.55,1447.87 2148.49,1447.87 2149.43,1447.87 2150.38,1447.87 2151.32,1447.87 2152.27,1447.87 2153.21,1447.87 2154.15,1447.87 2155.1,1447.87 \n",
       "  2156.04,1447.87 2156.99,1447.87 2157.93,1447.87 2158.87,1447.87 2159.82,1447.87 2160.76,1447.87 2161.7,1447.87 2162.65,1447.87 2163.59,1447.87 2164.54,1447.87 \n",
       "  2165.48,1447.87 2166.42,1447.87 2167.37,1447.87 2168.31,1447.87 2169.26,1447.87 2170.2,1447.87 2171.14,1447.87 2172.09,1447.87 2173.03,1447.87 2173.97,1447.87 \n",
       "  2174.92,1447.87 2175.86,1447.87 2176.81,1447.87 2177.75,1447.87 2178.69,1447.87 2179.64,1447.87 2180.58,1447.87 2181.53,1447.87 2182.47,1447.87 2183.41,1447.87 \n",
       "  2184.36,1447.87 2185.3,1447.87 2186.25,1447.87 2187.19,1447.87 2188.13,1447.87 2189.08,1447.87 2190.02,1447.87 2190.96,1447.87 2191.91,1447.87 2192.85,1447.87 \n",
       "  2193.8,1447.87 2194.74,1447.87 2195.68,1447.87 2196.63,1447.87 2197.57,1447.87 2198.52,1447.87 2199.46,1447.87 2200.4,1447.87 2201.35,1447.87 2202.29,1447.87 \n",
       "  2203.24,1447.87 2204.18,1447.87 2205.12,1447.87 2206.07,1447.87 2207.01,1447.87 2207.95,1447.87 2208.9,1447.87 2209.84,1447.87 2210.79,1447.87 2211.73,1447.87 \n",
       "  2212.67,1447.87 2213.62,1447.87 2214.56,1447.87 2215.51,1447.87 2216.45,1447.87 2217.39,1447.87 2218.34,1447.87 2219.28,1447.87 2220.23,1447.87 2221.17,1447.87 \n",
       "  2222.11,1447.87 2223.06,1447.87 2224,1447.87 2224.94,1447.87 2225.89,1447.87 2226.83,1447.87 2227.78,1447.87 2228.72,1447.87 2229.66,1447.87 2230.61,1447.87 \n",
       "  2231.55,1447.87 2232.5,1447.87 2233.44,1447.87 2234.38,1447.87 2235.33,1447.87 2236.27,1447.87 2237.22,1447.87 2238.16,1447.87 2239.1,1447.87 2240.05,1447.87 \n",
       "  2240.99,1447.87 2241.93,1447.87 2242.88,1447.87 2243.82,1447.87 2244.77,1447.87 2245.71,1447.87 2246.65,1447.87 2247.6,1447.87 2248.54,1447.87 2249.49,1447.87 \n",
       "  2250.43,1447.87 2251.37,1447.87 2252.32,1447.87 2253.26,1447.87 2254.21,1447.87 2255.15,1447.87 2256.09,1447.87 2257.04,1447.87 2257.98,1447.87 2258.92,1447.87 \n",
       "  2259.87,1447.87 2260.81,1447.87 2261.76,1447.87 2262.7,1447.87 2263.64,1447.87 2264.59,1447.87 2265.53,1447.87 2266.48,1447.87 2267.42,1447.87 2268.36,1447.87 \n",
       "  2269.31,1447.87 2270.25,1447.87 2271.19,1447.87 2272.14,1447.87 2273.08,1447.87 2274.03,1447.87 2274.97,1447.87 2275.91,1447.87 2276.86,1447.87 2277.8,1447.87 \n",
       "  2278.75,1447.87 2279.69,1447.87 2280.63,1447.87 2281.58,1447.87 2282.52,1447.87 2283.47,1447.87 2284.41,1447.86 2285.35,1447.87 2286.3,1447.86 2287.24,1447.87 \n",
       "  2288.18,1447.86 2289.13,1447.87 2290.07,1447.85 2291.02,1447.87 2291.96,1447.85 2292.9,1447.85 2293.85,1447.33 2294.79,1447.87 \n",
       "  \"/>\n",
       "</svg>\n"
      ]
     },
     "execution_count": 32,
     "metadata": {},
     "output_type": "execute_result"
    }
   ],
   "source": [
    "plot(dens.x, dens.density, legend=false, title=string(\"Tau Leap Simulation, step: \",step_str,\" days\"))"
   ]
  },
  {
   "cell_type": "code",
   "execution_count": null,
   "id": "beb14dd0",
   "metadata": {},
   "outputs": [],
   "source": []
  },
  {
   "cell_type": "code",
   "execution_count": null,
   "id": "f3d6a725",
   "metadata": {},
   "outputs": [],
   "source": []
  },
  {
   "cell_type": "code",
   "execution_count": null,
   "id": "ffd70234",
   "metadata": {},
   "outputs": [],
   "source": []
  },
  {
   "cell_type": "code",
   "execution_count": null,
   "id": "25ce23d1",
   "metadata": {},
   "outputs": [],
   "source": []
  },
  {
   "cell_type": "code",
   "execution_count": null,
   "id": "8ce91332",
   "metadata": {},
   "outputs": [],
   "source": []
  }
 ],
 "metadata": {
  "kernelspec": {
   "display_name": "Julia 1.6.2",
   "language": "julia",
   "name": "julia-1.6"
  },
  "language_info": {
   "file_extension": ".jl",
   "mimetype": "application/julia",
   "name": "julia",
   "version": "1.6.2"
  }
 },
 "nbformat": 4,
 "nbformat_minor": 5
}
