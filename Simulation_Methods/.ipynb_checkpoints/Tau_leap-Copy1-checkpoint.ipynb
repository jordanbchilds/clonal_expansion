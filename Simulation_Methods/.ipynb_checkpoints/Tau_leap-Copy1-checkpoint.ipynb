{
 "cells": [
  {
   "cell_type": "code",
   "execution_count": 1,
   "id": "1dc6f8c3",
   "metadata": {},
   "outputs": [
    {
     "data": {
      "text/plain": [
       "\"simple ABC for Wild type mtDNA in Moraes paper.\\nUsing the Jordan top hazard function and the JPMorgan bottom hazard function\\n\\n\""
      ]
     },
     "execution_count": 1,
     "metadata": {},
     "output_type": "execute_result"
    }
   ],
   "source": [
    "\"\"\"\n",
    "simple ABC for Wild type mtDNA in Moraes paper.\n",
    "Using the Jordan top hazard function and the JPMorgan bottom hazard function\n",
    "\n",
    "\"\"\""
   ]
  },
  {
   "cell_type": "code",
   "execution_count": 2,
   "id": "37b6b3aa",
   "metadata": {},
   "outputs": [],
   "source": [
    "using Distributed, Plots, DelimitedFiles, CSV, DataFrames, Random, Distributions"
   ]
  },
  {
   "cell_type": "code",
   "execution_count": 3,
   "id": "8b7adffa",
   "metadata": {},
   "outputs": [],
   "source": [
    "length(Sys.cpu_info())\n",
    "addprocs(4) ;"
   ]
  },
  {
   "cell_type": "code",
   "execution_count": 4,
   "id": "5796b50e",
   "metadata": {},
   "outputs": [],
   "source": [
    "@everywhere using Random, Distributions"
   ]
  },
  {
   "cell_type": "code",
   "execution_count": 5,
   "id": "14d06f0b",
   "metadata": {},
   "outputs": [],
   "source": [
    "moraes_df = DataFrame(CSV.File(\"../Moraes_data.csv\"))\n",
    "\n",
    "wild_df = filter(row->row.type==\"wild\", moraes_df) ;"
   ]
  },
  {
   "cell_type": "code",
   "execution_count": 6,
   "id": "c57bbd14",
   "metadata": {},
   "outputs": [],
   "source": [
    "@everywhere struct SPN\n",
    "    init_pops::Real\n",
    "    rate_vec::Vector{Real}\n",
    "    Stoichiometry_matrix::Vector{Real}\n",
    "    function SPN(init_pops, rate_vec, Stoichiometry_matrix)\n",
    "        new(init_pops, rate_vec, Stoichiometry_matrix)\n",
    "    end\n",
    "end"
   ]
  },
  {
   "cell_type": "code",
   "execution_count": 7,
   "id": "841efe70",
   "metadata": {},
   "outputs": [],
   "source": [
    "@everywhere init(N::SPN) = Float64.(N.init_pops)\n",
    "@everywhere rates(N::SPN) = Float64.(N.rate_vec)\n",
    "@everywhere StoiMat(N::SPN) = Float64.(N.Stoichiometry_matrix)"
   ]
  },
  {
   "cell_type": "code",
   "execution_count": 8,
   "id": "dea59d9b",
   "metadata": {},
   "outputs": [],
   "source": [
    "@everywhere const post = [2,0] \n",
    "@everywhere const pre = [1,1]\n",
    "@everywhere const S = post - pre"
   ]
  },
  {
   "cell_type": "code",
   "execution_count": 9,
   "id": "d0b66015",
   "metadata": {},
   "outputs": [],
   "source": [
    "hour = 3600\n",
    "day = 24*hour\n",
    "year = 365*day\n",
    "\n",
    "step_str = \"1\"\n",
    "step = 1*day\n",
    "step_out = 1*day\n",
    "\n",
    "Tmax = 1*year \n",
    "Nsim = 1000 ; "
   ]
  },
  {
   "cell_type": "code",
   "execution_count": 29,
   "id": "e4e4217e",
   "metadata": {},
   "outputs": [],
   "source": [
    "@everywhere function hazard(x::Float64, th::Vector{Float64}, error::Float64)::Vector{Float64}\n",
    "    k = th[1:2]\n",
    "    Kc = th[3:4]\n",
    "    if error<0\n",
    "        k1 = k[1]+error*Kc[1]\n",
    "        return x .*[k1, k[2]]\n",
    "    else \n",
    "        k1 = 2*k[1]/(1+exp(-error*Kc[2]))\n",
    "        return x .*[k1, k[2]]\n",
    "    end\n",
    "end"
   ]
  },
  {
   "cell_type": "code",
   "execution_count": 25,
   "id": "4cbfd03e",
   "metadata": {},
   "outputs": [
    {
     "data": {
      "text/plain": [
       "2-element Vector{Float64}:\n",
       " 6.058802039918405e-6\n",
       " 6.120000000000001e-6"
      ]
     },
     "execution_count": 25,
     "metadata": {},
     "output_type": "execute_result"
    }
   ],
   "source": [
    "hazard(200.0, [3.06e-8, 3.06e-8, 8.99e-9, 2e-4], -100.0)"
   ]
  },
  {
   "cell_type": "code",
   "execution_count": null,
   "id": "3d9bce08",
   "metadata": {},
   "outputs": [],
   "source": []
  },
  {
   "cell_type": "code",
   "execution_count": 12,
   "id": "2d24dd79",
   "metadata": {},
   "outputs": [],
   "source": [
    "@everywhere function randPois(λ::Vector{Float64})::Vector{Int64}\n",
    "    pos_rates = (λ.>0).*λ\n",
    "    [rand(Poisson(rate)) for rate in pos_rates]\n",
    "end"
   ]
  },
  {
   "cell_type": "code",
   "execution_count": 43,
   "id": "abcc5080",
   "metadata": {},
   "outputs": [],
   "source": [
    "@everywhere function transform_summ(popdym, C0)::Array{Union{Float64, Missing}}\n",
    "    popdym / C0\n",
    "end"
   ]
  },
  {
   "cell_type": "code",
   "execution_count": 44,
   "id": "8e0e279a",
   "metadata": {},
   "outputs": [],
   "source": [
    "@everywhere function tauleap(spn::SPN, Tmax::Real, dt::Real, dtout::Real)::Array{Union{Float64, Missing}}\n",
    "    x = init(spn)\n",
    "    C0 = x\n",
    "    k = rates(spn)\n",
    "    S = StoiMat(spn)\n",
    "    N = trunc(Int, Tmax/dt) \n",
    "    Nout = trunc(Int, Tmax/dtout) + 1\n",
    "    popdym = Array{Float64, 1}(undef, Nout)\n",
    "    target = 0.0\n",
    "    tt = 0.0\n",
    "    \n",
    "    popdym[1] = x\n",
    "    i = 2\n",
    "    for _=1:N\n",
    "        error = C0 - x\n",
    "        h = hazard(x, k, C0)\n",
    "        if( sum(h) < 1e-10 )\n",
    "            popdym[i:Nout] = zeros(Nout-i+1)\n",
    "            return transform_summ(popdym, C0)\n",
    "        end\n",
    "        R = randPois(h*dt)\n",
    "        x = x + (S'*R) \n",
    "        x = x<0.0 ? 0.0 : x\n",
    "        tt += dt\n",
    "        while tt>=target && i<=Nout\n",
    "            popdym[i] = x\n",
    "            target += dtout\n",
    "            i += 1\n",
    "        end\n",
    "    end\n",
    "    return transform_summ(popdym, C0)\n",
    "end\n"
   ]
  },
  {
   "cell_type": "code",
   "execution_count": 27,
   "id": "04cea83c",
   "metadata": {},
   "outputs": [
    {
     "data": {
      "text/plain": [
       "SPN(200, Real[3.06e-8, 3.06e-8, 8.99e-9, 2.0e-6], Real[1, -1])"
      ]
     },
     "execution_count": 27,
     "metadata": {},
     "output_type": "execute_result"
    }
   ],
   "source": [
    "spn = SPN(200, [3.06e-8, 3.06e-8, 8.99e-9, 2e-6], S)"
   ]
  },
  {
   "cell_type": "code",
   "execution_count": 46,
   "id": "1cda6727",
   "metadata": {},
   "outputs": [],
   "source": [
    "tt = tauleap(spn, Tmax, step, step_out) ; "
   ]
  },
  {
   "cell_type": "code",
   "execution_count": 49,
   "id": "c12dca5b",
   "metadata": {},
   "outputs": [],
   "source": [
    "# The arguments are: 1) a function 'f' and 2) a list with the input.\n",
    "@everywhere function par_sim(Nsim::Int64, f, spn::SPN, Tmax::Real, dt::Real, dtout::Real)\n",
    "    np = nworkers()            # Number of processes available.\n",
    "    output = Vector{Array{Float64}}(undef, Nsim) \n",
    "    i = 1\n",
    "    nextidx() = (idx = i; i += 1; idx) # Function to know which is the next work item.\n",
    "    @sync begin #@sync: must complete all jobs in block\n",
    "        for p = 1:np # loops through all processes (workers)\n",
    "            if p != myid() || np == 1 # first worker used only if all others are busy \n",
    "                @async begin # launch several tasks simultaneaously\n",
    "                    while true\n",
    "                        idx = nextidx()\n",
    "                        if idx > Nsim\n",
    "                            break\n",
    "                        end\n",
    "                        output[idx] = remotecall_fetch(f, p, spn, Tmax, dt, dtout)\n",
    "                    end\n",
    "                end\n",
    "            end\n",
    "        end\n",
    "    end\n",
    "    output\n",
    "end"
   ]
  },
  {
   "cell_type": "code",
   "execution_count": 50,
   "id": "01549ff0",
   "metadata": {},
   "outputs": [],
   "source": [
    "simulations = par_sim(Nsim, tauleap, spn, Tmax, step, step_out) ;"
   ]
  },
  {
   "cell_type": "code",
   "execution_count": null,
   "id": "53afe93e",
   "metadata": {},
   "outputs": [],
   "source": []
  },
  {
   "cell_type": "code",
   "execution_count": 19,
   "id": "c125976a",
   "metadata": {},
   "outputs": [],
   "source": [
    "@everywhere function quantiles(sims, p)::Array{Float64, 3}\n",
    "    \"\"\"\n",
    "    returns quantile summaries from simulations\n",
    "    \"\"\"\n",
    "    Nsim = length(sims) # Nsim: number of simulations\n",
    "    n = size(sims[1])[1] # length of one simulation\n",
    "    out = Array{Float64}(undef, n,length(p),2)\n",
    "    for t=1:n\n",
    "        out[t,:,1] = quantile(skipmissing([sims[i][t,1] for i=1:Nsim]), p)\n",
    "        out[t,:,2] = quantile(skipmissing([sims[i][t,2] for i=1:Nsim]), p)\n",
    "    end\n",
    "    out\n",
    "end"
   ]
  },
  {
   "cell_type": "code",
   "execution_count": 20,
   "id": "44a539a6",
   "metadata": {},
   "outputs": [],
   "source": [
    "@everywhere function time_slice(sims, t, Tmax, dtout)\n",
    "    t_low = [0:dtout:Tmax-dtout;]\n",
    "    t_up = [dtout:dtout:Tmax;]\n",
    "    Nsim = length(sims)\n",
    "    nt = length(t)\n",
    "    sim_slice = Array{Any, 3}(undef, Nsim,nt,2)\n",
    "    for i=1:Nsim\n",
    "        for j=1:nt\n",
    "            indx = t[j].>=t_low .& t[j].<t_up\n",
    "            sim_slice[i,j,1] = sims[i][vcat(indx, false),1]\n",
    "            sim_slice[i,j,2] = sims[i][vcat(indx, false),2]\n",
    "        end\n",
    "    end\n",
    "    return sim_slice\n",
    "end"
   ]
  },
  {
   "cell_type": "code",
   "execution_count": 21,
   "id": "96fcf322",
   "metadata": {},
   "outputs": [
    {
     "ename": "LoadError",
     "evalue": "UndefVarError: simulations not defined",
     "output_type": "error",
     "traceback": [
      "UndefVarError: simulations not defined",
      "",
      "Stacktrace:",
      " [1] top-level scope",
      "   @ In[21]:1",
      " [2] eval",
      "   @ ./boot.jl:360 [inlined]",
      " [3] include_string(mapexpr::typeof(REPL.softscope), mod::Module, code::String, filename::String)",
      "   @ Base ./loading.jl:1116"
     ]
    }
   ],
   "source": [
    "sims_qntl = quantiles(simulations, [0.025,0.5,0.975]) ;"
   ]
  },
  {
   "cell_type": "code",
   "execution_count": 22,
   "id": "8ccbd9b9",
   "metadata": {},
   "outputs": [
    {
     "data": {
      "text/plain": [
       "prior_draws (generic function with 1 method)"
      ]
     },
     "execution_count": 22,
     "metadata": {},
     "output_type": "execute_result"
    }
   ],
   "source": [
    "function prior_draws()::Array{Float64, 1}\n",
    "    # some priors taken from JPMorgan\n",
    "    k1 = rand(Uniform(2e-8, 8e-6))\n",
    "    k2 = rand(Uniform(2e-8, 8e-6))\n",
    "    kc1 = rand(Uniform(0, 8e-6))\n",
    "    kc2 = rand(Uniform(1e-5, 1e-2))\n",
    "    return [k1, k2, kc1, kc2]\n",
    "end"
   ]
  },
  {
   "cell_type": "code",
   "execution_count": 23,
   "id": "2992083b",
   "metadata": {},
   "outputs": [
    {
     "data": {
      "text/plain": [
       "easy_abc (generic function with 1 method)"
      ]
     },
     "execution_count": 23,
     "metadata": {},
     "output_type": "execute_result"
    }
   ],
   "source": [
    "function easy_abc(Nabc, spn, Tmax, step, step_out, Nsim)\n",
    "    # draw parameters\n",
    "    abc_output = Array{Any}()\n",
    "    for i=1:Nabc\n",
    "        theta_star = prior_draws()\n",
    "        spn\n",
    "        sims = par_sim(Nsim, tauleap, spn, Tmax, step, step_out)\n",
    "        sims_qntl = quantiles(sims, [0.025,0.5,0.975])\n",
    "    end\n",
    "end"
   ]
  },
  {
   "cell_type": "code",
   "execution_count": null,
   "id": "8961fe95",
   "metadata": {},
   "outputs": [],
   "source": []
  },
  {
   "cell_type": "code",
   "execution_count": null,
   "id": "ea6dc0f0",
   "metadata": {},
   "outputs": [],
   "source": []
  },
  {
   "cell_type": "code",
   "execution_count": null,
   "id": "0a9f261f",
   "metadata": {},
   "outputs": [],
   "source": []
  },
  {
   "cell_type": "code",
   "execution_count": null,
   "id": "1f8966a1",
   "metadata": {},
   "outputs": [],
   "source": []
  },
  {
   "cell_type": "code",
   "execution_count": null,
   "id": "ce6ddc4f",
   "metadata": {},
   "outputs": [],
   "source": []
  }
 ],
 "metadata": {
  "kernelspec": {
   "display_name": "Julia 1.6.2",
   "language": "julia",
   "name": "julia-1.6"
  },
  "language_info": {
   "file_extension": ".jl",
   "mimetype": "application/julia",
   "name": "julia",
   "version": "1.6.2"
  }
 },
 "nbformat": 4,
 "nbformat_minor": 5
}
