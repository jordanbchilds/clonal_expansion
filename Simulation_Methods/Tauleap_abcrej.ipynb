{
 "cells": [
  {
   "cell_type": "code",
   "execution_count": 1,
   "id": "1dc6f8c3",
   "metadata": {},
   "outputs": [],
   "source": [
    "\"\"\"\n",
    "simple ABC for Wild type mtDNA in Moraes paper.\n",
    "Using the Jordan top hazard function and the JPMorgan bottom hazard function\n",
    "\n",
    "\"\"\" ;"
   ]
  },
  {
   "cell_type": "code",
   "execution_count": 2,
   "id": "37b6b3aa",
   "metadata": {},
   "outputs": [],
   "source": [
    "using Distributed, Plots, DelimitedFiles, CSV, DataFrames, Random, Distributions"
   ]
  },
  {
   "cell_type": "code",
   "execution_count": 3,
   "id": "8b7adffa",
   "metadata": {},
   "outputs": [],
   "source": [
    "length(Sys.cpu_info())\n",
    "addprocs(4) ;"
   ]
  },
  {
   "cell_type": "code",
   "execution_count": 4,
   "id": "5796b50e",
   "metadata": {},
   "outputs": [],
   "source": [
    "@everywhere using Random, Distributions"
   ]
  },
  {
   "cell_type": "code",
   "execution_count": 5,
   "id": "b14877ee",
   "metadata": {},
   "outputs": [],
   "source": [
    "moraes = DataFrame(CSV.File(\"../Moraes_data.csv\"))\n",
    "moraes_df = filter(r->r.time>=15, moraes)\n",
    "\n",
    "wild_df = filter(row->row.type==\"wild\", moraes_df)  ; "
   ]
  },
  {
   "cell_type": "code",
   "execution_count": 6,
   "id": "e225c381",
   "metadata": {},
   "outputs": [],
   "source": [
    "wild_mat = Array{Float64, 2}(undef, length(unique(moraes_df.time)), length(unique(moraes_df.bound)))\n",
    "bounds = unique(wild_df.bound)\n",
    "for i=1:length(bounds)\n",
    "        wild_mat[:,i] = filter(r->r.bound==bounds[i], wild_df).exp_level\n",
    "end"
   ]
  },
  {
   "cell_type": "code",
   "execution_count": 7,
   "id": "c57bbd14",
   "metadata": {},
   "outputs": [],
   "source": [
    "@everywhere struct SPN\n",
    "    init_pop::Real\n",
    "    pops::Real\n",
    "    rate_vec::Vector{Real}\n",
    "    Stoichiometry_matrix::Vector{Real}\n",
    "    function SPN(init_pop, pops, rate_vec, Stoichiometry_matrix)\n",
    "        new(init_pop, pops, rate_vec, Stoichiometry_matrix)\n",
    "    end\n",
    "end"
   ]
  },
  {
   "cell_type": "code",
   "execution_count": 8,
   "id": "841efe70",
   "metadata": {},
   "outputs": [],
   "source": [
    "@everywhere init(N::SPN) = Float64.(N.init_pop)\n",
    "@everywhere starting_pop(N::SPN) = Float64.(N.pops)\n",
    "@everywhere rates(N::SPN) = Float64.(N.rate_vec)\n",
    "@everywhere StoiMat(N::SPN) = Float64.(N.Stoichiometry_matrix)"
   ]
  },
  {
   "cell_type": "code",
   "execution_count": 9,
   "id": "dea59d9b",
   "metadata": {},
   "outputs": [],
   "source": [
    "@everywhere const post = [2,0] \n",
    "@everywhere const pre = [1,1]\n",
    "@everywhere const S = post - pre"
   ]
  },
  {
   "cell_type": "code",
   "execution_count": 10,
   "id": "d0b66015",
   "metadata": {},
   "outputs": [],
   "source": [
    "hour = 3600\n",
    "day = 24*hour\n",
    "year = 365*day\n",
    "\n",
    "step_str = \"1\"\n",
    "step = 1*day\n",
    "step_out = 1*day\n",
    "\n",
    "Tmax = 50*year \n",
    "Nsim = 1000 \n",
    "timed = unique(wild_df[:,\"time\"])*day ;"
   ]
  },
  {
   "cell_type": "code",
   "execution_count": 12,
   "id": "e4e4217e",
   "metadata": {},
   "outputs": [],
   "source": [
    "@everywhere function hazard(x::Float64, th::Vector{Float64}, error::Float64)::Vector{Float64}\n",
    "    k = th[1:2]\n",
    "    Kc = th[3:4]\n",
    "    if error>=0\n",
    "        k1 = k[1]+error*Kc[1]\n",
    "        return x .*[k1, k[2]]\n",
    "    else \n",
    "        k1 = 2*k[1]/(1+exp(-error*Kc[2]))\n",
    "        return x .*[k1, k[2]]\n",
    "    end\n",
    "end"
   ]
  },
  {
   "cell_type": "code",
   "execution_count": 13,
   "id": "2d24dd79",
   "metadata": {},
   "outputs": [],
   "source": [
    "@everywhere function randPois(λ::Vector{Float64})::Vector{Int64}\n",
    "    pos_rates = (λ.>0).*λ\n",
    "    [rand(Poisson(rate)) for rate in pos_rates]\n",
    "end"
   ]
  },
  {
   "cell_type": "code",
   "execution_count": 14,
   "id": "abcc5080",
   "metadata": {},
   "outputs": [],
   "source": [
    "@everywhere function transform_summ(popdym, C0)::Array{Union{Float64, Missing}}\n",
    "    popdym / C0\n",
    "end"
   ]
  },
  {
   "cell_type": "code",
   "execution_count": 15,
   "id": "8e0e279a",
   "metadata": {},
   "outputs": [],
   "source": [
    "@everywhere function tauleap(spn::SPN, Tmax::Real, dt::Real, dtout::Real, target)::Array{Union{Float64, Missing}}\n",
    "\n",
    "    x = starting_pop(spn) # population to start simulation\n",
    "    C0 = isnan(init(spn)) ? x : init(spn) # if NaN given for initial population then x starts simuatlion\n",
    "                                          # if not the given C0 starts the simulation\n",
    "    k = rates(spn)\n",
    "    S = StoiMat(spn)\n",
    "    N = trunc(Int, Tmax/dt) \n",
    "    Nout = length(target) \n",
    "    popdym = Array{Float64, 2}(undef, length(x),Nout)\n",
    "    # target = 0.0\n",
    "    tt = 0.0\n",
    "    i = 1\n",
    "    for _=1:N\n",
    "        while i<=Nout && tt>=target[i] \n",
    "            popdym[i] = x\n",
    "            #target += dtout\n",
    "            i += 1\n",
    "        end\n",
    "        error = C0 - x\n",
    "        h = hazard(x, k, error)\n",
    "        if( sum(h) < 1e-10 )\n",
    "            popdym[i:Nout] = zeros(Nout-i+1)\n",
    "            return transform_summ(popdym, C0)\n",
    "        end\n",
    "        R = randPois(h*dt)\n",
    "        x = x + (S'*R) \n",
    "        x = x<0.0 ? 0.0 : x\n",
    "        if x > 10*C0\n",
    "            popdym = fill(NaN, Nout)\n",
    "            return popdym\n",
    "        end\n",
    "        tt += dt\n",
    "    end\n",
    "    return transform_summ(popdym, C0)\n",
    "end\n"
   ]
  },
  {
   "cell_type": "code",
   "execution_count": 16,
   "id": "c12dca5b",
   "metadata": {},
   "outputs": [],
   "source": [
    "# The arguments are: 1) a function 'f' and 2) a list with the input.\n",
    "@everywhere function par_sim(Nsim::Int64, f, spn::SPN, Tmax::Real, dt::Real, dtout::Real, target)\n",
    "    np = nworkers()            # Number of processes available.\n",
    "    output = Vector{Array{Float64}}(undef, Nsim) \n",
    "    i = 1\n",
    "    nextidx() = (idx = i; i += 1; idx) # Function to know which is the next work item.\n",
    "    @sync begin #@sync: must complete all jobs in block\n",
    "        for p = 1:np # loops through all processes (workers)\n",
    "            if p != myid() || np == 1 # first worker used only if all others are busy \n",
    "                @async begin # launch several tasks simultaneaously\n",
    "                    while true\n",
    "                        idx = nextidx()\n",
    "                        if idx > Nsim\n",
    "                            break\n",
    "                        end\n",
    "                        output[idx] = remotecall_fetch(f, p, spn, Tmax, dt, dtout, target)\n",
    "                    end\n",
    "                end\n",
    "            end\n",
    "        end\n",
    "    end\n",
    "    output\n",
    "end"
   ]
  },
  {
   "cell_type": "code",
   "execution_count": 19,
   "id": "a17a0909",
   "metadata": {},
   "outputs": [],
   "source": [
    "n = trunc(Int, Tmax/step_out)\n",
    "sim_mat = Array{Float64}(undef, Nsim,length(timed))\n",
    "\n",
    "for i=1:Nsim\n",
    "    sim_mat[i,:] = simulations[i]'\n",
    "end\n",
    "\n",
    "sim_mat ;"
   ]
  },
  {
   "cell_type": "code",
   "execution_count": 22,
   "id": "c125976a",
   "metadata": {},
   "outputs": [],
   "source": [
    "@everywhere function quantiles(sims, p)::Array{Float64, 2}\n",
    "    \"\"\"\n",
    "    returns quantile summaries from simulations\n",
    "    \"\"\"\n",
    "    Nsim = length(sims) # Nsim: number of simulations\n",
    "    n = length(sims[1]) # length of one simulation\n",
    "    np = length(p)\n",
    "    out = Array{Float64}(undef, n, np)\n",
    "    for t=1:n\n",
    "        vec = [ sims[i][t] for i=1:Nsim if !isnan(sims[i][t]) ]\n",
    "        out[t,:] = length(vec)>0 ? quantile(vec, p) : zeros(np)*NaN\n",
    "    end\n",
    "    out\n",
    "end"
   ]
  },
  {
   "cell_type": "code",
   "execution_count": 104,
   "id": "7f75ba94",
   "metadata": {},
   "outputs": [],
   "source": [
    "function prior_draw()::Vector{Float64}\n",
    "    # some priors taken from JPMorgan\n",
    "    k1 = rand( Uniform(2e-8, 8e-6) )\n",
    "    k2 = rand( Uniform(2e-8, 8e-6) )\n",
    "    kc1 = rand( Uniform(0, 8e-6) )\n",
    "    kc2 = rand( Uniform(0, 1e-3) )\n",
    "    return [k1,k2,kc1,kc2]\n",
    "end ;"
   ]
  },
  {
   "cell_type": "code",
   "execution_count": 68,
   "id": "ab798f8e",
   "metadata": {},
   "outputs": [],
   "source": [
    "function euclidean_dist(sims::Vector{Array{Float64, 2}}, data::Array{Float64, 2})::Vector{Float64}\n",
    "    Nabc = length(sims)\n",
    "    output = Vector{Float64}(undef, Nabc)\n",
    "    for i=1:Nabc\n",
    "        output[i] = sum(sims[i] - data)^2\n",
    "    end\n",
    "    output\n",
    "end ;"
   ]
  },
  {
   "cell_type": "code",
   "execution_count": 106,
   "id": "2992083b",
   "metadata": {},
   "outputs": [
    {
     "data": {
      "text/plain": [
       "easy_abc (generic function with 2 methods)"
      ]
     },
     "execution_count": 106,
     "metadata": {},
     "output_type": "execute_result"
    }
   ],
   "source": [
    "function easy_abc(Nabc, topn, data, inits, Tmax, dt, dtout, target,  Nsim)\n",
    "    # draw parameters\n",
    "    abc_sims = Vector{Array{Float64,2}}(undef, Nabc) # use three as length of  s(z)\n",
    "    theta_post = Vector{typeof(prior_draw())}(undef, Nabc)\n",
    "    \n",
    "    i = 1\n",
    "    \n",
    "    while i<=Nabc\n",
    "        # init_pop, pops, rate_vec, Stoichiometry_matrix\n",
    "        theta_star = prior_draws()\n",
    "        spn_star = SPN(inits[1], inits[2], theta_star, inits[3])\n",
    "        sims = par_sim(Nsim, tauleap, spn_star, Tmax, dt, dtout, target)\n",
    "        qnts = quantiles(sims, [0.025,0.5,0.975])\n",
    "        if !isnan(sum(qnts))\n",
    "            abc_sims[i] = qnts\n",
    "            theta_post[i] = theta_star\n",
    "            i += 1\n",
    "        end        \n",
    "    end\n",
    "    dist = euclidean_dist(abc_sims, data)\n",
    "    topind = Vector{Bool}(undef, Nabc)\n",
    "    topind .= dist .<= sort(dist)[topn]\n",
    "\n",
    "    theta_post[topind]\n",
    "end"
   ]
  },
  {
   "cell_type": "code",
   "execution_count": null,
   "id": "49ceec47",
   "metadata": {},
   "outputs": [],
   "source": [
    "Nabc = 10000\n",
    "Nout = 1000\n",
    "inits = (200.0, 20.0, S)"
   ]
  },
  {
   "cell_type": "code",
   "execution_count": 107,
   "id": "8961fe95",
   "metadata": {},
   "outputs": [
    {
     "name": "stdout",
     "output_type": "stream",
     "text": [
      " 15.615647 seconds (734.57 k allocations: 27.853 MiB, 0.33% compilation time)\n"
     ]
    }
   ],
   "source": [
    "@time abc_output = easy_abc(Nabc, Nout, inits, Tmax, step, step_out, timed.-15*day, Nsim) \n",
    "\"\"\"\n",
    "100 runs: ~ 220 seconds\n",
    "\"\"\" ;"
   ]
  },
  {
   "cell_type": "code",
   "execution_count": 111,
   "id": "7199d880",
   "metadata": {},
   "outputs": [],
   "source": [
    "mkpath(\"Inference\")\n",
    "writedlm(\"Inference/tauleap_abcrej.txt\", abc_output)"
   ]
  },
  {
   "cell_type": "code",
   "execution_count": null,
   "id": "ce83c944",
   "metadata": {},
   "outputs": [],
   "source": []
  }
 ],
 "metadata": {
  "kernelspec": {
   "display_name": "Julia 1.6.2",
   "language": "julia",
   "name": "julia-1.6"
  },
  "language_info": {
   "file_extension": ".jl",
   "mimetype": "application/julia",
   "name": "julia",
   "version": "1.6.2"
  }
 },
 "nbformat": 4,
 "nbformat_minor": 5
}
