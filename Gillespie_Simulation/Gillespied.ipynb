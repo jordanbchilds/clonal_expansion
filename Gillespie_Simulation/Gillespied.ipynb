{
 "cells": [
  {
   "cell_type": "code",
   "execution_count": 1,
   "id": "80b6a2b5",
   "metadata": {},
   "outputs": [
    {
     "data": {
      "text/plain": [
       "\"A 1000 run of the gillespied function, with constant inputs \\n\""
      ]
     },
     "execution_count": 1,
     "metadata": {},
     "output_type": "execute_result"
    }
   ],
   "source": [
    "\"\"\"\n",
    "A 1000 run of the gillespied function, with constant inputs \n",
    "\"\"\""
   ]
  },
  {
   "cell_type": "code",
   "execution_count": 2,
   "id": "3d64947a",
   "metadata": {},
   "outputs": [],
   "source": [
    "using Random, Distributions, Plots, DelimitedFiles"
   ]
  },
  {
   "cell_type": "code",
   "execution_count": 3,
   "id": "c431ecf4",
   "metadata": {},
   "outputs": [
    {
     "data": {
      "text/plain": [
       "hazard (generic function with 1 method)"
      ]
     },
     "execution_count": 3,
     "metadata": {},
     "output_type": "execute_result"
    }
   ],
   "source": [
    "function hazard(x::Vector{Float64}, th::Vector{Float64}, error::Float64)::Vector{Float64}\n",
    "    k = th[1:5]\n",
    "    Kc = th[6:7]\n",
    "    if error>=0\n",
    "        # deining the k1, & k2 and then subbing them into a vecotr is WAY WAY quicker\n",
    "        # compared to calcing them in the vector\n",
    "        k1 = k[1]+error*Kc[1]\n",
    "        k2 = k[2]+error*Kc[1]\n",
    "        return [x[1], x[2], x[1], x[2], x[1]].*[k1, k2, k[3], k[4], k[5]]\n",
    "    else \n",
    "        k1 = 2*k[1]/(1+exp(-error*Kc[2]))\n",
    "        k2 = 2*k[2]/(1+exp(-error*Kc[2]))\n",
    "        return [x[1], x[2], x[1], x[2], x[1]].*[k1, k2, k[3], k[4], k[5]]\n",
    "    end\n",
    "end"
   ]
  },
  {
   "cell_type": "code",
   "execution_count": 4,
   "id": "c3e7795e",
   "metadata": {},
   "outputs": [
    {
     "data": {
      "text/plain": [
       "hazzy (generic function with 1 method)"
      ]
     },
     "execution_count": 4,
     "metadata": {},
     "output_type": "execute_result"
    }
   ],
   "source": [
    "function hazzy(x::Vector{Float64}, th::Vector{Float64})::Vector{Float64}\n",
    "    return [x[1], x[2], x[1], x[2], x[1]].*th[1:5]\n",
    "end"
   ]
  },
  {
   "cell_type": "code",
   "execution_count": null,
   "id": "dd80be78",
   "metadata": {},
   "outputs": [],
   "source": [
    "const post = [[2,0,0,0,1] [0,2,0,0,1]]\n",
    "const pre = [[1,0,1,0,1] [0,1,0,1,0]]\n",
    "const S = post - pre\n",
    "const k = [3.06e-8, 3.06e-8, 3.06e-8, 3.06e-8, 0.0, 8.99e-9, 2e-3];"
   ]
  },
  {
   "cell_type": "code",
   "execution_count": 8,
   "id": "dad7c8de",
   "metadata": {},
   "outputs": [
    {
     "data": {
      "text/plain": [
       "\"When specifying the parameters as ::Float64 the function is consistently a slower\\n...weird but okay.\\n\""
      ]
     },
     "execution_count": 8,
     "metadata": {},
     "output_type": "execute_result"
    }
   ],
   "source": [
    "function gen_inits(μ::Real, σ::Real, α::Real, β::Real)::Vector{Float64}\n",
    "    CC = rand(Normal(μ, σ))\n",
    "    hh = rand(Beta(α, β))\n",
    "    return round.( [CC*(1-hh), CC*hh] )\n",
    "end\n",
    "\n",
    "\"\"\"\n",
    "When specifying the parameters as ::Float64 the function is consistently a slower\n",
    "...weird but okay.\n",
    "\"\"\""
   ]
  },
  {
   "cell_type": "code",
   "execution_count": 21,
   "id": "c370ee35",
   "metadata": {
    "scrolled": true
   },
   "outputs": [
    {
     "data": {
      "text/plain": [
       "gillespied (generic function with 1 method)"
      ]
     },
     "execution_count": 21,
     "metadata": {},
     "output_type": "execute_result"
    }
   ],
   "source": [
    "function gillespied(inits::Vector{Float64}, k::Vector{Float64}, S::Matrix{Int64}, Tmax::Int64, δt::Int64)\n",
    "    x = inits\n",
    "    tt = 0.0\n",
    "    n = trunc(Int, Tmax/δt)\n",
    "    xmat = fill(-1, (2, n))\n",
    "    i = 1\n",
    "    target = 0.0\n",
    "    C0 = sum(x)\n",
    "    while i <= n\n",
    "        error = C0 - sum(x)\n",
    "        h = hazzy(x, k)\n",
    "        h0 = sum(h)\n",
    "        if h0<1e-10\n",
    "            xmat[:,i:n] = fill(0.0, (2,n-i+1))\n",
    "            return xmat'\n",
    "        else\n",
    "            Exp = Exponential(1/h0)\n",
    "            tt = tt + rand(Exp)\n",
    "        end\n",
    "        while tt>=target && i<=n\n",
    "            xmat[:,i] = x\n",
    "            i += 1\n",
    "            target += δt\n",
    "        end\n",
    "        Cat = Categorical(h/h0)\n",
    "        r = rand(Cat)\n",
    "        x += S'[:,r]\n",
    "    end\n",
    "    return xmat'\n",
    "end"
   ]
  },
  {
   "cell_type": "code",
   "execution_count": 10,
   "id": "421d82a5",
   "metadata": {},
   "outputs": [
    {
     "data": {
      "text/plain": [
       "replace_nan (generic function with 1 method)"
      ]
     },
     "execution_count": 10,
     "metadata": {},
     "output_type": "execute_result"
    }
   ],
   "source": [
    "function replace_nan(x)\n",
    "    for i=eachindex(x)\n",
    "        x[i] = isnan(x[i]) ? 0.0 : x[i]\n",
    "    end\n",
    "end"
   ]
  },
  {
   "cell_type": "code",
   "execution_count": 11,
   "id": "3d7063f6",
   "metadata": {},
   "outputs": [
    {
     "data": {
      "text/plain": [
       "raw_to_summ (generic function with 1 method)"
      ]
     },
     "execution_count": 11,
     "metadata": {},
     "output_type": "execute_result"
    }
   ],
   "source": [
    "function raw_to_summ(sims)::Array{Float64}\n",
    "    \"\"\"\n",
    "    converts the species populations from the gillespie algorithm to \n",
    "    copy number and mutation load\n",
    "    \"\"\"\n",
    "    Nsim = size(sims)[3] # no. of simulations\n",
    "    n = size(sims)[1] # length of one simulation\n",
    "    out = Array{Float64}(undef, n,2,Nsim)\n",
    "    for i=1:Nsim\n",
    "        copy_num = sum(sims[:,:,i], dims=2)\n",
    "        mut_load = sims[:,2,i]./copy_num\n",
    "        replace_nan(copy_num)\n",
    "        replace_nan(mut_load)\n",
    "        out[:,:,i] = hcat(copy_num, mut_load)\n",
    "    end\n",
    "    out\n",
    "end"
   ]
  },
  {
   "cell_type": "code",
   "execution_count": 12,
   "id": "c6625d13",
   "metadata": {},
   "outputs": [
    {
     "data": {
      "text/plain": [
       "quantiles (generic function with 1 method)"
      ]
     },
     "execution_count": 12,
     "metadata": {},
     "output_type": "execute_result"
    }
   ],
   "source": [
    "function quantiles(sims, p)\n",
    "    \"\"\"\n",
    "    returns quantile summaries from simulations\n",
    "    \"\"\"\n",
    "    Nsim = size(sims)[3] # Nsim: number of simulations\n",
    "    n = size(sims)[1] # length of one simulation\n",
    "    out = Array{Float64}(undef, n,length(p),2)\n",
    "    for t=1:n\n",
    "        out[t,:,1] = quantile([sims[t,1,i] for i=1:Nsim], p)\n",
    "        out[t,:,2] = quantile([sims[t,2,i] for i=1:Nsim], p)\n",
    "    end\n",
    "    out\n",
    "end"
   ]
  },
  {
   "cell_type": "code",
   "execution_count": 13,
   "id": "05a4d682",
   "metadata": {},
   "outputs": [],
   "source": [
    "Nsim = 1000\n",
    "Tmax = 80*365*24*3600\n",
    "δt = 24*3600;"
   ]
  },
  {
   "cell_type": "code",
   "execution_count": 14,
   "id": "1e70788d",
   "metadata": {},
   "outputs": [
    {
     "name": "stdout",
     "output_type": "stream",
     "text": [
      " 11.348419 seconds (219.81 M allocations: 24.709 GiB, 9.92% gc time, 2.30% compilation time)\n"
     ]
    }
   ],
   "source": [
    "@time [ gillespied([100.0,100.0], k, S, Tmax, δt) for i=1:Nsim ];"
   ]
  },
  {
   "cell_type": "code",
   "execution_count": 15,
   "id": "61b85bf0",
   "metadata": {},
   "outputs": [],
   "source": [
    "simulations = Array{Float64}(undef, trunc(Int, Tmax/δt), 2, Nsim)\n",
    "for i=1:Nsim\n",
    "    simulations[:,:,i] = gillespied([100.0,100.0], k ,S, Tmax, δt)\n",
    "end"
   ]
  },
  {
   "cell_type": "code",
   "execution_count": 16,
   "id": "1a02faec",
   "metadata": {},
   "outputs": [],
   "source": [
    "CH_sim = raw_to_summ(simulations);"
   ]
  },
  {
   "cell_type": "code",
   "execution_count": 17,
   "id": "162395a9",
   "metadata": {},
   "outputs": [],
   "source": [
    "quant_sim = quantiles(CH_sim, [0.025,0.1,0.5,0.9,0.975]) ;"
   ]
  }
 ],
 "metadata": {
  "kernelspec": {
   "display_name": "Julia 1.6.2",
   "language": "julia",
   "name": "julia-1.6"
  },
  "language_info": {
   "file_extension": ".jl",
   "mimetype": "application/julia",
   "name": "julia",
   "version": "1.6.2"
  }
 },
 "nbformat": 4,
 "nbformat_minor": 5
}
