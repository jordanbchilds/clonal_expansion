{
 "cells": [
  {
   "cell_type": "code",
   "execution_count": 1,
   "id": "cfed173c",
   "metadata": {},
   "outputs": [],
   "source": [
    "import Pkg\n",
    "import DelimitedFiles\n",
    "# Pkg.add(\"StatsKit\")\n",
    "# Pkg.add(\"random\")\n",
    "using StatsKit\n",
    "using Random\n",
    "using DelimitedFiles"
   ]
  },
  {
   "cell_type": "code",
   "execution_count": 2,
   "id": "1cd68c4d",
   "metadata": {},
   "outputs": [],
   "source": [
    "struct mtDNA \n",
    "    r::Float64\n",
    "    d::Float64\n",
    "    unique_id::Int\n",
    "    parent_id::Int\n",
    "    \n",
    "    function mtDNA(unique_id,parent_id)\n",
    "        new(0.01,0.01,unique_id, parent_id)\n",
    "    end\n",
    "end "
   ]
  },
  {
   "cell_type": "code",
   "execution_count": 3,
   "id": "f8285dfe",
   "metadata": {},
   "outputs": [
    {
     "data": {
      "text/plain": [
       "parent_id (generic function with 1 method)"
      ]
     },
     "execution_count": 3,
     "metadata": {},
     "output_type": "execute_result"
    }
   ],
   "source": [
    "rep(mol::mtDNA) = mol.r\n",
    "deg(mol::mtDNA) = mol.d\n",
    "unique_id(mol::mtDNA) = mol.unique_id\n",
    "parent_id(mol::mtDNA) = mol.parent_id"
   ]
  },
  {
   "cell_type": "code",
   "execution_count": 4,
   "id": "c4d52441",
   "metadata": {},
   "outputs": [],
   "source": [
    "C_0 = 100\n",
    "Nsim = 10000\n",
    "Nout = 100\n",
    "dt = Nsim/Nout;"
   ]
  },
  {
   "cell_type": "code",
   "execution_count": 7,
   "id": "dfa049ae",
   "metadata": {},
   "outputs": [],
   "source": [
    "system_state = [mtDNA(x,-1) for x=1:C_0 ]\n",
    "current_id = C_0 + 1\n",
    "\n",
    "output = Vector{Int}()\n",
    "append!(output, length(system_state))\n",
    "\n",
    "for i = 1:Nsim\n",
    "    if i%dt==0\n",
    "        append!(output, length(system_state))\n",
    "    end\n",
    "    \n",
    "    molecules_to_remove = Vector{Int}()\n",
    "    new_molecules = Vector{mtDNA}()\n",
    "    \n",
    "    for mol_ind=1:length(system_state)\n",
    "        molecule = system_state[mol_ind]\n",
    "        \n",
    "        roll = rand(Float64)\n",
    "        cdf = cumsum( [deg(molecule), rep(molecule)] ) \n",
    "        if 0.0<roll && roll<=cdf[1] # degredation\n",
    "            append!(molecules_to_remove, mol_ind)\n",
    "            \n",
    "        elseif cdf[1]<roll && roll<=cdf[2] # rplication\n",
    "            append!( molecules_to_remove, mol_ind)\n",
    "            for j=1:2\n",
    "                current_id += 1\n",
    "                daughter = mtDNA(current_id, unique_id(molecule))\n",
    "                push!(new_molecules, daughter)\n",
    "            end\n",
    "        end\n",
    "    end\n",
    "    system_state = [mol for (i,mol) in enumerate(system_state) if i ∉ molecules_to_remove ]\n",
    "    append!(system_state, new_molecules)\n",
    "end"
   ]
  },
  {
   "cell_type": "code",
   "execution_count": 8,
   "id": "0c64f925",
   "metadata": {},
   "outputs": [
    {
     "data": {
      "text/plain": [
       "101-element Vector{Int64}:\n",
       " 100\n",
       "  93\n",
       "  81\n",
       "  89\n",
       "  68\n",
       "  71\n",
       "  77\n",
       "  68\n",
       "  55\n",
       "  51\n",
       "  50\n",
       "  35\n",
       "  46\n",
       "   ⋮\n",
       " 116\n",
       " 143\n",
       " 174\n",
       " 181\n",
       " 193\n",
       " 231\n",
       " 229\n",
       " 264\n",
       " 291\n",
       " 323\n",
       " 337\n",
       " 318"
      ]
     },
     "execution_count": 8,
     "metadata": {},
     "output_type": "execute_result"
    }
   ],
   "source": [
    "output"
   ]
  },
  {
   "cell_type": "code",
   "execution_count": 8,
   "id": "56b69972",
   "metadata": {},
   "outputs": [
    {
     "data": {
      "text/plain": [
       "1616"
      ]
     },
     "execution_count": 8,
     "metadata": {},
     "output_type": "execute_result"
    }
   ],
   "source": [
    "open(\"ABMsim.txt\", \"w\") do file\n",
    "    write(file, output)\n",
    "end"
   ]
  },
  {
   "cell_type": "code",
   "execution_count": 9,
   "id": "3012fecb",
   "metadata": {},
   "outputs": [],
   "source": [
    "writedlm(\"ABMsim.txt\", output)"
   ]
  }
 ],
 "metadata": {
  "kernelspec": {
   "display_name": "Julia 1.6.2",
   "language": "julia",
   "name": "julia-1.6"
  },
  "language_info": {
   "file_extension": ".jl",
   "mimetype": "application/julia",
   "name": "julia",
   "version": "1.6.2"
  }
 },
 "nbformat": 4,
 "nbformat_minor": 5
}
