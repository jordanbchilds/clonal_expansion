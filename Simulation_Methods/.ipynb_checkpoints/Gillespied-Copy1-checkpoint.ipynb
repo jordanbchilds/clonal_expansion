{
 "cells": [
  {
   "cell_type": "code",
   "execution_count": 1,
   "id": "80b6a2b5",
   "metadata": {},
   "outputs": [
    {
     "data": {
      "text/plain": [
       "\"A 1000 run of the gillespied function, with constant inputs \\n\""
      ]
     },
     "execution_count": 1,
     "metadata": {},
     "output_type": "execute_result"
    }
   ],
   "source": [
    "\"\"\"\n",
    "A 1000 run of the gillespied function, with constant inputs \n",
    "\"\"\""
   ]
  },
  {
   "cell_type": "code",
   "execution_count": 2,
   "id": "3d64947a",
   "metadata": {},
   "outputs": [],
   "source": [
    "using Distributed"
   ]
  },
  {
   "cell_type": "code",
   "execution_count": 3,
   "id": "5072c8e2",
   "metadata": {},
   "outputs": [],
   "source": [
    "length(Sys.cpu_info())\n",
    "addprocs(3) ;"
   ]
  },
  {
   "cell_type": "code",
   "execution_count": 4,
   "id": "3d3e7157",
   "metadata": {},
   "outputs": [],
   "source": [
    "@everywhere using Random, Distributions, Plots, DelimitedFiles"
   ]
  },
  {
   "cell_type": "code",
   "execution_count": 5,
   "id": "7c011737",
   "metadata": {},
   "outputs": [],
   "source": [
    "@everywhere struct SPN\n",
    "    init::Vector{Real}\n",
    "    k::Vector{Real}\n",
    "    S::Array{Real}\n",
    "    Tmax::Real\n",
    "    dt::Real\n",
    "    function SPN(init, k, S, Tmax, dt)\n",
    "        new(init, k, S, Tmax, dt)\n",
    "    end\n",
    "end"
   ]
  },
  {
   "cell_type": "code",
   "execution_count": 6,
   "id": "c61213d7",
   "metadata": {},
   "outputs": [],
   "source": [
    "@everywhere init(N::SPN) = Float64.(N.init)\n",
    "@everywhere k(N::SPN) = Float64.(N.k)\n",
    "@everywhere S(N::SPN) = Float64.(N.S)\n",
    "@everywhere Tmax(N::SPN) = Float64.(N.Tmax)\n",
    "@everywhere dt(N::SPN) = Float64.(N.dt)\n",
    "@everywhere n(N::SPN) = trunc(Int, N.Tmax/N.dt)"
   ]
  },
  {
   "cell_type": "code",
   "execution_count": 7,
   "id": "c431ecf4",
   "metadata": {},
   "outputs": [],
   "source": [
    "@everywhere function hazard(x::Vector{Float64}, th::Vector{Float64}, error::Float64)::Vector{Float64}\n",
    "    k = th[1:5]\n",
    "    Kc = th[6:7]\n",
    "    if error>=0\n",
    "        # deining the k1, & k2 and then subbing them into a vecotr is WAY WAY quicker\n",
    "        # compared to calcing them in the vector\n",
    "        k1 = k[1]+error*Kc[1]\n",
    "        k2 = k[2]+error*Kc[1]\n",
    "        return [x[1], x[2], x[1], x[2], x[1]].*[k1, k2, k[3], k[4], k[5]]\n",
    "    else \n",
    "        k1 = 2*k[1]/(1+exp(-error*Kc[2]))\n",
    "        k2 = 2*k[2]/(1+exp(-error*Kc[2]))\n",
    "        return [x[1], x[2], x[1], x[2], x[1]].*[k1, k2, k[3], k[4], k[5]]\n",
    "    end\n",
    "end"
   ]
  },
  {
   "cell_type": "code",
   "execution_count": 8,
   "id": "c3e7795e",
   "metadata": {},
   "outputs": [],
   "source": [
    "@everywhere function hazzy(x::Vector{Float64}, th::Vector{Float64})::Vector{Float64}\n",
    "    return [x[1], x[2], x[1], x[2], x[1]].*th[1:5]\n",
    "end"
   ]
  },
  {
   "cell_type": "code",
   "execution_count": 9,
   "id": "dd80be78",
   "metadata": {},
   "outputs": [],
   "source": [
    "@everywhere const post = [[2,0,0,0,1] [0,2,0,0,1]]\n",
    "@everywhere const pre = [[1,0,1,0,1] [0,1,0,1,0]]\n",
    "@everywhere const SS = post - pre\n",
    "@everywhere const kk = [3.06e-8, 3.06e-8, 3.06e-8, 3.06e-8, 0.0, 8.99e-9, 2e-3];"
   ]
  },
  {
   "cell_type": "code",
   "execution_count": 10,
   "id": "dad7c8de",
   "metadata": {},
   "outputs": [
    {
     "data": {
      "text/plain": [
       "\"When specifying the parameters as ::Float64 the function is consistently a slower\\n...weird but okay.\\n\""
      ]
     },
     "execution_count": 10,
     "metadata": {},
     "output_type": "execute_result"
    }
   ],
   "source": [
    "@everywhere function gen_inits(μ::Real, σ::Real, α::Real, β::Real)::Vector{Float64}\n",
    "    CC = rand(Normal(μ, σ))\n",
    "    hh = rand(Beta(α, β))\n",
    "    return round.( [CC*(1-hh), CC*hh] )\n",
    "end\n",
    "\n",
    "\"\"\"\n",
    "When specifying the parameters as ::Float64 the function is consistently a slower\n",
    "...weird but okay.\n",
    "\"\"\""
   ]
  },
  {
   "cell_type": "code",
   "execution_count": 11,
   "id": "c370ee35",
   "metadata": {
    "scrolled": true
   },
   "outputs": [],
   "source": [
    "@everywhere function gillespied(N)\n",
    "    c = k(N)\n",
    "    x = init(N)\n",
    "    δt = dt(N)\n",
    "    nn = n(N)\n",
    "    SS = S(N)\n",
    "    tt = 0.0\n",
    "    xmat = fill(-1, (2, nn))\n",
    "    i = 1\n",
    "    target = 0.0\n",
    "    C0 = sum(x)\n",
    "    while i <= nn\n",
    "        error = C0 - sum(x)\n",
    "        h = hazzy(x, c)\n",
    "        h0 = sum(h)\n",
    "        if h0<1e-10\n",
    "            xmat[:,i:nn] = fill(0.0, (2,nn-i+1))\n",
    "            return xmat'\n",
    "        else\n",
    "            Exp = Exponential(1/h0)\n",
    "            tt = tt + rand(Exp)\n",
    "        end\n",
    "        while tt>=target && i<=nn\n",
    "            xmat[:,i] = x\n",
    "            i += 1\n",
    "            target += δt\n",
    "        end\n",
    "        Cat = Categorical(h/h0)\n",
    "        r = rand(Cat)\n",
    "        x += SS'[:,r]\n",
    "    end\n",
    "    return xmat'\n",
    "end"
   ]
  },
  {
   "cell_type": "code",
   "execution_count": 12,
   "id": "421d82a5",
   "metadata": {},
   "outputs": [],
   "source": [
    "@everywhere function replace_nan(x)\n",
    "    \"\"\"\n",
    "    replaces NaN's caused by 0/0 in mutation load calculation\n",
    "    \"\"\"\n",
    "    for i=eachindex(x)\n",
    "        x[i] = isnan(x[i]) ? 0.0 : x[i]\n",
    "    end\n",
    "end"
   ]
  },
  {
   "cell_type": "code",
   "execution_count": 13,
   "id": "3d7063f6",
   "metadata": {},
   "outputs": [],
   "source": [
    "@everywhere function raw_to_summ(sims)::Array{Float64}\n",
    "    \"\"\"\n",
    "    converts the species populations from the gillespie algorithm to \n",
    "    copy number and mutation load\n",
    "    \"\"\"\n",
    "    Nsim = size(sims)[3] # no. of simulations\n",
    "    n = size(sims)[1] # length of one simulation\n",
    "    out = Array{Float64}(undef, n,2,Nsim)\n",
    "    for i=1:Nsim\n",
    "        copy_num = sum(sims[:,:,i], dims=2)\n",
    "        mut_load = sims[:,2,i]./copy_num\n",
    "        replace_nan(copy_num)\n",
    "        replace_nan(mut_load)\n",
    "        out[:,:,i] = hcat(copy_num, mut_load)\n",
    "    end\n",
    "    out\n",
    "end"
   ]
  },
  {
   "cell_type": "code",
   "execution_count": 14,
   "id": "c6625d13",
   "metadata": {},
   "outputs": [],
   "source": [
    "@everywhere function quantiles(sims, p)\n",
    "    \"\"\"\n",
    "    returns quantile summaries from simulations\n",
    "    \"\"\"\n",
    "    Nsim = size(sims)[3] # Nsim: number of simulations\n",
    "    n = size(sims)[1] # length of one simulation\n",
    "    out = Array{Float64}(undef, n,length(p),2)\n",
    "    for t=1:n\n",
    "        out[t,:,1] = quantile([sims[t,1,i] for i=1:Nsim], p)\n",
    "        out[t,:,2] = quantile([sims[t,2,i] for i=1:Nsim], p)\n",
    "    end\n",
    "    out\n",
    "end"
   ]
  },
  {
   "cell_type": "code",
   "execution_count": 15,
   "id": "05a4d682",
   "metadata": {},
   "outputs": [],
   "source": [
    "@everywhere Nsim = 10000\n",
    "@everywhere Tsim = 80*365*24*3600\n",
    "@everywhere δt = 24*3600 ; "
   ]
  },
  {
   "cell_type": "code",
   "execution_count": 16,
   "id": "7d887182",
   "metadata": {},
   "outputs": [
    {
     "name": "stdout",
     "output_type": "stream",
     "text": [
      "  0.582585 seconds (2.91 M allocations: 172.890 MiB, 7.48% gc time, 91.32% compilation time)\n"
     ]
    },
    {
     "data": {
      "text/plain": [
       "\"a single run takes 0.548 seconds\\n\""
      ]
     },
     "execution_count": 16,
     "metadata": {},
     "output_type": "execute_result"
    }
   ],
   "source": [
    "Ntest = SPN([100,100], kk, SS, Tsim, δt)\n",
    "@time gillespied(Ntest);\n",
    "\"\"\"\n",
    "a single run takes 0.548 seconds\n",
    "\"\"\""
   ]
  },
  {
   "cell_type": "code",
   "execution_count": 17,
   "id": "61b85bf0",
   "metadata": {},
   "outputs": [
    {
     "data": {
      "text/plain": [
       "\"simulations_single = Array{Float64}(undef, n(Ntest), 2, Nsim)\\n@time for i=1:Nsim\\n    simulations_single[:,:,i] = gillespied(Ntest)\\nend\\nThis is a lot slower (doubly slow) than the previous version without the SPN structure\\nFor 1000 simulations 26.536 seconds\\n\""
      ]
     },
     "execution_count": 17,
     "metadata": {},
     "output_type": "execute_result"
    }
   ],
   "source": [
    "\"\"\"\n",
    "simulations_single = Array{Float64}(undef, n(Ntest), 2, Nsim)\n",
    "@time for i=1:Nsim\n",
    "    simulations_single[:,:,i] = gillespied(Ntest)\n",
    "end\n",
    "This is a lot slower (doubly slow) than the previous version without the SPN structure\n",
    "For 1000 simulations 26.536 seconds\n",
    "\"\"\""
   ]
  },
  {
   "cell_type": "code",
   "execution_count": 18,
   "id": "162395a9",
   "metadata": {},
   "outputs": [],
   "source": [
    "#summ_single = raw_to_summ(simulations_single);\n",
    "#qnts_single = quantiles(summ_single, [0.025,0.1,0.5,0.9,0.975]) ;"
   ]
  },
  {
   "cell_type": "code",
   "execution_count": 19,
   "id": "d4bdb917",
   "metadata": {},
   "outputs": [],
   "source": [
    "# The arguments are: 1) a function 'f' and 2) a list with the input.\n",
    "@everywhere function simulation_map(f, lst)\n",
    "    np = nworkers()            # Number of processes available.\n",
    "    Nsim  = length(lst)  # Number of elements to apply the function.\n",
    "    nn = n(lst[1]) # dimension for output\n",
    "    output = Array{Any}(undef, nn,2,Nsim) # Where we will write the results. As we do not know\n",
    "                             # the type (Integer, Tuple...) we write \"Any\"\n",
    "    i = 1\n",
    "    nextidx() = (idx = i; i += 1; idx) # Function to know which is the next work item.\n",
    "                                       # In this case it is just an index.\n",
    "    @sync begin #@sync: must complete all jobs in block\n",
    "        for p = 1:np # loops through all processes (workers)\n",
    "            if p != myid() || np == 1 # first worker used only if all others are busy \n",
    "                @async begin # launch several tasks simultaneaously\n",
    "                    while true\n",
    "                        idx = nextidx()\n",
    "                        if idx > Nsim\n",
    "                            break\n",
    "                        end\n",
    "                        output[:,:,idx] = fetch(remotecall(f, p, lst[idx]))\n",
    "                    end\n",
    "                end\n",
    "            end\n",
    "        end\n",
    "    end\n",
    "    output\n",
    "end"
   ]
  },
  {
   "cell_type": "code",
   "execution_count": 20,
   "id": "f0077bc3",
   "metadata": {},
   "outputs": [],
   "source": [
    "N_lst = [ Ntest for i=1:Nsim ] ;"
   ]
  },
  {
   "cell_type": "code",
   "execution_count": 21,
   "id": "67988448",
   "metadata": {},
   "outputs": [
    {
     "name": "stdout",
     "output_type": "stream",
     "text": [
      "169.864269 seconds (4.73 M allocations: 8.840 GiB, 22.07% gc time, 0.09% compilation time)\n"
     ]
    },
    {
     "data": {
      "text/plain": [
       "\"seems to be about as quick as the gillespied algorithm was before the SPN structure\\n1000 simulations takes ~15 seconds (13.592 s)\\n\""
      ]
     },
     "execution_count": 21,
     "metadata": {},
     "output_type": "execute_result"
    }
   ],
   "source": [
    "@time raw_simulations = simulation_map(gillespied, N_lst) ;\n",
    "\"\"\"\n",
    "seems to be about as quick as the gillespied algorithm was before the SPN structure\n",
    "1000 simulations takes ~15 seconds (13.592 s)\n",
    "10000 simulations: ~170 seconds\n",
    "\"\"\""
   ]
  },
  {
   "cell_type": "code",
   "execution_count": 22,
   "id": "bd17d669",
   "metadata": {},
   "outputs": [],
   "source": [
    "simulations = raw_to_summ(raw_simulations);\n",
    "sims_qntl = quantiles(simulations, [0.025,0.25,0.5,0.75,0.975]) ;"
   ]
  },
  {
   "cell_type": "code",
   "execution_count": 23,
   "id": "50a60b8a",
   "metadata": {},
   "outputs": [],
   "source": [
    "writedlm(\"Simulations/CN_qnt_gill_jl.txt\", sims_qntl[:,:,1])\n",
    "writedlm(\"Simulations/ML_qnt_gill_jl.txt\", sims_qntl[:,:,2])"
   ]
  },
  {
   "cell_type": "code",
   "execution_count": 24,
   "id": "6f80f8d2",
   "metadata": {},
   "outputs": [
    {
     "data": {
      "text/plain": [
       "distributions_t (generic function with 1 method)"
      ]
     },
     "execution_count": 24,
     "metadata": {},
     "output_type": "execute_result"
    }
   ],
   "source": [
    "function distributions_t(sims, t, Tsim, δt)\n",
    "    t_tot = [δt:δt:Tsim;]\n",
    "    Nsim = size(sims)[3]\n",
    "    nt = length(t)\n",
    "    sim_t = Array{Float64}(undef, Nsim,nt,2)\n",
    "    for i=1:Nsim\n",
    "        for j=1:nt\n",
    "            sim_t[i,j,1] = sims[findall(x->x==t[j], t_tot),1,i][1]\n",
    "            sim_t[i,j,2] = sims[findall(x->x==t[j], t_tot),2,i][1]\n",
    "        end\n",
    "    end\n",
    "    sim_t\n",
    "end\n"
   ]
  },
  {
   "cell_type": "code",
   "execution_count": 25,
   "id": "02558d6f",
   "metadata": {},
   "outputs": [],
   "source": [
    "dist_sims = distributions_t(simulations, [10:10:80;]*365*24*3600, Tsim, δt) ; "
   ]
  },
  {
   "cell_type": "code",
   "execution_count": 26,
   "id": "2c57c757",
   "metadata": {},
   "outputs": [],
   "source": [
    "writedlm(\"Simulations/CN_ts_gill_jl.txt\", dist_sims[:,:,1])\n",
    "writedlm(\"Simulations/ML_ts_gill_jl.txt\", dist_sims[:,:,2])"
   ]
  }
 ],
 "metadata": {
  "kernelspec": {
   "display_name": "Julia 1.6.2",
   "language": "julia",
   "name": "julia-1.6"
  },
  "language_info": {
   "file_extension": ".jl",
   "mimetype": "application/julia",
   "name": "julia",
   "version": "1.6.2"
  }
 },
 "nbformat": 4,
 "nbformat_minor": 5
}
