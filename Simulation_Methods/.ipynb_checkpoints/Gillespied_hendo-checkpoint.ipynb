{
 "cells": [
  {
   "cell_type": "code",
   "execution_count": 1,
   "id": "80b6a2b5",
   "metadata": {},
   "outputs": [
    {
     "data": {
      "text/plain": [
       "\"Gillespie model using Hendo et al. (2012) paper\\n\\n'Bayesian emulation and calibration of a stochastic computer model of mitochondrial \\nDNA deletions in sibstantia nigra neurons'\\n\""
      ]
     },
     "execution_count": 1,
     "metadata": {},
     "output_type": "execute_result"
    }
   ],
   "source": [
    "\"\"\"\n",
    "Gillespie model using Hendo et al. (2012) paper\n",
    "\n",
    "'Bayesian emulation and calibration of a stochastic computer model of mitochondrial \n",
    "DNA deletions in sibstantia nigra neurons'\n",
    "\"\"\""
   ]
  },
  {
   "cell_type": "code",
   "execution_count": 2,
   "id": "3d64947a",
   "metadata": {},
   "outputs": [],
   "source": [
    "using Distributed"
   ]
  },
  {
   "cell_type": "code",
   "execution_count": 3,
   "id": "5072c8e2",
   "metadata": {},
   "outputs": [],
   "source": [
    "length(Sys.cpu_info())\n",
    "addprocs(3) ;"
   ]
  },
  {
   "cell_type": "code",
   "execution_count": 4,
   "id": "3d3e7157",
   "metadata": {},
   "outputs": [],
   "source": [
    "@everywhere using Random, Distributions, Plots, DelimitedFiles"
   ]
  },
  {
   "cell_type": "code",
   "execution_count": 5,
   "id": "7c011737",
   "metadata": {},
   "outputs": [],
   "source": [
    "@everywhere struct SPN\n",
    "    init::Vector{Real}\n",
    "    k::Vector{Real}\n",
    "    S::Array{Real}\n",
    "    Tmax::Real\n",
    "    dt::Real\n",
    "    function SPN(init, k, S, Tmax, dt)\n",
    "        new(init, k, S, Tmax, dt)\n",
    "    end\n",
    "end"
   ]
  },
  {
   "cell_type": "code",
   "execution_count": 6,
   "id": "c61213d7",
   "metadata": {},
   "outputs": [],
   "source": [
    "@everywhere init(N::SPN) = Float64.(N.init)\n",
    "@everywhere rates(N::SPN) = Float64.(N.k)\n",
    "@everywhere S(N::SPN) = Float64.(N.S)\n",
    "@everywhere Tmax(N::SPN) = Float64.(N.Tmax)\n",
    "@everywhere dt(N::SPN) = Float64.(N.dt)\n",
    "@everywhere n(N::SPN) = trunc(Int, N.Tmax/N.dt)"
   ]
  },
  {
   "cell_type": "code",
   "execution_count": 7,
   "id": "c431ecf4",
   "metadata": {},
   "outputs": [],
   "source": [
    "# c0: given in the paper as 1000, I think it's mean to be close to the intial copy number \n",
    "# however cannot find the supplementary material, where its derivation is explained \n",
    "@everywhere function hazard(x::Vector{Float64}, th::Vector{Float64}, c0)::Vector{Float64}\n",
    "    [th[1]*x[1], c0*th[2]*x[1]/sum(x), th[2]*x[1], c0*th[2]*x[2]/sum(x), th[2]*x[2]]\n",
    "end"
   ]
  },
  {
   "cell_type": "code",
   "execution_count": 8,
   "id": "dd80be78",
   "metadata": {},
   "outputs": [],
   "source": [
    "@everywhere const post = [[0,2,0,0,0] [1,0,0,2,0]]\n",
    "@everywhere const pre = [[1,1,1,0,0] [0,0,0,1,1]]\n",
    "@everywhere const SS = post - pre\n",
    "@everywhere const kk = [exp(-10.18), exp(-4.58), 0.962]; # per day"
   ]
  },
  {
   "cell_type": "code",
   "execution_count": 9,
   "id": "dad7c8de",
   "metadata": {},
   "outputs": [
    {
     "data": {
      "text/plain": [
       "\"When specifying the parameters as ::Float64 the function is consistently a slower\\n...weird but okay.\\n\""
      ]
     },
     "execution_count": 9,
     "metadata": {},
     "output_type": "execute_result"
    }
   ],
   "source": [
    "@everywhere function gen_inits(μ::Real, σ::Real, α::Real, β::Real)::Vector{Float64}\n",
    "    CC = rand(Normal(μ, σ))\n",
    "    hh = rand(Beta(α, β))\n",
    "    return round.( [CC*(1-hh), CC*hh] )\n",
    "end\n",
    "\n",
    "\"\"\"\n",
    "When specifying the parameters as ::Float64 the function is consistently a slower\n",
    "...weird but okay.\n",
    "\"\"\""
   ]
  },
  {
   "cell_type": "code",
   "execution_count": 43,
   "id": "15a0ebf1",
   "metadata": {},
   "outputs": [
    {
     "data": {
      "text/plain": [
       "2×2 Matrix{Any}:\n",
       "   1       2\n",
       " #undef  #undef"
      ]
     },
     "execution_count": 43,
     "metadata": {},
     "output_type": "execute_result"
    }
   ],
   "source": [
    "tt = Array{Any}(undef, (2,2))\n",
    "tt[1,:] = [1, 2]\n",
    "tt"
   ]
  },
  {
   "cell_type": "code",
   "execution_count": 44,
   "id": "c370ee35",
   "metadata": {
    "scrolled": true
   },
   "outputs": [],
   "source": [
    "@everywhere function gillespied(N)\n",
    "    c = rates(N)\n",
    "    x = init(N)\n",
    "    δt = dt(N)\n",
    "    nn = n(N)\n",
    "    SS = S(N)\n",
    "    tt = 0.0\n",
    "    xmat = Array{Any}(undef, (2,nn))\n",
    "    i = 1\n",
    "    target = 0.0\n",
    "    C0 = sum(x)\n",
    "    while i <= nn\n",
    "        h = hazard(x, c, C0)\n",
    "        h0 = sum(h)\n",
    "        if h0<1e-10\n",
    "            xmat[:,i:nn] = fill(0.0, (2,nn-i+1))\n",
    "            return xmat'\n",
    "        elseif x[2]/sum(x)>=c[3]\n",
    "            xmat[:,i:nn] = fill(missing, (2,nn-i+1))\n",
    "            return xmat'\n",
    "        else\n",
    "            Exp = Exponential(1/h0)\n",
    "            tt = tt + rand(Exp)\n",
    "        end\n",
    "        while tt>=target && i<=nn\n",
    "            xmat[:,i] = x\n",
    "            i += 1\n",
    "            target += δt\n",
    "        end\n",
    "        Cat = Categorical(h/h0)\n",
    "        r = rand(Cat)\n",
    "        x += SS'[:,r]\n",
    "    end\n",
    "    return xmat'\n",
    "end"
   ]
  },
  {
   "cell_type": "code",
   "execution_count": 11,
   "id": "421d82a5",
   "metadata": {},
   "outputs": [],
   "source": [
    "@everywhere function replace_nan(x)\n",
    "    \"\"\"\n",
    "    replaces NaN's caused by 0/0 in mutation load calculation\n",
    "    \"\"\"\n",
    "    for i=eachindex(x)\n",
    "        x[i] = isnan(x[i]) ? missing : x[i]\n",
    "    end\n",
    "end"
   ]
  },
  {
   "cell_type": "code",
   "execution_count": 102,
   "id": "3d7063f6",
   "metadata": {},
   "outputs": [],
   "source": [
    "@everywhere function raw_to_summ(sims)::Array{Any}\n",
    "    \"\"\"\n",
    "    converts the species populations from the gillespie algorithm to \n",
    "    copy number and mutation load\n",
    "    \"\"\"\n",
    "    Nsim = size(sims)[3] # no. of simulations\n",
    "    n = size(sims)[1] # length of one simulation\n",
    "    out = Array{Any}(undef, (n,2,Nsim) )\n",
    "    for i=1:Nsim\n",
    "        copy_num = sims[:,1,i] .+ sims[:,2,i]\n",
    "        mut_load = sims[:,2,i]./copy_num\n",
    "        # replace_nan(copy_num)\n",
    "        # replace_nan(mut_load)\n",
    "        out[:,:,i] = hcat(copy_num, mut_load)\n",
    "    end\n",
    "    out\n",
    "end"
   ]
  },
  {
   "cell_type": "code",
   "execution_count": 90,
   "id": "c6625d13",
   "metadata": {},
   "outputs": [],
   "source": [
    "@everywhere function quantiles(sims, p)\n",
    "    \"\"\"\n",
    "    returns quantile summaries from simulations\n",
    "    \"\"\"\n",
    "    Nsim = size(sims)[3] # Nsim: number of simulations\n",
    "    n = size(sims)[1] # length of one simulation\n",
    "    out = Array{Float64}(undef, n,length(p),2)\n",
    "    for t=1:n\n",
    "        out[t,:,1] = quantile(skipmissing([sims[t,1,i] for i=1:Nsim]), p)\n",
    "        out[t,:,2] = quantile(skipmissing([sims[t,2,i] for i=1:Nsim]), p)\n",
    "    end\n",
    "    out\n",
    "end"
   ]
  },
  {
   "cell_type": "code",
   "execution_count": null,
   "id": "439731e5",
   "metadata": {},
   "outputs": [],
   "source": []
  },
  {
   "cell_type": "code",
   "execution_count": 14,
   "id": "05a4d682",
   "metadata": {},
   "outputs": [],
   "source": [
    "@everywhere Nsim = 1000\n",
    "@everywhere Tsim = 80*365\n",
    "@everywhere δt = 1 ; "
   ]
  },
  {
   "cell_type": "code",
   "execution_count": 65,
   "id": "7d887182",
   "metadata": {},
   "outputs": [
    {
     "name": "stdout",
     "output_type": "stream",
     "text": [
      "  0.012671 seconds (174.80 k allocations: 8.837 MiB)\n"
     ]
    },
    {
     "data": {
      "text/plain": [
       "\"a single run takes ~0.7 seconds\\n\""
      ]
     },
     "execution_count": 65,
     "metadata": {},
     "output_type": "execute_result"
    }
   ],
   "source": [
    "Ntest = SPN([100,100], kk, SS, Tsim, δt)\n",
    "@time gillespied(Ntest);\n",
    "\"\"\"\n",
    "a single run takes ~0.7 seconds\n",
    "\"\"\""
   ]
  },
  {
   "cell_type": "code",
   "execution_count": 66,
   "id": "61b85bf0",
   "metadata": {},
   "outputs": [
    {
     "data": {
      "text/plain": [
       "\"simulations_single = Array{Float64}(undef, n(Ntest), 2, Nsim)\\n@time for i=1:Nsim\\n    simulations_single[:,:,i] = gillespied(Ntest)\\nend\\nThis is a lot slower (doubly slow) than the previous version without the SPN structure\\nFor 1000 simulations 26.536 seconds\\n\""
      ]
     },
     "execution_count": 66,
     "metadata": {},
     "output_type": "execute_result"
    }
   ],
   "source": [
    "\"\"\"\n",
    "simulations_single = Array{Float64}(undef, n(Ntest), 2, Nsim)\n",
    "@time for i=1:Nsim\n",
    "    simulations_single[:,:,i] = gillespied(Ntest)\n",
    "end\n",
    "This is a lot slower (doubly slow) than the previous version without the SPN structure\n",
    "For 1000 simulations 26.536 seconds\n",
    "\"\"\""
   ]
  },
  {
   "cell_type": "code",
   "execution_count": 67,
   "id": "162395a9",
   "metadata": {},
   "outputs": [],
   "source": [
    "#summ_single = raw_to_summ(simulations_single);\n",
    "#qnts_single = quantiles(summ_single, [0.025,0.1,0.5,0.9,0.975]) ;"
   ]
  },
  {
   "cell_type": "code",
   "execution_count": 68,
   "id": "d4bdb917",
   "metadata": {},
   "outputs": [],
   "source": [
    "# The arguments are: 1) a function 'f' and 2) a list with the input.\n",
    "@everywhere function simulation_map(f, lst)\n",
    "    np = nworkers()            # Number of processes available.\n",
    "    Nsim  = length(lst)  # Number of elements to apply the function.\n",
    "    nn = n(lst[1]) # dimension for output\n",
    "    output = Array{Any}(undef, nn,2,Nsim) # Where we will write the results. As we do not know\n",
    "                             # the type (Integer, Tuple...) we write \"Any\"\n",
    "    i = 1\n",
    "    nextidx() = (idx = i; i += 1; idx) # Function to know which is the next work item.\n",
    "                                       # In this case it is just an index.\n",
    "    @sync begin #@sync: must complete all jobs in block\n",
    "        for p = 1:np # loops through all processes (workers)\n",
    "            if p != myid() || np == 1 # first worker used only if all others are busy \n",
    "                @async begin # launch several tasks simultaneaously\n",
    "                    while true\n",
    "                        idx = nextidx()\n",
    "                        if idx > Nsim\n",
    "                            break\n",
    "                        end\n",
    "                        output[:,:,idx] = fetch(remotecall(f, p, lst[idx]))\n",
    "                    end\n",
    "                end\n",
    "            end\n",
    "        end\n",
    "    end\n",
    "    output\n",
    "end"
   ]
  },
  {
   "cell_type": "code",
   "execution_count": 69,
   "id": "f0077bc3",
   "metadata": {},
   "outputs": [],
   "source": [
    "N_lst = [ Ntest for i=1:Nsim ] ;"
   ]
  },
  {
   "cell_type": "code",
   "execution_count": 70,
   "id": "67988448",
   "metadata": {},
   "outputs": [
    {
     "name": "stdout",
     "output_type": "stream",
     "text": [
      " 44.634901 seconds (297.32 M allocations: 10.783 GiB, 13.74% gc time, 0.35% compilation time)\n"
     ]
    },
    {
     "data": {
      "text/plain": [
       "\"1000 simulations (hendo et al. params): 24 s\\n\""
      ]
     },
     "execution_count": 70,
     "metadata": {},
     "output_type": "execute_result"
    }
   ],
   "source": [
    "@time raw_simulations = simulation_map(gillespied, N_lst) ;\n",
    "\"\"\"\n",
    "1000 simulations (hendo et al. params): 24 s\n",
    "\"\"\""
   ]
  },
  {
   "cell_type": "code",
   "execution_count": 104,
   "id": "2bbd15b1",
   "metadata": {},
   "outputs": [],
   "source": [
    "simulations = raw_to_summ(raw_simulations);"
   ]
  },
  {
   "cell_type": "code",
   "execution_count": 105,
   "id": "2b95c16d",
   "metadata": {},
   "outputs": [
    {
     "ename": "LoadError",
     "evalue": "MethodError: no method matching isless(::Base.SkipMissing{Float64}, ::Base.SkipMissing{Float64})\n\u001b[0mClosest candidates are:\n\u001b[0m  isless(::Any, \u001b[91m::Missing\u001b[39m) at missing.jl:88\n\u001b[0m  isless(\u001b[91m::Missing\u001b[39m, ::Any) at missing.jl:87",
     "output_type": "error",
     "traceback": [
      "MethodError: no method matching isless(::Base.SkipMissing{Float64}, ::Base.SkipMissing{Float64})\n\u001b[0mClosest candidates are:\n\u001b[0m  isless(::Any, \u001b[91m::Missing\u001b[39m) at missing.jl:88\n\u001b[0m  isless(\u001b[91m::Missing\u001b[39m, ::Any) at missing.jl:87",
      "",
      "Stacktrace:",
      "  [1] lt(o::Base.Order.ForwardOrdering, a::Base.SkipMissing{Float64}, b::Base.SkipMissing{Float64})",
      "    @ Base.Order ./ordering.jl:109",
      "  [2] selectpivot!",
      "    @ ./sort.jl:527 [inlined]",
      "  [3] partition!(v::Vector{Base.SkipMissing{Float64}}, lo::Int64, hi::Int64, o::Base.Order.ForwardOrdering)",
      "    @ Base.Sort ./sort.jl:549",
      "  [4] sort!",
      "    @ ./sort.jl:627 [inlined]",
      "  [5] _quantilesort!(v::Vector{Base.SkipMissing{Float64}}, sorted::Bool, minp::Float64, maxp::Float64)",
      "    @ Statistics /Users/julia/buildbot/worker/package_macos64/build/usr/share/julia/stdlib/v1.6/Statistics/src/Statistics.jl:957",
      "  [6] #quantile!#49",
      "    @ /Users/julia/buildbot/worker/package_macos64/build/usr/share/julia/stdlib/v1.6/Statistics/src/Statistics.jl:938 [inlined]",
      "  [7] quantile(v::Vector{Base.SkipMissing{Float64}}, p::Vector{Float64}; sorted::Bool, alpha::Float64, beta::Float64)",
      "    @ Statistics /Users/julia/buildbot/worker/package_macos64/build/usr/share/julia/stdlib/v1.6/Statistics/src/Statistics.jl:1052",
      "  [8] quantile(v::Vector{Base.SkipMissing{Float64}}, p::Vector{Float64})",
      "    @ Statistics /Users/julia/buildbot/worker/package_macos64/build/usr/share/julia/stdlib/v1.6/Statistics/src/Statistics.jl:1052",
      "  [9] quantiles(sims::Array{Any, 3}, p::Vector{Float64})",
      "    @ Main ./In[90]:9",
      " [10] top-level scope",
      "    @ In[105]:1",
      " [11] eval",
      "    @ ./boot.jl:360 [inlined]",
      " [12] include_string(mapexpr::typeof(REPL.softscope), mod::Module, code::String, filename::String)",
      "    @ Base ./loading.jl:1116"
     ]
    }
   ],
   "source": [
    "sims_qntl = quantiles(simulations, [0.025,0.25,0.5,0.75,0.975]) ;"
   ]
  },
  {
   "cell_type": "code",
   "execution_count": 71,
   "id": "bd17d669",
   "metadata": {},
   "outputs": [
    {
     "ename": "LoadError",
     "evalue": "TypeError: non-boolean (Missing) used in boolean context",
     "output_type": "error",
     "traceback": [
      "TypeError: non-boolean (Missing) used in boolean context",
      "",
      "Stacktrace:",
      " [1] replace_nan(x::Matrix{Missing})",
      "   @ Main ./In[11]:6",
      " [2] raw_to_summ(sims::Array{Any, 3})",
      "   @ Main ./In[12]:12",
      " [3] top-level scope",
      "   @ In[71]:1",
      " [4] eval",
      "   @ ./boot.jl:360 [inlined]",
      " [5] include_string(mapexpr::typeof(REPL.softscope), mod::Module, code::String, filename::String)",
      "   @ Base ./loading.jl:1116"
     ]
    }
   ],
   "source": [
    "simulations = raw_to_summ(raw_simulations);\n",
    "sims_qntl = quantiles(simulations, [0.025,0.25,0.5,0.75,0.975]) ;"
   ]
  },
  {
   "cell_type": "code",
   "execution_count": 72,
   "id": "50a60b8a",
   "metadata": {},
   "outputs": [
    {
     "ename": "LoadError",
     "evalue": "UndefVarError: sims_qntl not defined",
     "output_type": "error",
     "traceback": [
      "UndefVarError: sims_qntl not defined",
      "",
      "Stacktrace:",
      " [1] top-level scope",
      "   @ In[72]:1",
      " [2] eval",
      "   @ ./boot.jl:360 [inlined]",
      " [3] include_string(mapexpr::typeof(REPL.softscope), mod::Module, code::String, filename::String)",
      "   @ Base ./loading.jl:1116"
     ]
    }
   ],
   "source": [
    "writedlm(\"Simulations/CN_qnt_gillHend_jl.txt\", sims_qntl[:,:,1])\n",
    "writedlm(\"Simulations/ML_qnt_gillHend_jl.txt\", sims_qntl[:,:,2])"
   ]
  },
  {
   "cell_type": "code",
   "execution_count": 73,
   "id": "6f80f8d2",
   "metadata": {},
   "outputs": [
    {
     "data": {
      "text/plain": [
       "distributions_t (generic function with 1 method)"
      ]
     },
     "execution_count": 73,
     "metadata": {},
     "output_type": "execute_result"
    }
   ],
   "source": [
    "function distributions_t(sims, t, Tsim, δt)\n",
    "    t_tot = [δt:δt:Tsim;]\n",
    "    Nsim = size(sims)[3]\n",
    "    nt = length(t)\n",
    "    sim_t = Array{Float64}(undef, Nsim,nt,2)\n",
    "    for i=1:Nsim\n",
    "        for j=1:nt\n",
    "            sim_t[i,j,1] = sims[findall(x->x==t[j], t_tot),1,i][1]\n",
    "            sim_t[i,j,2] = sims[findall(x->x==t[j], t_tot),2,i][1]\n",
    "        end\n",
    "    end\n",
    "    sim_t\n",
    "end\n"
   ]
  },
  {
   "cell_type": "code",
   "execution_count": 74,
   "id": "02558d6f",
   "metadata": {},
   "outputs": [
    {
     "ename": "LoadError",
     "evalue": "UndefVarError: simulations not defined",
     "output_type": "error",
     "traceback": [
      "UndefVarError: simulations not defined",
      "",
      "Stacktrace:",
      " [1] top-level scope",
      "   @ In[74]:1",
      " [2] eval",
      "   @ ./boot.jl:360 [inlined]",
      " [3] include_string(mapexpr::typeof(REPL.softscope), mod::Module, code::String, filename::String)",
      "   @ Base ./loading.jl:1116"
     ]
    }
   ],
   "source": [
    "dist_sims = distributions_t(simulations, [10:10:80;]*365, Tsim, δt) ; "
   ]
  },
  {
   "cell_type": "code",
   "execution_count": 75,
   "id": "2c57c757",
   "metadata": {},
   "outputs": [
    {
     "ename": "LoadError",
     "evalue": "UndefVarError: dist_sims not defined",
     "output_type": "error",
     "traceback": [
      "UndefVarError: dist_sims not defined",
      "",
      "Stacktrace:",
      " [1] top-level scope",
      "   @ In[75]:1",
      " [2] eval",
      "   @ ./boot.jl:360 [inlined]",
      " [3] include_string(mapexpr::typeof(REPL.softscope), mod::Module, code::String, filename::String)",
      "   @ Base ./loading.jl:1116"
     ]
    }
   ],
   "source": [
    "writedlm(\"Simulations/hendo_CN_ts_gill_jl.txt\", dist_sims[:,:,1])\n",
    "writedlm(\"Simulations/hendo_ML_ts_gill_jl.txt\", dist_sims[:,:,2])"
   ]
  },
  {
   "cell_type": "code",
   "execution_count": 76,
   "id": "009e08f1",
   "metadata": {},
   "outputs": [],
   "source": [
    "myBlack = colorant\"rgb(0,0,0,0.1)\"\n",
    "ts = [1:δt:Tsim;]./365;"
   ]
  },
  {
   "cell_type": "code",
   "execution_count": 77,
   "id": "02c9b44f",
   "metadata": {},
   "outputs": [
    {
     "ename": "LoadError",
     "evalue": "UndefVarError: sims_qntl not defined",
     "output_type": "error",
     "traceback": [
      "UndefVarError: sims_qntl not defined",
      "",
      "Stacktrace:",
      " [1] top-level scope",
      "   @ In[77]:1",
      " [2] eval",
      "   @ ./boot.jl:360 [inlined]",
      " [3] include_string(mapexpr::typeof(REPL.softscope), mod::Module, code::String, filename::String)",
      "   @ Base ./loading.jl:1116"
     ]
    }
   ],
   "source": [
    "p3 = plot(ts, sims_qntl[:,:,1], title=\"Copy Number Qunatiles\")\n",
    "p4 = plot(ts, sims_qntl[:,:,2], title=\"Mutation Load Quantiles\")\n",
    "plot(p3, p4, layout=(1,2), legend=false)"
   ]
  }
 ],
 "metadata": {
  "kernelspec": {
   "display_name": "Julia 1.6.2",
   "language": "julia",
   "name": "julia-1.6"
  },
  "language_info": {
   "file_extension": ".jl",
   "mimetype": "application/julia",
   "name": "julia",
   "version": "1.6.2"
  }
 },
 "nbformat": 4,
 "nbformat_minor": 5
}
