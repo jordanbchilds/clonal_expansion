{
 "cells": [
  {
   "cell_type": "code",
   "execution_count": 1,
   "id": "80b6a2b5",
   "metadata": {},
   "outputs": [
    {
     "data": {
      "text/plain": [
       "\"A 1000 run of the gillespied function, with constant inputs \\n\""
      ]
     },
     "execution_count": 1,
     "metadata": {},
     "output_type": "execute_result"
    }
   ],
   "source": [
    "\"\"\"\n",
    "A 1000 run of the gillespied function, with constant inputs \n",
    "\"\"\""
   ]
  },
  {
   "cell_type": "code",
   "execution_count": 2,
   "id": "3d64947a",
   "metadata": {},
   "outputs": [],
   "source": [
    "using Distributed, Plots, DelimitedFiles, KernelDensity"
   ]
  },
  {
   "cell_type": "code",
   "execution_count": 3,
   "id": "5072c8e2",
   "metadata": {},
   "outputs": [],
   "source": [
    "length(Sys.cpu_info())\n",
    "addprocs(4) ;"
   ]
  },
  {
   "cell_type": "code",
   "execution_count": 5,
   "id": "3d3e7157",
   "metadata": {},
   "outputs": [],
   "source": [
    "@everywhere using Random, Distributions"
   ]
  },
  {
   "cell_type": "code",
   "execution_count": 6,
   "id": "7c011737",
   "metadata": {},
   "outputs": [],
   "source": [
    "@everywhere struct SPN\n",
    "    init::Vector{Real}\n",
    "    rates::Vector{Real}\n",
    "    Stoichiometry_matrix::Array{Real}\n",
    "    function SPN(init, rates, Stoichiometry_matrix)\n",
    "        new(init, rates, Stoichiometry_matrix)\n",
    "    end\n",
    "end"
   ]
  },
  {
   "cell_type": "code",
   "execution_count": 7,
   "id": "c61213d7",
   "metadata": {},
   "outputs": [],
   "source": [
    "@everywhere init(N::SPN) = Float64.(N.init)\n",
    "@everywhere rates(N::SPN) = Float64.(N.rates)\n",
    "@everywhere StoiMat(N::SPN) = Float64.(N.Stoichiometry_matrix)"
   ]
  },
  {
   "cell_type": "code",
   "execution_count": 8,
   "id": "c431ecf4",
   "metadata": {},
   "outputs": [],
   "source": [
    "@everywhere function hazard(x::Vector{Float64},th::Vector{Float64},c0::Float64)::Vector{Float64}\n",
    "    error = sum(x) - c0\n",
    "    W = x[1]\n",
    "    M = x[2]\n",
    "    k = th[1:5]\n",
    "    Kc = th[6:7]\n",
    "    if error > 0\n",
    "        k1 = 2*k[1]/(1+exp(error*Kc[1]))\n",
    "        k2 = 2*k[2]/(1+exp(error*Kc[1]))\n",
    "        return [W,M,W,M,W] .* [k1, k2, th[3], th[4], th[5]]\n",
    "    else \n",
    "        k1 = k[1]*(1+exp(-error*Kc[2]))/2\n",
    "        k2 = k[2]*(1+exp(-error*Kc[2]))/2\n",
    "        return [W,M,W,M,W] .* [k1, k2, th[3], th[4], th[5]]\n",
    "    end\n",
    "end"
   ]
  },
  {
   "cell_type": "code",
   "execution_count": 9,
   "id": "dd80be78",
   "metadata": {},
   "outputs": [],
   "source": [
    "@everywhere const post = [[2,0,0,0,1] [0,2,0,0,1]]\n",
    "@everywhere const pre = [[1,0,1,0,1] [0,1,0,1,0]]\n",
    "@everywhere const S = post - pre\n",
    "@everywhere const k = [3.06e-8, 3.06e-8, 3.06e-8, 3.06e-8, 0.0, 2e-3, 2e-3];"
   ]
  },
  {
   "cell_type": "code",
   "execution_count": 10,
   "id": "dad7c8de",
   "metadata": {},
   "outputs": [],
   "source": [
    "@everywhere function gen_inits(μ::Real, σ::Real, α::Real, β::Real)::Vector{Float64}\n",
    "    CC = rand(Normal(μ, σ))\n",
    "    hh = rand(Beta(α, β))\n",
    "    return round.( [CC*(1-hh), CC*hh] )\n",
    "end"
   ]
  },
  {
   "cell_type": "code",
   "execution_count": 47,
   "id": "d8e85fc6",
   "metadata": {},
   "outputs": [],
   "source": [
    "@everywhere function transform_summ(popdym)::Array{Float64, 2}\n",
    "    copy_num = popdym[:,1] .+ popdym[:,2]\n",
    "    \n",
    "    nonzero_idx = copy_num .!= 0.0\n",
    "    mut_load = fill(NaN, length(copy_num))\n",
    "    mut_load[nonzero_idx] .= popdym[nonzero_idx, 2] ./ copy_num[nonzero_idx]\n",
    "    \n",
    "    return hcat(copy_num, mut_load)\n",
    "end"
   ]
  },
  {
   "cell_type": "code",
   "execution_count": 45,
   "id": "c370ee35",
   "metadata": {
    "scrolled": true
   },
   "outputs": [],
   "source": [
    "@everywhere function gillespied(N::SPN, Tmax::Real, dtout::Real)::Array{Float64, 2}\n",
    "    k = rates(N)\n",
    "    x = init(N)\n",
    "    Nout = trunc(Int, Tmax/dtout)\n",
    "    S = StoiMat(N)\n",
    "    xmat = Array{Float64, 2}(undef, (length(x),Nout+1))\n",
    "    xmat[:,1] = x\n",
    "    i = 1\n",
    "    tt = 0.0\n",
    "    target = 0.0\n",
    "    c0 = sum(x)\n",
    "    while i <= Nout\n",
    "        h = hazard(x, k, c0)\n",
    "        h0 = sum(h)\n",
    "        if h0<1e-10\n",
    "            xmat[:,i:(Nout+1)] = zeros(2,Nout-i+2)\n",
    "            return transform_summ(xmat')\n",
    "        else\n",
    "            Exp = Exponential(1/h0)\n",
    "            tt = tt + rand(Exp)\n",
    "        end\n",
    "        while tt>=target && i<=Nout\n",
    "            i += 1\n",
    "            xmat[:,i] = x\n",
    "            target += dtout\n",
    "        end\n",
    "        Cat = Categorical(h/h0)\n",
    "        r = rand(Cat)\n",
    "        x += S'[:,r]\n",
    "    end\n",
    "    return transform_summ(xmat')\n",
    "end"
   ]
  },
  {
   "cell_type": "code",
   "execution_count": 14,
   "id": "05a4d682",
   "metadata": {},
   "outputs": [],
   "source": [
    "Nsim = 1000\n",
    "Tmax = 80*365*24*3600\n",
    "step_out = 7*24*3600 ; "
   ]
  },
  {
   "cell_type": "code",
   "execution_count": 48,
   "id": "7d887182",
   "metadata": {},
   "outputs": [
    {
     "name": "stdout",
     "output_type": "stream",
     "text": [
      "  0.208719 seconds (954.47 k allocations: 64.598 MiB, 7.13% gc time, 87.98% compilation time)\n"
     ]
    },
    {
     "data": {
      "text/plain": [
       "\"a single run takes ~0.03 seconds\\n\""
      ]
     },
     "execution_count": 48,
     "metadata": {},
     "output_type": "execute_result"
    }
   ],
   "source": [
    "spn = SPN([100,100], k, S)\n",
    "@time tt = gillespied(spn, Tmax, step_out);\n",
    "\"\"\"\n",
    "a single run takes ~0.03 seconds\n",
    "\"\"\""
   ]
  },
  {
   "cell_type": "code",
   "execution_count": 16,
   "id": "61b85bf0",
   "metadata": {},
   "outputs": [
    {
     "data": {
      "text/plain": [
       "\"simulations_single = Array{Float64}(undef, n(Ntest), 2, Nsim)\\n@time for i=1:Nsim\\n    simulations_single[:,:,i] = gillespied(Ntest)\\nend\\nThis is a lot slower (doubly slow) than the previous version without the SPN structure\\nFor 1000 simulations 26.536 seconds\\n\""
      ]
     },
     "execution_count": 16,
     "metadata": {},
     "output_type": "execute_result"
    }
   ],
   "source": [
    "\"\"\"\n",
    "simulations_single = Array{Float64}(undef, n(Ntest), 2, Nsim)\n",
    "@time for i=1:Nsim\n",
    "    simulations_single[:,:,i] = gillespied(Ntest)\n",
    "end\n",
    "This is a lot slower (doubly slow) than the previous version without the SPN structure\n",
    "For 1000 simulations 26.536 seconds\n",
    "\"\"\""
   ]
  },
  {
   "cell_type": "code",
   "execution_count": 17,
   "id": "162395a9",
   "metadata": {},
   "outputs": [],
   "source": [
    "#summ_single = raw_to_summ(simulations_single);\n",
    "#qnts_single = quantiles(summ_single, [0.025,0.1,0.5,0.9,0.975]) ;"
   ]
  },
  {
   "cell_type": "code",
   "execution_count": 82,
   "id": "d4bdb917",
   "metadata": {},
   "outputs": [],
   "source": [
    "# The arguments are: 1) a function 'f' and 2) a list with the input.\n",
    "@everywhere function par_map(Nsim, f, SPN, Tmax, dtout)\n",
    "    np = nworkers()            # Number of processes available.\n",
    "    Nout = trunc(Int, Tmax/dtout) + 1 # dimension for output\n",
    "    output = Vector{Array{Float64, 2}}(undef, Nsim) # Where we will write the results. As we do not know\n",
    "                             # the type (Integer, Tuple...) we write \"Any\"\n",
    "    i = 1\n",
    "    nextidx() = (idx = i; i += 1; idx) # Function to know which is the next work item.\n",
    "                                       # In this case it is just an index.\n",
    "    @sync begin #@sync: must complete all jobs in block\n",
    "        for p = 1:np # loops through all processes (workers)\n",
    "            if p != myid() || np == 1 # first worker used only if all others are busy \n",
    "                @async begin # launch several tasks simultaneaously\n",
    "                    while true\n",
    "                        idx = nextidx()\n",
    "                        if idx > Nsim\n",
    "                            break\n",
    "                        end\n",
    "                        output[idx] = remotecall_fetch(f, p, SPN, Tmax, dtout)\n",
    "                    end\n",
    "                end\n",
    "            end\n",
    "        end\n",
    "    end\n",
    "    output\n",
    "end"
   ]
  },
  {
   "cell_type": "code",
   "execution_count": 83,
   "id": "f2d9708d",
   "metadata": {},
   "outputs": [
    {
     "name": "stdout",
     "output_type": "stream",
     "text": [
      "  7.076407 seconds (144.91 k allocations: 69.520 MiB, 0.72% compilation time)\n"
     ]
    },
    {
     "data": {
      "text/plain": [
       "\"simple simulation: ~ 7.5 seconds\\n4 workers, 1000 simulations\\n\""
      ]
     },
     "execution_count": 83,
     "metadata": {},
     "output_type": "execute_result"
    }
   ],
   "source": [
    "@time simulations = par_map(Nsim, gillespied, spn, Tmax, step_out) ;\n",
    "\"\"\"\n",
    "simple simulation: ~ 7.5 seconds\n",
    "4 workers, 1000 simulations\n",
    "\"\"\""
   ]
  },
  {
   "cell_type": "code",
   "execution_count": 134,
   "id": "819348bc",
   "metadata": {},
   "outputs": [],
   "source": [
    "@everywhere function quantiles(sims, p)\n",
    "    \"\"\"\n",
    "    returns quantile summaries from simulations\n",
    "    \"\"\"\n",
    "    Nsim = length(sims) # Nsim: number of simulations\n",
    "    n = size(sims[1])[1] # length of one simulation\n",
    "    out = Vector{Array{Float64,2}}(undef,2)\n",
    "    out[1] = Array{Float64, 2}(undef, n,length(p))\n",
    "    out[2] = Array{Float64, 2}(undef, n,length(p))\n",
    "    for t=1:n\n",
    "        out[1][t,:] = quantile([sims[i][t,1] for i=1:Nsim if !isnan(sims[i][t,1])], p)\n",
    "        out[2][t,:] = quantile([sims[i][t,2] for i=1:Nsim if !isnan(sims[i][t,2])], p)\n",
    "    end\n",
    "    out\n",
    "end"
   ]
  },
  {
   "cell_type": "code",
   "execution_count": 138,
   "id": "bd17d669",
   "metadata": {},
   "outputs": [],
   "source": [
    "sims_qntl = quantiles(simulations, [0.025,0.25,0.5,0.75,0.975]) ;"
   ]
  },
  {
   "cell_type": "code",
   "execution_count": 139,
   "id": "e9d252dd",
   "metadata": {},
   "outputs": [],
   "source": [
    "mkpath(\"Simulations\") ;"
   ]
  },
  {
   "cell_type": "code",
   "execution_count": 150,
   "id": "50a60b8a",
   "metadata": {},
   "outputs": [],
   "source": [
    "writedlm(\"Simulations/CN_qnt_gill_jl.txt\", sims_qntl[1])\n",
    "writedlm(\"Simulations/ML_qnt_gill_jl.txt\", sims_qntl[2]) ;"
   ]
  },
  {
   "cell_type": "code",
   "execution_count": 159,
   "id": "6f80f8d2",
   "metadata": {},
   "outputs": [],
   "source": [
    "function distributions_t(sims, t, Tmax, dtout)\n",
    "    t_tot = [dtout:dtout:Tmax;]\n",
    "    Nsim = length(sims)\n",
    "    nt = length(t)\n",
    "    sim_t = Vector{Array{Float64,2}}(undef, 2)\n",
    "    for i=1:Nsim\n",
    "        for j=1:nt\n",
    "            \n",
    "            sim_t[1][i,j] = sims[i][findall(x->x==t[j], t_tot),1][1]\n",
    "            sim_t[2][i,j] = sims[i][findall(x->x==t[j], t_tot),2][1]\n",
    "        end\n",
    "    end\n",
    "    sim_t\n",
    "end ;\n"
   ]
  },
  {
   "cell_type": "code",
   "execution_count": 160,
   "id": "02558d6f",
   "metadata": {},
   "outputs": [
    {
     "ename": "LoadError",
     "evalue": "BoundsError: attempt to access 0-element Vector{Float64} at index [1]",
     "output_type": "error",
     "traceback": [
      "BoundsError: attempt to access 0-element Vector{Float64} at index [1]",
      "",
      "Stacktrace:",
      " [1] getindex",
      "   @ ./array.jl:801 [inlined]",
      " [2] distributions_t(sims::Vector{Matrix{Float64}}, t::Vector{Int64}, Tmax::Int64, dtout::Int64)",
      "   @ Main ./In[159]:9",
      " [3] top-level scope",
      "   @ In[160]:1",
      " [4] eval",
      "   @ ./boot.jl:360 [inlined]",
      " [5] include_string(mapexpr::typeof(REPL.softscope), mod::Module, code::String, filename::String)",
      "   @ Base ./loading.jl:1116"
     ]
    }
   ],
   "source": [
    "dist_sims = distributions_t(simulations, [10:10:80;]*365*24*3600, Tmax, step_out) ; "
   ]
  },
  {
   "cell_type": "code",
   "execution_count": 143,
   "id": "2c57c757",
   "metadata": {},
   "outputs": [
    {
     "ename": "LoadError",
     "evalue": "UndefVarError: dist_sims not defined",
     "output_type": "error",
     "traceback": [
      "UndefVarError: dist_sims not defined",
      "",
      "Stacktrace:",
      " [1] top-level scope",
      "   @ In[143]:1",
      " [2] eval",
      "   @ ./boot.jl:360 [inlined]",
      " [3] include_string(mapexpr::typeof(REPL.softscope), mod::Module, code::String, filename::String)",
      "   @ Base ./loading.jl:1116"
     ]
    }
   ],
   "source": [
    "writedlm(\"Simulations/CN_ts_gill_jl.txt\", dist_sims[:,:,1])\n",
    "writedlm(\"Simulations/ML_ts_gill_jl.txt\", dist_sims[:,:,2])"
   ]
  },
  {
   "cell_type": "code",
   "execution_count": null,
   "id": "e95c1115",
   "metadata": {},
   "outputs": [],
   "source": []
  },
  {
   "cell_type": "code",
   "execution_count": 144,
   "id": "6191aea1",
   "metadata": {},
   "outputs": [
    {
     "data": {
      "text/plain": [
       "\"Time taken \\n\""
      ]
     },
     "execution_count": 144,
     "metadata": {},
     "output_type": "execute_result"
    }
   ],
   "source": [
    "\"\"\"\n",
    "Time taken \n",
    "\"\"\""
   ]
  },
  {
   "cell_type": "code",
   "execution_count": 145,
   "id": "cfaedb60",
   "metadata": {},
   "outputs": [],
   "source": [
    "@everywhere function par_times(Nsim, f, SPN, Tmax, dtout)\n",
    "    np = nworkers()            # Number of processes available.\n",
    "    Nout = trunc(Int, Tmax/dtout) + 1 # dimension for output\n",
    "    output = Array{Float64}(undef, Nsim) # Where we will write the results. As we do not know\n",
    "                             # the type (Integer, Tuple...) we write \"Any\"\n",
    "    i = 1\n",
    "    nextidx() = (idx = i; i += 1; idx) # Function to know which is the next work item.\n",
    "                                       # In this case it is just an index.\n",
    "    @sync begin #@sync: must complete all jobs in block\n",
    "        for p = 1:np # loops through all processes (workers)\n",
    "            if p != myid() || np == 1 # first worker used only if all others are busy \n",
    "                @async begin # launch several tasks simultaneaously\n",
    "                    while true\n",
    "                        idx = nextidx()\n",
    "                        if idx > Nsim\n",
    "                            break\n",
    "                        end\n",
    "                        output[idx] = @elapsed remotecall_fetch(f, p, SPN, Tmax, dtout)\n",
    "                    end\n",
    "                end\n",
    "            end\n",
    "        end\n",
    "    end\n",
    "    output\n",
    "end"
   ]
  },
  {
   "cell_type": "code",
   "execution_count": 161,
   "id": "291c4da7",
   "metadata": {},
   "outputs": [],
   "source": [
    "sim_times = par_times(Nsim, gillespied, spn, Tmax, step_out) \n",
    "\n",
    "mkpath(\"Simulations\")\n",
    "writedlm(\"Simulations/gill_times.txt\", sim_times)"
   ]
  },
  {
   "cell_type": "code",
   "execution_count": 162,
   "id": "9f9eb612",
   "metadata": {},
   "outputs": [],
   "source": [
    "dens = kde(sim_times)\n",
    "density_points = hcat(dens.x, dens.density) ;"
   ]
  },
  {
   "cell_type": "code",
   "execution_count": 163,
   "id": "3e55eca3",
   "metadata": {},
   "outputs": [
    {
     "data": {
      "image/svg+xml": [
       "<?xml version=\"1.0\" encoding=\"utf-8\"?>\n",
       "<svg xmlns=\"http://www.w3.org/2000/svg\" xmlns:xlink=\"http://www.w3.org/1999/xlink\" width=\"600\" height=\"400\" viewBox=\"0 0 2400 1600\">\n",
       "<defs>\n",
       "  <clipPath id=\"clip620\">\n",
       "    <rect x=\"0\" y=\"0\" width=\"2400\" height=\"1600\"/>\n",
       "  </clipPath>\n",
       "</defs>\n",
       "<path clip-path=\"url(#clip620)\" d=\"\n",
       "M0 1600 L2400 1600 L2400 0 L0 0  Z\n",
       "  \" fill=\"#ffffff\" fill-rule=\"evenodd\" fill-opacity=\"1\"/>\n",
       "<defs>\n",
       "  <clipPath id=\"clip621\">\n",
       "    <rect x=\"480\" y=\"0\" width=\"1681\" height=\"1600\"/>\n",
       "  </clipPath>\n",
       "</defs>\n",
       "<path clip-path=\"url(#clip620)\" d=\"\n",
       "M170.857 1486.45 L2352.76 1486.45 L2352.76 123.472 L170.857 123.472  Z\n",
       "  \" fill=\"#ffffff\" fill-rule=\"evenodd\" fill-opacity=\"1\"/>\n",
       "<defs>\n",
       "  <clipPath id=\"clip622\">\n",
       "    <rect x=\"170\" y=\"123\" width=\"2183\" height=\"1364\"/>\n",
       "  </clipPath>\n",
       "</defs>\n",
       "<polyline clip-path=\"url(#clip622)\" style=\"stroke:#000000; stroke-linecap:butt; stroke-linejoin:round; stroke-width:2; stroke-opacity:0.1; fill:none\" points=\"\n",
       "  601.964,1486.45 601.964,123.472 \n",
       "  \"/>\n",
       "<polyline clip-path=\"url(#clip622)\" style=\"stroke:#000000; stroke-linecap:butt; stroke-linejoin:round; stroke-width:2; stroke-opacity:0.1; fill:none\" points=\"\n",
       "  1123.06,1486.45 1123.06,123.472 \n",
       "  \"/>\n",
       "<polyline clip-path=\"url(#clip622)\" style=\"stroke:#000000; stroke-linecap:butt; stroke-linejoin:round; stroke-width:2; stroke-opacity:0.1; fill:none\" points=\"\n",
       "  1644.16,1486.45 1644.16,123.472 \n",
       "  \"/>\n",
       "<polyline clip-path=\"url(#clip622)\" style=\"stroke:#000000; stroke-linecap:butt; stroke-linejoin:round; stroke-width:2; stroke-opacity:0.1; fill:none\" points=\"\n",
       "  2165.25,1486.45 2165.25,123.472 \n",
       "  \"/>\n",
       "<polyline clip-path=\"url(#clip620)\" style=\"stroke:#000000; stroke-linecap:butt; stroke-linejoin:round; stroke-width:4; stroke-opacity:1; fill:none\" points=\"\n",
       "  170.857,1486.45 2352.76,1486.45 \n",
       "  \"/>\n",
       "<polyline clip-path=\"url(#clip620)\" style=\"stroke:#000000; stroke-linecap:butt; stroke-linejoin:round; stroke-width:4; stroke-opacity:1; fill:none\" points=\"\n",
       "  601.964,1486.45 601.964,1467.55 \n",
       "  \"/>\n",
       "<polyline clip-path=\"url(#clip620)\" style=\"stroke:#000000; stroke-linecap:butt; stroke-linejoin:round; stroke-width:4; stroke-opacity:1; fill:none\" points=\"\n",
       "  1123.06,1486.45 1123.06,1467.55 \n",
       "  \"/>\n",
       "<polyline clip-path=\"url(#clip620)\" style=\"stroke:#000000; stroke-linecap:butt; stroke-linejoin:round; stroke-width:4; stroke-opacity:1; fill:none\" points=\"\n",
       "  1644.16,1486.45 1644.16,1467.55 \n",
       "  \"/>\n",
       "<polyline clip-path=\"url(#clip620)\" style=\"stroke:#000000; stroke-linecap:butt; stroke-linejoin:round; stroke-width:4; stroke-opacity:1; fill:none\" points=\"\n",
       "  2165.25,1486.45 2165.25,1467.55 \n",
       "  \"/>\n",
       "<path clip-path=\"url(#clip620)\" d=\"M564.765 1517.37 Q561.154 1517.37 559.325 1520.93 Q557.52 1524.47 557.52 1531.6 Q557.52 1538.71 559.325 1542.27 Q561.154 1545.82 564.765 1545.82 Q568.399 1545.82 570.205 1542.27 Q572.033 1538.71 572.033 1531.6 Q572.033 1524.47 570.205 1520.93 Q568.399 1517.37 564.765 1517.37 M564.765 1513.66 Q570.575 1513.66 573.631 1518.27 Q576.709 1522.85 576.709 1531.6 Q576.709 1540.33 573.631 1544.94 Q570.575 1549.52 564.765 1549.52 Q558.955 1549.52 555.876 1544.94 Q552.821 1540.33 552.821 1531.6 Q552.821 1522.85 555.876 1518.27 Q558.955 1513.66 564.765 1513.66 Z\" fill=\"#000000\" fill-rule=\"evenodd\" fill-opacity=\"1\" /><path clip-path=\"url(#clip620)\" d=\"M584.927 1542.97 L589.811 1542.97 L589.811 1548.85 L584.927 1548.85 L584.927 1542.97 Z\" fill=\"#000000\" fill-rule=\"evenodd\" fill-opacity=\"1\" /><path clip-path=\"url(#clip620)\" d=\"M609.996 1517.37 Q606.385 1517.37 604.556 1520.93 Q602.751 1524.47 602.751 1531.6 Q602.751 1538.71 604.556 1542.27 Q606.385 1545.82 609.996 1545.82 Q613.63 1545.82 615.436 1542.27 Q617.265 1538.71 617.265 1531.6 Q617.265 1524.47 615.436 1520.93 Q613.63 1517.37 609.996 1517.37 M609.996 1513.66 Q615.806 1513.66 618.862 1518.27 Q621.941 1522.85 621.941 1531.6 Q621.941 1540.33 618.862 1544.94 Q615.806 1549.52 609.996 1549.52 Q604.186 1549.52 601.107 1544.94 Q598.052 1540.33 598.052 1531.6 Q598.052 1522.85 601.107 1518.27 Q604.186 1513.66 609.996 1513.66 Z\" fill=\"#000000\" fill-rule=\"evenodd\" fill-opacity=\"1\" /><path clip-path=\"url(#clip620)\" d=\"M630.204 1514.29 L648.561 1514.29 L648.561 1518.22 L634.487 1518.22 L634.487 1526.7 Q635.505 1526.35 636.524 1526.19 Q637.542 1526 638.561 1526 Q644.348 1526 647.727 1529.17 Q651.107 1532.34 651.107 1537.76 Q651.107 1543.34 647.635 1546.44 Q644.163 1549.52 637.843 1549.52 Q635.667 1549.52 633.399 1549.15 Q631.154 1548.78 628.746 1548.04 L628.746 1543.34 Q630.829 1544.47 633.052 1545.03 Q635.274 1545.58 637.751 1545.58 Q641.755 1545.58 644.093 1543.48 Q646.431 1541.37 646.431 1537.76 Q646.431 1534.15 644.093 1532.04 Q641.755 1529.94 637.751 1529.94 Q635.876 1529.94 634.001 1530.35 Q632.149 1530.77 630.204 1531.65 L630.204 1514.29 Z\" fill=\"#000000\" fill-rule=\"evenodd\" fill-opacity=\"1\" /><path clip-path=\"url(#clip620)\" d=\"M1085.36 1517.37 Q1081.75 1517.37 1079.92 1520.93 Q1078.12 1524.47 1078.12 1531.6 Q1078.12 1538.71 1079.92 1542.27 Q1081.75 1545.82 1085.36 1545.82 Q1089 1545.82 1090.8 1542.27 Q1092.63 1538.71 1092.63 1531.6 Q1092.63 1524.47 1090.8 1520.93 Q1089 1517.37 1085.36 1517.37 M1085.36 1513.66 Q1091.17 1513.66 1094.23 1518.27 Q1097.31 1522.85 1097.31 1531.6 Q1097.31 1540.33 1094.23 1544.94 Q1091.17 1549.52 1085.36 1549.52 Q1079.55 1549.52 1076.47 1544.94 Q1073.42 1540.33 1073.42 1531.6 Q1073.42 1522.85 1076.47 1518.27 Q1079.55 1513.66 1085.36 1513.66 Z\" fill=\"#000000\" fill-rule=\"evenodd\" fill-opacity=\"1\" /><path clip-path=\"url(#clip620)\" d=\"M1105.53 1542.97 L1110.41 1542.97 L1110.41 1548.85 L1105.53 1548.85 L1105.53 1542.97 Z\" fill=\"#000000\" fill-rule=\"evenodd\" fill-opacity=\"1\" /><path clip-path=\"url(#clip620)\" d=\"M1121.4 1544.91 L1129.04 1544.91 L1129.04 1518.55 L1120.73 1520.21 L1120.73 1515.95 L1129 1514.29 L1133.67 1514.29 L1133.67 1544.91 L1141.31 1544.91 L1141.31 1548.85 L1121.4 1548.85 L1121.4 1544.91 Z\" fill=\"#000000\" fill-rule=\"evenodd\" fill-opacity=\"1\" /><path clip-path=\"url(#clip620)\" d=\"M1160.76 1517.37 Q1157.15 1517.37 1155.32 1520.93 Q1153.51 1524.47 1153.51 1531.6 Q1153.51 1538.71 1155.32 1542.27 Q1157.15 1545.82 1160.76 1545.82 Q1164.39 1545.82 1166.2 1542.27 Q1168.03 1538.71 1168.03 1531.6 Q1168.03 1524.47 1166.2 1520.93 Q1164.39 1517.37 1160.76 1517.37 M1160.76 1513.66 Q1166.57 1513.66 1169.62 1518.27 Q1172.7 1522.85 1172.7 1531.6 Q1172.7 1540.33 1169.62 1544.94 Q1166.57 1549.52 1160.76 1549.52 Q1154.95 1549.52 1151.87 1544.94 Q1148.81 1540.33 1148.81 1531.6 Q1148.81 1522.85 1151.87 1518.27 Q1154.95 1513.66 1160.76 1513.66 Z\" fill=\"#000000\" fill-rule=\"evenodd\" fill-opacity=\"1\" /><path clip-path=\"url(#clip620)\" d=\"M1606.96 1517.37 Q1603.35 1517.37 1601.52 1520.93 Q1599.71 1524.47 1599.71 1531.6 Q1599.71 1538.71 1601.52 1542.27 Q1603.35 1545.82 1606.96 1545.82 Q1610.59 1545.82 1612.4 1542.27 Q1614.23 1538.71 1614.23 1531.6 Q1614.23 1524.47 1612.4 1520.93 Q1610.59 1517.37 1606.96 1517.37 M1606.96 1513.66 Q1612.77 1513.66 1615.82 1518.27 Q1618.9 1522.85 1618.9 1531.6 Q1618.9 1540.33 1615.82 1544.94 Q1612.77 1549.52 1606.96 1549.52 Q1601.15 1549.52 1598.07 1544.94 Q1595.01 1540.33 1595.01 1531.6 Q1595.01 1522.85 1598.07 1518.27 Q1601.15 1513.66 1606.96 1513.66 Z\" fill=\"#000000\" fill-rule=\"evenodd\" fill-opacity=\"1\" /><path clip-path=\"url(#clip620)\" d=\"M1627.12 1542.97 L1632 1542.97 L1632 1548.85 L1627.12 1548.85 L1627.12 1542.97 Z\" fill=\"#000000\" fill-rule=\"evenodd\" fill-opacity=\"1\" /><path clip-path=\"url(#clip620)\" d=\"M1643 1544.91 L1650.64 1544.91 L1650.64 1518.55 L1642.33 1520.21 L1642.33 1515.95 L1650.59 1514.29 L1655.27 1514.29 L1655.27 1544.91 L1662.91 1544.91 L1662.91 1548.85 L1643 1548.85 L1643 1544.91 Z\" fill=\"#000000\" fill-rule=\"evenodd\" fill-opacity=\"1\" /><path clip-path=\"url(#clip620)\" d=\"M1672.4 1514.29 L1690.75 1514.29 L1690.75 1518.22 L1676.68 1518.22 L1676.68 1526.7 Q1677.7 1526.35 1678.72 1526.19 Q1679.73 1526 1680.75 1526 Q1686.54 1526 1689.92 1529.17 Q1693.3 1532.34 1693.3 1537.76 Q1693.3 1543.34 1689.83 1546.44 Q1686.36 1549.52 1680.04 1549.52 Q1677.86 1549.52 1675.59 1549.15 Q1673.35 1548.78 1670.94 1548.04 L1670.94 1543.34 Q1673.02 1544.47 1675.24 1545.03 Q1677.47 1545.58 1679.94 1545.58 Q1683.95 1545.58 1686.29 1543.48 Q1688.62 1541.37 1688.62 1537.76 Q1688.62 1534.15 1686.29 1532.04 Q1683.95 1529.94 1679.94 1529.94 Q1678.07 1529.94 1676.19 1530.35 Q1674.34 1530.77 1672.4 1531.65 L1672.4 1514.29 Z\" fill=\"#000000\" fill-rule=\"evenodd\" fill-opacity=\"1\" /><path clip-path=\"url(#clip620)\" d=\"M2127.56 1517.37 Q2123.94 1517.37 2122.12 1520.93 Q2120.31 1524.47 2120.31 1531.6 Q2120.31 1538.71 2122.12 1542.27 Q2123.94 1545.82 2127.56 1545.82 Q2131.19 1545.82 2133 1542.27 Q2134.82 1538.71 2134.82 1531.6 Q2134.82 1524.47 2133 1520.93 Q2131.19 1517.37 2127.56 1517.37 M2127.56 1513.66 Q2133.37 1513.66 2136.42 1518.27 Q2139.5 1522.85 2139.5 1531.6 Q2139.5 1540.33 2136.42 1544.94 Q2133.37 1549.52 2127.56 1549.52 Q2121.75 1549.52 2118.67 1544.94 Q2115.61 1540.33 2115.61 1531.6 Q2115.61 1522.85 2118.67 1518.27 Q2121.75 1513.66 2127.56 1513.66 Z\" fill=\"#000000\" fill-rule=\"evenodd\" fill-opacity=\"1\" /><path clip-path=\"url(#clip620)\" d=\"M2147.72 1542.97 L2152.6 1542.97 L2152.6 1548.85 L2147.72 1548.85 L2147.72 1542.97 Z\" fill=\"#000000\" fill-rule=\"evenodd\" fill-opacity=\"1\" /><path clip-path=\"url(#clip620)\" d=\"M2166.81 1544.91 L2183.13 1544.91 L2183.13 1548.85 L2161.19 1548.85 L2161.19 1544.91 Q2163.85 1542.16 2168.44 1537.53 Q2173.04 1532.88 2174.22 1531.53 Q2176.47 1529.01 2177.35 1527.27 Q2178.25 1525.51 2178.25 1523.82 Q2178.25 1521.07 2176.31 1519.33 Q2174.38 1517.6 2171.28 1517.6 Q2169.08 1517.6 2166.63 1518.36 Q2164.2 1519.13 2161.42 1520.68 L2161.42 1515.95 Q2164.25 1514.82 2166.7 1514.24 Q2169.15 1513.66 2171.19 1513.66 Q2176.56 1513.66 2179.75 1516.35 Q2182.95 1519.03 2182.95 1523.52 Q2182.95 1525.65 2182.14 1527.57 Q2181.35 1529.47 2179.25 1532.07 Q2178.67 1532.74 2175.56 1535.95 Q2172.46 1539.15 2166.81 1544.91 Z\" fill=\"#000000\" fill-rule=\"evenodd\" fill-opacity=\"1\" /><path clip-path=\"url(#clip620)\" d=\"M2202.95 1517.37 Q2199.34 1517.37 2197.51 1520.93 Q2195.7 1524.47 2195.7 1531.6 Q2195.7 1538.71 2197.51 1542.27 Q2199.34 1545.82 2202.95 1545.82 Q2206.58 1545.82 2208.39 1542.27 Q2210.22 1538.71 2210.22 1531.6 Q2210.22 1524.47 2208.39 1520.93 Q2206.58 1517.37 2202.95 1517.37 M2202.95 1513.66 Q2208.76 1513.66 2211.81 1518.27 Q2214.89 1522.85 2214.89 1531.6 Q2214.89 1540.33 2211.81 1544.94 Q2208.76 1549.52 2202.95 1549.52 Q2197.14 1549.52 2194.06 1544.94 Q2191 1540.33 2191 1531.6 Q2191 1522.85 2194.06 1518.27 Q2197.14 1513.66 2202.95 1513.66 Z\" fill=\"#000000\" fill-rule=\"evenodd\" fill-opacity=\"1\" /><polyline clip-path=\"url(#clip622)\" style=\"stroke:#000000; stroke-linecap:butt; stroke-linejoin:round; stroke-width:2; stroke-opacity:0.1; fill:none\" points=\"\n",
       "  170.857,1447.87 2352.76,1447.87 \n",
       "  \"/>\n",
       "<polyline clip-path=\"url(#clip622)\" style=\"stroke:#000000; stroke-linecap:butt; stroke-linejoin:round; stroke-width:2; stroke-opacity:0.1; fill:none\" points=\"\n",
       "  170.857,1224.17 2352.76,1224.17 \n",
       "  \"/>\n",
       "<polyline clip-path=\"url(#clip622)\" style=\"stroke:#000000; stroke-linecap:butt; stroke-linejoin:round; stroke-width:2; stroke-opacity:0.1; fill:none\" points=\"\n",
       "  170.857,1000.47 2352.76,1000.47 \n",
       "  \"/>\n",
       "<polyline clip-path=\"url(#clip622)\" style=\"stroke:#000000; stroke-linecap:butt; stroke-linejoin:round; stroke-width:2; stroke-opacity:0.1; fill:none\" points=\"\n",
       "  170.857,776.761 2352.76,776.761 \n",
       "  \"/>\n",
       "<polyline clip-path=\"url(#clip622)\" style=\"stroke:#000000; stroke-linecap:butt; stroke-linejoin:round; stroke-width:2; stroke-opacity:0.1; fill:none\" points=\"\n",
       "  170.857,553.057 2352.76,553.057 \n",
       "  \"/>\n",
       "<polyline clip-path=\"url(#clip622)\" style=\"stroke:#000000; stroke-linecap:butt; stroke-linejoin:round; stroke-width:2; stroke-opacity:0.1; fill:none\" points=\"\n",
       "  170.857,329.353 2352.76,329.353 \n",
       "  \"/>\n",
       "<polyline clip-path=\"url(#clip620)\" style=\"stroke:#000000; stroke-linecap:butt; stroke-linejoin:round; stroke-width:4; stroke-opacity:1; fill:none\" points=\"\n",
       "  170.857,1486.45 170.857,123.472 \n",
       "  \"/>\n",
       "<polyline clip-path=\"url(#clip620)\" style=\"stroke:#000000; stroke-linecap:butt; stroke-linejoin:round; stroke-width:4; stroke-opacity:1; fill:none\" points=\"\n",
       "  170.857,1447.87 189.755,1447.87 \n",
       "  \"/>\n",
       "<polyline clip-path=\"url(#clip620)\" style=\"stroke:#000000; stroke-linecap:butt; stroke-linejoin:round; stroke-width:4; stroke-opacity:1; fill:none\" points=\"\n",
       "  170.857,1224.17 189.755,1224.17 \n",
       "  \"/>\n",
       "<polyline clip-path=\"url(#clip620)\" style=\"stroke:#000000; stroke-linecap:butt; stroke-linejoin:round; stroke-width:4; stroke-opacity:1; fill:none\" points=\"\n",
       "  170.857,1000.47 189.755,1000.47 \n",
       "  \"/>\n",
       "<polyline clip-path=\"url(#clip620)\" style=\"stroke:#000000; stroke-linecap:butt; stroke-linejoin:round; stroke-width:4; stroke-opacity:1; fill:none\" points=\"\n",
       "  170.857,776.761 189.755,776.761 \n",
       "  \"/>\n",
       "<polyline clip-path=\"url(#clip620)\" style=\"stroke:#000000; stroke-linecap:butt; stroke-linejoin:round; stroke-width:4; stroke-opacity:1; fill:none\" points=\"\n",
       "  170.857,553.057 189.755,553.057 \n",
       "  \"/>\n",
       "<polyline clip-path=\"url(#clip620)\" style=\"stroke:#000000; stroke-linecap:butt; stroke-linejoin:round; stroke-width:4; stroke-opacity:1; fill:none\" points=\"\n",
       "  170.857,329.353 189.755,329.353 \n",
       "  \"/>\n",
       "<path clip-path=\"url(#clip620)\" d=\"M122.913 1433.67 Q119.302 1433.67 117.473 1437.24 Q115.668 1440.78 115.668 1447.91 Q115.668 1455.01 117.473 1458.58 Q119.302 1462.12 122.913 1462.12 Q126.547 1462.12 128.353 1458.58 Q130.182 1455.01 130.182 1447.91 Q130.182 1440.78 128.353 1437.24 Q126.547 1433.67 122.913 1433.67 M122.913 1429.97 Q128.723 1429.97 131.779 1434.57 Q134.857 1439.16 134.857 1447.91 Q134.857 1456.63 131.779 1461.24 Q128.723 1465.82 122.913 1465.82 Q117.103 1465.82 114.024 1461.24 Q110.969 1456.63 110.969 1447.91 Q110.969 1439.16 114.024 1434.57 Q117.103 1429.97 122.913 1429.97 Z\" fill=\"#000000\" fill-rule=\"evenodd\" fill-opacity=\"1\" /><path clip-path=\"url(#clip620)\" d=\"M82.7975 1206.89 L101.154 1206.89 L101.154 1210.82 L87.0799 1210.82 L87.0799 1219.3 Q88.0984 1218.95 89.1169 1218.79 Q90.1354 1218.6 91.1539 1218.6 Q96.941 1218.6 100.321 1221.77 Q103.7 1224.94 103.7 1230.36 Q103.7 1235.94 100.228 1239.04 Q96.7558 1242.12 90.4364 1242.12 Q88.2604 1242.12 85.9919 1241.75 Q83.7466 1241.38 81.3392 1240.64 L81.3392 1235.94 Q83.4225 1237.07 85.6447 1237.63 Q87.8669 1238.19 90.3438 1238.19 Q94.3484 1238.19 96.6863 1236.08 Q99.0243 1233.97 99.0243 1230.36 Q99.0243 1226.75 96.6863 1224.64 Q94.3484 1222.54 90.3438 1222.54 Q88.4688 1222.54 86.5938 1222.95 Q84.7419 1223.37 82.7975 1224.25 L82.7975 1206.89 Z\" fill=\"#000000\" fill-rule=\"evenodd\" fill-opacity=\"1\" /><path clip-path=\"url(#clip620)\" d=\"M122.913 1209.97 Q119.302 1209.97 117.473 1213.53 Q115.668 1217.07 115.668 1224.2 Q115.668 1231.31 117.473 1234.88 Q119.302 1238.42 122.913 1238.42 Q126.547 1238.42 128.353 1234.88 Q130.182 1231.31 130.182 1224.2 Q130.182 1217.07 128.353 1213.53 Q126.547 1209.97 122.913 1209.97 M122.913 1206.26 Q128.723 1206.26 131.779 1210.87 Q134.857 1215.45 134.857 1224.2 Q134.857 1232.93 131.779 1237.54 Q128.723 1242.12 122.913 1242.12 Q117.103 1242.12 114.024 1237.54 Q110.969 1232.93 110.969 1224.2 Q110.969 1215.45 114.024 1210.87 Q117.103 1206.26 122.913 1206.26 Z\" fill=\"#000000\" fill-rule=\"evenodd\" fill-opacity=\"1\" /><path clip-path=\"url(#clip620)\" d=\"M53.3995 1013.81 L61.0384 1013.81 L61.0384 987.444 L52.7282 989.111 L52.7282 984.852 L60.9921 983.185 L65.668 983.185 L65.668 1013.81 L73.3068 1013.81 L73.3068 1017.75 L53.3995 1017.75 L53.3995 1013.81 Z\" fill=\"#000000\" fill-rule=\"evenodd\" fill-opacity=\"1\" /><path clip-path=\"url(#clip620)\" d=\"M92.7512 986.264 Q89.1401 986.264 87.3114 989.829 Q85.5058 993.37 85.5058 1000.5 Q85.5058 1007.61 87.3114 1011.17 Q89.1401 1014.71 92.7512 1014.71 Q96.3854 1014.71 98.1909 1011.17 Q100.02 1007.61 100.02 1000.5 Q100.02 993.37 98.1909 989.829 Q96.3854 986.264 92.7512 986.264 M92.7512 982.56 Q98.5613 982.56 101.617 987.167 Q104.696 991.75 104.696 1000.5 Q104.696 1009.23 101.617 1013.83 Q98.5613 1018.42 92.7512 1018.42 Q86.941 1018.42 83.8623 1013.83 Q80.8068 1009.23 80.8068 1000.5 Q80.8068 991.75 83.8623 987.167 Q86.941 982.56 92.7512 982.56 Z\" fill=\"#000000\" fill-rule=\"evenodd\" fill-opacity=\"1\" /><path clip-path=\"url(#clip620)\" d=\"M122.913 986.264 Q119.302 986.264 117.473 989.829 Q115.668 993.37 115.668 1000.5 Q115.668 1007.61 117.473 1011.17 Q119.302 1014.71 122.913 1014.71 Q126.547 1014.71 128.353 1011.17 Q130.182 1007.61 130.182 1000.5 Q130.182 993.37 128.353 989.829 Q126.547 986.264 122.913 986.264 M122.913 982.56 Q128.723 982.56 131.779 987.167 Q134.857 991.75 134.857 1000.5 Q134.857 1009.23 131.779 1013.83 Q128.723 1018.42 122.913 1018.42 Q117.103 1018.42 114.024 1013.83 Q110.969 1009.23 110.969 1000.5 Q110.969 991.75 114.024 987.167 Q117.103 982.56 122.913 982.56 Z\" fill=\"#000000\" fill-rule=\"evenodd\" fill-opacity=\"1\" /><path clip-path=\"url(#clip620)\" d=\"M53.3995 790.106 L61.0384 790.106 L61.0384 763.74 L52.7282 765.407 L52.7282 761.148 L60.9921 759.481 L65.668 759.481 L65.668 790.106 L73.3068 790.106 L73.3068 794.041 L53.3995 794.041 L53.3995 790.106 Z\" fill=\"#000000\" fill-rule=\"evenodd\" fill-opacity=\"1\" /><path clip-path=\"url(#clip620)\" d=\"M82.7975 759.481 L101.154 759.481 L101.154 763.416 L87.0799 763.416 L87.0799 771.888 Q88.0984 771.541 89.1169 771.379 Q90.1354 771.194 91.1539 771.194 Q96.941 771.194 100.321 774.365 Q103.7 777.537 103.7 782.953 Q103.7 788.532 100.228 791.634 Q96.7558 794.712 90.4364 794.712 Q88.2604 794.712 85.9919 794.342 Q83.7466 793.972 81.3392 793.231 L81.3392 788.532 Q83.4225 789.666 85.6447 790.222 Q87.8669 790.777 90.3438 790.777 Q94.3484 790.777 96.6863 788.671 Q99.0243 786.564 99.0243 782.953 Q99.0243 779.342 96.6863 777.236 Q94.3484 775.129 90.3438 775.129 Q88.4688 775.129 86.5938 775.546 Q84.7419 775.963 82.7975 776.842 L82.7975 759.481 Z\" fill=\"#000000\" fill-rule=\"evenodd\" fill-opacity=\"1\" /><path clip-path=\"url(#clip620)\" d=\"M122.913 762.56 Q119.302 762.56 117.473 766.125 Q115.668 769.666 115.668 776.796 Q115.668 783.902 117.473 787.467 Q119.302 791.009 122.913 791.009 Q126.547 791.009 128.353 787.467 Q130.182 783.902 130.182 776.796 Q130.182 769.666 128.353 766.125 Q126.547 762.56 122.913 762.56 M122.913 758.856 Q128.723 758.856 131.779 763.463 Q134.857 768.046 134.857 776.796 Q134.857 785.523 131.779 790.129 Q128.723 794.712 122.913 794.712 Q117.103 794.712 114.024 790.129 Q110.969 785.523 110.969 776.796 Q110.969 768.046 114.024 763.463 Q117.103 758.856 122.913 758.856 Z\" fill=\"#000000\" fill-rule=\"evenodd\" fill-opacity=\"1\" /><path clip-path=\"url(#clip620)\" d=\"M56.6171 566.402 L72.9365 566.402 L72.9365 570.337 L50.9921 570.337 L50.9921 566.402 Q53.6541 563.647 58.2375 559.018 Q62.8439 554.365 64.0245 553.022 Q66.2698 550.499 67.1494 548.763 Q68.0522 547.004 68.0522 545.314 Q68.0522 542.56 66.1078 540.823 Q64.1865 539.087 61.0847 539.087 Q58.8856 539.087 56.4319 539.851 Q54.0014 540.615 51.2236 542.166 L51.2236 537.444 Q54.0477 536.31 56.5014 535.731 Q58.955 535.152 60.9921 535.152 Q66.3624 535.152 69.5568 537.837 Q72.7513 540.523 72.7513 545.013 Q72.7513 547.143 71.9411 549.064 Q71.1541 550.962 69.0476 553.555 Q68.4689 554.226 65.367 557.444 Q62.2652 560.638 56.6171 566.402 Z\" fill=\"#000000\" fill-rule=\"evenodd\" fill-opacity=\"1\" /><path clip-path=\"url(#clip620)\" d=\"M92.7512 538.856 Q89.1401 538.856 87.3114 542.421 Q85.5058 545.962 85.5058 553.092 Q85.5058 560.198 87.3114 563.763 Q89.1401 567.305 92.7512 567.305 Q96.3854 567.305 98.1909 563.763 Q100.02 560.198 100.02 553.092 Q100.02 545.962 98.1909 542.421 Q96.3854 538.856 92.7512 538.856 M92.7512 535.152 Q98.5613 535.152 101.617 539.759 Q104.696 544.342 104.696 553.092 Q104.696 561.819 101.617 566.425 Q98.5613 571.008 92.7512 571.008 Q86.941 571.008 83.8623 566.425 Q80.8068 561.819 80.8068 553.092 Q80.8068 544.342 83.8623 539.759 Q86.941 535.152 92.7512 535.152 Z\" fill=\"#000000\" fill-rule=\"evenodd\" fill-opacity=\"1\" /><path clip-path=\"url(#clip620)\" d=\"M122.913 538.856 Q119.302 538.856 117.473 542.421 Q115.668 545.962 115.668 553.092 Q115.668 560.198 117.473 563.763 Q119.302 567.305 122.913 567.305 Q126.547 567.305 128.353 563.763 Q130.182 560.198 130.182 553.092 Q130.182 545.962 128.353 542.421 Q126.547 538.856 122.913 538.856 M122.913 535.152 Q128.723 535.152 131.779 539.759 Q134.857 544.342 134.857 553.092 Q134.857 561.819 131.779 566.425 Q128.723 571.008 122.913 571.008 Q117.103 571.008 114.024 566.425 Q110.969 561.819 110.969 553.092 Q110.969 544.342 114.024 539.759 Q117.103 535.152 122.913 535.152 Z\" fill=\"#000000\" fill-rule=\"evenodd\" fill-opacity=\"1\" /><path clip-path=\"url(#clip620)\" d=\"M56.6171 342.698 L72.9365 342.698 L72.9365 346.633 L50.9921 346.633 L50.9921 342.698 Q53.6541 339.943 58.2375 335.314 Q62.8439 330.661 64.0245 329.318 Q66.2698 326.795 67.1494 325.059 Q68.0522 323.3 68.0522 321.61 Q68.0522 318.856 66.1078 317.119 Q64.1865 315.383 61.0847 315.383 Q58.8856 315.383 56.4319 316.147 Q54.0014 316.911 51.2236 318.462 L51.2236 313.74 Q54.0477 312.606 56.5014 312.027 Q58.955 311.448 60.9921 311.448 Q66.3624 311.448 69.5568 314.133 Q72.7513 316.819 72.7513 321.309 Q72.7513 323.439 71.9411 325.36 Q71.1541 327.258 69.0476 329.851 Q68.4689 330.522 65.367 333.74 Q62.2652 336.934 56.6171 342.698 Z\" fill=\"#000000\" fill-rule=\"evenodd\" fill-opacity=\"1\" /><path clip-path=\"url(#clip620)\" d=\"M82.7975 312.073 L101.154 312.073 L101.154 316.008 L87.0799 316.008 L87.0799 324.481 Q88.0984 324.133 89.1169 323.971 Q90.1354 323.786 91.1539 323.786 Q96.941 323.786 100.321 326.957 Q103.7 330.129 103.7 335.545 Q103.7 341.124 100.228 344.226 Q96.7558 347.304 90.4364 347.304 Q88.2604 347.304 85.9919 346.934 Q83.7466 346.564 81.3392 345.823 L81.3392 341.124 Q83.4225 342.258 85.6447 342.814 Q87.8669 343.369 90.3438 343.369 Q94.3484 343.369 96.6863 341.263 Q99.0243 339.156 99.0243 335.545 Q99.0243 331.934 96.6863 329.828 Q94.3484 327.721 90.3438 327.721 Q88.4688 327.721 86.5938 328.138 Q84.7419 328.555 82.7975 329.434 L82.7975 312.073 Z\" fill=\"#000000\" fill-rule=\"evenodd\" fill-opacity=\"1\" /><path clip-path=\"url(#clip620)\" d=\"M122.913 315.152 Q119.302 315.152 117.473 318.717 Q115.668 322.258 115.668 329.388 Q115.668 336.494 117.473 340.059 Q119.302 343.601 122.913 343.601 Q126.547 343.601 128.353 340.059 Q130.182 336.494 130.182 329.388 Q130.182 322.258 128.353 318.717 Q126.547 315.152 122.913 315.152 M122.913 311.448 Q128.723 311.448 131.779 316.055 Q134.857 320.638 134.857 329.388 Q134.857 338.115 131.779 342.721 Q128.723 347.304 122.913 347.304 Q117.103 347.304 114.024 342.721 Q110.969 338.115 110.969 329.388 Q110.969 320.638 114.024 316.055 Q117.103 311.448 122.913 311.448 Z\" fill=\"#000000\" fill-rule=\"evenodd\" fill-opacity=\"1\" /><path clip-path=\"url(#clip620)\" d=\"M432.06 12.096 L483.223 12.096 L483.223 18.9825 L461.753 18.9825 L461.753 72.576 L453.53 72.576 L453.53 18.9825 L432.06 18.9825 L432.06 12.096 Z\" fill=\"#000000\" fill-rule=\"evenodd\" fill-opacity=\"1\" /><path clip-path=\"url(#clip620)\" d=\"M488.246 27.2059 L495.7 27.2059 L495.7 72.576 L488.246 72.576 L488.246 27.2059 M488.246 9.54393 L495.7 9.54393 L495.7 18.9825 L488.246 18.9825 L488.246 9.54393 Z\" fill=\"#000000\" fill-rule=\"evenodd\" fill-opacity=\"1\" /><path clip-path=\"url(#clip620)\" d=\"M546.62 35.9153 Q549.415 30.8922 553.304 28.5022 Q557.192 26.1121 562.459 26.1121 Q569.548 26.1121 573.396 31.0947 Q577.244 36.0368 577.244 45.1919 L577.244 72.576 L569.75 72.576 L569.75 45.4349 Q569.75 38.913 567.441 35.7533 Q565.132 32.5936 560.393 32.5936 Q554.6 32.5936 551.238 36.4419 Q547.875 40.2903 547.875 46.9338 L547.875 72.576 L540.381 72.576 L540.381 45.4349 Q540.381 38.8725 538.072 35.7533 Q535.763 32.5936 530.943 32.5936 Q525.231 32.5936 521.868 36.4824 Q518.506 40.3308 518.506 46.9338 L518.506 72.576 L511.012 72.576 L511.012 27.2059 L518.506 27.2059 L518.506 34.2544 Q521.058 30.082 524.623 28.0971 Q528.188 26.1121 533.09 26.1121 Q538.032 26.1121 541.475 28.6237 Q544.959 31.1352 546.62 35.9153 Z\" fill=\"#000000\" fill-rule=\"evenodd\" fill-opacity=\"1\" /><path clip-path=\"url(#clip620)\" d=\"M630.919 48.0275 L630.919 51.6733 L596.648 51.6733 Q597.134 59.3701 601.266 63.421 Q605.439 67.4314 612.852 67.4314 Q617.146 67.4314 621.156 66.3781 Q625.207 65.3249 629.177 63.2184 L629.177 70.267 Q625.167 71.9684 620.954 72.8596 Q616.741 73.7508 612.406 73.7508 Q601.55 73.7508 595.19 67.4314 Q588.87 61.1119 588.87 50.3365 Q588.87 39.1965 594.866 32.6746 Q600.902 26.1121 611.11 26.1121 Q620.265 26.1121 625.572 32.0264 Q630.919 37.9003 630.919 48.0275 M623.465 45.84 Q623.384 39.7232 620.022 36.0774 Q616.7 32.4315 611.191 32.4315 Q604.953 32.4315 601.185 35.9558 Q597.458 39.4801 596.891 45.8805 L623.465 45.84 Z\" fill=\"#000000\" fill-rule=\"evenodd\" fill-opacity=\"1\" /><path clip-path=\"url(#clip620)\" d=\"M661.463 12.096 L712.626 12.096 L712.626 18.9825 L691.156 18.9825 L691.156 72.576 L682.932 72.576 L682.932 18.9825 L661.463 18.9825 L661.463 12.096 Z\" fill=\"#000000\" fill-rule=\"evenodd\" fill-opacity=\"1\" /><path clip-path=\"url(#clip620)\" d=\"M727.087 49.7694 Q718.054 49.7694 714.57 51.8354 Q711.086 53.9013 711.086 58.8839 Q711.086 62.8538 713.679 65.2034 Q716.312 67.5124 720.808 67.5124 Q727.006 67.5124 730.733 63.1374 Q734.5 58.7219 734.5 51.4303 L734.5 49.7694 L727.087 49.7694 M741.954 46.6907 L741.954 72.576 L734.5 72.576 L734.5 65.6895 Q731.948 69.8214 728.141 71.8063 Q724.333 73.7508 718.823 73.7508 Q711.856 73.7508 707.724 69.8619 Q703.633 65.9325 703.633 59.3701 Q703.633 51.7138 708.737 47.825 Q713.881 43.9361 724.049 43.9361 L734.5 43.9361 L734.5 43.2069 Q734.5 38.0623 731.098 35.2672 Q727.735 32.4315 721.619 32.4315 Q717.73 32.4315 714.043 33.3632 Q710.357 34.295 706.954 36.1584 L706.954 29.2718 Q711.046 27.692 714.894 26.9223 Q718.742 26.1121 722.388 26.1121 Q732.232 26.1121 737.093 31.2163 Q741.954 36.3204 741.954 46.6907 Z\" fill=\"#000000\" fill-rule=\"evenodd\" fill-opacity=\"1\" /><path clip-path=\"url(#clip620)\" d=\"M757.023 9.54393 L764.518 9.54393 L764.518 46.7717 L786.757 27.2059 L796.277 27.2059 L772.214 48.4326 L797.289 72.576 L787.567 72.576 L764.518 50.4176 L764.518 72.576 L757.023 72.576 L757.023 9.54393 Z\" fill=\"#000000\" fill-rule=\"evenodd\" fill-opacity=\"1\" /><path clip-path=\"url(#clip620)\" d=\"M841.201 48.0275 L841.201 51.6733 L806.931 51.6733 Q807.417 59.3701 811.549 63.421 Q815.721 67.4314 823.134 67.4314 Q827.428 67.4314 831.439 66.3781 Q835.49 65.3249 839.459 63.2184 L839.459 70.267 Q835.449 71.9684 831.236 72.8596 Q827.023 73.7508 822.689 73.7508 Q811.832 73.7508 805.472 67.4314 Q799.153 61.1119 799.153 50.3365 Q799.153 39.1965 805.148 32.6746 Q811.184 26.1121 821.392 26.1121 Q830.547 26.1121 835.854 32.0264 Q841.201 37.9003 841.201 48.0275 M833.748 45.84 Q833.667 39.7232 830.304 36.0774 Q826.983 32.4315 821.473 32.4315 Q815.235 32.4315 811.468 35.9558 Q807.741 39.4801 807.174 45.8805 L833.748 45.84 Z\" fill=\"#000000\" fill-rule=\"evenodd\" fill-opacity=\"1\" /><path clip-path=\"url(#clip620)\" d=\"M891.149 45.1919 L891.149 72.576 L883.695 72.576 L883.695 45.4349 Q883.695 38.994 881.184 35.7938 Q878.672 32.5936 873.649 32.5936 Q867.613 32.5936 864.129 36.4419 Q860.646 40.2903 860.646 46.9338 L860.646 72.576 L853.151 72.576 L853.151 27.2059 L860.646 27.2059 L860.646 34.2544 Q863.319 30.163 866.925 28.1376 Q870.57 26.1121 875.31 26.1121 Q883.128 26.1121 887.139 30.9732 Q891.149 35.7938 891.149 45.1919 Z\" fill=\"#000000\" fill-rule=\"evenodd\" fill-opacity=\"1\" /><path clip-path=\"url(#clip620)\" d=\"M932.711 12.096 L967.468 12.096 L967.468 18.9825 L940.894 18.9825 L940.894 36.8065 L964.875 36.8065 L964.875 43.6931 L940.894 43.6931 L940.894 72.576 L932.711 72.576 L932.711 12.096 Z\" fill=\"#000000\" fill-rule=\"evenodd\" fill-opacity=\"1\" /><path clip-path=\"url(#clip620)\" d=\"M994.731 32.4315 Q988.735 32.4315 985.251 37.1306 Q981.768 41.7891 981.768 49.9314 Q981.768 58.0738 985.211 62.7728 Q988.695 67.4314 994.731 67.4314 Q1000.69 67.4314 1004.17 62.7323 Q1007.65 58.0333 1007.65 49.9314 Q1007.65 41.8701 1004.17 37.1711 Q1000.69 32.4315 994.731 32.4315 M994.731 26.1121 Q1004.45 26.1121 1010 32.4315 Q1015.55 38.7509 1015.55 49.9314 Q1015.55 61.0714 1010 67.4314 Q1004.45 73.7508 994.731 73.7508 Q984.968 73.7508 979.418 67.4314 Q973.909 61.0714 973.909 49.9314 Q973.909 38.7509 979.418 32.4315 Q984.968 26.1121 994.731 26.1121 Z\" fill=\"#000000\" fill-rule=\"evenodd\" fill-opacity=\"1\" /><path clip-path=\"url(#clip620)\" d=\"M1054.2 34.1734 Q1052.94 33.4443 1051.44 33.1202 Q1049.98 32.7556 1048.2 32.7556 Q1041.88 32.7556 1038.48 36.8875 Q1035.12 40.9789 1035.12 48.6757 L1035.12 72.576 L1027.62 72.576 L1027.62 27.2059 L1035.12 27.2059 L1035.12 34.2544 Q1037.47 30.1225 1041.23 28.1376 Q1045 26.1121 1050.39 26.1121 Q1051.16 26.1121 1052.09 26.2337 Q1053.02 26.3147 1054.16 26.5172 L1054.2 34.1734 Z\" fill=\"#000000\" fill-rule=\"evenodd\" fill-opacity=\"1\" /><path clip-path=\"url(#clip620)\" d=\"M1113.26 17.6457 Q1104.35 17.6457 1099.08 24.2892 Q1093.86 30.9327 1093.86 42.3968 Q1093.86 53.8203 1099.08 60.4638 Q1104.35 67.1073 1113.26 67.1073 Q1122.17 67.1073 1127.36 60.4638 Q1132.58 53.8203 1132.58 42.3968 Q1132.58 30.9327 1127.36 24.2892 Q1122.17 17.6457 1113.26 17.6457 M1113.26 11.0023 Q1125.98 11.0023 1133.6 19.5497 Q1141.21 28.0566 1141.21 42.3968 Q1141.21 56.6965 1133.6 65.2439 Q1125.98 73.7508 1113.26 73.7508 Q1100.5 73.7508 1092.84 65.2439 Q1085.23 56.737 1085.23 42.3968 Q1085.23 28.0566 1092.84 19.5497 Q1100.5 11.0023 1113.26 11.0023 Z\" fill=\"#000000\" fill-rule=\"evenodd\" fill-opacity=\"1\" /><path clip-path=\"url(#clip620)\" d=\"M1191.4 45.1919 L1191.4 72.576 L1183.95 72.576 L1183.95 45.4349 Q1183.95 38.994 1181.44 35.7938 Q1178.93 32.5936 1173.9 32.5936 Q1167.87 32.5936 1164.38 36.4419 Q1160.9 40.2903 1160.9 46.9338 L1160.9 72.576 L1153.4 72.576 L1153.4 27.2059 L1160.9 27.2059 L1160.9 34.2544 Q1163.57 30.163 1167.18 28.1376 Q1170.82 26.1121 1175.56 26.1121 Q1183.38 26.1121 1187.39 30.9732 Q1191.4 35.7938 1191.4 45.1919 Z\" fill=\"#000000\" fill-rule=\"evenodd\" fill-opacity=\"1\" /><path clip-path=\"url(#clip620)\" d=\"M1245.08 48.0275 L1245.08 51.6733 L1210.81 51.6733 Q1211.29 59.3701 1215.42 63.421 Q1219.6 67.4314 1227.01 67.4314 Q1231.3 67.4314 1235.31 66.3781 Q1239.36 65.3249 1243.33 63.2184 L1243.33 70.267 Q1239.32 71.9684 1235.11 72.8596 Q1230.9 73.7508 1226.56 73.7508 Q1215.71 73.7508 1209.35 67.4314 Q1203.03 61.1119 1203.03 50.3365 Q1203.03 39.1965 1209.02 32.6746 Q1215.06 26.1121 1225.27 26.1121 Q1234.42 26.1121 1239.73 32.0264 Q1245.08 37.9003 1245.08 48.0275 M1237.62 45.84 Q1237.54 39.7232 1234.18 36.0774 Q1230.86 32.4315 1225.35 32.4315 Q1219.11 32.4315 1215.34 35.9558 Q1211.62 39.4801 1211.05 45.8805 L1237.62 45.84 Z\" fill=\"#000000\" fill-rule=\"evenodd\" fill-opacity=\"1\" /><path clip-path=\"url(#clip620)\" d=\"M1325.24 63.9476 L1325.24 47.7034 L1311.88 47.7034 L1311.88 40.9789 L1333.35 40.9789 L1333.35 66.9452 Q1328.61 70.3075 1322.89 72.0494 Q1317.18 73.7508 1310.7 73.7508 Q1296.52 73.7508 1288.5 65.4869 Q1280.52 57.1826 1280.52 42.3968 Q1280.52 27.5705 1288.5 19.3066 Q1296.52 11.0023 1310.7 11.0023 Q1316.62 11.0023 1321.92 12.4606 Q1327.27 13.9189 1331.77 16.7545 L1331.77 25.464 Q1327.23 21.6156 1322.12 19.6712 Q1317.02 17.7268 1311.39 17.7268 Q1300.29 17.7268 1294.7 23.9246 Q1289.15 30.1225 1289.15 42.3968 Q1289.15 54.6305 1294.7 60.8284 Q1300.29 67.0263 1311.39 67.0263 Q1315.72 67.0263 1319.13 66.2971 Q1322.53 65.5274 1325.24 63.9476 Z\" fill=\"#000000\" fill-rule=\"evenodd\" fill-opacity=\"1\" /><path clip-path=\"url(#clip620)\" d=\"M1347.97 27.2059 L1355.42 27.2059 L1355.42 72.576 L1347.97 72.576 L1347.97 27.2059 M1347.97 9.54393 L1355.42 9.54393 L1355.42 18.9825 L1347.97 18.9825 L1347.97 9.54393 Z\" fill=\"#000000\" fill-rule=\"evenodd\" fill-opacity=\"1\" /><path clip-path=\"url(#clip620)\" d=\"M1371.02 9.54393 L1378.47 9.54393 L1378.47 72.576 L1371.02 72.576 L1371.02 9.54393 Z\" fill=\"#000000\" fill-rule=\"evenodd\" fill-opacity=\"1\" /><path clip-path=\"url(#clip620)\" d=\"M1394.07 9.54393 L1401.52 9.54393 L1401.52 72.576 L1394.07 72.576 L1394.07 9.54393 Z\" fill=\"#000000\" fill-rule=\"evenodd\" fill-opacity=\"1\" /><path clip-path=\"url(#clip620)\" d=\"M1455.93 48.0275 L1455.93 51.6733 L1421.66 51.6733 Q1422.14 59.3701 1426.27 63.421 Q1430.45 67.4314 1437.86 67.4314 Q1442.15 67.4314 1446.16 66.3781 Q1450.21 65.3249 1454.18 63.2184 L1454.18 70.267 Q1450.17 71.9684 1445.96 72.8596 Q1441.75 73.7508 1437.41 73.7508 Q1426.56 73.7508 1420.2 67.4314 Q1413.88 61.1119 1413.88 50.3365 Q1413.88 39.1965 1419.87 32.6746 Q1425.91 26.1121 1436.12 26.1121 Q1445.27 26.1121 1450.58 32.0264 Q1455.93 37.9003 1455.93 48.0275 M1448.47 45.84 Q1448.39 39.7232 1445.03 36.0774 Q1441.71 32.4315 1436.2 32.4315 Q1429.96 32.4315 1426.19 35.9558 Q1422.47 39.4801 1421.9 45.8805 L1448.47 45.84 Z\" fill=\"#000000\" fill-rule=\"evenodd\" fill-opacity=\"1\" /><path clip-path=\"url(#clip620)\" d=\"M1497.08 28.5427 L1497.08 35.5912 Q1493.92 33.9709 1490.52 33.1607 Q1487.12 32.3505 1483.47 32.3505 Q1477.92 32.3505 1475.13 34.0519 Q1472.37 35.7533 1472.37 39.156 Q1472.37 41.7486 1474.36 43.2475 Q1476.34 44.7058 1482.34 46.0426 L1484.89 46.6097 Q1492.83 48.3111 1496.15 51.4303 Q1499.51 54.509 1499.51 60.0587 Q1499.51 66.3781 1494.49 70.0644 Q1489.51 73.7508 1480.76 73.7508 Q1477.11 73.7508 1473.14 73.0216 Q1469.21 72.3329 1464.84 70.9151 L1464.84 63.2184 Q1468.97 65.3654 1472.98 66.4591 Q1476.99 67.5124 1480.92 67.5124 Q1486.19 67.5124 1489.02 65.73 Q1491.86 63.9071 1491.86 60.6258 Q1491.86 57.5877 1489.79 55.9673 Q1487.77 54.3469 1480.84 52.8481 L1478.25 52.2405 Q1471.32 50.7821 1468.24 47.7845 Q1465.16 44.7463 1465.16 39.4801 Q1465.16 33.0797 1469.7 29.5959 Q1474.24 26.1121 1482.58 26.1121 Q1486.71 26.1121 1490.36 26.7198 Q1494 27.3274 1497.08 28.5427 Z\" fill=\"#000000\" fill-rule=\"evenodd\" fill-opacity=\"1\" /><path clip-path=\"url(#clip620)\" d=\"M1518.59 65.7705 L1518.59 89.8329 L1511.1 89.8329 L1511.1 27.2059 L1518.59 27.2059 L1518.59 34.0924 Q1520.94 30.0415 1524.51 28.0971 Q1528.11 26.1121 1533.1 26.1121 Q1541.36 26.1121 1546.5 32.6746 Q1551.69 39.2371 1551.69 49.9314 Q1551.69 60.6258 1546.5 67.1883 Q1541.36 73.7508 1533.1 73.7508 Q1528.11 73.7508 1524.51 71.8063 Q1520.94 69.8214 1518.59 65.7705 M1543.95 49.9314 Q1543.95 41.7081 1540.55 37.0496 Q1537.19 32.3505 1531.27 32.3505 Q1525.36 32.3505 1521.96 37.0496 Q1518.59 41.7081 1518.59 49.9314 Q1518.59 58.1548 1521.96 62.8538 Q1525.36 67.5124 1531.27 67.5124 Q1537.19 67.5124 1540.55 62.8538 Q1543.95 58.1548 1543.95 49.9314 Z\" fill=\"#000000\" fill-rule=\"evenodd\" fill-opacity=\"1\" /><path clip-path=\"url(#clip620)\" d=\"M1564.04 27.2059 L1571.5 27.2059 L1571.5 72.576 L1564.04 72.576 L1564.04 27.2059 M1564.04 9.54393 L1571.5 9.54393 L1571.5 18.9825 L1564.04 18.9825 L1564.04 9.54393 Z\" fill=\"#000000\" fill-rule=\"evenodd\" fill-opacity=\"1\" /><path clip-path=\"url(#clip620)\" d=\"M1625.9 48.0275 L1625.9 51.6733 L1591.63 51.6733 Q1592.12 59.3701 1596.25 63.421 Q1600.42 67.4314 1607.83 67.4314 Q1612.13 67.4314 1616.14 66.3781 Q1620.19 65.3249 1624.16 63.2184 L1624.16 70.267 Q1620.15 71.9684 1615.94 72.8596 Q1611.72 73.7508 1607.39 73.7508 Q1596.53 73.7508 1590.17 67.4314 Q1583.85 61.1119 1583.85 50.3365 Q1583.85 39.1965 1589.85 32.6746 Q1595.88 26.1121 1606.09 26.1121 Q1615.25 26.1121 1620.55 32.0264 Q1625.9 37.9003 1625.9 48.0275 M1618.45 45.84 Q1618.37 39.7232 1615.01 36.0774 Q1611.68 32.4315 1606.17 32.4315 Q1599.94 32.4315 1596.17 35.9558 Q1592.44 39.4801 1591.87 45.8805 L1618.45 45.84 Z\" fill=\"#000000\" fill-rule=\"evenodd\" fill-opacity=\"1\" /><path clip-path=\"url(#clip620)\" d=\"M1701.09 14.0809 L1701.09 22.0612 Q1696.43 19.8332 1692.3 18.7395 Q1688.16 17.6457 1684.32 17.6457 Q1677.63 17.6457 1673.99 20.2383 Q1670.38 22.8309 1670.38 27.611 Q1670.38 31.6214 1672.77 33.6873 Q1675.2 35.7128 1681.93 36.9686 L1686.87 37.9813 Q1696.02 39.7232 1700.36 44.1387 Q1704.73 48.5136 1704.73 55.8863 Q1704.73 64.6767 1698.82 69.2137 Q1692.94 73.7508 1681.56 73.7508 Q1677.27 73.7508 1672.41 72.7785 Q1667.59 71.8063 1662.4 69.9024 L1662.4 61.4765 Q1667.38 64.2716 1672.16 65.6895 Q1676.94 67.1073 1681.56 67.1073 Q1688.57 67.1073 1692.38 64.3527 Q1696.19 61.598 1696.19 56.4939 Q1696.19 52.0379 1693.43 49.5264 Q1690.72 47.0148 1684.48 45.759 L1679.5 44.7868 Q1670.34 42.9639 1666.25 39.075 Q1662.16 35.1862 1662.16 28.2591 Q1662.16 20.2383 1667.79 15.6203 Q1673.46 11.0023 1683.38 11.0023 Q1687.64 11.0023 1692.05 11.7719 Q1696.47 12.5416 1701.09 14.0809 Z\" fill=\"#000000\" fill-rule=\"evenodd\" fill-opacity=\"1\" /><path clip-path=\"url(#clip620)\" d=\"M1717.17 27.2059 L1724.62 27.2059 L1724.62 72.576 L1717.17 72.576 L1717.17 27.2059 M1717.17 9.54393 L1724.62 9.54393 L1724.62 18.9825 L1717.17 18.9825 L1717.17 9.54393 Z\" fill=\"#000000\" fill-rule=\"evenodd\" fill-opacity=\"1\" /><path clip-path=\"url(#clip620)\" d=\"M1775.54 35.9153 Q1778.34 30.8922 1782.23 28.5022 Q1786.12 26.1121 1791.38 26.1121 Q1798.47 26.1121 1802.32 31.0947 Q1806.17 36.0368 1806.17 45.1919 L1806.17 72.576 L1798.67 72.576 L1798.67 45.4349 Q1798.67 38.913 1796.36 35.7533 Q1794.05 32.5936 1789.32 32.5936 Q1783.52 32.5936 1780.16 36.4419 Q1776.8 40.2903 1776.8 46.9338 L1776.8 72.576 L1769.3 72.576 L1769.3 45.4349 Q1769.3 38.8725 1766.99 35.7533 Q1764.69 32.5936 1759.87 32.5936 Q1754.15 32.5936 1750.79 36.4824 Q1747.43 40.3308 1747.43 46.9338 L1747.43 72.576 L1739.93 72.576 L1739.93 27.2059 L1747.43 27.2059 L1747.43 34.2544 Q1749.98 30.082 1753.55 28.0971 Q1757.11 26.1121 1762.01 26.1121 Q1766.95 26.1121 1770.4 28.6237 Q1773.88 31.1352 1775.54 35.9153 Z\" fill=\"#000000\" fill-rule=\"evenodd\" fill-opacity=\"1\" /><path clip-path=\"url(#clip620)\" d=\"M1820.26 54.671 L1820.26 27.2059 L1827.72 27.2059 L1827.72 54.3874 Q1827.72 60.8284 1830.23 64.0691 Q1832.74 67.2693 1837.76 67.2693 Q1843.8 67.2693 1847.28 63.421 Q1850.81 59.5726 1850.81 52.9291 L1850.81 27.2059 L1858.26 27.2059 L1858.26 72.576 L1850.81 72.576 L1850.81 65.6084 Q1848.09 69.7404 1844.49 71.7658 Q1840.92 73.7508 1836.18 73.7508 Q1828.37 73.7508 1824.32 68.8897 Q1820.26 64.0286 1820.26 54.671 M1839.02 26.1121 L1839.02 26.1121 Z\" fill=\"#000000\" fill-rule=\"evenodd\" fill-opacity=\"1\" /><path clip-path=\"url(#clip620)\" d=\"M1873.61 9.54393 L1881.07 9.54393 L1881.07 72.576 L1873.61 72.576 L1873.61 9.54393 Z\" fill=\"#000000\" fill-rule=\"evenodd\" fill-opacity=\"1\" /><path clip-path=\"url(#clip620)\" d=\"M1917.28 49.7694 Q1908.25 49.7694 1904.77 51.8354 Q1901.28 53.9013 1901.28 58.8839 Q1901.28 62.8538 1903.87 65.2034 Q1906.51 67.5124 1911 67.5124 Q1917.2 67.5124 1920.93 63.1374 Q1924.7 58.7219 1924.7 51.4303 L1924.7 49.7694 L1917.28 49.7694 M1932.15 46.6907 L1932.15 72.576 L1924.7 72.576 L1924.7 65.6895 Q1922.14 69.8214 1918.34 71.8063 Q1914.53 73.7508 1909.02 73.7508 Q1902.05 73.7508 1897.92 69.8619 Q1893.83 65.9325 1893.83 59.3701 Q1893.83 51.7138 1898.93 47.825 Q1904.08 43.9361 1914.25 43.9361 L1924.7 43.9361 L1924.7 43.2069 Q1924.7 38.0623 1921.29 35.2672 Q1917.93 32.4315 1911.81 32.4315 Q1907.93 32.4315 1904.24 33.3632 Q1900.55 34.295 1897.15 36.1584 L1897.15 29.2718 Q1901.24 27.692 1905.09 26.9223 Q1908.94 26.1121 1912.58 26.1121 Q1922.43 26.1121 1927.29 31.2163 Q1932.15 36.3204 1932.15 46.6907 Z\" fill=\"#000000\" fill-rule=\"evenodd\" fill-opacity=\"1\" /><path clip-path=\"url(#clip620)\" d=\"M1954.88 14.324 L1954.88 27.2059 L1970.23 27.2059 L1970.23 32.9987 L1954.88 32.9987 L1954.88 57.6282 Q1954.88 63.1779 1956.37 64.7578 Q1957.91 66.3376 1962.57 66.3376 L1970.23 66.3376 L1970.23 72.576 L1962.57 72.576 Q1953.94 72.576 1950.66 69.3758 Q1947.38 66.1351 1947.38 57.6282 L1947.38 32.9987 L1941.91 32.9987 L1941.91 27.2059 L1947.38 27.2059 L1947.38 14.324 L1954.88 14.324 Z\" fill=\"#000000\" fill-rule=\"evenodd\" fill-opacity=\"1\" /><path clip-path=\"url(#clip620)\" d=\"M1980.03 27.2059 L1987.49 27.2059 L1987.49 72.576 L1980.03 72.576 L1980.03 27.2059 M1980.03 9.54393 L1987.49 9.54393 L1987.49 18.9825 L1980.03 18.9825 L1980.03 9.54393 Z\" fill=\"#000000\" fill-rule=\"evenodd\" fill-opacity=\"1\" /><path clip-path=\"url(#clip620)\" d=\"M2020.66 32.4315 Q2014.67 32.4315 2011.18 37.1306 Q2007.7 41.7891 2007.7 49.9314 Q2007.7 58.0738 2011.14 62.7728 Q2014.63 67.4314 2020.66 67.4314 Q2026.62 67.4314 2030.1 62.7323 Q2033.58 58.0333 2033.58 49.9314 Q2033.58 41.8701 2030.1 37.1711 Q2026.62 32.4315 2020.66 32.4315 M2020.66 26.1121 Q2030.38 26.1121 2035.93 32.4315 Q2041.48 38.7509 2041.48 49.9314 Q2041.48 61.0714 2035.93 67.4314 Q2030.38 73.7508 2020.66 73.7508 Q2010.9 73.7508 2005.35 67.4314 Q1999.84 61.0714 1999.84 49.9314 Q1999.84 38.7509 2005.35 32.4315 Q2010.9 26.1121 2020.66 26.1121 Z\" fill=\"#000000\" fill-rule=\"evenodd\" fill-opacity=\"1\" /><path clip-path=\"url(#clip620)\" d=\"M2091.55 45.1919 L2091.55 72.576 L2084.1 72.576 L2084.1 45.4349 Q2084.1 38.994 2081.59 35.7938 Q2079.08 32.5936 2074.05 32.5936 Q2068.02 32.5936 2064.53 36.4419 Q2061.05 40.2903 2061.05 46.9338 L2061.05 72.576 L2053.56 72.576 L2053.56 27.2059 L2061.05 27.2059 L2061.05 34.2544 Q2063.72 30.163 2067.33 28.1376 Q2070.97 26.1121 2075.71 26.1121 Q2083.53 26.1121 2087.54 30.9732 Q2091.55 35.7938 2091.55 45.1919 Z\" fill=\"#000000\" fill-rule=\"evenodd\" fill-opacity=\"1\" /><polyline clip-path=\"url(#clip622)\" style=\"stroke:#009af9; stroke-linecap:butt; stroke-linejoin:round; stroke-width:4; stroke-opacity:1; fill:none\" points=\"\n",
       "  232.609,1447.87 233.615,1447.87 234.62,1447.86 235.626,1447.83 236.632,1447.77 237.637,1447.65 238.643,1447.43 239.648,1447.07 240.654,1446.51 241.659,1445.76 \n",
       "  242.665,1444.83 243.67,1443.83 244.676,1442.86 245.682,1442.03 246.687,1441.37 247.693,1440.79 248.698,1440.14 249.704,1439.18 250.709,1437.75 251.715,1435.76 \n",
       "  252.721,1433.24 253.726,1430.27 254.732,1426.89 255.737,1423.02 256.743,1418.41 257.748,1412.67 258.754,1405.35 259.76,1396.08 260.765,1384.64 261.771,1371.12 \n",
       "  262.776,1355.8 263.782,1339.11 264.787,1321.4 265.793,1302.77 266.799,1282.91 267.804,1261.21 268.81,1236.91 269.815,1209.39 270.821,1178.35 271.826,1143.88 \n",
       "  272.832,1106.41 273.837,1066.7 274.843,1025.8 275.849,985.133 276.854,946.376 277.86,911.252 278.865,881.139 279.871,856.718 280.876,837.808 281.882,823.464 \n",
       "  282.888,812.212 283.893,802.254 284.899,791.526 285.904,777.714 286.91,758.419 287.915,731.625 288.921,696.381 289.927,653.383 290.932,605.068 291.938,555.022 \n",
       "  292.943,506.86 293.949,463.094 294.954,424.52 295.96,390.402 296.966,359.24 297.971,329.618 298.977,300.68 299.982,272.149 300.988,244.167 301.993,217.309 \n",
       "  302.999,192.883 304.004,173.293 305.01,162.047 306.016,163.168 307.021,180.087 308.027,214.46 309.032,265.433 310.038,329.74 311.043,402.601 312.049,479.023 \n",
       "  313.055,554.985 314.06,628.056 315.066,697.344 316.071,762.936 317.077,825.197 318.082,884.225 319.088,939.66 320.094,990.865 321.099,1037.32 322.105,1079.01 \n",
       "  323.11,1116.67 324.116,1151.53 325.121,1184.93 326.127,1217.7 327.133,1249.77 328.138,1280.25 329.144,1307.76 330.149,1331.13 331.155,1349.83 332.16,1364.15 \n",
       "  333.166,1374.99 334.171,1383.48 335.177,1390.52 336.183,1396.61 337.188,1401.93 338.194,1406.56 339.199,1410.65 340.205,1414.49 341.21,1418.43 342.216,1422.65 \n",
       "  343.222,1427.08 344.227,1431.41 345.233,1435.22 346.238,1438.16 347.244,1440.1 348.249,1441.17 349.255,1441.65 350.261,1441.92 351.266,1442.26 352.272,1442.83 \n",
       "  353.277,1443.63 354.283,1444.56 355.288,1445.48 356.294,1446.29 357.3,1446.9 358.305,1447.33 359.311,1447.59 360.316,1447.74 361.322,1447.81 362.327,1447.85 \n",
       "  363.333,1447.86 364.338,1447.87 365.344,1447.87 366.35,1447.87 367.355,1447.87 368.361,1447.87 369.366,1447.87 370.372,1447.87 371.377,1447.87 372.383,1447.87 \n",
       "  373.389,1447.87 374.394,1447.87 375.4,1447.87 376.405,1447.87 377.411,1447.87 378.416,1447.87 379.422,1447.87 380.428,1447.87 381.433,1447.87 382.439,1447.87 \n",
       "  383.444,1447.87 384.45,1447.87 385.455,1447.87 386.461,1447.87 387.467,1447.87 388.472,1447.87 389.478,1447.87 390.483,1447.87 391.489,1447.87 392.494,1447.87 \n",
       "  393.5,1447.87 394.505,1447.87 395.511,1447.87 396.517,1447.87 397.522,1447.87 398.528,1447.87 399.533,1447.86 400.539,1447.85 401.544,1447.81 402.55,1447.74 \n",
       "  403.556,1447.59 404.561,1447.33 405.567,1446.91 406.572,1446.3 407.578,1445.51 408.583,1444.59 409.589,1443.69 410.595,1442.96 411.6,1442.56 412.606,1442.55 \n",
       "  413.611,1442.92 414.617,1443.53 415.622,1444.16 416.628,1444.62 417.634,1444.76 418.639,1444.53 419.645,1444 420.65,1443.35 421.656,1442.78 422.661,1442.5 \n",
       "  423.667,1442.62 424.672,1443.13 425.678,1443.92 426.684,1444.84 427.689,1445.73 428.695,1446.47 429.7,1447 430.706,1447.32 431.711,1447.42 432.717,1447.33 \n",
       "  433.723,1447.03 434.728,1446.52 435.734,1445.79 436.739,1444.91 437.745,1443.99 438.75,1443.18 439.756,1442.66 440.762,1442.54 441.767,1442.86 442.773,1443.54 \n",
       "  443.778,1444.42 444.784,1445.35 445.789,1446.17 446.795,1446.82 447.801,1447.27 448.806,1447.56 449.812,1447.72 450.817,1447.81 451.823,1447.85 452.828,1447.86 \n",
       "  453.834,1447.87 454.839,1447.87 455.845,1447.87 456.851,1447.87 457.856,1447.87 458.862,1447.87 459.867,1447.87 460.873,1447.87 461.878,1447.87 462.884,1447.87 \n",
       "  463.89,1447.87 464.895,1447.87 465.901,1447.87 466.906,1447.87 467.912,1447.87 468.917,1447.87 469.923,1447.87 470.929,1447.87 471.934,1447.87 472.94,1447.87 \n",
       "  473.945,1447.87 474.951,1447.87 475.956,1447.87 476.962,1447.87 477.968,1447.87 478.973,1447.87 479.979,1447.87 480.984,1447.87 481.99,1447.87 482.995,1447.87 \n",
       "  484.001,1447.87 485.006,1447.87 486.012,1447.87 487.018,1447.87 488.023,1447.87 489.029,1447.87 490.034,1447.87 491.04,1447.87 492.045,1447.87 493.051,1447.87 \n",
       "  494.057,1447.87 495.062,1447.87 496.068,1447.87 497.073,1447.87 498.079,1447.87 499.084,1447.87 500.09,1447.87 501.096,1447.87 502.101,1447.87 503.107,1447.87 \n",
       "  504.112,1447.87 505.118,1447.87 506.123,1447.87 507.129,1447.87 508.135,1447.87 509.14,1447.87 510.146,1447.87 511.151,1447.87 512.157,1447.87 513.162,1447.87 \n",
       "  514.168,1447.87 515.173,1447.87 516.179,1447.87 517.185,1447.87 518.19,1447.87 519.196,1447.87 520.201,1447.87 521.207,1447.87 522.212,1447.87 523.218,1447.87 \n",
       "  524.224,1447.87 525.229,1447.87 526.235,1447.87 527.24,1447.87 528.246,1447.87 529.251,1447.87 530.257,1447.87 531.263,1447.87 532.268,1447.87 533.274,1447.87 \n",
       "  534.279,1447.87 535.285,1447.87 536.29,1447.87 537.296,1447.87 538.302,1447.87 539.307,1447.87 540.313,1447.87 541.318,1447.87 542.324,1447.87 543.329,1447.87 \n",
       "  544.335,1447.87 545.34,1447.87 546.346,1447.87 547.352,1447.87 548.357,1447.87 549.363,1447.87 550.368,1447.87 551.374,1447.87 552.379,1447.87 553.385,1447.87 \n",
       "  554.391,1447.87 555.396,1447.87 556.402,1447.87 557.407,1447.87 558.413,1447.87 559.418,1447.87 560.424,1447.87 561.43,1447.87 562.435,1447.87 563.441,1447.87 \n",
       "  564.446,1447.87 565.452,1447.87 566.457,1447.87 567.463,1447.87 568.469,1447.87 569.474,1447.87 570.48,1447.87 571.485,1447.87 572.491,1447.87 573.496,1447.87 \n",
       "  574.502,1447.87 575.507,1447.87 576.513,1447.87 577.519,1447.87 578.524,1447.87 579.53,1447.87 580.535,1447.87 581.541,1447.87 582.546,1447.87 583.552,1447.87 \n",
       "  584.558,1447.87 585.563,1447.87 586.569,1447.87 587.574,1447.87 588.58,1447.87 589.585,1447.87 590.591,1447.87 591.597,1447.87 592.602,1447.87 593.608,1447.87 \n",
       "  594.613,1447.87 595.619,1447.87 596.624,1447.87 597.63,1447.87 598.635,1447.87 599.641,1447.87 600.647,1447.87 601.652,1447.87 602.658,1447.87 603.663,1447.87 \n",
       "  604.669,1447.87 605.674,1447.87 606.68,1447.87 607.686,1447.87 608.691,1447.87 609.697,1447.87 610.702,1447.87 611.708,1447.87 612.713,1447.87 613.719,1447.87 \n",
       "  614.725,1447.87 615.73,1447.87 616.736,1447.87 617.741,1447.87 618.747,1447.87 619.752,1447.87 620.758,1447.87 621.764,1447.87 622.769,1447.87 623.775,1447.87 \n",
       "  624.78,1447.87 625.786,1447.87 626.791,1447.87 627.797,1447.87 628.802,1447.87 629.808,1447.87 630.814,1447.87 631.819,1447.87 632.825,1447.87 633.83,1447.87 \n",
       "  634.836,1447.87 635.841,1447.87 636.847,1447.87 637.853,1447.87 638.858,1447.87 639.864,1447.87 640.869,1447.87 641.875,1447.87 642.88,1447.87 643.886,1447.87 \n",
       "  644.892,1447.87 645.897,1447.87 646.903,1447.87 647.908,1447.87 648.914,1447.87 649.919,1447.87 650.925,1447.87 651.931,1447.87 652.936,1447.87 653.942,1447.87 \n",
       "  654.947,1447.87 655.953,1447.87 656.958,1447.87 657.964,1447.87 658.969,1447.87 659.975,1447.87 660.981,1447.87 661.986,1447.87 662.992,1447.87 663.997,1447.87 \n",
       "  665.003,1447.87 666.008,1447.87 667.014,1447.87 668.02,1447.87 669.025,1447.87 670.031,1447.87 671.036,1447.87 672.042,1447.87 673.047,1447.87 674.053,1447.87 \n",
       "  675.059,1447.87 676.064,1447.87 677.07,1447.87 678.075,1447.87 679.081,1447.87 680.086,1447.87 681.092,1447.87 682.098,1447.87 683.103,1447.87 684.109,1447.87 \n",
       "  685.114,1447.87 686.12,1447.87 687.125,1447.87 688.131,1447.87 689.136,1447.87 690.142,1447.87 691.148,1447.87 692.153,1447.87 693.159,1447.87 694.164,1447.87 \n",
       "  695.17,1447.87 696.175,1447.87 697.181,1447.87 698.187,1447.87 699.192,1447.87 700.198,1447.87 701.203,1447.87 702.209,1447.87 703.214,1447.87 704.22,1447.87 \n",
       "  705.226,1447.87 706.231,1447.87 707.237,1447.87 708.242,1447.87 709.248,1447.87 710.253,1447.87 711.259,1447.87 712.265,1447.87 713.27,1447.87 714.276,1447.87 \n",
       "  715.281,1447.87 716.287,1447.87 717.292,1447.87 718.298,1447.87 719.303,1447.87 720.309,1447.87 721.315,1447.87 722.32,1447.87 723.326,1447.87 724.331,1447.87 \n",
       "  725.337,1447.87 726.342,1447.87 727.348,1447.87 728.354,1447.87 729.359,1447.87 730.365,1447.87 731.37,1447.87 732.376,1447.87 733.381,1447.87 734.387,1447.87 \n",
       "  735.393,1447.87 736.398,1447.87 737.404,1447.87 738.409,1447.87 739.415,1447.87 740.42,1447.87 741.426,1447.87 742.432,1447.87 743.437,1447.87 744.443,1447.87 \n",
       "  745.448,1447.87 746.454,1447.87 747.459,1447.87 748.465,1447.87 749.47,1447.87 750.476,1447.87 751.482,1447.87 752.487,1447.87 753.493,1447.87 754.498,1447.87 \n",
       "  755.504,1447.87 756.509,1447.87 757.515,1447.87 758.521,1447.87 759.526,1447.87 760.532,1447.87 761.537,1447.87 762.543,1447.87 763.548,1447.87 764.554,1447.87 \n",
       "  765.56,1447.87 766.565,1447.87 767.571,1447.87 768.576,1447.87 769.582,1447.87 770.587,1447.87 771.593,1447.87 772.599,1447.87 773.604,1447.87 774.61,1447.87 \n",
       "  775.615,1447.87 776.621,1447.87 777.626,1447.87 778.632,1447.87 779.637,1447.87 780.643,1447.87 781.649,1447.87 782.654,1447.87 783.66,1447.87 784.665,1447.87 \n",
       "  785.671,1447.87 786.676,1447.87 787.682,1447.87 788.688,1447.87 789.693,1447.87 790.699,1447.87 791.704,1447.87 792.71,1447.87 793.715,1447.87 794.721,1447.87 \n",
       "  795.727,1447.87 796.732,1447.87 797.738,1447.87 798.743,1447.87 799.749,1447.87 800.754,1447.87 801.76,1447.87 802.766,1447.87 803.771,1447.87 804.777,1447.87 \n",
       "  805.782,1447.87 806.788,1447.87 807.793,1447.87 808.799,1447.87 809.804,1447.87 810.81,1447.87 811.816,1447.87 812.821,1447.87 813.827,1447.87 814.832,1447.87 \n",
       "  815.838,1447.87 816.843,1447.87 817.849,1447.87 818.855,1447.87 819.86,1447.87 820.866,1447.87 821.871,1447.87 822.877,1447.87 823.882,1447.87 824.888,1447.87 \n",
       "  825.894,1447.87 826.899,1447.87 827.905,1447.87 828.91,1447.87 829.916,1447.87 830.921,1447.87 831.927,1447.87 832.933,1447.87 833.938,1447.87 834.944,1447.87 \n",
       "  835.949,1447.87 836.955,1447.87 837.96,1447.87 838.966,1447.87 839.971,1447.87 840.977,1447.87 841.983,1447.87 842.988,1447.87 843.994,1447.87 844.999,1447.87 \n",
       "  846.005,1447.87 847.01,1447.87 848.016,1447.87 849.022,1447.87 850.027,1447.87 851.033,1447.87 852.038,1447.87 853.044,1447.87 854.049,1447.87 855.055,1447.87 \n",
       "  856.061,1447.87 857.066,1447.87 858.072,1447.87 859.077,1447.87 860.083,1447.87 861.088,1447.87 862.094,1447.87 863.1,1447.87 864.105,1447.87 865.111,1447.87 \n",
       "  866.116,1447.87 867.122,1447.87 868.127,1447.87 869.133,1447.87 870.138,1447.87 871.144,1447.87 872.15,1447.87 873.155,1447.87 874.161,1447.87 875.166,1447.87 \n",
       "  876.172,1447.87 877.177,1447.87 878.183,1447.87 879.189,1447.87 880.194,1447.87 881.2,1447.87 882.205,1447.87 883.211,1447.87 884.216,1447.87 885.222,1447.87 \n",
       "  886.228,1447.87 887.233,1447.87 888.239,1447.87 889.244,1447.87 890.25,1447.87 891.255,1447.87 892.261,1447.87 893.267,1447.87 894.272,1447.87 895.278,1447.87 \n",
       "  896.283,1447.87 897.289,1447.87 898.294,1447.87 899.3,1447.87 900.305,1447.87 901.311,1447.87 902.317,1447.87 903.322,1447.87 904.328,1447.87 905.333,1447.87 \n",
       "  906.339,1447.87 907.344,1447.87 908.35,1447.87 909.356,1447.87 910.361,1447.87 911.367,1447.87 912.372,1447.87 913.378,1447.87 914.383,1447.87 915.389,1447.87 \n",
       "  916.395,1447.87 917.4,1447.87 918.406,1447.87 919.411,1447.87 920.417,1447.87 921.422,1447.87 922.428,1447.87 923.434,1447.87 924.439,1447.87 925.445,1447.87 \n",
       "  926.45,1447.87 927.456,1447.87 928.461,1447.87 929.467,1447.87 930.472,1447.87 931.478,1447.87 932.484,1447.87 933.489,1447.87 934.495,1447.87 935.5,1447.87 \n",
       "  936.506,1447.87 937.511,1447.87 938.517,1447.87 939.523,1447.87 940.528,1447.87 941.534,1447.87 942.539,1447.87 943.545,1447.87 944.55,1447.87 945.556,1447.87 \n",
       "  946.562,1447.87 947.567,1447.87 948.573,1447.87 949.578,1447.87 950.584,1447.87 951.589,1447.87 952.595,1447.87 953.601,1447.87 954.606,1447.87 955.612,1447.87 \n",
       "  956.617,1447.87 957.623,1447.87 958.628,1447.87 959.634,1447.87 960.639,1447.87 961.645,1447.87 962.651,1447.87 963.656,1447.87 964.662,1447.87 965.667,1447.87 \n",
       "  966.673,1447.87 967.678,1447.87 968.684,1447.87 969.69,1447.87 970.695,1447.87 971.701,1447.87 972.706,1447.87 973.712,1447.87 974.717,1447.87 975.723,1447.87 \n",
       "  976.729,1447.87 977.734,1447.87 978.74,1447.87 979.745,1447.87 980.751,1447.87 981.756,1447.87 982.762,1447.87 983.768,1447.87 984.773,1447.87 985.779,1447.87 \n",
       "  986.784,1447.87 987.79,1447.87 988.795,1447.87 989.801,1447.87 990.806,1447.87 991.812,1447.87 992.818,1447.87 993.823,1447.87 994.829,1447.87 995.834,1447.87 \n",
       "  996.84,1447.87 997.845,1447.87 998.851,1447.87 999.857,1447.87 1000.86,1447.87 1001.87,1447.87 1002.87,1447.87 1003.88,1447.87 1004.88,1447.87 1005.89,1447.87 \n",
       "  1006.9,1447.87 1007.9,1447.87 1008.91,1447.87 1009.91,1447.87 1010.92,1447.87 1011.92,1447.87 1012.93,1447.87 1013.93,1447.87 1014.94,1447.87 1015.95,1447.87 \n",
       "  1016.95,1447.87 1017.96,1447.87 1018.96,1447.87 1019.97,1447.87 1020.97,1447.87 1021.98,1447.87 1022.98,1447.87 1023.99,1447.87 1025,1447.87 1026,1447.87 \n",
       "  1027.01,1447.87 1028.01,1447.87 1029.02,1447.87 1030.02,1447.87 1031.03,1447.87 1032.03,1447.87 1033.04,1447.87 1034.05,1447.87 1035.05,1447.87 1036.06,1447.87 \n",
       "  1037.06,1447.87 1038.07,1447.87 1039.07,1447.87 1040.08,1447.87 1041.08,1447.87 1042.09,1447.87 1043.1,1447.87 1044.1,1447.87 1045.11,1447.87 1046.11,1447.87 \n",
       "  1047.12,1447.87 1048.12,1447.87 1049.13,1447.87 1050.13,1447.87 1051.14,1447.87 1052.15,1447.87 1053.15,1447.87 1054.16,1447.87 1055.16,1447.87 1056.17,1447.87 \n",
       "  1057.17,1447.87 1058.18,1447.87 1059.18,1447.87 1060.19,1447.87 1061.2,1447.87 1062.2,1447.87 1063.21,1447.87 1064.21,1447.87 1065.22,1447.87 1066.22,1447.87 \n",
       "  1067.23,1447.87 1068.24,1447.87 1069.24,1447.87 1070.25,1447.87 1071.25,1447.87 1072.26,1447.87 1073.26,1447.87 1074.27,1447.87 1075.27,1447.87 1076.28,1447.87 \n",
       "  1077.29,1447.87 1078.29,1447.87 1079.3,1447.87 1080.3,1447.87 1081.31,1447.87 1082.31,1447.87 1083.32,1447.87 1084.32,1447.87 1085.33,1447.87 1086.34,1447.87 \n",
       "  1087.34,1447.87 1088.35,1447.87 1089.35,1447.87 1090.36,1447.87 1091.36,1447.87 1092.37,1447.87 1093.37,1447.87 1094.38,1447.87 1095.39,1447.87 1096.39,1447.87 \n",
       "  1097.4,1447.87 1098.4,1447.87 1099.41,1447.87 1100.41,1447.87 1101.42,1447.87 1102.42,1447.87 1103.43,1447.87 1104.44,1447.87 1105.44,1447.87 1106.45,1447.87 \n",
       "  1107.45,1447.87 1108.46,1447.87 1109.46,1447.87 1110.47,1447.87 1111.47,1447.87 1112.48,1447.87 1113.49,1447.87 1114.49,1447.87 1115.5,1447.87 1116.5,1447.87 \n",
       "  1117.51,1447.87 1118.51,1447.87 1119.52,1447.87 1120.52,1447.87 1121.53,1447.87 1122.54,1447.87 1123.54,1447.87 1124.55,1447.87 1125.55,1447.87 1126.56,1447.87 \n",
       "  1127.56,1447.87 1128.57,1447.87 1129.57,1447.87 1130.58,1447.87 1131.59,1447.87 1132.59,1447.87 1133.6,1447.87 1134.6,1447.87 1135.61,1447.87 1136.61,1447.87 \n",
       "  1137.62,1447.87 1138.62,1447.87 1139.63,1447.87 1140.64,1447.87 1141.64,1447.87 1142.65,1447.87 1143.65,1447.87 1144.66,1447.87 1145.66,1447.87 1146.67,1447.87 \n",
       "  1147.67,1447.87 1148.68,1447.87 1149.69,1447.87 1150.69,1447.87 1151.7,1447.87 1152.7,1447.87 1153.71,1447.87 1154.71,1447.87 1155.72,1447.87 1156.72,1447.87 \n",
       "  1157.73,1447.87 1158.74,1447.87 1159.74,1447.87 1160.75,1447.87 1161.75,1447.87 1162.76,1447.87 1163.76,1447.87 1164.77,1447.87 1165.78,1447.87 1166.78,1447.87 \n",
       "  1167.79,1447.87 1168.79,1447.87 1169.8,1447.87 1170.8,1447.87 1171.81,1447.87 1172.81,1447.87 1173.82,1447.87 1174.83,1447.87 1175.83,1447.87 1176.84,1447.87 \n",
       "  1177.84,1447.87 1178.85,1447.87 1179.85,1447.87 1180.86,1447.87 1181.86,1447.87 1182.87,1447.87 1183.88,1447.87 1184.88,1447.87 1185.89,1447.87 1186.89,1447.87 \n",
       "  1187.9,1447.87 1188.9,1447.87 1189.91,1447.87 1190.91,1447.87 1191.92,1447.87 1192.93,1447.87 1193.93,1447.87 1194.94,1447.87 1195.94,1447.87 1196.95,1447.87 \n",
       "  1197.95,1447.87 1198.96,1447.87 1199.96,1447.87 1200.97,1447.87 1201.98,1447.87 1202.98,1447.87 1203.99,1447.87 1204.99,1447.87 1206,1447.87 1207,1447.87 \n",
       "  1208.01,1447.87 1209.01,1447.87 1210.02,1447.87 1211.03,1447.87 1212.03,1447.87 1213.04,1447.87 1214.04,1447.87 1215.05,1447.87 1216.05,1447.87 1217.06,1447.87 \n",
       "  1218.06,1447.87 1219.07,1447.87 1220.08,1447.87 1221.08,1447.87 1222.09,1447.87 1223.09,1447.87 1224.1,1447.87 1225.1,1447.87 1226.11,1447.87 1227.11,1447.87 \n",
       "  1228.12,1447.87 1229.13,1447.87 1230.13,1447.87 1231.14,1447.87 1232.14,1447.87 1233.15,1447.87 1234.15,1447.87 1235.16,1447.87 1236.16,1447.87 1237.17,1447.87 \n",
       "  1238.18,1447.87 1239.18,1447.87 1240.19,1447.87 1241.19,1447.87 1242.2,1447.87 1243.2,1447.87 1244.21,1447.87 1245.21,1447.87 1246.22,1447.87 1247.23,1447.87 \n",
       "  1248.23,1447.87 1249.24,1447.87 1250.24,1447.87 1251.25,1447.87 1252.25,1447.87 1253.26,1447.87 1254.26,1447.87 1255.27,1447.87 1256.28,1447.87 1257.28,1447.87 \n",
       "  1258.29,1447.87 1259.29,1447.87 1260.3,1447.87 1261.3,1447.87 1262.31,1447.87 1263.32,1447.87 1264.32,1447.87 1265.33,1447.87 1266.33,1447.87 1267.34,1447.87 \n",
       "  1268.34,1447.87 1269.35,1447.87 1270.35,1447.87 1271.36,1447.87 1272.37,1447.87 1273.37,1447.87 1274.38,1447.87 1275.38,1447.87 1276.39,1447.87 1277.39,1447.87 \n",
       "  1278.4,1447.87 1279.4,1447.87 1280.41,1447.87 1281.42,1447.87 1282.42,1447.87 1283.43,1447.87 1284.43,1447.87 1285.44,1447.87 1286.44,1447.87 1287.45,1447.87 \n",
       "  1288.45,1447.87 1289.46,1447.87 1290.47,1447.87 1291.47,1447.87 1292.48,1447.87 1293.48,1447.87 1294.49,1447.87 1295.49,1447.87 1296.5,1447.87 1297.5,1447.87 \n",
       "  1298.51,1447.87 1299.52,1447.87 1300.52,1447.87 1301.53,1447.87 1302.53,1447.87 1303.54,1447.87 1304.54,1447.87 1305.55,1447.87 1306.55,1447.87 1307.56,1447.87 \n",
       "  1308.57,1447.87 1309.57,1447.87 1310.58,1447.87 1311.58,1447.87 1312.59,1447.87 1313.59,1447.87 1314.6,1447.87 1315.6,1447.87 1316.61,1447.87 1317.62,1447.87 \n",
       "  1318.62,1447.87 1319.63,1447.87 1320.63,1447.87 1321.64,1447.87 1322.64,1447.87 1323.65,1447.87 1324.65,1447.87 1325.66,1447.87 1326.67,1447.87 1327.67,1447.87 \n",
       "  1328.68,1447.87 1329.68,1447.87 1330.69,1447.87 1331.69,1447.87 1332.7,1447.87 1333.7,1447.87 1334.71,1447.87 1335.72,1447.87 1336.72,1447.87 1337.73,1447.87 \n",
       "  1338.73,1447.87 1339.74,1447.87 1340.74,1447.87 1341.75,1447.87 1342.75,1447.87 1343.76,1447.87 1344.77,1447.87 1345.77,1447.87 1346.78,1447.87 1347.78,1447.87 \n",
       "  1348.79,1447.87 1349.79,1447.87 1350.8,1447.87 1351.8,1447.87 1352.81,1447.87 1353.82,1447.87 1354.82,1447.87 1355.83,1447.87 1356.83,1447.87 1357.84,1447.87 \n",
       "  1358.84,1447.87 1359.85,1447.87 1360.85,1447.87 1361.86,1447.87 1362.87,1447.87 1363.87,1447.87 1364.88,1447.87 1365.88,1447.87 1366.89,1447.87 1367.89,1447.87 \n",
       "  1368.9,1447.87 1369.91,1447.87 1370.91,1447.87 1371.92,1447.87 1372.92,1447.87 1373.93,1447.87 1374.93,1447.87 1375.94,1447.87 1376.94,1447.87 1377.95,1447.87 \n",
       "  1378.96,1447.87 1379.96,1447.87 1380.97,1447.87 1381.97,1447.87 1382.98,1447.87 1383.98,1447.87 1384.99,1447.87 1385.99,1447.87 1387,1447.87 1388.01,1447.87 \n",
       "  1389.01,1447.87 1390.02,1447.87 1391.02,1447.87 1392.03,1447.87 1393.03,1447.87 1394.04,1447.87 1395.04,1447.87 1396.05,1447.87 1397.06,1447.87 1398.06,1447.87 \n",
       "  1399.07,1447.87 1400.07,1447.87 1401.08,1447.87 1402.08,1447.87 1403.09,1447.87 1404.09,1447.87 1405.1,1447.87 1406.11,1447.87 1407.11,1447.87 1408.12,1447.87 \n",
       "  1409.12,1447.87 1410.13,1447.87 1411.13,1447.87 1412.14,1447.87 1413.14,1447.87 1414.15,1447.87 1415.16,1447.87 1416.16,1447.87 1417.17,1447.87 1418.17,1447.87 \n",
       "  1419.18,1447.87 1420.18,1447.87 1421.19,1447.87 1422.19,1447.87 1423.2,1447.87 1424.21,1447.87 1425.21,1447.87 1426.22,1447.87 1427.22,1447.87 1428.23,1447.87 \n",
       "  1429.23,1447.87 1430.24,1447.87 1431.24,1447.87 1432.25,1447.87 1433.26,1447.87 1434.26,1447.87 1435.27,1447.87 1436.27,1447.87 1437.28,1447.87 1438.28,1447.87 \n",
       "  1439.29,1447.87 1440.29,1447.87 1441.3,1447.87 1442.31,1447.87 1443.31,1447.87 1444.32,1447.87 1445.32,1447.87 1446.33,1447.87 1447.33,1447.87 1448.34,1447.87 \n",
       "  1449.34,1447.87 1450.35,1447.87 1451.36,1447.87 1452.36,1447.87 1453.37,1447.87 1454.37,1447.87 1455.38,1447.87 1456.38,1447.87 1457.39,1447.87 1458.39,1447.87 \n",
       "  1459.4,1447.87 1460.41,1447.87 1461.41,1447.87 1462.42,1447.87 1463.42,1447.87 1464.43,1447.87 1465.43,1447.87 1466.44,1447.87 1467.45,1447.87 1468.45,1447.87 \n",
       "  1469.46,1447.87 1470.46,1447.87 1471.47,1447.87 1472.47,1447.87 1473.48,1447.87 1474.48,1447.87 1475.49,1447.87 1476.5,1447.87 1477.5,1447.87 1478.51,1447.87 \n",
       "  1479.51,1447.87 1480.52,1447.87 1481.52,1447.87 1482.53,1447.87 1483.53,1447.87 1484.54,1447.87 1485.55,1447.87 1486.55,1447.87 1487.56,1447.87 1488.56,1447.87 \n",
       "  1489.57,1447.87 1490.57,1447.87 1491.58,1447.87 1492.58,1447.87 1493.59,1447.87 1494.6,1447.87 1495.6,1447.87 1496.61,1447.87 1497.61,1447.87 1498.62,1447.87 \n",
       "  1499.62,1447.87 1500.63,1447.87 1501.63,1447.87 1502.64,1447.87 1503.65,1447.87 1504.65,1447.87 1505.66,1447.87 1506.66,1447.87 1507.67,1447.87 1508.67,1447.87 \n",
       "  1509.68,1447.87 1510.68,1447.87 1511.69,1447.87 1512.7,1447.87 1513.7,1447.87 1514.71,1447.87 1515.71,1447.87 1516.72,1447.87 1517.72,1447.87 1518.73,1447.87 \n",
       "  1519.73,1447.87 1520.74,1447.87 1521.75,1447.87 1522.75,1447.87 1523.76,1447.87 1524.76,1447.87 1525.77,1447.87 1526.77,1447.87 1527.78,1447.87 1528.78,1447.87 \n",
       "  1529.79,1447.87 1530.8,1447.87 1531.8,1447.87 1532.81,1447.87 1533.81,1447.87 1534.82,1447.87 1535.82,1447.87 1536.83,1447.87 1537.83,1447.87 1538.84,1447.87 \n",
       "  1539.85,1447.87 1540.85,1447.87 1541.86,1447.87 1542.86,1447.87 1543.87,1447.87 1544.87,1447.87 1545.88,1447.87 1546.88,1447.87 1547.89,1447.87 1548.9,1447.87 \n",
       "  1549.9,1447.87 1550.91,1447.87 1551.91,1447.87 1552.92,1447.87 1553.92,1447.87 1554.93,1447.87 1555.93,1447.87 1556.94,1447.87 1557.95,1447.87 1558.95,1447.87 \n",
       "  1559.96,1447.87 1560.96,1447.87 1561.97,1447.87 1562.97,1447.87 1563.98,1447.87 1564.98,1447.87 1565.99,1447.87 1567,1447.87 1568,1447.87 1569.01,1447.87 \n",
       "  1570.01,1447.87 1571.02,1447.87 1572.02,1447.87 1573.03,1447.87 1574.04,1447.87 1575.04,1447.87 1576.05,1447.87 1577.05,1447.87 1578.06,1447.87 1579.06,1447.87 \n",
       "  1580.07,1447.87 1581.07,1447.87 1582.08,1447.87 1583.09,1447.87 1584.09,1447.87 1585.1,1447.87 1586.1,1447.87 1587.11,1447.87 1588.11,1447.87 1589.12,1447.87 \n",
       "  1590.12,1447.87 1591.13,1447.87 1592.14,1447.87 1593.14,1447.87 1594.15,1447.87 1595.15,1447.87 1596.16,1447.87 1597.16,1447.87 1598.17,1447.87 1599.17,1447.87 \n",
       "  1600.18,1447.87 1601.19,1447.87 1602.19,1447.87 1603.2,1447.87 1604.2,1447.87 1605.21,1447.87 1606.21,1447.87 1607.22,1447.87 1608.22,1447.87 1609.23,1447.87 \n",
       "  1610.24,1447.87 1611.24,1447.87 1612.25,1447.87 1613.25,1447.87 1614.26,1447.87 1615.26,1447.87 1616.27,1447.87 1617.27,1447.87 1618.28,1447.87 1619.29,1447.87 \n",
       "  1620.29,1447.87 1621.3,1447.87 1622.3,1447.87 1623.31,1447.87 1624.31,1447.87 1625.32,1447.87 1626.32,1447.87 1627.33,1447.87 1628.34,1447.87 1629.34,1447.87 \n",
       "  1630.35,1447.87 1631.35,1447.87 1632.36,1447.87 1633.36,1447.87 1634.37,1447.87 1635.37,1447.87 1636.38,1447.87 1637.39,1447.87 1638.39,1447.87 1639.4,1447.87 \n",
       "  1640.4,1447.87 1641.41,1447.87 1642.41,1447.87 1643.42,1447.87 1644.42,1447.87 1645.43,1447.87 1646.44,1447.87 1647.44,1447.87 1648.45,1447.87 1649.45,1447.87 \n",
       "  1650.46,1447.87 1651.46,1447.87 1652.47,1447.87 1653.47,1447.87 1654.48,1447.87 1655.49,1447.87 1656.49,1447.87 1657.5,1447.87 1658.5,1447.87 1659.51,1447.87 \n",
       "  1660.51,1447.87 1661.52,1447.87 1662.52,1447.87 1663.53,1447.87 1664.54,1447.87 1665.54,1447.87 1666.55,1447.87 1667.55,1447.87 1668.56,1447.87 1669.56,1447.87 \n",
       "  1670.57,1447.87 1671.58,1447.87 1672.58,1447.87 1673.59,1447.87 1674.59,1447.87 1675.6,1447.87 1676.6,1447.87 1677.61,1447.87 1678.61,1447.87 1679.62,1447.87 \n",
       "  1680.63,1447.87 1681.63,1447.87 1682.64,1447.87 1683.64,1447.87 1684.65,1447.87 1685.65,1447.87 1686.66,1447.87 1687.66,1447.87 1688.67,1447.87 1689.68,1447.87 \n",
       "  1690.68,1447.87 1691.69,1447.87 1692.69,1447.87 1693.7,1447.87 1694.7,1447.87 1695.71,1447.87 1696.71,1447.87 1697.72,1447.87 1698.73,1447.87 1699.73,1447.87 \n",
       "  1700.74,1447.87 1701.74,1447.87 1702.75,1447.87 1703.75,1447.87 1704.76,1447.87 1705.76,1447.87 1706.77,1447.87 1707.78,1447.87 1708.78,1447.87 1709.79,1447.87 \n",
       "  1710.79,1447.87 1711.8,1447.87 1712.8,1447.87 1713.81,1447.87 1714.81,1447.87 1715.82,1447.87 1716.83,1447.87 1717.83,1447.87 1718.84,1447.87 1719.84,1447.87 \n",
       "  1720.85,1447.87 1721.85,1447.87 1722.86,1447.87 1723.86,1447.87 1724.87,1447.87 1725.88,1447.87 1726.88,1447.87 1727.89,1447.87 1728.89,1447.87 1729.9,1447.87 \n",
       "  1730.9,1447.87 1731.91,1447.87 1732.91,1447.87 1733.92,1447.87 1734.93,1447.87 1735.93,1447.87 1736.94,1447.87 1737.94,1447.87 1738.95,1447.87 1739.95,1447.87 \n",
       "  1740.96,1447.87 1741.96,1447.87 1742.97,1447.87 1743.98,1447.87 1744.98,1447.87 1745.99,1447.87 1746.99,1447.87 1748,1447.87 1749,1447.87 1750.01,1447.87 \n",
       "  1751.01,1447.87 1752.02,1447.87 1753.03,1447.87 1754.03,1447.87 1755.04,1447.87 1756.04,1447.87 1757.05,1447.87 1758.05,1447.87 1759.06,1447.87 1760.06,1447.87 \n",
       "  1761.07,1447.87 1762.08,1447.87 1763.08,1447.87 1764.09,1447.87 1765.09,1447.87 1766.1,1447.87 1767.1,1447.87 1768.11,1447.87 1769.12,1447.87 1770.12,1447.87 \n",
       "  1771.13,1447.87 1772.13,1447.87 1773.14,1447.87 1774.14,1447.87 1775.15,1447.87 1776.15,1447.87 1777.16,1447.87 1778.17,1447.87 1779.17,1447.87 1780.18,1447.87 \n",
       "  1781.18,1447.87 1782.19,1447.87 1783.19,1447.87 1784.2,1447.87 1785.2,1447.87 1786.21,1447.87 1787.22,1447.87 1788.22,1447.87 1789.23,1447.87 1790.23,1447.87 \n",
       "  1791.24,1447.87 1792.24,1447.87 1793.25,1447.87 1794.25,1447.87 1795.26,1447.87 1796.27,1447.87 1797.27,1447.87 1798.28,1447.87 1799.28,1447.87 1800.29,1447.87 \n",
       "  1801.29,1447.87 1802.3,1447.87 1803.3,1447.87 1804.31,1447.87 1805.32,1447.87 1806.32,1447.87 1807.33,1447.87 1808.33,1447.87 1809.34,1447.87 1810.34,1447.87 \n",
       "  1811.35,1447.87 1812.35,1447.87 1813.36,1447.87 1814.37,1447.87 1815.37,1447.87 1816.38,1447.87 1817.38,1447.87 1818.39,1447.87 1819.39,1447.87 1820.4,1447.87 \n",
       "  1821.4,1447.87 1822.41,1447.87 1823.42,1447.87 1824.42,1447.87 1825.43,1447.87 1826.43,1447.87 1827.44,1447.87 1828.44,1447.87 1829.45,1447.87 1830.45,1447.87 \n",
       "  1831.46,1447.87 1832.47,1447.87 1833.47,1447.87 1834.48,1447.87 1835.48,1447.87 1836.49,1447.87 1837.49,1447.87 1838.5,1447.87 1839.5,1447.87 1840.51,1447.87 \n",
       "  1841.52,1447.87 1842.52,1447.87 1843.53,1447.87 1844.53,1447.87 1845.54,1447.87 1846.54,1447.87 1847.55,1447.87 1848.55,1447.87 1849.56,1447.87 1850.57,1447.87 \n",
       "  1851.57,1447.87 1852.58,1447.87 1853.58,1447.87 1854.59,1447.87 1855.59,1447.87 1856.6,1447.87 1857.6,1447.87 1858.61,1447.87 1859.62,1447.87 1860.62,1447.87 \n",
       "  1861.63,1447.87 1862.63,1447.87 1863.64,1447.87 1864.64,1447.87 1865.65,1447.87 1866.65,1447.87 1867.66,1447.87 1868.67,1447.87 1869.67,1447.87 1870.68,1447.87 \n",
       "  1871.68,1447.87 1872.69,1447.87 1873.69,1447.87 1874.7,1447.87 1875.71,1447.87 1876.71,1447.87 1877.72,1447.87 1878.72,1447.87 1879.73,1447.87 1880.73,1447.87 \n",
       "  1881.74,1447.87 1882.74,1447.87 1883.75,1447.87 1884.76,1447.87 1885.76,1447.87 1886.77,1447.87 1887.77,1447.87 1888.78,1447.87 1889.78,1447.87 1890.79,1447.87 \n",
       "  1891.79,1447.87 1892.8,1447.87 1893.81,1447.87 1894.81,1447.87 1895.82,1447.87 1896.82,1447.87 1897.83,1447.87 1898.83,1447.87 1899.84,1447.87 1900.84,1447.87 \n",
       "  1901.85,1447.87 1902.86,1447.87 1903.86,1447.87 1904.87,1447.87 1905.87,1447.87 1906.88,1447.87 1907.88,1447.87 1908.89,1447.87 1909.89,1447.87 1910.9,1447.87 \n",
       "  1911.91,1447.87 1912.91,1447.87 1913.92,1447.87 1914.92,1447.87 1915.93,1447.87 1916.93,1447.87 1917.94,1447.87 1918.94,1447.87 1919.95,1447.87 1920.96,1447.87 \n",
       "  1921.96,1447.87 1922.97,1447.87 1923.97,1447.87 1924.98,1447.87 1925.98,1447.87 1926.99,1447.87 1927.99,1447.87 1929,1447.87 1930.01,1447.87 1931.01,1447.87 \n",
       "  1932.02,1447.87 1933.02,1447.87 1934.03,1447.87 1935.03,1447.87 1936.04,1447.87 1937.04,1447.87 1938.05,1447.87 1939.06,1447.87 1940.06,1447.87 1941.07,1447.87 \n",
       "  1942.07,1447.87 1943.08,1447.87 1944.08,1447.87 1945.09,1447.87 1946.09,1447.87 1947.1,1447.87 1948.11,1447.87 1949.11,1447.87 1950.12,1447.87 1951.12,1447.87 \n",
       "  1952.13,1447.87 1953.13,1447.87 1954.14,1447.87 1955.14,1447.87 1956.15,1447.87 1957.16,1447.87 1958.16,1447.87 1959.17,1447.87 1960.17,1447.87 1961.18,1447.87 \n",
       "  1962.18,1447.87 1963.19,1447.87 1964.19,1447.87 1965.2,1447.87 1966.21,1447.87 1967.21,1447.87 1968.22,1447.87 1969.22,1447.87 1970.23,1447.87 1971.23,1447.87 \n",
       "  1972.24,1447.87 1973.25,1447.87 1974.25,1447.87 1975.26,1447.87 1976.26,1447.87 1977.27,1447.87 1978.27,1447.87 1979.28,1447.87 1980.28,1447.87 1981.29,1447.87 \n",
       "  1982.3,1447.87 1983.3,1447.87 1984.31,1447.87 1985.31,1447.87 1986.32,1447.87 1987.32,1447.87 1988.33,1447.87 1989.33,1447.87 1990.34,1447.87 1991.35,1447.87 \n",
       "  1992.35,1447.87 1993.36,1447.87 1994.36,1447.87 1995.37,1447.87 1996.37,1447.87 1997.38,1447.87 1998.38,1447.87 1999.39,1447.87 2000.4,1447.87 2001.4,1447.87 \n",
       "  2002.41,1447.87 2003.41,1447.87 2004.42,1447.87 2005.42,1447.87 2006.43,1447.87 2007.43,1447.87 2008.44,1447.87 2009.45,1447.87 2010.45,1447.87 2011.46,1447.87 \n",
       "  2012.46,1447.87 2013.47,1447.87 2014.47,1447.87 2015.48,1447.87 2016.48,1447.87 2017.49,1447.87 2018.5,1447.87 2019.5,1447.87 2020.51,1447.87 2021.51,1447.87 \n",
       "  2022.52,1447.87 2023.52,1447.87 2024.53,1447.87 2025.53,1447.87 2026.54,1447.87 2027.55,1447.87 2028.55,1447.87 2029.56,1447.87 2030.56,1447.87 2031.57,1447.87 \n",
       "  2032.57,1447.87 2033.58,1447.87 2034.58,1447.87 2035.59,1447.87 2036.6,1447.87 2037.6,1447.87 2038.61,1447.87 2039.61,1447.87 2040.62,1447.87 2041.62,1447.87 \n",
       "  2042.63,1447.87 2043.63,1447.87 2044.64,1447.87 2045.65,1447.87 2046.65,1447.87 2047.66,1447.87 2048.66,1447.87 2049.67,1447.87 2050.67,1447.87 2051.68,1447.87 \n",
       "  2052.68,1447.87 2053.69,1447.87 2054.7,1447.87 2055.7,1447.87 2056.71,1447.87 2057.71,1447.87 2058.72,1447.87 2059.72,1447.87 2060.73,1447.87 2061.73,1447.87 \n",
       "  2062.74,1447.87 2063.75,1447.87 2064.75,1447.87 2065.76,1447.87 2066.76,1447.87 2067.77,1447.87 2068.77,1447.87 2069.78,1447.87 2070.78,1447.87 2071.79,1447.87 \n",
       "  2072.8,1447.87 2073.8,1447.87 2074.81,1447.87 2075.81,1447.87 2076.82,1447.87 2077.82,1447.87 2078.83,1447.87 2079.84,1447.87 2080.84,1447.87 2081.85,1447.87 \n",
       "  2082.85,1447.87 2083.86,1447.87 2084.86,1447.87 2085.87,1447.87 2086.87,1447.87 2087.88,1447.87 2088.89,1447.87 2089.89,1447.87 2090.9,1447.87 2091.9,1447.87 \n",
       "  2092.91,1447.87 2093.91,1447.87 2094.92,1447.87 2095.92,1447.87 2096.93,1447.87 2097.94,1447.87 2098.94,1447.87 2099.95,1447.87 2100.95,1447.87 2101.96,1447.87 \n",
       "  2102.96,1447.87 2103.97,1447.87 2104.97,1447.87 2105.98,1447.87 2106.99,1447.87 2107.99,1447.87 2109,1447.87 2110,1447.87 2111.01,1447.87 2112.01,1447.87 \n",
       "  2113.02,1447.87 2114.02,1447.87 2115.03,1447.87 2116.04,1447.87 2117.04,1447.87 2118.05,1447.87 2119.05,1447.87 2120.06,1447.87 2121.06,1447.87 2122.07,1447.87 \n",
       "  2123.07,1447.87 2124.08,1447.87 2125.09,1447.87 2126.09,1447.87 2127.1,1447.87 2128.1,1447.87 2129.11,1447.87 2130.11,1447.87 2131.12,1447.87 2132.12,1447.87 \n",
       "  2133.13,1447.87 2134.14,1447.87 2135.14,1447.87 2136.15,1447.87 2137.15,1447.87 2138.16,1447.87 2139.16,1447.87 2140.17,1447.87 2141.17,1447.87 2142.18,1447.87 \n",
       "  2143.19,1447.87 2144.19,1447.87 2145.2,1447.87 2146.2,1447.87 2147.21,1447.87 2148.21,1447.87 2149.22,1447.87 2150.22,1447.87 2151.23,1447.87 2152.24,1447.87 \n",
       "  2153.24,1447.87 2154.25,1447.87 2155.25,1447.87 2156.26,1447.87 2157.26,1447.87 2158.27,1447.87 2159.27,1447.87 2160.28,1447.87 2161.29,1447.87 2162.29,1447.87 \n",
       "  2163.3,1447.87 2164.3,1447.87 2165.31,1447.87 2166.31,1447.87 2167.32,1447.87 2168.32,1447.87 2169.33,1447.87 2170.34,1447.87 2171.34,1447.87 2172.35,1447.87 \n",
       "  2173.35,1447.87 2174.36,1447.87 2175.36,1447.87 2176.37,1447.87 2177.38,1447.87 2178.38,1447.87 2179.39,1447.87 2180.39,1447.87 2181.4,1447.87 2182.4,1447.87 \n",
       "  2183.41,1447.87 2184.41,1447.87 2185.42,1447.87 2186.43,1447.87 2187.43,1447.87 2188.44,1447.87 2189.44,1447.87 2190.45,1447.87 2191.45,1447.87 2192.46,1447.87 \n",
       "  2193.46,1447.87 2194.47,1447.87 2195.48,1447.86 2196.48,1447.84 2197.49,1447.79 2198.49,1447.68 2199.5,1447.48 2200.5,1447.15 2201.51,1446.63 2202.51,1445.92 \n",
       "  2203.52,1445.04 2204.53,1444.11 2205.53,1443.26 2206.54,1442.69 2207.54,1442.51 2208.55,1442.77 2209.55,1443.41 2210.56,1444.29 2211.56,1445.23 2212.57,1446.08 \n",
       "  2213.58,1446.75 2214.58,1447.23 2215.59,1447.53 2216.59,1447.71 2217.6,1447.8 2218.6,1447.84 2219.61,1447.86 2220.61,1447.87 2221.62,1447.87 2222.63,1447.87 \n",
       "  2223.63,1447.87 2224.64,1447.87 2225.64,1447.87 2226.65,1447.87 2227.65,1447.87 2228.66,1447.87 2229.66,1447.87 2230.67,1447.87 2231.68,1447.87 2232.68,1447.87 \n",
       "  2233.69,1447.87 2234.69,1447.87 2235.7,1447.87 2236.7,1447.87 2237.71,1447.87 2238.71,1447.87 2239.72,1447.87 2240.73,1447.87 2241.73,1447.87 2242.74,1447.87 \n",
       "  2243.74,1447.87 2244.75,1447.87 2245.75,1447.87 2246.76,1447.87 2247.76,1447.87 2248.77,1447.87 2249.78,1447.87 2250.78,1447.87 2251.79,1447.87 2252.79,1447.87 \n",
       "  2253.8,1447.87 2254.8,1447.87 2255.81,1447.87 2256.81,1447.87 2257.82,1447.87 2258.83,1447.87 2259.83,1447.86 2260.84,1447.83 2261.84,1447.77 2262.85,1447.65 \n",
       "  2263.85,1447.43 2264.86,1447.06 2265.86,1446.49 2266.87,1445.71 2267.88,1444.74 2268.88,1443.65 2269.89,1442.57 2270.89,1441.61 2271.9,1440.86 2272.9,1440.37 \n",
       "  2273.91,1440.13 2274.91,1440.13 2275.92,1440.37 2276.93,1440.87 2277.93,1441.61 2278.94,1442.57 2279.94,1443.66 2280.95,1444.74 2281.95,1445.71 2282.96,1446.49 \n",
       "  2283.97,1447.06 2284.97,1447.43 2285.98,1447.65 2286.98,1447.77 2287.99,1447.83 2288.99,1447.86 2290,1447.87 2291,1447.87 \n",
       "  \"/>\n",
       "</svg>\n"
      ]
     },
     "execution_count": 163,
     "metadata": {},
     "output_type": "execute_result"
    }
   ],
   "source": [
    "plot(density_points[:,1], density_points[:,2], legend=false, title=\"Time Taken For One Gillespie Simulation\" )"
   ]
  },
  {
   "cell_type": "code",
   "execution_count": null,
   "id": "822bea68",
   "metadata": {},
   "outputs": [],
   "source": []
  },
  {
   "cell_type": "code",
   "execution_count": null,
   "id": "e81e9a00",
   "metadata": {},
   "outputs": [],
   "source": []
  },
  {
   "cell_type": "code",
   "execution_count": null,
   "id": "50e47d4e",
   "metadata": {},
   "outputs": [],
   "source": []
  },
  {
   "cell_type": "code",
   "execution_count": null,
   "id": "476874b2",
   "metadata": {},
   "outputs": [],
   "source": []
  },
  {
   "cell_type": "code",
   "execution_count": null,
   "id": "fe5c10b8",
   "metadata": {},
   "outputs": [],
   "source": []
  },
  {
   "cell_type": "code",
   "execution_count": null,
   "id": "203b83cb",
   "metadata": {},
   "outputs": [],
   "source": []
  },
  {
   "cell_type": "code",
   "execution_count": null,
   "id": "f7ee802d",
   "metadata": {},
   "outputs": [],
   "source": []
  },
  {
   "cell_type": "code",
   "execution_count": null,
   "id": "31a46e87",
   "metadata": {},
   "outputs": [],
   "source": []
  },
  {
   "cell_type": "code",
   "execution_count": null,
   "id": "03548d81",
   "metadata": {},
   "outputs": [],
   "source": []
  },
  {
   "cell_type": "code",
   "execution_count": null,
   "id": "ca1b34b2",
   "metadata": {},
   "outputs": [],
   "source": []
  },
  {
   "cell_type": "code",
   "execution_count": null,
   "id": "e6a6534a",
   "metadata": {},
   "outputs": [],
   "source": []
  },
  {
   "cell_type": "code",
   "execution_count": null,
   "id": "c9ace627",
   "metadata": {},
   "outputs": [],
   "source": []
  },
  {
   "cell_type": "code",
   "execution_count": null,
   "id": "5e5c1daf",
   "metadata": {},
   "outputs": [],
   "source": []
  }
 ],
 "metadata": {
  "kernelspec": {
   "display_name": "Julia 1.6.2",
   "language": "julia",
   "name": "julia-1.6"
  },
  "language_info": {
   "file_extension": ".jl",
   "mimetype": "application/julia",
   "name": "julia",
   "version": "1.6.2"
  }
 },
 "nbformat": 4,
 "nbformat_minor": 5
}
