{
 "cells": [
  {
   "cell_type": "code",
   "execution_count": null,
   "id": "1dc6f8c3",
   "metadata": {},
   "outputs": [],
   "source": [
    "\"\"\"\n",
    "Poisson leap process\n",
    "\"\"\";"
   ]
  },
  {
   "cell_type": "code",
   "execution_count": null,
   "id": "37b6b3aa",
   "metadata": {},
   "outputs": [],
   "source": [
    "using Distributed, Plots, DelimitedFiles, KernelDensity"
   ]
  },
  {
   "cell_type": "code",
   "execution_count": null,
   "id": "8b7adffa",
   "metadata": {},
   "outputs": [],
   "source": [
    "length(Sys.cpu_info())\n",
    "addprocs(4) ;"
   ]
  },
  {
   "cell_type": "code",
   "execution_count": null,
   "id": "5796b50e",
   "metadata": {},
   "outputs": [],
   "source": [
    "@everywhere using Random, Distributions"
   ]
  },
  {
   "cell_type": "code",
   "execution_count": null,
   "id": "c57bbd14",
   "metadata": {},
   "outputs": [],
   "source": [
    "@everywhere struct SPN\n",
    "    init_pops::Vector{Real}\n",
    "    rate_vec::Vector{Real}\n",
    "    Stoichiometry_matrix::Array{Real, 2}\n",
    "    function SPN(init_pops, rate_vec, Stoichiometry_matrix)\n",
    "        new(init_pops, rate_vec, Stoichiometry_matrix)\n",
    "    end\n",
    "end"
   ]
  },
  {
   "cell_type": "code",
   "execution_count": null,
   "id": "841efe70",
   "metadata": {},
   "outputs": [],
   "source": [
    "@everywhere init(N::SPN) = Float64.(N.init_pops)\n",
    "@everywhere rates(N::SPN) = Float64.(N.rate_vec)\n",
    "@everywhere StoiMat(N::SPN) = Float64.(N.Stoichiometry_matrix)"
   ]
  },
  {
   "cell_type": "code",
   "execution_count": null,
   "id": "dea59d9b",
   "metadata": {},
   "outputs": [],
   "source": [
    "post = [[2,0,0,0,1] [0,2,0,0,1]]\n",
    "pre = [[1,0,1,0,1] [0,1,0,1,0]]\n",
    "S = post - pre\n",
    "k = [3.06e-8, 3.06e-8, 3.06e-8, 3.06e-8, 0.0];"
   ]
  },
  {
   "cell_type": "code",
   "execution_count": null,
   "id": "d0b66015",
   "metadata": {},
   "outputs": [],
   "source": [
    "hour = 3600\n",
    "day = 24*hour\n",
    "year = 365*day\n",
    "\n",
    "step_str = \"1\"\n",
    "step = 1*day\n",
    "step_out = 7*day\n",
    "\n",
    "Tmax = 80*year \n",
    "Nsim = 1000 ;"
   ]
  },
  {
   "cell_type": "code",
   "execution_count": null,
   "id": "e4e4217e",
   "metadata": {},
   "outputs": [],
   "source": [
    "@everywhere function hazard(x::Vector{Float64}, th::Vector{Float64})::Vector{Float64}\n",
    "    return [x[1], x[2], x[1], x[2], x[1]].*th[1:5]\n",
    "end"
   ]
  },
  {
   "cell_type": "code",
   "execution_count": null,
   "id": "2d24dd79",
   "metadata": {},
   "outputs": [],
   "source": [
    "@everywhere function randPois(λ::Vector{Float64})::Vector{Int64}\n",
    "    pos_rates = (λ.>0).*λ\n",
    "    [rand(Poisson(rate)) for rate in pos_rates]\n",
    "end"
   ]
  },
  {
   "cell_type": "code",
   "execution_count": null,
   "id": "abcc5080",
   "metadata": {},
   "outputs": [],
   "source": [
    "@everywhere function transform_summ(popdym)::Array{Union{Float64, Missing}}\n",
    "    copy_num = popdym[:,1] .+ popdym[:,2]\n",
    "    \n",
    "    mut_load = Array{Union{Float64, Missing}}(undef, length(copy_num))\n",
    "    idx = copy_num .!= 0.0\n",
    "    mut_load[.!idx] .= missing\n",
    "    mut_load[idx] .=  popdym[idx,2] ./ copy_num[idx]\n",
    "    \n",
    "    return hcat(copy_num, mut_load)\n",
    "end"
   ]
  },
  {
   "cell_type": "code",
   "execution_count": null,
   "id": "8e0e279a",
   "metadata": {},
   "outputs": [],
   "source": [
    "@everywhere function tauleap(spn::SPN, Tmax::Real, dt::Real, dtout::Real)::Array{Union{Float64, Missing}}\n",
    "    x = init(spn)\n",
    "    k = rates(spn)\n",
    "    S = StoiMat(spn)\n",
    "    N = trunc(Int, Tmax/dt) \n",
    "    Nout = trunc(Int, Tmax/dtout) + 1\n",
    "    popdym = Array{Float64}(undef, 2,Nout)\n",
    "    target = 0.0\n",
    "    tt = 0.0\n",
    "    \n",
    "    popdym[:,1] = x\n",
    "    i = 2\n",
    "    for _=1:N\n",
    "        h = hazard(x, k)\n",
    "        #h = hazzy(x, k)\n",
    "        if( sum(h) < 1e-10 )\n",
    "            popdym[:,(i:Nout)] = zeros(2, Nout-i+1)\n",
    "            return transform_summ(popdym')\n",
    "        end\n",
    "        R = randPois(h*dt)\n",
    "        x = x + (S'*R) \n",
    "        x[x.<0.0] .= 0.0 \n",
    "        tt += dt\n",
    "        \n",
    "        while tt>=target && i<=Nout\n",
    "            popdym[:,i] = x\n",
    "            target += dtout\n",
    "            i += 1\n",
    "        end\n",
    "    end\n",
    "    return transform_summ(popdym')\n",
    "end\n"
   ]
  },
  {
   "cell_type": "code",
   "execution_count": null,
   "id": "4c56f284",
   "metadata": {},
   "outputs": [],
   "source": [
    "spn = SPN([100,100], k, S)\n",
    "@time tt = tauleap(spn, Tmax, step, step_out) ;"
   ]
  },
  {
   "cell_type": "code",
   "execution_count": null,
   "id": "d7bd4a07",
   "metadata": {},
   "outputs": [],
   "source": [
    "k = [3.06e-8, 3.06e-8, 3.06e-8, 3.06e-8, 0.0]\n",
    "spn = SPN([100,100], k, S)\n",
    "tt = tauleap(spn, Tmax, step, step_out)\n",
    "xt = [0:step_out:Tmax;]./year\n",
    "plt1 = plot(xt, tt[:,1], ylims=(0,800), legend=false, title=\"Copy Number\")\n",
    "plt2 = plot(xt, tt[:,2], ylims=(0,1), legend=false, title=\"Mutation Load\")\n",
    "\n",
    "plot(plt1, plt2)"
   ]
  },
  {
   "cell_type": "code",
   "execution_count": null,
   "id": "0bc91f67",
   "metadata": {},
   "outputs": [],
   "source": [
    "\"\"\"\n",
    "sim_single = Array{Float64}(undef, n(Ntest), 2,Nsim)\n",
    "@time for i=1:Nsim\n",
    "    sim_single[:,:,i] = tauleap(Ntest)\n",
    "end\n",
    "1000 simulations takes ~21 seconds\n",
    "\"\"\";"
   ]
  },
  {
   "cell_type": "code",
   "execution_count": null,
   "id": "c12dca5b",
   "metadata": {},
   "outputs": [],
   "source": [
    "# The arguments are: 1) a function 'f' and 2) a list with the input.\n",
    "@everywhere function par_map(Nsim::Int64, f, spn::SPN, Tmax::Real, dt::Real, dtout::Real)\n",
    "    np = nworkers()            # Number of processes available.\n",
    "    output = Vector{Array{Union{Float64, Missing}, 2}}(undef, Nsim) \n",
    "    i = 1\n",
    "    nextidx() = (idx = i; i += 1; idx) # Function to know which is the next work item.\n",
    "    @sync begin #@sync: must complete all jobs in block\n",
    "        for p = 1:np # loops through all processes (workers)\n",
    "            if p != myid() || np == 1 # first worker used only if all others are busy \n",
    "                @async begin # launch several tasks simultaneaously\n",
    "                    while true\n",
    "                        idx = nextidx()\n",
    "                        if idx > Nsim\n",
    "                            break\n",
    "                        end\n",
    "                        output[idx] = remotecall_fetch(f, p, spn, Tmax, dt, dtout)\n",
    "                    end\n",
    "                end\n",
    "            end\n",
    "        end\n",
    "    end\n",
    "    output\n",
    "end"
   ]
  },
  {
   "cell_type": "code",
   "execution_count": null,
   "id": "01549ff0",
   "metadata": {},
   "outputs": [],
   "source": [
    "@time simulations = par_map(Nsim, tauleap, spn, Tmax, step, step_out) ;"
   ]
  },
  {
   "cell_type": "code",
   "execution_count": null,
   "id": "7a681be8",
   "metadata": {},
   "outputs": [],
   "source": [
    "\"\"\"\n",
    "time step = 200 days\n",
    "time taken: ~ 0.14 seconds\n",
    "4 workers, 1000 simulations\n",
    "\n",
    "time step = 150 days\n",
    "time taken: 0.15 seconds\n",
    "4 workers, 1000 simulations\n",
    "\n",
    "time step = 100 days\n",
    "simple simulation: ~ 0.18 seconds\n",
    "workers = 4\n",
    "\n",
    "time step = 50 days \n",
    "simple simulation: ~0.32 seconds\n",
    "workers = 4\n",
    "\n",
    "time step = 25 days\n",
    "simple sim: ~0.55 seconds\n",
    "workers = 4\n",
    "\n",
    "time step = 10 days\n",
    "simple sim = ~1.2 seconds\n",
    "\n",
    "time step = 7 days\n",
    "simple simulation: ~2.5 seconds\n",
    "workers = 4, 1000 simulations\n",
    "\n",
    "time steo = 5 days\n",
    "simple simulation: 2.7 seconds\n",
    "4 workers, 1000 simulations \n",
    "\n",
    "time step = 2 days\n",
    "simple simulations: ~ 6.5 seconds\n",
    "4 workers, 1000 simulations\n",
    "\n",
    "time step = 1 day\n",
    "simple simulation: 8.5 seconds\n",
    "workers = 4, 1000 simulations\n",
    "\n",
    "\"\"\";"
   ]
  },
  {
   "cell_type": "code",
   "execution_count": null,
   "id": "c125976a",
   "metadata": {},
   "outputs": [],
   "source": [
    "@everywhere function quantiles(sims, p)::Array{Float64, 3}\n",
    "    \"\"\"\n",
    "    returns quantile summaries from simulations\n",
    "    \"\"\"\n",
    "    Nsim = length(sims) # Nsim: number of simulations\n",
    "    n = size(sims[1])[1] # length of one simulation\n",
    "    out = Array{Float64}(undef, n,length(p),2)\n",
    "    for t=1:n\n",
    "        out[t,:,1] = quantile(skipmissing([sims[i][t,1] for i=1:Nsim]), p)\n",
    "        out[t,:,2] = quantile(skipmissing([sims[i][t,2] for i=1:Nsim]), p)\n",
    "    end\n",
    "    out\n",
    "end"
   ]
  },
  {
   "cell_type": "code",
   "execution_count": null,
   "id": "96fcf322",
   "metadata": {},
   "outputs": [],
   "source": [
    "sims_qntl = quantiles(simulations, [0.025,0.25,0.5,0.75,0.975]) ;"
   ]
  },
  {
   "cell_type": "code",
   "execution_count": null,
   "id": "b4d3333a",
   "metadata": {},
   "outputs": [],
   "source": [
    "mkpath(\"Simulations\")\n",
    "writedlm(string(\"Simulations/CN_qnt_tau_\",step_str,\"d.txt\"), sims_qntl[:,:,1])\n",
    "writedlm(string(\"Simulations/ML_qnt_tau_\",step_str,\"d.txt\"), sims_qntl[:,:,2]) ;"
   ]
  },
  {
   "cell_type": "code",
   "execution_count": null,
   "id": "159546b2",
   "metadata": {},
   "outputs": [],
   "source": [
    "mkpath(\"Simulations/PDF\")\n",
    "myBlack = colorant\"rgb(0,0,0,0.1)\"\n",
    "ts = [0:step_out:Tmax;]./year ;"
   ]
  },
  {
   "cell_type": "code",
   "execution_count": null,
   "id": "4f679728",
   "metadata": {},
   "outputs": [],
   "source": [
    "p3 = plot(ts, sims_qntl[:,:,1], title=\"Copy Number Quantiles\", ylims=(0,800))\n",
    "p4 = plot(ts, sims_qntl[:,:,2], title=\"Mutation Load Quantiles\", ylims=(0,1))\n",
    "plot(p3, p4, layout=(1,2), legend=false)\n",
    "savefig(string(\"Simulations/PDF/tau_qntls_\",step_str,\"d.pdf\"))"
   ]
  },
  {
   "cell_type": "code",
   "execution_count": null,
   "id": "128d7063",
   "metadata": {},
   "outputs": [],
   "source": [
    "function time_slice(sims, t, Tmax, dtout)\n",
    "    t_low = [0:dtout:Tmax-dtout;]\n",
    "    t_up = [dtout:dtout:Tmax;]\n",
    "    Nsim = length(sims)\n",
    "    nt = length(t)\n",
    "    sim_slice = Array{Any, 3}(undef, Nsim,nt,2)\n",
    "    for i=1:Nsim\n",
    "        for j=1:nt\n",
    "            indx = t[j].>=t_low .& t[j].<t_up\n",
    "            sim_slice[i,j,1] = sims[i][vcat(indx, false),1]\n",
    "            sim_slice[i,j,2] = sims[i][vcat(indx, false),2]\n",
    "        end\n",
    "    end\n",
    "    return sim_slice\n",
    "end"
   ]
  },
  {
   "cell_type": "code",
   "execution_count": null,
   "id": "ef1a94bc",
   "metadata": {},
   "outputs": [],
   "source": [
    "dist_sims = time_slice(simulations, [10:10:80;]*year, Tmax, step_out) ; "
   ]
  },
  {
   "cell_type": "code",
   "execution_count": null,
   "id": "3bf647f3",
   "metadata": {},
   "outputs": [],
   "source": [
    "\"\"\"\n",
    "Simulation times\n",
    "\"\"\" ;"
   ]
  },
  {
   "cell_type": "code",
   "execution_count": null,
   "id": "6fa07970",
   "metadata": {},
   "outputs": [],
   "source": [
    "@everywhere function par_times(Nsim, f, spn::SPN, Tmax::Real, dt::Real, dtout::Real)\n",
    "    np = nworkers()            # Number of processes available.\n",
    "    Nout = trunc(Int, Tmax/dtout) + 1 # dimension for output\n",
    "    output = Array{Float64}(undef, Nsim) # Where we will write the results. As we do not know\n",
    "                             # the type (Integer, Tuple...) we write \"Any\"\n",
    "    i = 1\n",
    "    nextidx() = (idx = i; i += 1; idx) # Function to know which is the next work item.\n",
    "                                       # In this case it is just an index.\n",
    "    @sync begin #@sync: must complete all jobs in block\n",
    "        for p = 1:np # loops through all processes (workers)\n",
    "            if p != myid() || np == 1 # first worker used only if all others are busy \n",
    "                @async begin # launch several tasks simultaneaously\n",
    "                    while true\n",
    "                        idx = nextidx()\n",
    "                        if idx > Nsim\n",
    "                            break\n",
    "                        end\n",
    "                        output[idx] = @elapsed remotecall_fetch(f, p, spn, Tmax, dt, dtout)\n",
    "                    end\n",
    "                end\n",
    "            end\n",
    "        end\n",
    "    end\n",
    "    output\n",
    "end"
   ]
  },
  {
   "cell_type": "code",
   "execution_count": null,
   "id": "d812615b",
   "metadata": {},
   "outputs": [],
   "source": [
    "sim_times = par_times(Nsim, tauleap, spn, Tmax, step, step_out) \n",
    "\n",
    "mkpath(\"Simulations\")\n",
    "writedlm(string(\"Simulations/tau_\",step_str,\"d_times.txt\"), sim_times) ;"
   ]
  },
  {
   "cell_type": "code",
   "execution_count": null,
   "id": "fda62b56",
   "metadata": {},
   "outputs": [],
   "source": [
    "dens = kde(sim_times)\n",
    "density_points = hcat(dens.x, dens.density) ;"
   ]
  },
  {
   "cell_type": "code",
   "execution_count": null,
   "id": "35db66e1",
   "metadata": {},
   "outputs": [],
   "source": [
    "plot(dens.x, dens.density, legend=false, title=string(\"Tau Leap Simulation, step: \",step_str,\" days\"))"
   ]
  },
  {
   "cell_type": "code",
   "execution_count": null,
   "id": "beb14dd0",
   "metadata": {},
   "outputs": [],
   "source": []
  },
  {
   "cell_type": "code",
   "execution_count": null,
   "id": "f3d6a725",
   "metadata": {},
   "outputs": [],
   "source": []
  },
  {
   "cell_type": "code",
   "execution_count": null,
   "id": "ffd70234",
   "metadata": {},
   "outputs": [],
   "source": []
  },
  {
   "cell_type": "code",
   "execution_count": null,
   "id": "25ce23d1",
   "metadata": {},
   "outputs": [],
   "source": []
  },
  {
   "cell_type": "code",
   "execution_count": null,
   "id": "8ce91332",
   "metadata": {},
   "outputs": [],
   "source": []
  }
 ],
 "metadata": {
  "kernelspec": {
   "display_name": "Julia 1.6.2",
   "language": "julia",
   "name": "julia-1.6"
  },
  "language_info": {
   "file_extension": ".jl",
   "mimetype": "application/julia",
   "name": "julia",
   "version": "1.6.2"
  }
 },
 "nbformat": 4,
 "nbformat_minor": 5
}
