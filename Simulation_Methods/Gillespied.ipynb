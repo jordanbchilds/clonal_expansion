{
 "cells": [
  {
   "cell_type": "code",
   "execution_count": 1,
   "id": "80b6a2b5",
   "metadata": {},
   "outputs": [
    {
     "data": {
      "text/plain": [
       "\"A 1000 run of the gillespied function, with constant inputs \\n\""
      ]
     },
     "execution_count": 1,
     "metadata": {},
     "output_type": "execute_result"
    }
   ],
   "source": [
    "\"\"\"\n",
    "A 1000 run of the gillespied function, with constant inputs \n",
    "\"\"\""
   ]
  },
  {
   "cell_type": "code",
   "execution_count": 2,
   "id": "3d64947a",
   "metadata": {},
   "outputs": [],
   "source": [
    "using Distributed"
   ]
  },
  {
   "cell_type": "code",
   "execution_count": 3,
   "id": "5072c8e2",
   "metadata": {},
   "outputs": [],
   "source": [
    "length(Sys.cpu_info())\n",
    "addprocs(4) ;"
   ]
  },
  {
   "cell_type": "code",
   "execution_count": 4,
   "id": "3d3e7157",
   "metadata": {},
   "outputs": [],
   "source": [
    "@everywhere using Random, Distributions, Plots, DelimitedFiles"
   ]
  },
  {
   "cell_type": "code",
   "execution_count": 5,
   "id": "7c011737",
   "metadata": {},
   "outputs": [],
   "source": [
    "@everywhere struct SPN\n",
    "    init::Vector{Real}\n",
    "    k::Vector{Real}\n",
    "    S::Array{Real}\n",
    "    Tmax::Real\n",
    "    dt::Real\n",
    "    function SPN(init, k, S, Tmax, dt)\n",
    "        new(init, k, S, Tmax, dt)\n",
    "    end\n",
    "end"
   ]
  },
  {
   "cell_type": "code",
   "execution_count": 6,
   "id": "c61213d7",
   "metadata": {},
   "outputs": [],
   "source": [
    "@everywhere init(N::SPN) = Float64.(N.init)\n",
    "@everywhere k(N::SPN) = Float64.(N.k)\n",
    "@everywhere S(N::SPN) = Float64.(N.S)\n",
    "@everywhere Tmax(N::SPN) = Float64.(N.Tmax)\n",
    "@everywhere dt(N::SPN) = Float64.(N.dt)\n",
    "@everywhere n(N::SPN) = trunc(Int, N.Tmax/N.dt)"
   ]
  },
  {
   "cell_type": "code",
   "execution_count": 7,
   "id": "c431ecf4",
   "metadata": {},
   "outputs": [],
   "source": [
    "@everywhere function hazard(x::Vector{Float64}, th::Vector{Float64}, error::Float64)::Vector{Float64}\n",
    "    k = th[1:5]\n",
    "    Kc = th[6:7]\n",
    "    if error>=0\n",
    "        # defining the k1, & k2 and then subbing them into a vecotr is WAY WAY quicker\n",
    "        # compared to calcing them in the vector\n",
    "        k1 = k[1]+error*Kc[1]\n",
    "        k2 = k[2]+error*Kc[1]\n",
    "        return [x[1], x[2], x[1], x[2], x[1]].*[k1, k2, k[3], k[4], k[5]]\n",
    "    else \n",
    "        k1 = 2*k[1]/(1+exp(-error*Kc[2]))\n",
    "        k2 = 2*k[2]/(1+exp(-error*Kc[2]))\n",
    "        return [x[1], x[2], x[1], x[2], x[1]].*[k1, k2, k[3], k[4], k[5]]\n",
    "    end\n",
    "end"
   ]
  },
  {
   "cell_type": "code",
   "execution_count": 8,
   "id": "c3e7795e",
   "metadata": {},
   "outputs": [],
   "source": [
    "@everywhere function hazzy(x::Vector{Float64}, th::Vector{Float64})::Vector{Float64}\n",
    "    return [x[1], x[2], x[1], x[2], x[1]].*th[1:5]\n",
    "end"
   ]
  },
  {
   "cell_type": "code",
   "execution_count": 9,
   "id": "dd80be78",
   "metadata": {},
   "outputs": [],
   "source": [
    "@everywhere const post = [[2,0,0,0,1] [0,2,0,0,1]]\n",
    "@everywhere const pre = [[1,0,1,0,1] [0,1,0,1,0]]\n",
    "@everywhere const SS = post - pre\n",
    "@everywhere const kk = [3.06e-8, 3.06e-8, 3.06e-8, 3.06e-8, 0.0, 8.99e-9, 2e-3];"
   ]
  },
  {
   "cell_type": "code",
   "execution_count": 12,
   "id": "dad7c8de",
   "metadata": {},
   "outputs": [
    {
     "data": {
      "text/plain": [
       "\"When specifying the parameters as ::Float64 the function is consistently a slower\\n...weird but okay.\\n\""
      ]
     },
     "execution_count": 12,
     "metadata": {},
     "output_type": "execute_result"
    }
   ],
   "source": [
    "@everywhere function gen_inits(μ::Real, σ::Real, α::Real, β::Real)::Vector{Float64}\n",
    "    CC = rand(Normal(μ, σ))\n",
    "    hh = rand(Beta(α, β))\n",
    "    return round.( [CC*(1-hh), CC*hh] )\n",
    "end"
   ]
  },
  {
   "cell_type": "code",
   "execution_count": 10,
   "id": "d8e85fc6",
   "metadata": {},
   "outputs": [],
   "source": [
    "@everywhere function trans_summ(x)\n",
    "    copy_num = x[:,1] .+ x[:,2]\n",
    "    mut_load = x[:,2] ./ copy_num\n",
    "    return hcat(copy_num, mut_load)\n",
    "end"
   ]
  },
  {
   "cell_type": "code",
   "execution_count": 126,
   "id": "c370ee35",
   "metadata": {
    "scrolled": true
   },
   "outputs": [],
   "source": [
    "@everywhere function gillespied(N)\n",
    "    c = k(N)\n",
    "    x = init(N)\n",
    "    δt = dt(N)\n",
    "    nn = n(N)\n",
    "    SS = S(N)\n",
    "    tt = 0.0\n",
    "    xmat = Array{Union{Float64, Missing}}(undef, (2,nn+1))\n",
    "    xmat[:,1] = x\n",
    "    i = 1\n",
    "    target = 0.0\n",
    "    C0 = sum(x)\n",
    "    while i <= nn\n",
    "        error = C0 - sum(x)\n",
    "        h = hazzy(x, c)\n",
    "        h0 = sum(h)\n",
    "        if h0<1e-10\n",
    "            xmat[:,i:(nn+1)] = hcat(zeros(nn-i+2), fill(missing, nn-i+2))'\n",
    "            return trans_summ(xmat')\n",
    "        else\n",
    "            Exp = Exponential(1/h0)\n",
    "            tt = tt + rand(Exp)\n",
    "        end\n",
    "        while tt>=target && i<=nn\n",
    "            i += 1\n",
    "            xmat[:,i] = x\n",
    "            target += δt\n",
    "        end\n",
    "        Cat = Categorical(h/h0)\n",
    "        r = rand(Cat)\n",
    "        x += SS'[:,r]\n",
    "    end\n",
    "    return trans_summ(xmat')\n",
    "end"
   ]
  },
  {
   "cell_type": "code",
   "execution_count": 86,
   "id": "c6625d13",
   "metadata": {},
   "outputs": [],
   "source": [
    "@everywhere function quantiles(sims, p)\n",
    "    \"\"\"\n",
    "    returns quantile summaries from simulations\n",
    "    \"\"\"\n",
    "    Nsim = size(sims)[3] # Nsim: number of simulations\n",
    "    n = size(sims)[1] # length of one simulation\n",
    "    out = Array{Float64}(undef, n,length(p),2)\n",
    "    for t=1:n\n",
    "        out[t,:,1] = quantile(skipmissing([sims[t,1,i] for i=1:Nsim]), p)\n",
    "        out[t,:,2] = quantile(skipmissing([sims[t,2,i] for i=1:Nsim]), p)\n",
    "    end\n",
    "    out\n",
    "end"
   ]
  },
  {
   "cell_type": "code",
   "execution_count": 16,
   "id": "05a4d682",
   "metadata": {},
   "outputs": [],
   "source": [
    "@everywhere Nsim = 1000\n",
    "@everywhere Tsim = 80*365*24*3600\n",
    "@everywhere δt = 7*24*3600 ; "
   ]
  },
  {
   "cell_type": "code",
   "execution_count": 99,
   "id": "7d887182",
   "metadata": {},
   "outputs": [
    {
     "name": "stdout",
     "output_type": "stream",
     "text": [
      "  0.197748 seconds (703.26 k allocations: 44.493 MiB, 77.24% compilation time)\n"
     ]
    },
    {
     "data": {
      "text/plain": [
       "\"a single run takes 0.548 seconds\\n\""
      ]
     },
     "execution_count": 99,
     "metadata": {},
     "output_type": "execute_result"
    }
   ],
   "source": [
    "Ntest = SPN([100,100], kk, SS, Tsim, δt)\n",
    "@time gillespied(Ntest);\n",
    "\"\"\"\n",
    "a single run takes 0.548 seconds\n",
    "\"\"\""
   ]
  },
  {
   "cell_type": "code",
   "execution_count": null,
   "id": "61b85bf0",
   "metadata": {},
   "outputs": [],
   "source": [
    "\"\"\"\n",
    "simulations_single = Array{Float64}(undef, n(Ntest), 2, Nsim)\n",
    "@time for i=1:Nsim\n",
    "    simulations_single[:,:,i] = gillespied(Ntest)\n",
    "end\n",
    "This is a lot slower (doubly slow) than the previous version without the SPN structure\n",
    "For 1000 simulations 26.536 seconds\n",
    "\"\"\""
   ]
  },
  {
   "cell_type": "code",
   "execution_count": null,
   "id": "162395a9",
   "metadata": {},
   "outputs": [],
   "source": [
    "#summ_single = raw_to_summ(simulations_single);\n",
    "#qnts_single = quantiles(summ_single, [0.025,0.1,0.5,0.9,0.975]) ;"
   ]
  },
  {
   "cell_type": "code",
   "execution_count": 120,
   "id": "d4bdb917",
   "metadata": {},
   "outputs": [],
   "source": [
    "# The arguments are: 1) a function 'f' and 2) a list with the input.\n",
    "@everywhere function simulation_map(Nsim, f, SPN)\n",
    "    np = nworkers()            # Number of processes available.\n",
    "    nn = n(SPN) # dimension for output\n",
    "    output = Array{Union{Float64, Missing}}(undef, nn+1,2,Nsim) # Where we will write the results. As we do not know\n",
    "                             # the type (Integer, Tuple...) we write \"Any\"\n",
    "    i = 1\n",
    "    nextidx() = (idx = i; i += 1; idx) # Function to know which is the next work item.\n",
    "                                       # In this case it is just an index.\n",
    "    @sync begin #@sync: must complete all jobs in block\n",
    "        for p = 1:np # loops through all processes (workers)\n",
    "            if p != myid() || np == 1 # first worker used only if all others are busy \n",
    "                @async begin # launch several tasks simultaneaously\n",
    "                    while true\n",
    "                        idx = nextidx()\n",
    "                        if idx > Nsim\n",
    "                            break\n",
    "                        end\n",
    "                        output[:,:,idx] = remotecall_fetch(f, p, SPN)\n",
    "                    end\n",
    "                end\n",
    "            end\n",
    "        end\n",
    "    end\n",
    "    output\n",
    "end"
   ]
  },
  {
   "cell_type": "code",
   "execution_count": 127,
   "id": "67988448",
   "metadata": {},
   "outputs": [
    {
     "name": "stdout",
     "output_type": "stream",
     "text": [
      " 72.513019 seconds (18.00 M allocations: 1.657 GiB, 0.05% gc time)\n"
     ]
    },
    {
     "data": {
      "text/plain": [
       "\"seems to be about as quick as the gillespied algorithm was before the SPN structure\\n1000 simulations takes ~15 seconds (13.592 s)\\n10000 simulations: ~170 seconds\\n\\n\\n1000 simulations with summarised output: 88 seconds\\n4 workers\\n\""
      ]
     },
     "execution_count": 127,
     "metadata": {},
     "output_type": "execute_result"
    }
   ],
   "source": [
    "@time simulations = simulation_map(Nsim, gillespied, Ntest) ;\n",
    "\"\"\"\n",
    "seems to be about as quick as the gillespied algorithm was before the SPN structure\n",
    "1000 simulations takes ~15 seconds (13.592 s)\n",
    "10000 simulations: ~170 seconds\n",
    "\n",
    "\n",
    "1000 simulations with summarised output: 88 seconds\n",
    "4 workers\n",
    "\"\"\""
   ]
  },
  {
   "cell_type": "code",
   "execution_count": 131,
   "id": "bd17d669",
   "metadata": {},
   "outputs": [],
   "source": [
    "sims_qntl = quantiles(simulations, [0.025,0.25,0.5,0.75,0.975]) ;"
   ]
  },
  {
   "cell_type": "code",
   "execution_count": 132,
   "id": "e9d252dd",
   "metadata": {},
   "outputs": [
    {
     "data": {
      "text/plain": [
       "\"Simulations\""
      ]
     },
     "execution_count": 132,
     "metadata": {},
     "output_type": "execute_result"
    }
   ],
   "source": [
    "mkpath(\"Simulations\")"
   ]
  },
  {
   "cell_type": "code",
   "execution_count": 139,
   "id": "50a60b8a",
   "metadata": {},
   "outputs": [],
   "source": [
    "writedlm(\"Simulations/CN_qnt_gill_jl.txt\", sims_qntl[:,:,1])\n",
    "writedlm(\"Simulations/ML_qnt_gill_jl.txt\", sims_qntl[:,:,2])"
   ]
  },
  {
   "cell_type": "code",
   "execution_count": 136,
   "id": "6f80f8d2",
   "metadata": {},
   "outputs": [
    {
     "data": {
      "text/plain": [
       "distributions_t (generic function with 1 method)"
      ]
     },
     "execution_count": 136,
     "metadata": {},
     "output_type": "execute_result"
    }
   ],
   "source": [
    "function distributions_t(sims, t, Tsim, δt)\n",
    "    t_tot = [δt:δt:Tsim;]\n",
    "    Nsim = size(sims)[3]\n",
    "    nt = length(t)\n",
    "    sim_t = Array{Float64}(undef, Nsim,nt,2)\n",
    "    for i=1:Nsim\n",
    "        for j=1:nt\n",
    "            sim_t[i,j,1] = sims[findall(x->x==t[j], t_tot),1,i][1]\n",
    "            sim_t[i,j,2] = sims[findall(x->x==t[j], t_tot),2,i][1]\n",
    "        end\n",
    "    end\n",
    "    sim_t\n",
    "end\n"
   ]
  },
  {
   "cell_type": "code",
   "execution_count": 137,
   "id": "02558d6f",
   "metadata": {},
   "outputs": [
    {
     "ename": "LoadError",
     "evalue": "BoundsError: attempt to access 0-element Vector{Union{Missing, Float64}} at index [1]",
     "output_type": "error",
     "traceback": [
      "BoundsError: attempt to access 0-element Vector{Union{Missing, Float64}} at index [1]",
      "",
      "Stacktrace:",
      " [1] getindex",
      "   @ ./array.jl:801 [inlined]",
      " [2] distributions_t(sims::Array{Union{Missing, Float64}, 3}, t::Vector{Int64}, Tsim::Int64, δt::Int64)",
      "   @ Main ./In[136]:8",
      " [3] top-level scope",
      "   @ In[137]:1",
      " [4] eval",
      "   @ ./boot.jl:360 [inlined]",
      " [5] include_string(mapexpr::typeof(REPL.softscope), mod::Module, code::String, filename::String)",
      "   @ Base ./loading.jl:1116"
     ]
    }
   ],
   "source": [
    "dist_sims = distributions_t(simulations, [10:10:80;]*365*24*3600, Tsim, δt) ; "
   ]
  },
  {
   "cell_type": "code",
   "execution_count": 135,
   "id": "2c57c757",
   "metadata": {},
   "outputs": [
    {
     "ename": "LoadError",
     "evalue": "UndefVarError: dist_sims not defined",
     "output_type": "error",
     "traceback": [
      "UndefVarError: dist_sims not defined",
      "",
      "Stacktrace:",
      " [1] top-level scope",
      "   @ In[135]:1",
      " [2] eval",
      "   @ ./boot.jl:360 [inlined]",
      " [3] include_string(mapexpr::typeof(REPL.softscope), mod::Module, code::String, filename::String)",
      "   @ Base ./loading.jl:1116"
     ]
    }
   ],
   "source": [
    "writedlm(\"Simulations/CN_ts_gill_jl.txt\", dist_sims[:,:,1])\n",
    "writedlm(\"Simulations/ML_ts_gill_jl.txt\", dist_sims[:,:,2])"
   ]
  }
 ],
 "metadata": {
  "kernelspec": {
   "display_name": "Julia 1.6.2",
   "language": "julia",
   "name": "julia-1.6"
  },
  "language_info": {
   "file_extension": ".jl",
   "mimetype": "application/julia",
   "name": "julia",
   "version": "1.6.2"
  }
 },
 "nbformat": 4,
 "nbformat_minor": 5
}
