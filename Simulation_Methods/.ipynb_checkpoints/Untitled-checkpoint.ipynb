{
 "cells": [
  {
   "cell_type": "code",
   "execution_count": 5,
   "id": "f5f10d14",
   "metadata": {},
   "outputs": [
    {
     "name": "stdout",
     "output_type": "stream",
     "text": [
      "the number of this iteration is 1\n",
      "the number of this iteration is 2\n",
      "the number of this iteration is 3\n",
      "the number of this iteration is 4\n",
      "the number of this iteration is 5\n",
      "the number of this iteration is 6\n",
      "the number of this iteration is 7\n",
      "the number of this iteration is 8\n",
      "the number of this iteration is 9\n",
      "the number of this iteration is 10\n"
     ]
    }
   ],
   "source": [
    "Threads.@threads for n in 1:10\n",
    "    println(\"the number of this iteration is $n\")\n",
    "end"
   ]
  },
  {
   "cell_type": "code",
   "execution_count": 6,
   "id": "7ebd9c36",
   "metadata": {},
   "outputs": [],
   "source": [
    "using Distributed"
   ]
  },
  {
   "cell_type": "code",
   "execution_count": null,
   "id": "2a4fb489",
   "metadata": {},
   "outputs": [],
   "source": []
  }
 ],
 "metadata": {
  "kernelspec": {
   "display_name": "Julia 1.6.2",
   "language": "julia",
   "name": "julia-1.6"
  },
  "language_info": {
   "file_extension": ".jl",
   "mimetype": "application/julia",
   "name": "julia",
   "version": "1.6.2"
  }
 },
 "nbformat": 4,
 "nbformat_minor": 5
}
