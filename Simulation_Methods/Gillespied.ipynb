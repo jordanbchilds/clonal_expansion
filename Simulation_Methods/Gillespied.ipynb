{
 "cells": [
  {
   "cell_type": "code",
   "execution_count": 1,
   "id": "80b6a2b5",
   "metadata": {},
   "outputs": [
    {
     "data": {
      "text/plain": [
       "\"A 1000 run of the gillespied function, with constant inputs \\n\""
      ]
     },
     "execution_count": 1,
     "metadata": {},
     "output_type": "execute_result"
    }
   ],
   "source": [
    "\"\"\"\n",
    "A 1000 run of the gillespied function, with constant inputs \n",
    "\"\"\""
   ]
  },
  {
   "cell_type": "code",
   "execution_count": 2,
   "id": "3d64947a",
   "metadata": {},
   "outputs": [],
   "source": [
    "using Distributed, Plots, DelimitedFiles, KernelDensity"
   ]
  },
  {
   "cell_type": "code",
   "execution_count": 3,
   "id": "5072c8e2",
   "metadata": {},
   "outputs": [],
   "source": [
    "length(Sys.cpu_info())\n",
    "addprocs(4) ;"
   ]
  },
  {
   "cell_type": "code",
   "execution_count": 4,
   "id": "3d3e7157",
   "metadata": {},
   "outputs": [],
   "source": [
    "@everywhere using Random, Distributions"
   ]
  },
  {
   "cell_type": "code",
   "execution_count": 5,
   "id": "7c011737",
   "metadata": {},
   "outputs": [],
   "source": [
    "@everywhere struct SPN\n",
    "    init::Vector{Real}\n",
    "    rates::Vector{Real}\n",
    "    Stoichiometry_matrix::Array{Real}\n",
    "    function SPN(init, rates, Stoichiometry_matrix)\n",
    "        new(init, rates, Stoichiometry_matrix)\n",
    "    end\n",
    "end"
   ]
  },
  {
   "cell_type": "code",
   "execution_count": 6,
   "id": "c61213d7",
   "metadata": {},
   "outputs": [],
   "source": [
    "@everywhere init(N::SPN) = Float64.(N.init)\n",
    "@everywhere rates(N::SPN) = Float64.(N.rates)\n",
    "@everywhere StoiMat(N::SPN) = Float64.(N.Stoichiometry_matrix)"
   ]
  },
  {
   "cell_type": "code",
   "execution_count": 7,
   "id": "c431ecf4",
   "metadata": {},
   "outputs": [],
   "source": [
    "@everywhere function hazard(x::Vector{Float64}, th::Vector{Float64}, error::Float64)::Vector{Float64}\n",
    "    k = th[1:5]\n",
    "    Kc = th[6:7]\n",
    "    if error>=0\n",
    "        # defining the k1, & k2 and then subbing them into a vecotr is WAY WAY quicker\n",
    "        # compared to calcing them in the vector\n",
    "        k1 = k[1]+error*Kc[1]\n",
    "        k2 = k[2]+error*Kc[1]\n",
    "        return [x[1], x[2], x[1], x[2], x[1]].*[k1, k2, k[3], k[4], k[5]]\n",
    "    else \n",
    "        k1 = 2*k[1]/(1+exp(-error*Kc[2]))\n",
    "        k2 = 2*k[2]/(1+exp(-error*Kc[2]))\n",
    "        return [x[1], x[2], x[1], x[2], x[1]].*[k1, k2, k[3], k[4], k[5]]\n",
    "    end\n",
    "end"
   ]
  },
  {
   "cell_type": "code",
   "execution_count": 8,
   "id": "c3e7795e",
   "metadata": {},
   "outputs": [],
   "source": [
    "@everywhere function hazzy(x::Vector{Float64}, th::Vector{Float64})::Vector{Float64}\n",
    "    return [x[1], x[2], x[1], x[2], x[1]].*th[1:5]\n",
    "end"
   ]
  },
  {
   "cell_type": "code",
   "execution_count": 9,
   "id": "dd80be78",
   "metadata": {},
   "outputs": [],
   "source": [
    "@everywhere const post = [[2,0,0,0,1] [0,2,0,0,1]]\n",
    "@everywhere const pre = [[1,0,1,0,1] [0,1,0,1,0]]\n",
    "@everywhere const S = post - pre\n",
    "@everywhere const k = [3.06e-8, 3.06e-8, 3.06e-8, 3.06e-8, 0.0, 8.99e-9, 2e-3];"
   ]
  },
  {
   "cell_type": "code",
   "execution_count": 10,
   "id": "dad7c8de",
   "metadata": {},
   "outputs": [],
   "source": [
    "@everywhere function gen_inits(μ::Real, σ::Real, α::Real, β::Real)::Vector{Float64}\n",
    "    CC = rand(Normal(μ, σ))\n",
    "    hh = rand(Beta(α, β))\n",
    "    return round.( [CC*(1-hh), CC*hh] )\n",
    "end"
   ]
  },
  {
   "cell_type": "code",
   "execution_count": 11,
   "id": "d8e85fc6",
   "metadata": {},
   "outputs": [],
   "source": [
    "@everywhere function trans_summ(popdym)\n",
    "    copy_num = popdym[:,1] .+ popdym[:,2]\n",
    "    \n",
    "    mut_load = Array{Union{Float64, Missing}}(undef, length(copy_num))\n",
    "    idx = copy_num .!= 0.0\n",
    "    mut_load[.!idx] .= missing\n",
    "    mut_load[idx] .=  popdym[idx,2] ./ copy_num[idx]\n",
    "    \n",
    "    return hcat(copy_num, mut_load)\n",
    "end"
   ]
  },
  {
   "cell_type": "code",
   "execution_count": 12,
   "id": "c370ee35",
   "metadata": {
    "scrolled": true
   },
   "outputs": [],
   "source": [
    "@everywhere function gillespied(N::SPN, Tmax::Real, dtout::Real)::Array{Union{Float64, Missing}}\n",
    "    k = rates(N)\n",
    "    x = init(N)\n",
    "    Nout = trunc(Int, Tmax/dtout)\n",
    "    S = StoiMat(N)\n",
    "    xmat = Array{Union{Float64, Missing}}(undef, (2,Nout+1))\n",
    "    xmat[:,1] = x\n",
    "    i = 1\n",
    "    tt = 0.0\n",
    "    target = 0.0\n",
    "    C0 = sum(x)\n",
    "    while i <= Nout\n",
    "        error = C0 - sum(x)\n",
    "        h = hazzy(x, k)\n",
    "        h0 = sum(h)\n",
    "        if h0<1e-10\n",
    "            xmat[:,i:(Nout+1)] = zeros(2,Nout-i+2)\n",
    "            return trans_summ(xmat')\n",
    "        else\n",
    "            Exp = Exponential(1/h0)\n",
    "            tt = tt + rand(Exp)\n",
    "        end\n",
    "        while tt>=target && i<=Nout\n",
    "            i += 1\n",
    "            xmat[:,i] = x\n",
    "            target += dtout\n",
    "        end\n",
    "        Cat = Categorical(h/h0)\n",
    "        r = rand(Cat)\n",
    "        x += S'[:,r]\n",
    "    end\n",
    "    return trans_summ(xmat')\n",
    "end"
   ]
  },
  {
   "cell_type": "code",
   "execution_count": 13,
   "id": "c6625d13",
   "metadata": {},
   "outputs": [],
   "source": [
    "@everywhere function quantiles(sims, p)\n",
    "    \"\"\"\n",
    "    returns quantile summaries from simulations\n",
    "    \"\"\"\n",
    "    Nsim = size(sims)[3] # Nsim: number of simulations\n",
    "    n = size(sims)[1] # length of one simulation\n",
    "    out = Array{Float64}(undef, n,length(p),2)\n",
    "    for t=1:n\n",
    "        out[t,:,1] = quantile(skipmissing([sims[t,1,i] for i=1:Nsim]), p)\n",
    "        out[t,:,2] = quantile(skipmissing([sims[t,2,i] for i=1:Nsim]), p)\n",
    "    end\n",
    "    out\n",
    "end"
   ]
  },
  {
   "cell_type": "code",
   "execution_count": 14,
   "id": "05a4d682",
   "metadata": {},
   "outputs": [],
   "source": [
    "Nsim = 1000\n",
    "Tmax = 80*365*24*3600\n",
    "step_out = 7*24*3600 ; "
   ]
  },
  {
   "cell_type": "code",
   "execution_count": 15,
   "id": "7d887182",
   "metadata": {},
   "outputs": [
    {
     "name": "stdout",
     "output_type": "stream",
     "text": [
      "  1.210985 seconds (4.55 M allocations: 279.033 MiB, 4.49% gc time, 97.44% compilation time)\n"
     ]
    },
    {
     "data": {
      "text/plain": [
       "\"a single run takes ~0.03 seconds\\n\""
      ]
     },
     "execution_count": 15,
     "metadata": {},
     "output_type": "execute_result"
    }
   ],
   "source": [
    "Ntest = SPN([100,100], k, S)\n",
    "@time gillespied(Ntest, Tmax, step_out);\n",
    "\"\"\"\n",
    "a single run takes ~0.03 seconds\n",
    "\"\"\""
   ]
  },
  {
   "cell_type": "code",
   "execution_count": 16,
   "id": "61b85bf0",
   "metadata": {},
   "outputs": [
    {
     "data": {
      "text/plain": [
       "\"simulations_single = Array{Float64}(undef, n(Ntest), 2, Nsim)\\n@time for i=1:Nsim\\n    simulations_single[:,:,i] = gillespied(Ntest)\\nend\\nThis is a lot slower (doubly slow) than the previous version without the SPN structure\\nFor 1000 simulations 26.536 seconds\\n\""
      ]
     },
     "execution_count": 16,
     "metadata": {},
     "output_type": "execute_result"
    }
   ],
   "source": [
    "\"\"\"\n",
    "simulations_single = Array{Float64}(undef, n(Ntest), 2, Nsim)\n",
    "@time for i=1:Nsim\n",
    "    simulations_single[:,:,i] = gillespied(Ntest)\n",
    "end\n",
    "This is a lot slower (doubly slow) than the previous version without the SPN structure\n",
    "For 1000 simulations 26.536 seconds\n",
    "\"\"\""
   ]
  },
  {
   "cell_type": "code",
   "execution_count": 17,
   "id": "162395a9",
   "metadata": {},
   "outputs": [],
   "source": [
    "#summ_single = raw_to_summ(simulations_single);\n",
    "#qnts_single = quantiles(summ_single, [0.025,0.1,0.5,0.9,0.975]) ;"
   ]
  },
  {
   "cell_type": "code",
   "execution_count": 18,
   "id": "d4bdb917",
   "metadata": {},
   "outputs": [],
   "source": [
    "# The arguments are: 1) a function 'f' and 2) a list with the input.\n",
    "@everywhere function par_map(Nsim, f, SPN, Tmax, dtout)\n",
    "    np = nworkers()            # Number of processes available.\n",
    "    Nout = trunc(Int, Tmax/dtout) + 1 # dimension for output\n",
    "    output = Array{Union{Float64, Missing}}(undef, Nout,2,Nsim) # Where we will write the results. As we do not know\n",
    "                             # the type (Integer, Tuple...) we write \"Any\"\n",
    "    i = 1\n",
    "    nextidx() = (idx = i; i += 1; idx) # Function to know which is the next work item.\n",
    "                                       # In this case it is just an index.\n",
    "    @sync begin #@sync: must complete all jobs in block\n",
    "        for p = 1:np # loops through all processes (workers)\n",
    "            if p != myid() || np == 1 # first worker used only if all others are busy \n",
    "                @async begin # launch several tasks simultaneaously\n",
    "                    while true\n",
    "                        idx = nextidx()\n",
    "                        if idx > Nsim\n",
    "                            break\n",
    "                        end\n",
    "                        output[:,:,idx] = remotecall_fetch(f, p, SPN, Tmax, dtout)\n",
    "                    end\n",
    "                end\n",
    "            end\n",
    "        end\n",
    "    end\n",
    "    output\n",
    "end"
   ]
  },
  {
   "cell_type": "code",
   "execution_count": 19,
   "id": "f2d9708d",
   "metadata": {},
   "outputs": [
    {
     "name": "stdout",
     "output_type": "stream",
     "text": [
      "  9.239774 seconds (25.27 M allocations: 624.781 MiB, 2.98% gc time, 2.55% compilation time)\n"
     ]
    },
    {
     "data": {
      "text/plain": [
       "\"simple simulation: ~ 7.5 seconds\\n4 workers, 1000 simulations\\n\""
      ]
     },
     "execution_count": 19,
     "metadata": {},
     "output_type": "execute_result"
    }
   ],
   "source": [
    "@time simulations = par_map(Nsim, gillespied, Ntest, Tmax, step_out) ;\n",
    "\"\"\"\n",
    "simple simulation: ~ 7.5 seconds\n",
    "4 workers, 1000 simulations\n",
    "\"\"\""
   ]
  },
  {
   "cell_type": "code",
   "execution_count": 20,
   "id": "bd17d669",
   "metadata": {},
   "outputs": [],
   "source": [
    "sims_qntl = quantiles(simulations, [0.025,0.25,0.5,0.75,0.975]) ;"
   ]
  },
  {
   "cell_type": "code",
   "execution_count": 21,
   "id": "e9d252dd",
   "metadata": {},
   "outputs": [
    {
     "data": {
      "text/plain": [
       "\"Simulations\""
      ]
     },
     "execution_count": 21,
     "metadata": {},
     "output_type": "execute_result"
    }
   ],
   "source": [
    "mkpath(\"Simulations\")"
   ]
  },
  {
   "cell_type": "code",
   "execution_count": 22,
   "id": "50a60b8a",
   "metadata": {},
   "outputs": [],
   "source": [
    "writedlm(\"Simulations/CN_qnt_gill_jl.txt\", sims_qntl[:,:,1])\n",
    "writedlm(\"Simulations/ML_qnt_gill_jl.txt\", sims_qntl[:,:,2])"
   ]
  },
  {
   "cell_type": "code",
   "execution_count": 23,
   "id": "6f80f8d2",
   "metadata": {},
   "outputs": [
    {
     "data": {
      "text/plain": [
       "distributions_t (generic function with 1 method)"
      ]
     },
     "execution_count": 23,
     "metadata": {},
     "output_type": "execute_result"
    }
   ],
   "source": [
    "function distributions_t(sims, t, Tsim, δt)\n",
    "    t_tot = [δt:δt:Tsim;]\n",
    "    Nsim = size(sims)[3]\n",
    "    nt = length(t)\n",
    "    sim_t = Array{Float64}(undef, Nsim,nt,2)\n",
    "    for i=1:Nsim\n",
    "        for j=1:nt\n",
    "            sim_t[i,j,1] = sims[findall(x->x==t[j], t_tot),1,i][1]\n",
    "            sim_t[i,j,2] = sims[findall(x->x==t[j], t_tot),2,i][1]\n",
    "        end\n",
    "    end\n",
    "    sim_t\n",
    "end\n"
   ]
  },
  {
   "cell_type": "code",
   "execution_count": 24,
   "id": "02558d6f",
   "metadata": {},
   "outputs": [
    {
     "ename": "LoadError",
     "evalue": "BoundsError: attempt to access 0-element Vector{Union{Missing, Float64}} at index [1]",
     "output_type": "error",
     "traceback": [
      "BoundsError: attempt to access 0-element Vector{Union{Missing, Float64}} at index [1]",
      "",
      "Stacktrace:",
      " [1] getindex",
      "   @ ./array.jl:801 [inlined]",
      " [2] distributions_t(sims::Array{Union{Missing, Float64}, 3}, t::Vector{Int64}, Tsim::Int64, δt::Int64)",
      "   @ Main ./In[23]:8",
      " [3] top-level scope",
      "   @ In[24]:1",
      " [4] eval",
      "   @ ./boot.jl:360 [inlined]",
      " [5] include_string(mapexpr::typeof(REPL.softscope), mod::Module, code::String, filename::String)",
      "   @ Base ./loading.jl:1116"
     ]
    }
   ],
   "source": [
    "dist_sims = distributions_t(simulations, [10:10:80;]*365*24*3600, Tmax, step_out) ; "
   ]
  },
  {
   "cell_type": "code",
   "execution_count": 25,
   "id": "2c57c757",
   "metadata": {},
   "outputs": [
    {
     "ename": "LoadError",
     "evalue": "UndefVarError: dist_sims not defined",
     "output_type": "error",
     "traceback": [
      "UndefVarError: dist_sims not defined",
      "",
      "Stacktrace:",
      " [1] top-level scope",
      "   @ In[25]:1",
      " [2] eval",
      "   @ ./boot.jl:360 [inlined]",
      " [3] include_string(mapexpr::typeof(REPL.softscope), mod::Module, code::String, filename::String)",
      "   @ Base ./loading.jl:1116"
     ]
    }
   ],
   "source": [
    "writedlm(\"Simulations/CN_ts_gill_jl.txt\", dist_sims[:,:,1])\n",
    "writedlm(\"Simulations/ML_ts_gill_jl.txt\", dist_sims[:,:,2])"
   ]
  },
  {
   "cell_type": "code",
   "execution_count": null,
   "id": "e95c1115",
   "metadata": {},
   "outputs": [],
   "source": []
  },
  {
   "cell_type": "code",
   "execution_count": 26,
   "id": "6191aea1",
   "metadata": {},
   "outputs": [
    {
     "data": {
      "text/plain": [
       "\"Time taken \\n\""
      ]
     },
     "execution_count": 26,
     "metadata": {},
     "output_type": "execute_result"
    }
   ],
   "source": [
    "\"\"\"\n",
    "Time taken \n",
    "\"\"\""
   ]
  },
  {
   "cell_type": "code",
   "execution_count": 27,
   "id": "cfaedb60",
   "metadata": {},
   "outputs": [],
   "source": [
    "@everywhere function par_times(Nsim, f, SPN, Tmax, dtout)\n",
    "    np = nworkers()            # Number of processes available.\n",
    "    Nout = trunc(Int, Tmax/dtout) + 1 # dimension for output\n",
    "    output = Array{Float64}(undef, Nsim) # Where we will write the results. As we do not know\n",
    "                             # the type (Integer, Tuple...) we write \"Any\"\n",
    "    i = 1\n",
    "    nextidx() = (idx = i; i += 1; idx) # Function to know which is the next work item.\n",
    "                                       # In this case it is just an index.\n",
    "    @sync begin #@sync: must complete all jobs in block\n",
    "        for p = 1:np # loops through all processes (workers)\n",
    "            if p != myid() || np == 1 # first worker used only if all others are busy \n",
    "                @async begin # launch several tasks simultaneaously\n",
    "                    while true\n",
    "                        idx = nextidx()\n",
    "                        if idx > Nsim\n",
    "                            break\n",
    "                        end\n",
    "                        output[idx] = @elapsed remotecall_fetch(f, p, SPN, Tmax, dtout)\n",
    "                    end\n",
    "                end\n",
    "            end\n",
    "        end\n",
    "    end\n",
    "    output\n",
    "end"
   ]
  },
  {
   "cell_type": "code",
   "execution_count": 34,
   "id": "291c4da7",
   "metadata": {},
   "outputs": [],
   "source": [
    "sim_times = par_times(Nsim, gillespied, Ntest, Tmax, step_out) \n",
    "\n",
    "mkpath(\"Simulations\")\n",
    "writedlm(\"Simulations/gill_times.txt\", sim_times)"
   ]
  },
  {
   "cell_type": "code",
   "execution_count": 33,
   "id": "7decb396",
   "metadata": {},
   "outputs": [
    {
     "data": {
      "text/plain": [
       "1000-element Vector{Float64}:\n",
       " 0.024151583\n",
       " 0.033378083\n",
       " 0.022837\n",
       " 0.034780042\n",
       " 0.015500166\n",
       " 0.019295167\n",
       " 0.014358416\n",
       " 0.021456125\n",
       " 0.013232792\n",
       " 0.028529\n",
       " 0.028579292\n",
       " 0.018785167\n",
       " 0.02058825\n",
       " ⋮\n",
       " 0.0176225\n",
       " 0.024025875\n",
       " 0.021097042\n",
       " 0.014083125\n",
       " 0.014529208\n",
       " 0.008338791\n",
       " 0.0099585\n",
       " 0.021572041\n",
       " 0.027951792\n",
       " 0.014038375\n",
       " 0.045728417\n",
       " 0.011583375"
      ]
     },
     "execution_count": 33,
     "metadata": {},
     "output_type": "execute_result"
    }
   ],
   "source": [
    "sim_times"
   ]
  },
  {
   "cell_type": "code",
   "execution_count": 31,
   "id": "9f9eb612",
   "metadata": {},
   "outputs": [],
   "source": [
    "dens = kde(sim_times)\n",
    "density_points = hcat(dens.x, dens.density) ;"
   ]
  },
  {
   "cell_type": "code",
   "execution_count": 32,
   "id": "3e55eca3",
   "metadata": {},
   "outputs": [
    {
     "data": {
      "image/svg+xml": [
       "<?xml version=\"1.0\" encoding=\"utf-8\"?>\n",
       "<svg xmlns=\"http://www.w3.org/2000/svg\" xmlns:xlink=\"http://www.w3.org/1999/xlink\" width=\"600\" height=\"400\" viewBox=\"0 0 2400 1600\">\n",
       "<defs>\n",
       "  <clipPath id=\"clip000\">\n",
       "    <rect x=\"0\" y=\"0\" width=\"2400\" height=\"1600\"/>\n",
       "  </clipPath>\n",
       "</defs>\n",
       "<path clip-path=\"url(#clip000)\" d=\"\n",
       "M0 1600 L2400 1600 L2400 0 L0 0  Z\n",
       "  \" fill=\"#ffffff\" fill-rule=\"evenodd\" fill-opacity=\"1\"/>\n",
       "<defs>\n",
       "  <clipPath id=\"clip001\">\n",
       "    <rect x=\"480\" y=\"0\" width=\"1681\" height=\"1600\"/>\n",
       "  </clipPath>\n",
       "</defs>\n",
       "<path clip-path=\"url(#clip000)\" d=\"\n",
       "M141.853 1486.45 L2352.76 1486.45 L2352.76 123.472 L141.853 123.472  Z\n",
       "  \" fill=\"#ffffff\" fill-rule=\"evenodd\" fill-opacity=\"1\"/>\n",
       "<defs>\n",
       "  <clipPath id=\"clip002\">\n",
       "    <rect x=\"141\" y=\"123\" width=\"2212\" height=\"1364\"/>\n",
       "  </clipPath>\n",
       "</defs>\n",
       "<polyline clip-path=\"url(#clip002)\" style=\"stroke:#000000; stroke-linecap:butt; stroke-linejoin:round; stroke-width:2; stroke-opacity:0.1; fill:none\" points=\"\n",
       "  325.786,1486.45 325.786,123.472 \n",
       "  \"/>\n",
       "<polyline clip-path=\"url(#clip002)\" style=\"stroke:#000000; stroke-linecap:butt; stroke-linejoin:round; stroke-width:2; stroke-opacity:0.1; fill:none\" points=\"\n",
       "  891.175,1486.45 891.175,123.472 \n",
       "  \"/>\n",
       "<polyline clip-path=\"url(#clip002)\" style=\"stroke:#000000; stroke-linecap:butt; stroke-linejoin:round; stroke-width:2; stroke-opacity:0.1; fill:none\" points=\"\n",
       "  1456.56,1486.45 1456.56,123.472 \n",
       "  \"/>\n",
       "<polyline clip-path=\"url(#clip002)\" style=\"stroke:#000000; stroke-linecap:butt; stroke-linejoin:round; stroke-width:2; stroke-opacity:0.1; fill:none\" points=\"\n",
       "  2021.95,1486.45 2021.95,123.472 \n",
       "  \"/>\n",
       "<polyline clip-path=\"url(#clip000)\" style=\"stroke:#000000; stroke-linecap:butt; stroke-linejoin:round; stroke-width:4; stroke-opacity:1; fill:none\" points=\"\n",
       "  141.853,1486.45 2352.76,1486.45 \n",
       "  \"/>\n",
       "<polyline clip-path=\"url(#clip000)\" style=\"stroke:#000000; stroke-linecap:butt; stroke-linejoin:round; stroke-width:4; stroke-opacity:1; fill:none\" points=\"\n",
       "  325.786,1486.45 325.786,1467.55 \n",
       "  \"/>\n",
       "<polyline clip-path=\"url(#clip000)\" style=\"stroke:#000000; stroke-linecap:butt; stroke-linejoin:round; stroke-width:4; stroke-opacity:1; fill:none\" points=\"\n",
       "  891.175,1486.45 891.175,1467.55 \n",
       "  \"/>\n",
       "<polyline clip-path=\"url(#clip000)\" style=\"stroke:#000000; stroke-linecap:butt; stroke-linejoin:round; stroke-width:4; stroke-opacity:1; fill:none\" points=\"\n",
       "  1456.56,1486.45 1456.56,1467.55 \n",
       "  \"/>\n",
       "<polyline clip-path=\"url(#clip000)\" style=\"stroke:#000000; stroke-linecap:butt; stroke-linejoin:round; stroke-width:4; stroke-opacity:1; fill:none\" points=\"\n",
       "  2021.95,1486.45 2021.95,1467.55 \n",
       "  \"/>\n",
       "<path clip-path=\"url(#clip000)\" d=\"M288.09 1517.37 Q284.479 1517.37 282.65 1520.93 Q280.844 1524.47 280.844 1531.6 Q280.844 1538.71 282.65 1542.27 Q284.479 1545.82 288.09 1545.82 Q291.724 1545.82 293.529 1542.27 Q295.358 1538.71 295.358 1531.6 Q295.358 1524.47 293.529 1520.93 Q291.724 1517.37 288.09 1517.37 M288.09 1513.66 Q293.9 1513.66 296.955 1518.27 Q300.034 1522.85 300.034 1531.6 Q300.034 1540.33 296.955 1544.94 Q293.9 1549.52 288.09 1549.52 Q282.279 1549.52 279.201 1544.94 Q276.145 1540.33 276.145 1531.6 Q276.145 1522.85 279.201 1518.27 Q282.279 1513.66 288.09 1513.66 Z\" fill=\"#000000\" fill-rule=\"evenodd\" fill-opacity=\"1\" /><path clip-path=\"url(#clip000)\" d=\"M308.252 1542.97 L313.136 1542.97 L313.136 1548.85 L308.252 1548.85 L308.252 1542.97 Z\" fill=\"#000000\" fill-rule=\"evenodd\" fill-opacity=\"1\" /><path clip-path=\"url(#clip000)\" d=\"M333.321 1517.37 Q329.71 1517.37 327.881 1520.93 Q326.076 1524.47 326.076 1531.6 Q326.076 1538.71 327.881 1542.27 Q329.71 1545.82 333.321 1545.82 Q336.955 1545.82 338.761 1542.27 Q340.589 1538.71 340.589 1531.6 Q340.589 1524.47 338.761 1520.93 Q336.955 1517.37 333.321 1517.37 M333.321 1513.66 Q339.131 1513.66 342.187 1518.27 Q345.265 1522.85 345.265 1531.6 Q345.265 1540.33 342.187 1544.94 Q339.131 1549.52 333.321 1549.52 Q327.511 1549.52 324.432 1544.94 Q321.377 1540.33 321.377 1531.6 Q321.377 1522.85 324.432 1518.27 Q327.511 1513.66 333.321 1513.66 Z\" fill=\"#000000\" fill-rule=\"evenodd\" fill-opacity=\"1\" /><path clip-path=\"url(#clip000)\" d=\"M363.483 1517.37 Q359.872 1517.37 358.043 1520.93 Q356.237 1524.47 356.237 1531.6 Q356.237 1538.71 358.043 1542.27 Q359.872 1545.82 363.483 1545.82 Q367.117 1545.82 368.923 1542.27 Q370.751 1538.71 370.751 1531.6 Q370.751 1524.47 368.923 1520.93 Q367.117 1517.37 363.483 1517.37 M363.483 1513.66 Q369.293 1513.66 372.348 1518.27 Q375.427 1522.85 375.427 1531.6 Q375.427 1540.33 372.348 1544.94 Q369.293 1549.52 363.483 1549.52 Q357.673 1549.52 354.594 1544.94 Q351.538 1540.33 351.538 1531.6 Q351.538 1522.85 354.594 1518.27 Q357.673 1513.66 363.483 1513.66 Z\" fill=\"#000000\" fill-rule=\"evenodd\" fill-opacity=\"1\" /><path clip-path=\"url(#clip000)\" d=\"M854.277 1517.37 Q850.666 1517.37 848.837 1520.93 Q847.031 1524.47 847.031 1531.6 Q847.031 1538.71 848.837 1542.27 Q850.666 1545.82 854.277 1545.82 Q857.911 1545.82 859.716 1542.27 Q861.545 1538.71 861.545 1531.6 Q861.545 1524.47 859.716 1520.93 Q857.911 1517.37 854.277 1517.37 M854.277 1513.66 Q860.087 1513.66 863.142 1518.27 Q866.221 1522.85 866.221 1531.6 Q866.221 1540.33 863.142 1544.94 Q860.087 1549.52 854.277 1549.52 Q848.466 1549.52 845.388 1544.94 Q842.332 1540.33 842.332 1531.6 Q842.332 1522.85 845.388 1518.27 Q848.466 1513.66 854.277 1513.66 Z\" fill=\"#000000\" fill-rule=\"evenodd\" fill-opacity=\"1\" /><path clip-path=\"url(#clip000)\" d=\"M874.439 1542.97 L879.323 1542.97 L879.323 1548.85 L874.439 1548.85 L874.439 1542.97 Z\" fill=\"#000000\" fill-rule=\"evenodd\" fill-opacity=\"1\" /><path clip-path=\"url(#clip000)\" d=\"M899.508 1517.37 Q895.897 1517.37 894.068 1520.93 Q892.263 1524.47 892.263 1531.6 Q892.263 1538.71 894.068 1542.27 Q895.897 1545.82 899.508 1545.82 Q903.142 1545.82 904.948 1542.27 Q906.776 1538.71 906.776 1531.6 Q906.776 1524.47 904.948 1520.93 Q903.142 1517.37 899.508 1517.37 M899.508 1513.66 Q905.318 1513.66 908.374 1518.27 Q911.452 1522.85 911.452 1531.6 Q911.452 1540.33 908.374 1544.94 Q905.318 1549.52 899.508 1549.52 Q893.698 1549.52 890.619 1544.94 Q887.563 1540.33 887.563 1531.6 Q887.563 1522.85 890.619 1518.27 Q893.698 1513.66 899.508 1513.66 Z\" fill=\"#000000\" fill-rule=\"evenodd\" fill-opacity=\"1\" /><path clip-path=\"url(#clip000)\" d=\"M923.698 1544.91 L940.017 1544.91 L940.017 1548.85 L918.073 1548.85 L918.073 1544.91 Q920.735 1542.16 925.318 1537.53 Q929.924 1532.88 931.105 1531.53 Q933.35 1529.01 934.23 1527.27 Q935.133 1525.51 935.133 1523.82 Q935.133 1521.07 933.188 1519.33 Q931.267 1517.6 928.165 1517.6 Q925.966 1517.6 923.512 1518.36 Q921.082 1519.13 918.304 1520.68 L918.304 1515.95 Q921.128 1514.82 923.582 1514.24 Q926.035 1513.66 928.073 1513.66 Q933.443 1513.66 936.637 1516.35 Q939.832 1519.03 939.832 1523.52 Q939.832 1525.65 939.022 1527.57 Q938.234 1529.47 936.128 1532.07 Q935.549 1532.74 932.447 1535.95 Q929.346 1539.15 923.698 1544.91 Z\" fill=\"#000000\" fill-rule=\"evenodd\" fill-opacity=\"1\" /><path clip-path=\"url(#clip000)\" d=\"M1418.62 1517.37 Q1415.01 1517.37 1413.18 1520.93 Q1411.38 1524.47 1411.38 1531.6 Q1411.38 1538.71 1413.18 1542.27 Q1415.01 1545.82 1418.62 1545.82 Q1422.26 1545.82 1424.06 1542.27 Q1425.89 1538.71 1425.89 1531.6 Q1425.89 1524.47 1424.06 1520.93 Q1422.26 1517.37 1418.62 1517.37 M1418.62 1513.66 Q1424.43 1513.66 1427.49 1518.27 Q1430.57 1522.85 1430.57 1531.6 Q1430.57 1540.33 1427.49 1544.94 Q1424.43 1549.52 1418.62 1549.52 Q1412.81 1549.52 1409.73 1544.94 Q1406.68 1540.33 1406.68 1531.6 Q1406.68 1522.85 1409.73 1518.27 Q1412.81 1513.66 1418.62 1513.66 Z\" fill=\"#000000\" fill-rule=\"evenodd\" fill-opacity=\"1\" /><path clip-path=\"url(#clip000)\" d=\"M1438.79 1542.97 L1443.67 1542.97 L1443.67 1548.85 L1438.79 1548.85 L1438.79 1542.97 Z\" fill=\"#000000\" fill-rule=\"evenodd\" fill-opacity=\"1\" /><path clip-path=\"url(#clip000)\" d=\"M1463.85 1517.37 Q1460.24 1517.37 1458.41 1520.93 Q1456.61 1524.47 1456.61 1531.6 Q1456.61 1538.71 1458.41 1542.27 Q1460.24 1545.82 1463.85 1545.82 Q1467.49 1545.82 1469.29 1542.27 Q1471.12 1538.71 1471.12 1531.6 Q1471.12 1524.47 1469.29 1520.93 Q1467.49 1517.37 1463.85 1517.37 M1463.85 1513.66 Q1469.66 1513.66 1472.72 1518.27 Q1475.8 1522.85 1475.8 1531.6 Q1475.8 1540.33 1472.72 1544.94 Q1469.66 1549.52 1463.85 1549.52 Q1458.04 1549.52 1454.97 1544.94 Q1451.91 1540.33 1451.91 1531.6 Q1451.91 1522.85 1454.97 1518.27 Q1458.04 1513.66 1463.85 1513.66 Z\" fill=\"#000000\" fill-rule=\"evenodd\" fill-opacity=\"1\" /><path clip-path=\"url(#clip000)\" d=\"M1496.86 1518.36 L1485.06 1536.81 L1496.86 1536.81 L1496.86 1518.36 M1495.64 1514.29 L1501.52 1514.29 L1501.52 1536.81 L1506.45 1536.81 L1506.45 1540.7 L1501.52 1540.7 L1501.52 1548.85 L1496.86 1548.85 L1496.86 1540.7 L1481.26 1540.7 L1481.26 1536.19 L1495.64 1514.29 Z\" fill=\"#000000\" fill-rule=\"evenodd\" fill-opacity=\"1\" /><path clip-path=\"url(#clip000)\" d=\"M1984.17 1517.37 Q1980.56 1517.37 1978.73 1520.93 Q1976.93 1524.47 1976.93 1531.6 Q1976.93 1538.71 1978.73 1542.27 Q1980.56 1545.82 1984.17 1545.82 Q1987.81 1545.82 1989.61 1542.27 Q1991.44 1538.71 1991.44 1531.6 Q1991.44 1524.47 1989.61 1520.93 Q1987.81 1517.37 1984.17 1517.37 M1984.17 1513.66 Q1989.98 1513.66 1993.04 1518.27 Q1996.12 1522.85 1996.12 1531.6 Q1996.12 1540.33 1993.04 1544.94 Q1989.98 1549.52 1984.17 1549.52 Q1978.36 1549.52 1975.28 1544.94 Q1972.23 1540.33 1972.23 1531.6 Q1972.23 1522.85 1975.28 1518.27 Q1978.36 1513.66 1984.17 1513.66 Z\" fill=\"#000000\" fill-rule=\"evenodd\" fill-opacity=\"1\" /><path clip-path=\"url(#clip000)\" d=\"M2004.34 1542.97 L2009.22 1542.97 L2009.22 1548.85 L2004.34 1548.85 L2004.34 1542.97 Z\" fill=\"#000000\" fill-rule=\"evenodd\" fill-opacity=\"1\" /><path clip-path=\"url(#clip000)\" d=\"M2029.4 1517.37 Q2025.79 1517.37 2023.97 1520.93 Q2022.16 1524.47 2022.16 1531.6 Q2022.16 1538.71 2023.97 1542.27 Q2025.79 1545.82 2029.4 1545.82 Q2033.04 1545.82 2034.84 1542.27 Q2036.67 1538.71 2036.67 1531.6 Q2036.67 1524.47 2034.84 1520.93 Q2033.04 1517.37 2029.4 1517.37 M2029.4 1513.66 Q2035.22 1513.66 2038.27 1518.27 Q2041.35 1522.85 2041.35 1531.6 Q2041.35 1540.33 2038.27 1544.94 Q2035.22 1549.52 2029.4 1549.52 Q2023.59 1549.52 2020.52 1544.94 Q2017.46 1540.33 2017.46 1531.6 Q2017.46 1522.85 2020.52 1518.27 Q2023.59 1513.66 2029.4 1513.66 Z\" fill=\"#000000\" fill-rule=\"evenodd\" fill-opacity=\"1\" /><path clip-path=\"url(#clip000)\" d=\"M2060.15 1529.7 Q2057 1529.7 2055.15 1531.86 Q2053.32 1534.01 2053.32 1537.76 Q2053.32 1541.49 2055.15 1543.66 Q2057 1545.82 2060.15 1545.82 Q2063.29 1545.82 2065.12 1543.66 Q2066.97 1541.49 2066.97 1537.76 Q2066.97 1534.01 2065.12 1531.86 Q2063.29 1529.7 2060.15 1529.7 M2069.43 1515.05 L2069.43 1519.31 Q2067.67 1518.48 2065.86 1518.04 Q2064.08 1517.6 2062.32 1517.6 Q2057.69 1517.6 2055.24 1520.72 Q2052.81 1523.85 2052.46 1530.17 Q2053.83 1528.15 2055.89 1527.09 Q2057.95 1526 2060.42 1526 Q2065.63 1526 2068.64 1529.17 Q2071.67 1532.32 2071.67 1537.76 Q2071.67 1543.08 2068.53 1546.3 Q2065.38 1549.52 2060.15 1549.52 Q2054.15 1549.52 2050.98 1544.94 Q2047.81 1540.33 2047.81 1531.6 Q2047.81 1523.41 2051.7 1518.55 Q2055.59 1513.66 2062.14 1513.66 Q2063.9 1513.66 2065.68 1514.01 Q2067.48 1514.36 2069.43 1515.05 Z\" fill=\"#000000\" fill-rule=\"evenodd\" fill-opacity=\"1\" /><polyline clip-path=\"url(#clip002)\" style=\"stroke:#000000; stroke-linecap:butt; stroke-linejoin:round; stroke-width:2; stroke-opacity:0.1; fill:none\" points=\"\n",
       "  141.853,1447.88 2352.76,1447.88 \n",
       "  \"/>\n",
       "<polyline clip-path=\"url(#clip002)\" style=\"stroke:#000000; stroke-linecap:butt; stroke-linejoin:round; stroke-width:2; stroke-opacity:0.1; fill:none\" points=\"\n",
       "  141.853,1151.63 2352.76,1151.63 \n",
       "  \"/>\n",
       "<polyline clip-path=\"url(#clip002)\" style=\"stroke:#000000; stroke-linecap:butt; stroke-linejoin:round; stroke-width:2; stroke-opacity:0.1; fill:none\" points=\"\n",
       "  141.853,855.376 2352.76,855.376 \n",
       "  \"/>\n",
       "<polyline clip-path=\"url(#clip002)\" style=\"stroke:#000000; stroke-linecap:butt; stroke-linejoin:round; stroke-width:2; stroke-opacity:0.1; fill:none\" points=\"\n",
       "  141.853,559.125 2352.76,559.125 \n",
       "  \"/>\n",
       "<polyline clip-path=\"url(#clip002)\" style=\"stroke:#000000; stroke-linecap:butt; stroke-linejoin:round; stroke-width:2; stroke-opacity:0.1; fill:none\" points=\"\n",
       "  141.853,262.873 2352.76,262.873 \n",
       "  \"/>\n",
       "<polyline clip-path=\"url(#clip000)\" style=\"stroke:#000000; stroke-linecap:butt; stroke-linejoin:round; stroke-width:4; stroke-opacity:1; fill:none\" points=\"\n",
       "  141.853,1486.45 141.853,123.472 \n",
       "  \"/>\n",
       "<polyline clip-path=\"url(#clip000)\" style=\"stroke:#000000; stroke-linecap:butt; stroke-linejoin:round; stroke-width:4; stroke-opacity:1; fill:none\" points=\"\n",
       "  141.853,1447.88 160.751,1447.88 \n",
       "  \"/>\n",
       "<polyline clip-path=\"url(#clip000)\" style=\"stroke:#000000; stroke-linecap:butt; stroke-linejoin:round; stroke-width:4; stroke-opacity:1; fill:none\" points=\"\n",
       "  141.853,1151.63 160.751,1151.63 \n",
       "  \"/>\n",
       "<polyline clip-path=\"url(#clip000)\" style=\"stroke:#000000; stroke-linecap:butt; stroke-linejoin:round; stroke-width:4; stroke-opacity:1; fill:none\" points=\"\n",
       "  141.853,855.376 160.751,855.376 \n",
       "  \"/>\n",
       "<polyline clip-path=\"url(#clip000)\" style=\"stroke:#000000; stroke-linecap:butt; stroke-linejoin:round; stroke-width:4; stroke-opacity:1; fill:none\" points=\"\n",
       "  141.853,559.125 160.751,559.125 \n",
       "  \"/>\n",
       "<polyline clip-path=\"url(#clip000)\" style=\"stroke:#000000; stroke-linecap:butt; stroke-linejoin:round; stroke-width:4; stroke-opacity:1; fill:none\" points=\"\n",
       "  141.853,262.873 160.751,262.873 \n",
       "  \"/>\n",
       "<path clip-path=\"url(#clip000)\" d=\"M93.9086 1433.68 Q90.2975 1433.68 88.4688 1437.24 Q86.6632 1440.78 86.6632 1447.91 Q86.6632 1455.02 88.4688 1458.59 Q90.2975 1462.13 93.9086 1462.13 Q97.5428 1462.13 99.3483 1458.59 Q101.177 1455.02 101.177 1447.91 Q101.177 1440.78 99.3483 1437.24 Q97.5428 1433.68 93.9086 1433.68 M93.9086 1429.97 Q99.7187 1429.97 102.774 1434.58 Q105.853 1439.16 105.853 1447.91 Q105.853 1456.64 102.774 1461.25 Q99.7187 1465.83 93.9086 1465.83 Q88.0984 1465.83 85.0197 1461.25 Q81.9642 1456.64 81.9642 1447.91 Q81.9642 1439.16 85.0197 1434.58 Q88.0984 1429.97 93.9086 1429.97 Z\" fill=\"#000000\" fill-rule=\"evenodd\" fill-opacity=\"1\" /><path clip-path=\"url(#clip000)\" d=\"M54.5569 1164.97 L62.1958 1164.97 L62.1958 1138.61 L53.8856 1140.27 L53.8856 1136.01 L62.1495 1134.35 L66.8254 1134.35 L66.8254 1164.97 L74.4642 1164.97 L74.4642 1168.91 L54.5569 1168.91 L54.5569 1164.97 Z\" fill=\"#000000\" fill-rule=\"evenodd\" fill-opacity=\"1\" /><path clip-path=\"url(#clip000)\" d=\"M93.9086 1137.43 Q90.2975 1137.43 88.4688 1140.99 Q86.6632 1144.53 86.6632 1151.66 Q86.6632 1158.77 88.4688 1162.33 Q90.2975 1165.88 93.9086 1165.88 Q97.5428 1165.88 99.3483 1162.33 Q101.177 1158.77 101.177 1151.66 Q101.177 1144.53 99.3483 1140.99 Q97.5428 1137.43 93.9086 1137.43 M93.9086 1133.72 Q99.7187 1133.72 102.774 1138.33 Q105.853 1142.91 105.853 1151.66 Q105.853 1160.39 102.774 1165 Q99.7187 1169.58 93.9086 1169.58 Q88.0984 1169.58 85.0197 1165 Q81.9642 1160.39 81.9642 1151.66 Q81.9642 1142.91 85.0197 1138.33 Q88.0984 1133.72 93.9086 1133.72 Z\" fill=\"#000000\" fill-rule=\"evenodd\" fill-opacity=\"1\" /><path clip-path=\"url(#clip000)\" d=\"M57.7745 868.721 L74.0939 868.721 L74.0939 872.656 L52.1495 872.656 L52.1495 868.721 Q54.8115 865.967 59.3949 861.337 Q64.0013 856.684 65.1819 855.342 Q67.4272 852.818 68.3068 851.082 Q69.2096 849.323 69.2096 847.633 Q69.2096 844.879 67.2652 843.143 Q65.3439 841.406 62.2421 841.406 Q60.043 841.406 57.5893 842.17 Q55.1588 842.934 52.381 844.485 L52.381 839.763 Q55.2051 838.629 57.6588 838.05 Q60.1124 837.471 62.1495 837.471 Q67.5198 837.471 70.7142 840.156 Q73.9087 842.842 73.9087 847.332 Q73.9087 849.462 73.0985 851.383 Q72.3115 853.281 70.205 855.874 Q69.6263 856.545 66.5245 859.763 Q63.4226 862.957 57.7745 868.721 Z\" fill=\"#000000\" fill-rule=\"evenodd\" fill-opacity=\"1\" /><path clip-path=\"url(#clip000)\" d=\"M93.9086 841.175 Q90.2975 841.175 88.4688 844.74 Q86.6632 848.281 86.6632 855.411 Q86.6632 862.517 88.4688 866.082 Q90.2975 869.624 93.9086 869.624 Q97.5428 869.624 99.3483 866.082 Q101.177 862.517 101.177 855.411 Q101.177 848.281 99.3483 844.74 Q97.5428 841.175 93.9086 841.175 M93.9086 837.471 Q99.7187 837.471 102.774 842.078 Q105.853 846.661 105.853 855.411 Q105.853 864.138 102.774 868.744 Q99.7187 873.328 93.9086 873.328 Q88.0984 873.328 85.0197 868.744 Q81.9642 864.138 81.9642 855.411 Q81.9642 846.661 85.0197 842.078 Q88.0984 837.471 93.9086 837.471 Z\" fill=\"#000000\" fill-rule=\"evenodd\" fill-opacity=\"1\" /><path clip-path=\"url(#clip000)\" d=\"M67.9133 557.77 Q71.2698 558.488 73.1448 560.757 Q75.0429 563.025 75.0429 566.358 Q75.0429 571.474 71.5244 574.275 Q68.0059 577.076 61.5245 577.076 Q59.3486 577.076 57.0338 576.636 Q54.7421 576.219 52.2884 575.363 L52.2884 570.849 Q54.2328 571.983 56.5477 572.562 Q58.8625 573.141 61.3856 573.141 Q65.7837 573.141 68.0754 571.405 Q70.3902 569.669 70.3902 566.358 Q70.3902 563.303 68.2374 561.59 Q66.1078 559.854 62.2884 559.854 L58.2606 559.854 L58.2606 556.011 L62.4735 556.011 Q65.9226 556.011 67.7513 554.645 Q69.58 553.257 69.58 550.664 Q69.58 548.002 67.6819 546.59 Q65.8069 545.155 62.2884 545.155 Q60.3671 545.155 58.168 545.571 Q55.969 545.988 53.3301 546.868 L53.3301 542.701 Q55.9921 541.96 58.3069 541.59 Q60.6449 541.22 62.705 541.22 Q68.0291 541.22 71.1309 543.65 Q74.2327 546.058 74.2327 550.178 Q74.2327 553.048 72.5892 555.039 Q70.9457 557.007 67.9133 557.77 Z\" fill=\"#000000\" fill-rule=\"evenodd\" fill-opacity=\"1\" /><path clip-path=\"url(#clip000)\" d=\"M93.9086 544.923 Q90.2975 544.923 88.4688 548.488 Q86.6632 552.03 86.6632 559.159 Q86.6632 566.266 88.4688 569.831 Q90.2975 573.372 93.9086 573.372 Q97.5428 573.372 99.3483 569.831 Q101.177 566.266 101.177 559.159 Q101.177 552.03 99.3483 548.488 Q97.5428 544.923 93.9086 544.923 M93.9086 541.22 Q99.7187 541.22 102.774 545.826 Q105.853 550.409 105.853 559.159 Q105.853 567.886 102.774 572.493 Q99.7187 577.076 93.9086 577.076 Q88.0984 577.076 85.0197 572.493 Q81.9642 567.886 81.9642 559.159 Q81.9642 550.409 85.0197 545.826 Q88.0984 541.22 93.9086 541.22 Z\" fill=\"#000000\" fill-rule=\"evenodd\" fill-opacity=\"1\" /><path clip-path=\"url(#clip000)\" d=\"M66.5939 249.667 L54.7884 268.116 L66.5939 268.116 L66.5939 249.667 M65.367 245.593 L71.2466 245.593 L71.2466 268.116 L76.1772 268.116 L76.1772 272.005 L71.2466 272.005 L71.2466 280.153 L66.5939 280.153 L66.5939 272.005 L50.9921 272.005 L50.9921 267.491 L65.367 245.593 Z\" fill=\"#000000\" fill-rule=\"evenodd\" fill-opacity=\"1\" /><path clip-path=\"url(#clip000)\" d=\"M93.9086 248.672 Q90.2975 248.672 88.4688 252.236 Q86.6632 255.778 86.6632 262.908 Q86.6632 270.014 88.4688 273.579 Q90.2975 277.121 93.9086 277.121 Q97.5428 277.121 99.3483 273.579 Q101.177 270.014 101.177 262.908 Q101.177 255.778 99.3483 252.236 Q97.5428 248.672 93.9086 248.672 M93.9086 244.968 Q99.7187 244.968 102.774 249.574 Q105.853 254.158 105.853 262.908 Q105.853 271.634 102.774 276.241 Q99.7187 280.824 93.9086 280.824 Q88.0984 280.824 85.0197 276.241 Q81.9642 271.634 81.9642 262.908 Q81.9642 254.158 85.0197 249.574 Q88.0984 244.968 93.9086 244.968 Z\" fill=\"#000000\" fill-rule=\"evenodd\" fill-opacity=\"1\" /><path clip-path=\"url(#clip000)\" d=\"M417.558 12.096 L468.721 12.096 L468.721 18.9825 L447.251 18.9825 L447.251 72.576 L439.028 72.576 L439.028 18.9825 L417.558 18.9825 L417.558 12.096 Z\" fill=\"#000000\" fill-rule=\"evenodd\" fill-opacity=\"1\" /><path clip-path=\"url(#clip000)\" d=\"M473.744 27.2059 L481.197 27.2059 L481.197 72.576 L473.744 72.576 L473.744 27.2059 M473.744 9.54393 L481.197 9.54393 L481.197 18.9825 L473.744 18.9825 L473.744 9.54393 Z\" fill=\"#000000\" fill-rule=\"evenodd\" fill-opacity=\"1\" /><path clip-path=\"url(#clip000)\" d=\"M532.117 35.9153 Q534.912 30.8922 538.801 28.5022 Q542.69 26.1121 547.956 26.1121 Q555.045 26.1121 558.894 31.0947 Q562.742 36.0368 562.742 45.1919 L562.742 72.576 L555.248 72.576 L555.248 45.4349 Q555.248 38.913 552.939 35.7533 Q550.63 32.5936 545.89 32.5936 Q540.098 32.5936 536.735 36.4419 Q533.373 40.2903 533.373 46.9338 L533.373 72.576 L525.879 72.576 L525.879 45.4349 Q525.879 38.8725 523.57 35.7533 Q521.261 32.5936 516.44 32.5936 Q510.729 32.5936 507.366 36.4824 Q504.004 40.3308 504.004 46.9338 L504.004 72.576 L496.51 72.576 L496.51 27.2059 L504.004 27.2059 L504.004 34.2544 Q506.556 30.082 510.121 28.0971 Q513.686 26.1121 518.587 26.1121 Q523.529 26.1121 526.973 28.6237 Q530.456 31.1352 532.117 35.9153 Z\" fill=\"#000000\" fill-rule=\"evenodd\" fill-opacity=\"1\" /><path clip-path=\"url(#clip000)\" d=\"M616.417 48.0275 L616.417 51.6733 L582.146 51.6733 Q582.632 59.3701 586.764 63.421 Q590.936 67.4314 598.35 67.4314 Q602.644 67.4314 606.654 66.3781 Q610.705 65.3249 614.675 63.2184 L614.675 70.267 Q610.664 71.9684 606.451 72.8596 Q602.238 73.7508 597.904 73.7508 Q587.048 73.7508 580.688 67.4314 Q574.368 61.1119 574.368 50.3365 Q574.368 39.1965 580.364 32.6746 Q586.399 26.1121 596.608 26.1121 Q605.763 26.1121 611.069 32.0264 Q616.417 37.9003 616.417 48.0275 M608.963 45.84 Q608.882 39.7232 605.52 36.0774 Q602.198 32.4315 596.689 32.4315 Q590.45 32.4315 586.683 35.9558 Q582.956 39.4801 582.389 45.8805 L608.963 45.84 Z\" fill=\"#000000\" fill-rule=\"evenodd\" fill-opacity=\"1\" /><path clip-path=\"url(#clip000)\" d=\"M646.96 12.096 L698.123 12.096 L698.123 18.9825 L676.654 18.9825 L676.654 72.576 L668.43 72.576 L668.43 18.9825 L646.96 18.9825 L646.96 12.096 Z\" fill=\"#000000\" fill-rule=\"evenodd\" fill-opacity=\"1\" /><path clip-path=\"url(#clip000)\" d=\"M712.585 49.7694 Q703.552 49.7694 700.068 51.8354 Q696.584 53.9013 696.584 58.8839 Q696.584 62.8538 699.177 65.2034 Q701.81 67.5124 706.306 67.5124 Q712.504 67.5124 716.231 63.1374 Q719.998 58.7219 719.998 51.4303 L719.998 49.7694 L712.585 49.7694 M727.452 46.6907 L727.452 72.576 L719.998 72.576 L719.998 65.6895 Q717.446 69.8214 713.638 71.8063 Q709.83 73.7508 704.321 73.7508 Q697.354 73.7508 693.222 69.8619 Q689.13 65.9325 689.13 59.3701 Q689.13 51.7138 694.234 47.825 Q699.379 43.9361 709.547 43.9361 L719.998 43.9361 L719.998 43.2069 Q719.998 38.0623 716.595 35.2672 Q713.233 32.4315 707.116 32.4315 Q703.227 32.4315 699.541 33.3632 Q695.855 34.295 692.452 36.1584 L692.452 29.2718 Q696.543 27.692 700.392 26.9223 Q704.24 26.1121 707.886 26.1121 Q717.73 26.1121 722.591 31.2163 Q727.452 36.3204 727.452 46.6907 Z\" fill=\"#000000\" fill-rule=\"evenodd\" fill-opacity=\"1\" /><path clip-path=\"url(#clip000)\" d=\"M742.521 9.54393 L750.015 9.54393 L750.015 46.7717 L772.255 27.2059 L781.775 27.2059 L757.712 48.4326 L782.787 72.576 L773.065 72.576 L750.015 50.4176 L750.015 72.576 L742.521 72.576 L742.521 9.54393 Z\" fill=\"#000000\" fill-rule=\"evenodd\" fill-opacity=\"1\" /><path clip-path=\"url(#clip000)\" d=\"M826.699 48.0275 L826.699 51.6733 L792.428 51.6733 Q792.914 59.3701 797.046 63.421 Q801.219 67.4314 808.632 67.4314 Q812.926 67.4314 816.936 66.3781 Q820.987 65.3249 824.957 63.2184 L824.957 70.267 Q820.947 71.9684 816.734 72.8596 Q812.521 73.7508 808.186 73.7508 Q797.33 73.7508 790.97 67.4314 Q784.651 61.1119 784.651 50.3365 Q784.651 39.1965 790.646 32.6746 Q796.682 26.1121 806.89 26.1121 Q816.045 26.1121 821.352 32.0264 Q826.699 37.9003 826.699 48.0275 M819.245 45.84 Q819.164 39.7232 815.802 36.0774 Q812.48 32.4315 806.971 32.4315 Q800.733 32.4315 796.965 35.9558 Q793.239 39.4801 792.671 45.8805 L819.245 45.84 Z\" fill=\"#000000\" fill-rule=\"evenodd\" fill-opacity=\"1\" /><path clip-path=\"url(#clip000)\" d=\"M876.647 45.1919 L876.647 72.576 L869.193 72.576 L869.193 45.4349 Q869.193 38.994 866.681 35.7938 Q864.17 32.5936 859.147 32.5936 Q853.111 32.5936 849.627 36.4419 Q846.143 40.2903 846.143 46.9338 L846.143 72.576 L838.649 72.576 L838.649 27.2059 L846.143 27.2059 L846.143 34.2544 Q848.817 30.163 852.422 28.1376 Q856.068 26.1121 860.808 26.1121 Q868.626 26.1121 872.636 30.9732 Q876.647 35.7938 876.647 45.1919 Z\" fill=\"#000000\" fill-rule=\"evenodd\" fill-opacity=\"1\" /><path clip-path=\"url(#clip000)\" d=\"M918.209 12.096 L952.966 12.096 L952.966 18.9825 L926.392 18.9825 L926.392 36.8065 L950.373 36.8065 L950.373 43.6931 L926.392 43.6931 L926.392 72.576 L918.209 72.576 L918.209 12.096 Z\" fill=\"#000000\" fill-rule=\"evenodd\" fill-opacity=\"1\" /><path clip-path=\"url(#clip000)\" d=\"M980.228 32.4315 Q974.233 32.4315 970.749 37.1306 Q967.265 41.7891 967.265 49.9314 Q967.265 58.0738 970.709 62.7728 Q974.192 67.4314 980.228 67.4314 Q986.183 67.4314 989.667 62.7323 Q993.151 58.0333 993.151 49.9314 Q993.151 41.8701 989.667 37.1711 Q986.183 32.4315 980.228 32.4315 M980.228 26.1121 Q989.95 26.1121 995.5 32.4315 Q1001.05 38.7509 1001.05 49.9314 Q1001.05 61.0714 995.5 67.4314 Q989.95 73.7508 980.228 73.7508 Q970.466 73.7508 964.916 67.4314 Q959.407 61.0714 959.407 49.9314 Q959.407 38.7509 964.916 32.4315 Q970.466 26.1121 980.228 26.1121 Z\" fill=\"#000000\" fill-rule=\"evenodd\" fill-opacity=\"1\" /><path clip-path=\"url(#clip000)\" d=\"M1039.7 34.1734 Q1038.44 33.4443 1036.94 33.1202 Q1035.48 32.7556 1033.7 32.7556 Q1027.38 32.7556 1023.98 36.8875 Q1020.62 40.9789 1020.62 48.6757 L1020.62 72.576 L1013.12 72.576 L1013.12 27.2059 L1020.62 27.2059 L1020.62 34.2544 Q1022.97 30.1225 1026.73 28.1376 Q1030.5 26.1121 1035.89 26.1121 Q1036.66 26.1121 1037.59 26.2337 Q1038.52 26.3147 1039.66 26.5172 L1039.7 34.1734 Z\" fill=\"#000000\" fill-rule=\"evenodd\" fill-opacity=\"1\" /><path clip-path=\"url(#clip000)\" d=\"M1098.76 17.6457 Q1089.85 17.6457 1084.58 24.2892 Q1079.35 30.9327 1079.35 42.3968 Q1079.35 53.8203 1084.58 60.4638 Q1089.85 67.1073 1098.76 67.1073 Q1107.67 67.1073 1112.85 60.4638 Q1118.08 53.8203 1118.08 42.3968 Q1118.08 30.9327 1112.85 24.2892 Q1107.67 17.6457 1098.76 17.6457 M1098.76 11.0023 Q1111.48 11.0023 1119.09 19.5497 Q1126.71 28.0566 1126.71 42.3968 Q1126.71 56.6965 1119.09 65.2439 Q1111.48 73.7508 1098.76 73.7508 Q1086 73.7508 1078.34 65.2439 Q1070.73 56.737 1070.73 42.3968 Q1070.73 28.0566 1078.34 19.5497 Q1086 11.0023 1098.76 11.0023 Z\" fill=\"#000000\" fill-rule=\"evenodd\" fill-opacity=\"1\" /><path clip-path=\"url(#clip000)\" d=\"M1176.9 45.1919 L1176.9 72.576 L1169.45 72.576 L1169.45 45.4349 Q1169.45 38.994 1166.93 35.7938 Q1164.42 32.5936 1159.4 32.5936 Q1153.36 32.5936 1149.88 36.4419 Q1146.4 40.2903 1146.4 46.9338 L1146.4 72.576 L1138.9 72.576 L1138.9 27.2059 L1146.4 27.2059 L1146.4 34.2544 Q1149.07 30.163 1152.68 28.1376 Q1156.32 26.1121 1161.06 26.1121 Q1168.88 26.1121 1172.89 30.9732 Q1176.9 35.7938 1176.9 45.1919 Z\" fill=\"#000000\" fill-rule=\"evenodd\" fill-opacity=\"1\" /><path clip-path=\"url(#clip000)\" d=\"M1230.57 48.0275 L1230.57 51.6733 L1196.3 51.6733 Q1196.79 59.3701 1200.92 63.421 Q1205.09 67.4314 1212.51 67.4314 Q1216.8 67.4314 1220.81 66.3781 Q1224.86 65.3249 1228.83 63.2184 L1228.83 70.267 Q1224.82 71.9684 1220.61 72.8596 Q1216.4 73.7508 1212.06 73.7508 Q1201.21 73.7508 1194.85 67.4314 Q1188.53 61.1119 1188.53 50.3365 Q1188.53 39.1965 1194.52 32.6746 Q1200.56 26.1121 1210.77 26.1121 Q1219.92 26.1121 1225.23 32.0264 Q1230.57 37.9003 1230.57 48.0275 M1223.12 45.84 Q1223.04 39.7232 1219.68 36.0774 Q1216.36 32.4315 1210.85 32.4315 Q1204.61 32.4315 1200.84 35.9558 Q1197.11 39.4801 1196.55 45.8805 L1223.12 45.84 Z\" fill=\"#000000\" fill-rule=\"evenodd\" fill-opacity=\"1\" /><path clip-path=\"url(#clip000)\" d=\"M1310.74 63.9476 L1310.74 47.7034 L1297.37 47.7034 L1297.37 40.9789 L1318.84 40.9789 L1318.84 66.9452 Q1314.1 70.3075 1308.39 72.0494 Q1302.68 73.7508 1296.2 73.7508 Q1282.02 73.7508 1274 65.4869 Q1266.02 57.1826 1266.02 42.3968 Q1266.02 27.5705 1274 19.3066 Q1282.02 11.0023 1296.2 11.0023 Q1302.11 11.0023 1307.42 12.4606 Q1312.77 13.9189 1317.26 16.7545 L1317.26 25.464 Q1312.73 21.6156 1307.62 19.6712 Q1302.52 17.7268 1296.89 17.7268 Q1285.79 17.7268 1280.2 23.9246 Q1274.65 30.1225 1274.65 42.3968 Q1274.65 54.6305 1280.2 60.8284 Q1285.79 67.0263 1296.89 67.0263 Q1301.22 67.0263 1304.62 66.2971 Q1308.03 65.5274 1310.74 63.9476 Z\" fill=\"#000000\" fill-rule=\"evenodd\" fill-opacity=\"1\" /><path clip-path=\"url(#clip000)\" d=\"M1333.47 27.2059 L1340.92 27.2059 L1340.92 72.576 L1333.47 72.576 L1333.47 27.2059 M1333.47 9.54393 L1340.92 9.54393 L1340.92 18.9825 L1333.47 18.9825 L1333.47 9.54393 Z\" fill=\"#000000\" fill-rule=\"evenodd\" fill-opacity=\"1\" /><path clip-path=\"url(#clip000)\" d=\"M1356.52 9.54393 L1363.97 9.54393 L1363.97 72.576 L1356.52 72.576 L1356.52 9.54393 Z\" fill=\"#000000\" fill-rule=\"evenodd\" fill-opacity=\"1\" /><path clip-path=\"url(#clip000)\" d=\"M1379.57 9.54393 L1387.02 9.54393 L1387.02 72.576 L1379.57 72.576 L1379.57 9.54393 Z\" fill=\"#000000\" fill-rule=\"evenodd\" fill-opacity=\"1\" /><path clip-path=\"url(#clip000)\" d=\"M1441.42 48.0275 L1441.42 51.6733 L1407.15 51.6733 Q1407.64 59.3701 1411.77 63.421 Q1415.94 67.4314 1423.36 67.4314 Q1427.65 67.4314 1431.66 66.3781 Q1435.71 65.3249 1439.68 63.2184 L1439.68 70.267 Q1435.67 71.9684 1431.46 72.8596 Q1427.25 73.7508 1422.91 73.7508 Q1412.05 73.7508 1405.69 67.4314 Q1399.38 61.1119 1399.38 50.3365 Q1399.38 39.1965 1405.37 32.6746 Q1411.41 26.1121 1421.61 26.1121 Q1430.77 26.1121 1436.08 32.0264 Q1441.42 37.9003 1441.42 48.0275 M1433.97 45.84 Q1433.89 39.7232 1430.53 36.0774 Q1427.21 32.4315 1421.7 32.4315 Q1415.46 32.4315 1411.69 35.9558 Q1407.96 39.4801 1407.4 45.8805 L1433.97 45.84 Z\" fill=\"#000000\" fill-rule=\"evenodd\" fill-opacity=\"1\" /><path clip-path=\"url(#clip000)\" d=\"M1482.58 28.5427 L1482.58 35.5912 Q1479.42 33.9709 1476.02 33.1607 Q1472.62 32.3505 1468.97 32.3505 Q1463.42 32.3505 1460.63 34.0519 Q1457.87 35.7533 1457.87 39.156 Q1457.87 41.7486 1459.86 43.2475 Q1461.84 44.7058 1467.84 46.0426 L1470.39 46.6097 Q1478.33 48.3111 1481.65 51.4303 Q1485.01 54.509 1485.01 60.0587 Q1485.01 66.3781 1479.99 70.0644 Q1475.01 73.7508 1466.26 73.7508 Q1462.61 73.7508 1458.64 73.0216 Q1454.71 72.3329 1450.34 70.9151 L1450.34 63.2184 Q1454.47 65.3654 1458.48 66.4591 Q1462.49 67.5124 1466.42 67.5124 Q1471.68 67.5124 1474.52 65.73 Q1477.36 63.9071 1477.36 60.6258 Q1477.36 57.5877 1475.29 55.9673 Q1473.26 54.3469 1466.34 52.8481 L1463.74 52.2405 Q1456.82 50.7821 1453.74 47.7845 Q1450.66 44.7463 1450.66 39.4801 Q1450.66 33.0797 1455.2 29.5959 Q1459.73 26.1121 1468.08 26.1121 Q1472.21 26.1121 1475.86 26.7198 Q1479.5 27.3274 1482.58 28.5427 Z\" fill=\"#000000\" fill-rule=\"evenodd\" fill-opacity=\"1\" /><path clip-path=\"url(#clip000)\" d=\"M1504.09 65.7705 L1504.09 89.8329 L1496.6 89.8329 L1496.6 27.2059 L1504.09 27.2059 L1504.09 34.0924 Q1506.44 30.0415 1510.01 28.0971 Q1513.61 26.1121 1518.59 26.1121 Q1526.86 26.1121 1532 32.6746 Q1537.19 39.2371 1537.19 49.9314 Q1537.19 60.6258 1532 67.1883 Q1526.86 73.7508 1518.59 73.7508 Q1513.61 73.7508 1510.01 71.8063 Q1506.44 69.8214 1504.09 65.7705 M1529.45 49.9314 Q1529.45 41.7081 1526.05 37.0496 Q1522.68 32.3505 1516.77 32.3505 Q1510.86 32.3505 1507.45 37.0496 Q1504.09 41.7081 1504.09 49.9314 Q1504.09 58.1548 1507.45 62.8538 Q1510.86 67.5124 1516.77 67.5124 Q1522.68 67.5124 1526.05 62.8538 Q1529.45 58.1548 1529.45 49.9314 Z\" fill=\"#000000\" fill-rule=\"evenodd\" fill-opacity=\"1\" /><path clip-path=\"url(#clip000)\" d=\"M1549.54 27.2059 L1557 27.2059 L1557 72.576 L1549.54 72.576 L1549.54 27.2059 M1549.54 9.54393 L1557 9.54393 L1557 18.9825 L1549.54 18.9825 L1549.54 9.54393 Z\" fill=\"#000000\" fill-rule=\"evenodd\" fill-opacity=\"1\" /><path clip-path=\"url(#clip000)\" d=\"M1611.4 48.0275 L1611.4 51.6733 L1577.13 51.6733 Q1577.62 59.3701 1581.75 63.421 Q1585.92 67.4314 1593.33 67.4314 Q1597.63 67.4314 1601.64 66.3781 Q1605.69 65.3249 1609.66 63.2184 L1609.66 70.267 Q1605.65 71.9684 1601.43 72.8596 Q1597.22 73.7508 1592.89 73.7508 Q1582.03 73.7508 1575.67 67.4314 Q1569.35 61.1119 1569.35 50.3365 Q1569.35 39.1965 1575.35 32.6746 Q1581.38 26.1121 1591.59 26.1121 Q1600.75 26.1121 1606.05 32.0264 Q1611.4 37.9003 1611.4 48.0275 M1603.95 45.84 Q1603.87 39.7232 1600.5 36.0774 Q1597.18 32.4315 1591.67 32.4315 Q1585.43 32.4315 1581.67 35.9558 Q1577.94 39.4801 1577.37 45.8805 L1603.95 45.84 Z\" fill=\"#000000\" fill-rule=\"evenodd\" fill-opacity=\"1\" /><path clip-path=\"url(#clip000)\" d=\"M1686.58 14.0809 L1686.58 22.0612 Q1681.93 19.8332 1677.79 18.7395 Q1673.66 17.6457 1669.81 17.6457 Q1663.13 17.6457 1659.48 20.2383 Q1655.88 22.8309 1655.88 27.611 Q1655.88 31.6214 1658.27 33.6873 Q1660.7 35.7128 1667.42 36.9686 L1672.37 37.9813 Q1681.52 39.7232 1685.86 44.1387 Q1690.23 48.5136 1690.23 55.8863 Q1690.23 64.6767 1684.32 69.2137 Q1678.44 73.7508 1667.06 73.7508 Q1662.77 73.7508 1657.9 72.7785 Q1653.08 71.8063 1647.9 69.9024 L1647.9 61.4765 Q1652.88 64.2716 1657.66 65.6895 Q1662.44 67.1073 1667.06 67.1073 Q1674.07 67.1073 1677.88 64.3527 Q1681.68 61.598 1681.68 56.4939 Q1681.68 52.0379 1678.93 49.5264 Q1676.21 47.0148 1669.98 45.759 L1664.99 44.7868 Q1655.84 42.9639 1651.75 39.075 Q1647.66 35.1862 1647.66 28.2591 Q1647.66 20.2383 1653.29 15.6203 Q1658.96 11.0023 1668.88 11.0023 Q1673.14 11.0023 1677.55 11.7719 Q1681.97 12.5416 1686.58 14.0809 Z\" fill=\"#000000\" fill-rule=\"evenodd\" fill-opacity=\"1\" /><path clip-path=\"url(#clip000)\" d=\"M1702.67 27.2059 L1710.12 27.2059 L1710.12 72.576 L1702.67 72.576 L1702.67 27.2059 M1702.67 9.54393 L1710.12 9.54393 L1710.12 18.9825 L1702.67 18.9825 L1702.67 9.54393 Z\" fill=\"#000000\" fill-rule=\"evenodd\" fill-opacity=\"1\" /><path clip-path=\"url(#clip000)\" d=\"M1761.04 35.9153 Q1763.84 30.8922 1767.72 28.5022 Q1771.61 26.1121 1776.88 26.1121 Q1783.97 26.1121 1787.82 31.0947 Q1791.66 36.0368 1791.66 45.1919 L1791.66 72.576 L1784.17 72.576 L1784.17 45.4349 Q1784.17 38.913 1781.86 35.7533 Q1779.55 32.5936 1774.81 32.5936 Q1769.02 32.5936 1765.66 36.4419 Q1762.3 40.2903 1762.3 46.9338 L1762.3 72.576 L1754.8 72.576 L1754.8 45.4349 Q1754.8 38.8725 1752.49 35.7533 Q1750.18 32.5936 1745.36 32.5936 Q1739.65 32.5936 1736.29 36.4824 Q1732.93 40.3308 1732.93 46.9338 L1732.93 72.576 L1725.43 72.576 L1725.43 27.2059 L1732.93 27.2059 L1732.93 34.2544 Q1735.48 30.082 1739.04 28.0971 Q1742.61 26.1121 1747.51 26.1121 Q1752.45 26.1121 1755.9 28.6237 Q1759.38 31.1352 1761.04 35.9153 Z\" fill=\"#000000\" fill-rule=\"evenodd\" fill-opacity=\"1\" /><path clip-path=\"url(#clip000)\" d=\"M1805.76 54.671 L1805.76 27.2059 L1813.22 27.2059 L1813.22 54.3874 Q1813.22 60.8284 1815.73 64.0691 Q1818.24 67.2693 1823.26 67.2693 Q1829.3 67.2693 1832.78 63.421 Q1836.31 59.5726 1836.31 52.9291 L1836.31 27.2059 L1843.76 27.2059 L1843.76 72.576 L1836.31 72.576 L1836.31 65.6084 Q1833.59 69.7404 1829.99 71.7658 Q1826.42 73.7508 1821.68 73.7508 Q1813.86 73.7508 1809.81 68.8897 Q1805.76 64.0286 1805.76 54.671 M1824.52 26.1121 L1824.52 26.1121 Z\" fill=\"#000000\" fill-rule=\"evenodd\" fill-opacity=\"1\" /><path clip-path=\"url(#clip000)\" d=\"M1859.11 9.54393 L1866.57 9.54393 L1866.57 72.576 L1859.11 72.576 L1859.11 9.54393 Z\" fill=\"#000000\" fill-rule=\"evenodd\" fill-opacity=\"1\" /><path clip-path=\"url(#clip000)\" d=\"M1902.78 49.7694 Q1893.75 49.7694 1890.26 51.8354 Q1886.78 53.9013 1886.78 58.8839 Q1886.78 62.8538 1889.37 65.2034 Q1892.01 67.5124 1896.5 67.5124 Q1902.7 67.5124 1906.43 63.1374 Q1910.19 58.7219 1910.19 51.4303 L1910.19 49.7694 L1902.78 49.7694 M1917.65 46.6907 L1917.65 72.576 L1910.19 72.576 L1910.19 65.6895 Q1907.64 69.8214 1903.83 71.8063 Q1900.03 73.7508 1894.52 73.7508 Q1887.55 73.7508 1883.42 69.8619 Q1879.33 65.9325 1879.33 59.3701 Q1879.33 51.7138 1884.43 47.825 Q1889.58 43.9361 1899.74 43.9361 L1910.19 43.9361 L1910.19 43.2069 Q1910.19 38.0623 1906.79 35.2672 Q1903.43 32.4315 1897.31 32.4315 Q1893.42 32.4315 1889.74 33.3632 Q1886.05 34.295 1882.65 36.1584 L1882.65 29.2718 Q1886.74 27.692 1890.59 26.9223 Q1894.44 26.1121 1898.08 26.1121 Q1907.93 26.1121 1912.79 31.2163 Q1917.65 36.3204 1917.65 46.6907 Z\" fill=\"#000000\" fill-rule=\"evenodd\" fill-opacity=\"1\" /><path clip-path=\"url(#clip000)\" d=\"M1940.37 14.324 L1940.37 27.2059 L1955.73 27.2059 L1955.73 32.9987 L1940.37 32.9987 L1940.37 57.6282 Q1940.37 63.1779 1941.87 64.7578 Q1943.41 66.3376 1948.07 66.3376 L1955.73 66.3376 L1955.73 72.576 L1948.07 72.576 Q1939.44 72.576 1936.16 69.3758 Q1932.88 66.1351 1932.88 57.6282 L1932.88 32.9987 L1927.41 32.9987 L1927.41 27.2059 L1932.88 27.2059 L1932.88 14.324 L1940.37 14.324 Z\" fill=\"#000000\" fill-rule=\"evenodd\" fill-opacity=\"1\" /><path clip-path=\"url(#clip000)\" d=\"M1965.53 27.2059 L1972.98 27.2059 L1972.98 72.576 L1965.53 72.576 L1965.53 27.2059 M1965.53 9.54393 L1972.98 9.54393 L1972.98 18.9825 L1965.53 18.9825 L1965.53 9.54393 Z\" fill=\"#000000\" fill-rule=\"evenodd\" fill-opacity=\"1\" /><path clip-path=\"url(#clip000)\" d=\"M2006.16 32.4315 Q2000.16 32.4315 1996.68 37.1306 Q1993.2 41.7891 1993.2 49.9314 Q1993.2 58.0738 1996.64 62.7728 Q2000.12 67.4314 2006.16 67.4314 Q2012.12 67.4314 2015.6 62.7323 Q2019.08 58.0333 2019.08 49.9314 Q2019.08 41.8701 2015.6 37.1711 Q2012.12 32.4315 2006.16 32.4315 M2006.16 26.1121 Q2015.88 26.1121 2021.43 32.4315 Q2026.98 38.7509 2026.98 49.9314 Q2026.98 61.0714 2021.43 67.4314 Q2015.88 73.7508 2006.16 73.7508 Q1996.4 73.7508 1990.85 67.4314 Q1985.34 61.0714 1985.34 49.9314 Q1985.34 38.7509 1990.85 32.4315 Q1996.4 26.1121 2006.16 26.1121 Z\" fill=\"#000000\" fill-rule=\"evenodd\" fill-opacity=\"1\" /><path clip-path=\"url(#clip000)\" d=\"M2077.05 45.1919 L2077.05 72.576 L2069.6 72.576 L2069.6 45.4349 Q2069.6 38.994 2067.09 35.7938 Q2064.57 32.5936 2059.55 32.5936 Q2053.52 32.5936 2050.03 36.4419 Q2046.55 40.2903 2046.55 46.9338 L2046.55 72.576 L2039.05 72.576 L2039.05 27.2059 L2046.55 27.2059 L2046.55 34.2544 Q2049.22 30.163 2052.83 28.1376 Q2056.47 26.1121 2061.21 26.1121 Q2069.03 26.1121 2073.04 30.9732 Q2077.05 35.7938 2077.05 45.1919 Z\" fill=\"#000000\" fill-rule=\"evenodd\" fill-opacity=\"1\" /><polyline clip-path=\"url(#clip002)\" style=\"stroke:#009af9; stroke-linecap:butt; stroke-linejoin:round; stroke-width:4; stroke-opacity:1; fill:none\" points=\"\n",
       "  204.426,1447.87 205.445,1447.87 206.464,1447.87 207.482,1447.87 208.501,1447.87 209.52,1447.87 210.539,1447.87 211.558,1447.87 212.577,1447.87 213.596,1447.87 \n",
       "  214.615,1447.87 215.634,1447.87 216.653,1447.86 217.672,1447.86 218.691,1447.86 219.71,1447.86 220.729,1447.86 221.748,1447.86 222.766,1447.86 223.785,1447.86 \n",
       "  224.804,1447.86 225.823,1447.85 226.842,1447.85 227.861,1447.85 228.88,1447.85 229.899,1447.85 230.918,1447.85 231.937,1447.84 232.956,1447.84 233.975,1447.84 \n",
       "  234.994,1447.84 236.013,1447.83 237.032,1447.83 238.05,1447.83 239.069,1447.82 240.088,1447.82 241.107,1447.82 242.126,1447.81 243.145,1447.81 244.164,1447.8 \n",
       "  245.183,1447.8 246.202,1447.8 247.221,1447.79 248.24,1447.78 249.259,1447.78 250.278,1447.77 251.297,1447.77 252.316,1447.76 253.334,1447.75 254.353,1447.75 \n",
       "  255.372,1447.74 256.391,1447.73 257.41,1447.72 258.429,1447.71 259.448,1447.7 260.467,1447.69 261.486,1447.68 262.505,1447.67 263.524,1447.66 264.543,1447.65 \n",
       "  265.562,1447.63 266.581,1447.62 267.6,1447.61 268.618,1447.59 269.637,1447.57 270.656,1447.56 271.675,1447.54 272.694,1447.52 273.713,1447.5 274.732,1447.48 \n",
       "  275.751,1447.46 276.77,1447.44 277.789,1447.41 278.808,1447.39 279.827,1447.36 280.846,1447.34 281.865,1447.31 282.884,1447.28 283.903,1447.25 284.921,1447.22 \n",
       "  285.94,1447.18 286.959,1447.15 287.978,1447.11 288.997,1447.07 290.016,1447.03 291.035,1446.99 292.054,1446.94 293.073,1446.9 294.092,1446.85 295.111,1446.8 \n",
       "  296.13,1446.75 297.149,1446.69 298.168,1446.63 299.187,1446.57 300.205,1446.51 301.224,1446.45 302.243,1446.38 303.262,1446.31 304.281,1446.23 305.3,1446.16 \n",
       "  306.319,1446.08 307.338,1445.99 308.357,1445.91 309.376,1445.82 310.395,1445.72 311.414,1445.63 312.433,1445.52 313.452,1445.42 314.471,1445.31 315.489,1445.19 \n",
       "  316.508,1445.07 317.527,1444.95 318.546,1444.82 319.565,1444.69 320.584,1444.55 321.603,1444.41 322.622,1444.26 323.641,1444.11 324.66,1443.95 325.679,1443.78 \n",
       "  326.698,1443.61 327.717,1443.43 328.736,1443.24 329.755,1443.05 330.773,1442.85 331.792,1442.65 332.811,1442.44 333.83,1442.22 334.849,1441.99 335.868,1441.75 \n",
       "  336.887,1441.51 337.906,1441.26 338.925,1441 339.944,1440.73 340.963,1440.45 341.982,1440.17 343.001,1439.87 344.02,1439.56 345.039,1439.25 346.057,1438.92 \n",
       "  347.076,1438.58 348.095,1438.24 349.114,1437.88 350.133,1437.51 351.152,1437.13 352.171,1436.74 353.19,1436.33 354.209,1435.92 355.228,1435.49 356.247,1435.05 \n",
       "  357.266,1434.59 358.285,1434.13 359.304,1433.64 360.323,1433.15 361.341,1432.64 362.36,1432.12 363.379,1431.58 364.398,1431.03 365.417,1430.46 366.436,1429.87 \n",
       "  367.455,1429.28 368.474,1428.66 369.493,1428.03 370.512,1427.38 371.531,1426.71 372.55,1426.03 373.569,1425.33 374.588,1424.61 375.607,1423.88 376.625,1423.12 \n",
       "  377.644,1422.35 378.663,1421.56 379.682,1420.74 380.701,1419.91 381.72,1419.06 382.739,1418.19 383.758,1417.3 384.777,1416.39 385.796,1415.46 386.815,1414.5 \n",
       "  387.834,1413.53 388.853,1412.53 389.872,1411.51 390.891,1410.47 391.909,1409.41 392.928,1408.32 393.947,1407.21 394.966,1406.08 395.985,1404.93 397.004,1403.75 \n",
       "  398.023,1402.55 399.042,1401.32 400.061,1400.07 401.08,1398.79 402.099,1397.49 403.118,1396.17 404.137,1394.82 405.156,1393.44 406.175,1392.04 407.193,1390.61 \n",
       "  408.212,1389.16 409.231,1387.69 410.25,1386.18 411.269,1384.65 412.288,1383.1 413.307,1381.51 414.326,1379.9 415.345,1378.27 416.364,1376.61 417.383,1374.92 \n",
       "  418.402,1373.2 419.421,1371.46 420.44,1369.69 421.459,1367.89 422.478,1366.07 423.496,1364.21 424.515,1362.33 425.534,1360.43 426.553,1358.49 427.572,1356.53 \n",
       "  428.591,1354.55 429.61,1352.53 430.629,1350.49 431.648,1348.42 432.667,1346.32 433.686,1344.19 434.705,1342.04 435.724,1339.86 436.743,1337.66 437.762,1335.42 \n",
       "  438.78,1333.16 439.799,1330.88 440.818,1328.56 441.837,1326.22 442.856,1323.86 443.875,1321.46 444.894,1319.04 445.913,1316.6 446.932,1314.13 447.951,1311.63 \n",
       "  448.97,1309.11 449.989,1306.56 451.008,1303.98 452.027,1301.38 453.046,1298.76 454.064,1296.11 455.083,1293.43 456.102,1290.73 457.121,1288.01 458.14,1285.26 \n",
       "  459.159,1282.49 460.178,1279.69 461.197,1276.87 462.216,1274.03 463.235,1271.16 464.254,1268.27 465.273,1265.36 466.292,1262.42 467.311,1259.46 468.33,1256.48 \n",
       "  469.348,1253.48 470.367,1250.45 471.386,1247.41 472.405,1244.34 473.424,1241.25 474.443,1238.14 475.462,1235 476.481,1231.85 477.5,1228.68 478.519,1225.49 \n",
       "  479.538,1222.27 480.557,1219.04 481.576,1215.78 482.595,1212.51 483.614,1209.22 484.632,1205.91 485.651,1202.57 486.67,1199.22 487.689,1195.86 488.708,1192.47 \n",
       "  489.727,1189.06 490.746,1185.64 491.765,1182.19 492.784,1178.73 493.803,1175.25 494.822,1171.76 495.841,1168.24 496.86,1164.71 497.879,1161.16 498.898,1157.59 \n",
       "  499.916,1154.01 500.935,1150.4 501.954,1146.78 502.973,1143.15 503.992,1139.49 505.011,1135.82 506.03,1132.13 507.049,1128.43 508.068,1124.7 509.087,1120.97 \n",
       "  510.106,1117.21 511.125,1113.44 512.144,1109.64 513.163,1105.84 514.182,1102.01 515.2,1098.17 516.219,1094.31 517.238,1090.44 518.257,1086.54 519.276,1082.63 \n",
       "  520.295,1078.71 521.314,1074.76 522.333,1070.8 523.352,1066.82 524.371,1062.82 525.39,1058.81 526.409,1054.78 527.428,1050.73 528.447,1046.66 529.466,1042.57 \n",
       "  530.484,1038.47 531.503,1034.35 532.522,1030.21 533.541,1026.05 534.56,1021.87 535.579,1017.67 536.598,1013.46 537.617,1009.23 538.636,1004.97 539.655,1000.7 \n",
       "  540.674,996.412 541.693,992.102 542.712,987.772 543.731,983.423 544.75,979.055 545.768,974.666 546.787,970.258 547.806,965.83 548.825,961.381 549.844,956.913 \n",
       "  550.863,952.424 551.882,947.914 552.901,943.384 553.92,938.834 554.939,934.263 555.958,929.671 556.977,925.058 557.996,920.425 559.015,915.77 560.034,911.095 \n",
       "  561.053,906.399 562.071,901.681 563.09,896.943 564.109,892.183 565.128,887.402 566.147,882.6 567.166,877.778 568.185,872.934 569.204,868.069 570.223,863.183 \n",
       "  571.242,858.276 572.261,853.348 573.28,848.4 574.299,843.43 575.318,838.441 576.337,833.43 577.355,828.4 578.374,823.349 579.393,818.278 580.412,813.187 \n",
       "  581.431,808.077 582.45,802.947 583.469,797.798 584.488,792.629 585.507,787.442 586.526,782.237 587.545,777.013 588.564,771.771 589.583,766.511 590.602,761.234 \n",
       "  591.621,755.94 592.639,750.629 593.658,745.301 594.677,739.958 595.696,734.599 596.715,729.225 597.734,723.837 598.753,718.433 599.772,713.017 600.791,707.586 \n",
       "  601.81,702.143 602.829,696.687 603.848,691.22 604.867,685.741 605.886,680.251 606.905,674.752 607.923,669.242 608.942,663.724 609.961,658.197 610.98,652.662 \n",
       "  611.999,647.12 613.018,641.572 614.037,636.018 615.056,630.459 616.075,624.895 617.094,619.328 618.113,613.758 619.132,608.185 620.151,602.611 621.17,597.036 \n",
       "  622.189,591.462 623.207,585.888 624.226,580.316 625.245,574.746 626.264,569.18 627.283,563.618 628.302,558.061 629.321,552.509 630.34,546.965 631.359,541.428 \n",
       "  632.378,535.899 633.397,530.38 634.416,524.872 635.435,519.374 636.454,513.889 637.473,508.417 638.491,502.958 639.51,497.515 640.529,492.087 641.548,486.676 \n",
       "  642.567,481.284 643.586,475.909 644.605,470.555 645.624,465.221 646.643,459.908 647.662,454.618 648.681,449.352 649.7,444.11 650.719,438.894 651.738,433.704 \n",
       "  652.757,428.541 653.775,423.407 654.794,418.302 655.813,413.227 656.832,408.183 657.851,403.172 658.87,398.193 659.889,393.249 660.908,388.339 661.927,383.465 \n",
       "  662.946,378.628 663.965,373.829 664.984,369.068 666.003,364.347 667.022,359.666 668.041,355.026 669.059,350.428 670.078,345.873 671.097,341.362 672.116,336.896 \n",
       "  673.135,332.474 674.154,328.099 675.173,323.771 676.192,319.49 677.211,315.258 678.23,311.075 679.249,306.942 680.268,302.859 681.287,298.828 682.306,294.849 \n",
       "  683.325,290.922 684.343,287.048 685.362,283.229 686.381,279.463 687.4,275.753 688.419,272.098 689.438,268.5 690.457,264.957 691.476,261.472 692.495,258.045 \n",
       "  693.514,254.676 694.533,251.365 695.552,248.112 696.571,244.919 697.59,241.786 698.609,238.712 699.628,235.699 700.646,232.746 701.665,229.855 702.684,227.024 \n",
       "  703.703,224.254 704.722,221.546 705.741,218.899 706.76,216.315 707.779,213.792 708.798,211.331 709.817,208.932 710.836,206.596 711.855,204.322 712.874,202.11 \n",
       "  713.893,199.96 714.912,197.872 715.93,195.847 716.949,193.883 717.968,191.981 718.987,190.142 720.006,188.363 721.025,186.647 722.044,184.991 723.063,183.397 \n",
       "  724.082,181.864 725.101,180.391 726.12,178.978 727.139,177.626 728.158,176.333 729.177,175.099 730.196,173.925 731.214,172.809 732.233,171.751 733.252,170.751 \n",
       "  734.271,169.808 735.29,168.923 736.309,168.093 737.328,167.32 738.347,166.602 739.366,165.939 740.385,165.33 741.404,164.775 742.423,164.273 743.442,163.824 \n",
       "  744.461,163.427 745.48,163.081 746.498,162.787 747.517,162.542 748.536,162.347 749.555,162.2 750.574,162.102 751.593,162.051 752.612,162.047 753.631,162.089 \n",
       "  754.65,162.176 755.669,162.308 756.688,162.484 757.707,162.702 758.726,162.964 759.745,163.266 760.764,163.61 761.782,163.993 762.801,164.416 763.82,164.877 \n",
       "  764.839,165.376 765.858,165.912 766.877,166.484 767.896,167.091 768.915,167.732 769.934,168.407 770.953,169.115 771.972,169.855 772.991,170.626 774.01,171.427 \n",
       "  775.029,172.258 776.048,173.117 777.066,174.004 778.085,174.919 779.104,175.859 780.123,176.825 781.142,177.816 782.161,178.83 783.18,179.867 784.199,180.926 \n",
       "  785.218,182.007 786.237,183.108 787.256,184.229 788.275,185.368 789.294,186.526 790.313,187.701 791.332,188.893 792.35,190.1 793.369,191.322 794.388,192.559 \n",
       "  795.407,193.809 796.426,195.072 797.445,196.346 798.464,197.632 799.483,198.929 800.502,200.235 801.521,201.55 802.54,202.874 803.559,204.206 804.578,205.544 \n",
       "  805.597,206.889 806.616,208.24 807.634,209.595 808.653,210.955 809.672,212.319 810.691,213.686 811.71,215.055 812.729,216.427 813.748,217.8 814.767,219.173 \n",
       "  815.786,220.547 816.805,221.921 817.824,223.294 818.843,224.665 819.862,226.035 820.881,227.403 821.9,228.767 822.918,230.129 823.937,231.487 824.956,232.84 \n",
       "  825.975,234.189 826.994,235.534 828.013,236.873 829.032,238.206 830.051,239.533 831.07,240.855 832.089,242.169 833.108,243.476 834.127,244.776 835.146,246.069 \n",
       "  836.165,247.354 837.184,248.631 838.202,249.899 839.221,251.159 840.24,252.411 841.259,253.653 842.278,254.887 843.297,256.112 844.316,257.327 845.335,258.533 \n",
       "  846.354,259.73 847.373,260.917 848.392,262.094 849.411,263.262 850.43,264.421 851.449,265.57 852.468,266.709 853.487,267.838 854.505,268.959 855.524,270.069 \n",
       "  856.543,271.17 857.562,272.262 858.581,273.345 859.6,274.419 860.619,275.483 861.638,276.539 862.657,277.586 863.676,278.625 864.695,279.656 865.714,280.678 \n",
       "  866.733,281.693 867.752,282.7 868.771,283.7 869.789,284.693 870.808,285.679 871.827,286.658 872.846,287.632 873.865,288.599 874.884,289.561 875.903,290.518 \n",
       "  876.922,291.469 877.941,292.417 878.96,293.36 879.979,294.299 880.998,295.235 882.017,296.167 883.036,297.097 884.055,298.025 885.073,298.951 886.092,299.876 \n",
       "  887.111,300.8 888.13,301.723 889.149,302.646 890.168,303.569 891.187,304.493 892.206,305.418 893.225,306.345 894.244,307.274 895.263,308.205 896.282,309.139 \n",
       "  897.301,310.077 898.32,311.019 899.339,311.964 900.357,312.915 901.376,313.871 902.395,314.832 903.414,315.799 904.433,316.773 905.452,317.754 906.471,318.742 \n",
       "  907.49,319.738 908.509,320.743 909.528,321.755 910.547,322.777 911.566,323.808 912.585,324.849 913.604,325.9 914.623,326.962 915.641,328.034 916.66,329.118 \n",
       "  917.679,330.213 918.698,331.32 919.717,332.44 920.736,333.572 921.755,334.716 922.774,335.874 923.793,337.046 924.812,338.231 925.831,339.43 926.85,340.643 \n",
       "  927.869,341.87 928.888,343.112 929.907,344.369 930.925,345.641 931.944,346.928 932.963,348.23 933.982,349.548 935.001,350.881 936.02,352.23 937.039,353.595 \n",
       "  938.058,354.976 939.077,356.372 940.096,357.785 941.115,359.213 942.134,360.658 943.153,362.119 944.172,363.595 945.191,365.088 946.209,366.597 947.228,368.122 \n",
       "  948.247,369.663 949.266,371.22 950.285,372.792 951.304,374.38 952.323,375.984 953.342,377.603 954.361,379.237 955.38,380.886 956.399,382.551 957.418,384.23 \n",
       "  958.437,385.924 959.456,387.632 960.475,389.355 961.493,391.091 962.512,392.841 963.531,394.605 964.55,396.382 965.569,398.172 966.588,399.975 967.607,401.791 \n",
       "  968.626,403.618 969.645,405.458 970.664,407.309 971.683,409.172 972.702,411.046 973.721,412.93 974.74,414.825 975.759,416.73 976.777,418.645 977.796,420.57 \n",
       "  978.815,422.503 979.834,424.446 980.853,426.397 981.872,428.357 982.891,430.324 983.91,432.299 984.929,434.281 985.948,436.27 986.967,438.266 987.986,440.268 \n",
       "  989.005,442.276 990.024,444.289 991.043,446.308 992.062,448.333 993.08,450.361 994.099,452.395 995.118,454.432 996.137,456.474 997.156,458.519 998.175,460.567 \n",
       "  999.194,462.618 1000.21,464.672 1001.23,466.729 1002.25,468.788 1003.27,470.849 1004.29,472.912 1005.31,474.976 1006.33,477.042 1007.35,479.109 1008.36,481.176 \n",
       "  1009.38,483.245 1010.4,485.314 1011.42,487.384 1012.44,489.453 1013.46,491.523 1014.48,493.593 1015.5,495.662 1016.52,497.731 1017.53,499.8 1018.55,501.868 \n",
       "  1019.57,503.935 1020.59,506.002 1021.61,508.067 1022.63,510.132 1023.65,512.195 1024.67,514.258 1025.69,516.319 1026.71,518.379 1027.72,520.438 1028.74,522.495 \n",
       "  1029.76,524.551 1030.78,526.606 1031.8,528.66 1032.82,530.712 1033.84,532.762 1034.86,534.812 1035.88,536.86 1036.89,538.906 1037.91,540.952 1038.93,542.996 \n",
       "  1039.95,545.039 1040.97,547.08 1041.99,549.121 1043.01,551.16 1044.03,553.198 1045.05,555.236 1046.06,557.272 1047.08,559.308 1048.1,561.342 1049.12,563.376 \n",
       "  1050.14,565.409 1051.16,567.442 1052.18,569.474 1053.2,571.505 1054.22,573.536 1055.24,575.566 1056.25,577.596 1057.27,579.626 1058.29,581.656 1059.31,583.685 \n",
       "  1060.33,585.714 1061.35,587.744 1062.37,589.773 1063.39,591.802 1064.41,593.831 1065.42,595.861 1066.44,597.89 1067.46,599.92 1068.48,601.95 1069.5,603.98 \n",
       "  1070.52,606.011 1071.54,608.041 1072.56,610.072 1073.58,612.103 1074.6,614.135 1075.61,616.167 1076.63,618.199 1077.65,620.231 1078.67,622.263 1079.69,624.296 \n",
       "  1080.71,626.328 1081.73,628.361 1082.75,630.394 1083.77,632.427 1084.78,634.459 1085.8,636.492 1086.82,638.524 1087.84,640.556 1088.86,642.588 1089.88,644.619 \n",
       "  1090.9,646.649 1091.92,648.679 1092.94,650.708 1093.95,652.736 1094.97,654.763 1095.99,656.789 1097.01,658.813 1098.03,660.836 1099.05,662.857 1100.07,664.877 \n",
       "  1101.09,666.895 1102.11,668.911 1103.13,670.924 1104.14,672.935 1105.16,674.944 1106.18,676.95 1107.2,678.953 1108.22,680.953 1109.24,682.95 1110.26,684.943 \n",
       "  1111.28,686.933 1112.3,688.919 1113.31,690.901 1114.33,692.879 1115.35,694.852 1116.37,696.821 1117.39,698.786 1118.41,700.745 1119.43,702.7 1120.45,704.649 \n",
       "  1121.47,706.592 1122.49,708.53 1123.5,710.462 1124.52,712.388 1125.54,714.308 1126.56,716.222 1127.58,718.129 1128.6,720.029 1129.62,721.923 1130.64,723.81 \n",
       "  1131.66,725.689 1132.67,727.561 1133.69,729.426 1134.71,731.283 1135.73,733.132 1136.75,734.973 1137.77,736.807 1138.79,738.632 1139.81,740.449 1140.83,742.258 \n",
       "  1141.84,744.058 1142.86,745.85 1143.88,747.633 1144.9,749.408 1145.92,751.174 1146.94,752.931 1147.96,754.679 1148.98,756.418 1150,758.148 1151.02,759.869 \n",
       "  1152.03,761.582 1153.05,763.285 1154.07,764.979 1155.09,766.664 1156.11,768.34 1157.13,770.007 1158.15,771.665 1159.17,773.314 1160.19,774.954 1161.2,776.586 \n",
       "  1162.22,778.208 1163.24,779.822 1164.26,781.427 1165.28,783.023 1166.3,784.611 1167.32,786.191 1168.34,787.762 1169.36,789.325 1170.37,790.88 1171.39,792.427 \n",
       "  1172.41,793.967 1173.43,795.498 1174.45,797.022 1175.47,798.539 1176.49,800.049 1177.51,801.551 1178.53,803.047 1179.55,804.536 1180.56,806.018 1181.58,807.494 \n",
       "  1182.6,808.964 1183.62,810.428 1184.64,811.887 1185.66,813.34 1186.68,814.787 1187.7,816.23 1188.72,817.667 1189.73,819.101 1190.75,820.529 1191.77,821.954 \n",
       "  1192.79,823.374 1193.81,824.791 1194.83,826.205 1195.85,827.615 1196.87,829.023 1197.89,830.427 1198.91,831.829 1199.92,833.229 1200.94,834.627 1201.96,836.023 \n",
       "  1202.98,837.418 1204,838.811 1205.02,840.204 1206.04,841.595 1207.06,842.986 1208.08,844.377 1209.09,845.768 1210.11,847.159 1211.13,848.551 1212.15,849.943 \n",
       "  1213.17,851.336 1214.19,852.73 1215.21,854.126 1216.23,855.523 1217.25,856.922 1218.26,858.323 1219.28,859.726 1220.3,861.131 1221.32,862.54 1222.34,863.951 \n",
       "  1223.36,865.365 1224.38,866.783 1225.4,868.204 1226.42,869.628 1227.44,871.056 1228.45,872.489 1229.47,873.925 1230.49,875.366 1231.51,876.811 1232.53,878.26 \n",
       "  1233.55,879.715 1234.57,881.174 1235.59,882.639 1236.61,884.108 1237.62,885.583 1238.64,887.063 1239.66,888.549 1240.68,890.04 1241.7,891.537 1242.72,893.04 \n",
       "  1243.74,894.549 1244.76,896.063 1245.78,897.584 1246.79,899.111 1247.81,900.644 1248.83,902.183 1249.85,903.728 1250.87,905.28 1251.89,906.838 1252.91,908.403 \n",
       "  1253.93,909.974 1254.95,911.551 1255.97,913.135 1256.98,914.725 1258,916.322 1259.02,917.925 1260.04,919.535 1261.06,921.151 1262.08,922.774 1263.1,924.402 \n",
       "  1264.12,926.038 1265.14,927.679 1266.15,929.327 1267.17,930.981 1268.19,932.642 1269.21,934.308 1270.23,935.98 1271.25,937.659 1272.27,939.343 1273.29,941.034 \n",
       "  1274.31,942.73 1275.33,944.432 1276.34,946.139 1277.36,947.852 1278.38,949.57 1279.4,951.294 1280.42,953.023 1281.44,954.757 1282.46,956.496 1283.48,958.24 \n",
       "  1284.5,959.989 1285.51,961.742 1286.53,963.501 1287.55,965.263 1288.57,967.03 1289.59,968.801 1290.61,970.576 1291.63,972.355 1292.65,974.137 1293.67,975.923 \n",
       "  1294.68,977.713 1295.7,979.506 1296.72,981.303 1297.74,983.102 1298.76,984.904 1299.78,986.71 1300.8,988.517 1301.82,990.328 1302.84,992.14 1303.86,993.955 \n",
       "  1304.87,995.771 1305.89,997.59 1306.91,999.41 1307.93,1001.23 1308.95,1003.06 1309.97,1004.88 1310.99,1006.71 1312.01,1008.53 1313.03,1010.36 1314.04,1012.19 \n",
       "  1315.06,1014.02 1316.08,1015.84 1317.1,1017.67 1318.12,1019.5 1319.14,1021.33 1320.16,1023.16 1321.18,1024.99 1322.2,1026.82 1323.21,1028.64 1324.23,1030.47 \n",
       "  1325.25,1032.29 1326.27,1034.12 1327.29,1035.94 1328.31,1037.76 1329.33,1039.58 1330.35,1041.4 1331.37,1043.21 1332.39,1045.03 1333.4,1046.84 1334.42,1048.65 \n",
       "  1335.44,1050.45 1336.46,1052.26 1337.48,1054.06 1338.5,1055.86 1339.52,1057.66 1340.54,1059.45 1341.56,1061.24 1342.57,1063.03 1343.59,1064.81 1344.61,1066.59 \n",
       "  1345.63,1068.37 1346.65,1070.14 1347.67,1071.91 1348.69,1073.67 1349.71,1075.43 1350.73,1077.19 1351.75,1078.94 1352.76,1080.69 1353.78,1082.44 1354.8,1084.18 \n",
       "  1355.82,1085.91 1356.84,1087.64 1357.86,1089.37 1358.88,1091.09 1359.9,1092.81 1360.92,1094.52 1361.93,1096.22 1362.95,1097.92 1363.97,1099.62 1364.99,1101.31 \n",
       "  1366.01,1103 1367.03,1104.68 1368.05,1106.35 1369.07,1108.02 1370.09,1109.68 1371.1,1111.34 1372.12,1112.99 1373.14,1114.64 1374.16,1116.28 1375.18,1117.91 \n",
       "  1376.2,1119.54 1377.22,1121.16 1378.24,1122.78 1379.26,1124.39 1380.28,1125.99 1381.29,1127.59 1382.31,1129.18 1383.33,1130.76 1384.35,1132.34 1385.37,1133.91 \n",
       "  1386.39,1135.48 1387.41,1137.03 1388.43,1138.58 1389.45,1140.13 1390.46,1141.67 1391.48,1143.2 1392.5,1144.72 1393.52,1146.24 1394.54,1147.75 1395.56,1149.25 \n",
       "  1396.58,1150.75 1397.6,1152.24 1398.62,1153.72 1399.64,1155.19 1400.65,1156.66 1401.67,1158.12 1402.69,1159.57 1403.71,1161.01 1404.73,1162.45 1405.75,1163.88 \n",
       "  1406.77,1165.3 1407.79,1166.71 1408.81,1168.12 1409.82,1169.51 1410.84,1170.9 1411.86,1172.28 1412.88,1173.66 1413.9,1175.02 1414.92,1176.38 1415.94,1177.73 \n",
       "  1416.96,1179.06 1417.98,1180.4 1418.99,1181.72 1420.01,1183.03 1421.03,1184.34 1422.05,1185.63 1423.07,1186.92 1424.09,1188.2 1425.11,1189.47 1426.13,1190.73 \n",
       "  1427.15,1191.98 1428.17,1193.22 1429.18,1194.45 1430.2,1195.67 1431.22,1196.89 1432.24,1198.09 1433.26,1199.29 1434.28,1200.47 1435.3,1201.65 1436.32,1202.81 \n",
       "  1437.34,1203.97 1438.35,1205.11 1439.37,1206.25 1440.39,1207.37 1441.41,1208.49 1442.43,1209.6 1443.45,1210.69 1444.47,1211.78 1445.49,1212.85 1446.51,1213.91 \n",
       "  1447.52,1214.97 1448.54,1216.01 1449.56,1217.05 1450.58,1218.07 1451.6,1219.08 1452.62,1220.08 1453.64,1221.07 1454.66,1222.05 1455.68,1223.02 1456.7,1223.98 \n",
       "  1457.71,1224.93 1458.73,1225.87 1459.75,1226.79 1460.77,1227.71 1461.79,1228.61 1462.81,1229.51 1463.83,1230.39 1464.85,1231.27 1465.87,1232.13 1466.88,1232.98 \n",
       "  1467.9,1233.82 1468.92,1234.65 1469.94,1235.47 1470.96,1236.28 1471.98,1237.08 1473,1237.86 1474.02,1238.64 1475.04,1239.41 1476.06,1240.16 1477.07,1240.91 \n",
       "  1478.09,1241.64 1479.11,1242.37 1480.13,1243.08 1481.15,1243.79 1482.17,1244.48 1483.19,1245.17 1484.21,1245.84 1485.23,1246.51 1486.24,1247.16 1487.26,1247.81 \n",
       "  1488.28,1248.44 1489.3,1249.07 1490.32,1249.68 1491.34,1250.29 1492.36,1250.89 1493.38,1251.48 1494.4,1252.06 1495.41,1252.63 1496.43,1253.19 1497.45,1253.74 \n",
       "  1498.47,1254.29 1499.49,1254.82 1500.51,1255.35 1501.53,1255.87 1502.55,1256.38 1503.57,1256.88 1504.59,1257.38 1505.6,1257.87 1506.62,1258.35 1507.64,1258.82 \n",
       "  1508.66,1259.29 1509.68,1259.75 1510.7,1260.2 1511.72,1260.64 1512.74,1261.08 1513.76,1261.51 1514.77,1261.94 1515.79,1262.36 1516.81,1262.77 1517.83,1263.18 \n",
       "  1518.85,1263.58 1519.87,1263.98 1520.89,1264.37 1521.91,1264.75 1522.93,1265.13 1523.94,1265.51 1524.96,1265.88 1525.98,1266.25 1527,1266.61 1528.02,1266.96 \n",
       "  1529.04,1267.32 1530.06,1267.67 1531.08,1268.01 1532.1,1268.35 1533.12,1268.69 1534.13,1269.02 1535.15,1269.35 1536.17,1269.68 1537.19,1270.01 1538.21,1270.33 \n",
       "  1539.23,1270.65 1540.25,1270.97 1541.27,1271.28 1542.29,1271.59 1543.3,1271.9 1544.32,1272.21 1545.34,1272.52 1546.36,1272.83 1547.38,1273.13 1548.4,1273.43 \n",
       "  1549.42,1273.73 1550.44,1274.04 1551.46,1274.33 1552.48,1274.63 1553.49,1274.93 1554.51,1275.23 1555.53,1275.53 1556.55,1275.82 1557.57,1276.12 1558.59,1276.42 \n",
       "  1559.61,1276.72 1560.63,1277.01 1561.65,1277.31 1562.66,1277.61 1563.68,1277.91 1564.7,1278.21 1565.72,1278.51 1566.74,1278.81 1567.76,1279.11 1568.78,1279.41 \n",
       "  1569.8,1279.72 1570.82,1280.02 1571.83,1280.33 1572.85,1280.64 1573.87,1280.95 1574.89,1281.26 1575.91,1281.58 1576.93,1281.89 1577.95,1282.21 1578.97,1282.53 \n",
       "  1579.99,1282.85 1581.01,1283.17 1582.02,1283.5 1583.04,1283.83 1584.06,1284.16 1585.08,1284.49 1586.1,1284.83 1587.12,1285.16 1588.14,1285.5 1589.16,1285.85 \n",
       "  1590.18,1286.19 1591.19,1286.54 1592.21,1286.89 1593.23,1287.24 1594.25,1287.6 1595.27,1287.96 1596.29,1288.32 1597.31,1288.69 1598.33,1289.05 1599.35,1289.42 \n",
       "  1600.36,1289.8 1601.38,1290.17 1602.4,1290.55 1603.42,1290.94 1604.44,1291.32 1605.46,1291.71 1606.48,1292.1 1607.5,1292.5 1608.52,1292.9 1609.54,1293.3 \n",
       "  1610.55,1293.7 1611.57,1294.11 1612.59,1294.52 1613.61,1294.93 1614.63,1295.35 1615.65,1295.77 1616.67,1296.19 1617.69,1296.62 1618.71,1297.05 1619.72,1297.48 \n",
       "  1620.74,1297.91 1621.76,1298.35 1622.78,1298.79 1623.8,1299.23 1624.82,1299.68 1625.84,1300.13 1626.86,1300.58 1627.88,1301.03 1628.9,1301.49 1629.91,1301.95 \n",
       "  1630.93,1302.41 1631.95,1302.87 1632.97,1303.34 1633.99,1303.81 1635.01,1304.28 1636.03,1304.76 1637.05,1305.23 1638.07,1305.71 1639.08,1306.19 1640.1,1306.68 \n",
       "  1641.12,1307.16 1642.14,1307.65 1643.16,1308.14 1644.18,1308.64 1645.2,1309.13 1646.22,1309.63 1647.24,1310.13 1648.25,1310.63 1649.27,1311.13 1650.29,1311.63 \n",
       "  1651.31,1312.14 1652.33,1312.65 1653.35,1313.16 1654.37,1313.67 1655.39,1314.18 1656.41,1314.7 1657.43,1315.21 1658.44,1315.73 1659.46,1316.25 1660.48,1316.77 \n",
       "  1661.5,1317.29 1662.52,1317.82 1663.54,1318.34 1664.56,1318.87 1665.58,1319.4 1666.6,1319.93 1667.61,1320.46 1668.63,1320.99 1669.65,1321.52 1670.67,1322.06 \n",
       "  1671.69,1322.59 1672.71,1323.13 1673.73,1323.67 1674.75,1324.21 1675.77,1324.75 1676.79,1325.29 1677.8,1325.83 1678.82,1326.38 1679.84,1326.92 1680.86,1327.47 \n",
       "  1681.88,1328.02 1682.9,1328.57 1683.92,1329.12 1684.94,1329.67 1685.96,1330.22 1686.97,1330.77 1687.99,1331.33 1689.01,1331.89 1690.03,1332.44 1691.05,1333 \n",
       "  1692.07,1333.57 1693.09,1334.13 1694.11,1334.69 1695.13,1335.26 1696.14,1335.82 1697.16,1336.39 1698.18,1336.96 1699.2,1337.53 1700.22,1338.1 1701.24,1338.68 \n",
       "  1702.26,1339.25 1703.28,1339.83 1704.3,1340.41 1705.32,1340.99 1706.33,1341.58 1707.35,1342.16 1708.37,1342.75 1709.39,1343.33 1710.41,1343.92 1711.43,1344.52 \n",
       "  1712.45,1345.11 1713.47,1345.71 1714.49,1346.3 1715.5,1346.9 1716.52,1347.51 1717.54,1348.11 1718.56,1348.72 1719.58,1349.33 1720.6,1349.94 1721.62,1350.55 \n",
       "  1722.64,1351.16 1723.66,1351.78 1724.67,1352.4 1725.69,1353.02 1726.71,1353.64 1727.73,1354.27 1728.75,1354.9 1729.77,1355.53 1730.79,1356.16 1731.81,1356.79 \n",
       "  1732.83,1357.43 1733.85,1358.07 1734.86,1358.71 1735.88,1359.35 1736.9,1360 1737.92,1360.64 1738.94,1361.29 1739.96,1361.94 1740.98,1362.6 1742,1363.25 \n",
       "  1743.02,1363.91 1744.03,1364.56 1745.05,1365.22 1746.07,1365.89 1747.09,1366.55 1748.11,1367.21 1749.13,1367.88 1750.15,1368.55 1751.17,1369.22 1752.19,1369.89 \n",
       "  1753.21,1370.56 1754.22,1371.23 1755.24,1371.9 1756.26,1372.58 1757.28,1373.25 1758.3,1373.93 1759.32,1374.6 1760.34,1375.28 1761.36,1375.96 1762.38,1376.63 \n",
       "  1763.39,1377.31 1764.41,1377.99 1765.43,1378.66 1766.45,1379.34 1767.47,1380.01 1768.49,1380.69 1769.51,1381.36 1770.53,1382.04 1771.55,1382.71 1772.56,1383.38 \n",
       "  1773.58,1384.05 1774.6,1384.72 1775.62,1385.39 1776.64,1386.05 1777.66,1386.71 1778.68,1387.37 1779.7,1388.03 1780.72,1388.69 1781.74,1389.34 1782.75,1389.99 \n",
       "  1783.77,1390.64 1784.79,1391.29 1785.81,1391.93 1786.83,1392.57 1787.85,1393.2 1788.87,1393.83 1789.89,1394.46 1790.91,1395.08 1791.92,1395.7 1792.94,1396.31 \n",
       "  1793.96,1396.92 1794.98,1397.53 1796,1398.13 1797.02,1398.72 1798.04,1399.31 1799.06,1399.9 1800.08,1400.47 1801.09,1401.05 1802.11,1401.62 1803.13,1402.18 \n",
       "  1804.15,1402.73 1805.17,1403.28 1806.19,1403.82 1807.21,1404.36 1808.23,1404.89 1809.25,1405.41 1810.27,1405.93 1811.28,1406.44 1812.3,1406.94 1813.32,1407.44 \n",
       "  1814.34,1407.93 1815.36,1408.41 1816.38,1408.88 1817.4,1409.34 1818.42,1409.8 1819.44,1410.25 1820.45,1410.69 1821.47,1411.13 1822.49,1411.55 1823.51,1411.97 \n",
       "  1824.53,1412.38 1825.55,1412.78 1826.57,1413.18 1827.59,1413.56 1828.61,1413.94 1829.63,1414.31 1830.64,1414.67 1831.66,1415.02 1832.68,1415.36 1833.7,1415.7 \n",
       "  1834.72,1416.03 1835.74,1416.34 1836.76,1416.65 1837.78,1416.95 1838.8,1417.25 1839.81,1417.53 1840.83,1417.81 1841.85,1418.07 1842.87,1418.33 1843.89,1418.58 \n",
       "  1844.91,1418.82 1845.93,1419.06 1846.95,1419.28 1847.97,1419.5 1848.98,1419.71 1850,1419.91 1851.02,1420.1 1852.04,1420.28 1853.06,1420.46 1854.08,1420.63 \n",
       "  1855.1,1420.79 1856.12,1420.94 1857.14,1421.09 1858.16,1421.23 1859.17,1421.36 1860.19,1421.48 1861.21,1421.6 1862.23,1421.71 1863.25,1421.81 1864.27,1421.9 \n",
       "  1865.29,1421.99 1866.31,1422.07 1867.33,1422.15 1868.34,1422.21 1869.36,1422.28 1870.38,1422.33 1871.4,1422.38 1872.42,1422.42 1873.44,1422.46 1874.46,1422.49 \n",
       "  1875.48,1422.52 1876.5,1422.54 1877.51,1422.56 1878.53,1422.57 1879.55,1422.57 1880.57,1422.57 1881.59,1422.57 1882.61,1422.56 1883.63,1422.55 1884.65,1422.53 \n",
       "  1885.67,1422.51 1886.69,1422.49 1887.7,1422.46 1888.72,1422.42 1889.74,1422.39 1890.76,1422.35 1891.78,1422.31 1892.8,1422.26 1893.82,1422.21 1894.84,1422.16 \n",
       "  1895.86,1422.11 1896.87,1422.05 1897.89,1422 1898.91,1421.94 1899.93,1421.87 1900.95,1421.81 1901.97,1421.74 1902.99,1421.68 1904.01,1421.61 1905.03,1421.54 \n",
       "  1906.05,1421.47 1907.06,1421.4 1908.08,1421.33 1909.1,1421.25 1910.12,1421.18 1911.14,1421.11 1912.16,1421.03 1913.18,1420.96 1914.2,1420.89 1915.22,1420.82 \n",
       "  1916.23,1420.74 1917.25,1420.67 1918.27,1420.6 1919.29,1420.53 1920.31,1420.46 1921.33,1420.39 1922.35,1420.32 1923.37,1420.26 1924.39,1420.19 1925.4,1420.13 \n",
       "  1926.42,1420.07 1927.44,1420.01 1928.46,1419.95 1929.48,1419.9 1930.5,1419.84 1931.52,1419.79 1932.54,1419.74 1933.56,1419.69 1934.58,1419.65 1935.59,1419.61 \n",
       "  1936.61,1419.57 1937.63,1419.53 1938.65,1419.5 1939.67,1419.46 1940.69,1419.44 1941.71,1419.41 1942.73,1419.39 1943.75,1419.37 1944.76,1419.35 1945.78,1419.34 \n",
       "  1946.8,1419.33 1947.82,1419.32 1948.84,1419.32 1949.86,1419.32 1950.88,1419.32 1951.9,1419.33 1952.92,1419.34 1953.94,1419.35 1954.95,1419.37 1955.97,1419.39 \n",
       "  1956.99,1419.42 1958.01,1419.44 1959.03,1419.48 1960.05,1419.51 1961.07,1419.55 1962.09,1419.6 1963.11,1419.64 1964.12,1419.69 1965.14,1419.75 1966.16,1419.81 \n",
       "  1967.18,1419.87 1968.2,1419.93 1969.22,1420 1970.24,1420.08 1971.26,1420.15 1972.28,1420.23 1973.29,1420.32 1974.31,1420.4 1975.33,1420.49 1976.35,1420.59 \n",
       "  1977.37,1420.69 1978.39,1420.79 1979.41,1420.89 1980.43,1421 1981.45,1421.12 1982.47,1421.23 1983.48,1421.35 1984.5,1421.47 1985.52,1421.6 1986.54,1421.73 \n",
       "  1987.56,1421.86 1988.58,1421.99 1989.6,1422.13 1990.62,1422.27 1991.64,1422.42 1992.65,1422.56 1993.67,1422.71 1994.69,1422.87 1995.71,1423.02 1996.73,1423.18 \n",
       "  1997.75,1423.34 1998.77,1423.5 1999.79,1423.67 2000.81,1423.84 2001.82,1424.01 2002.84,1424.18 2003.86,1424.36 2004.88,1424.54 2005.9,1424.72 2006.92,1424.9 \n",
       "  2007.94,1425.08 2008.96,1425.27 2009.98,1425.45 2011,1425.64 2012.01,1425.84 2013.03,1426.03 2014.05,1426.22 2015.07,1426.42 2016.09,1426.62 2017.11,1426.82 \n",
       "  2018.13,1427.02 2019.15,1427.22 2020.17,1427.42 2021.18,1427.62 2022.2,1427.83 2023.22,1428.04 2024.24,1428.24 2025.26,1428.45 2026.28,1428.66 2027.3,1428.87 \n",
       "  2028.32,1429.08 2029.34,1429.29 2030.36,1429.5 2031.37,1429.71 2032.39,1429.92 2033.41,1430.13 2034.43,1430.35 2035.45,1430.56 2036.47,1430.77 2037.49,1430.98 \n",
       "  2038.51,1431.2 2039.53,1431.41 2040.54,1431.62 2041.56,1431.83 2042.58,1432.05 2043.6,1432.26 2044.62,1432.47 2045.64,1432.68 2046.66,1432.89 2047.68,1433.1 \n",
       "  2048.7,1433.31 2049.71,1433.52 2050.73,1433.73 2051.75,1433.93 2052.77,1434.14 2053.79,1434.35 2054.81,1434.55 2055.83,1434.75 2056.85,1434.96 2057.87,1435.16 \n",
       "  2058.89,1435.36 2059.9,1435.56 2060.92,1435.76 2061.94,1435.95 2062.96,1436.15 2063.98,1436.34 2065,1436.54 2066.02,1436.73 2067.04,1436.92 2068.06,1437.11 \n",
       "  2069.07,1437.3 2070.09,1437.48 2071.11,1437.67 2072.13,1437.85 2073.15,1438.03 2074.17,1438.21 2075.19,1438.39 2076.21,1438.57 2077.23,1438.74 2078.24,1438.92 \n",
       "  2079.26,1439.09 2080.28,1439.26 2081.3,1439.42 2082.32,1439.59 2083.34,1439.75 2084.36,1439.92 2085.38,1440.08 2086.4,1440.24 2087.42,1440.39 2088.43,1440.55 \n",
       "  2089.45,1440.7 2090.47,1440.85 2091.49,1441 2092.51,1441.15 2093.53,1441.29 2094.55,1441.44 2095.57,1441.58 2096.59,1441.72 2097.6,1441.85 2098.62,1441.99 \n",
       "  2099.64,1442.12 2100.66,1442.25 2101.68,1442.38 2102.7,1442.51 2103.72,1442.64 2104.74,1442.76 2105.76,1442.88 2106.78,1443 2107.79,1443.12 2108.81,1443.23 \n",
       "  2109.83,1443.35 2110.85,1443.46 2111.87,1443.57 2112.89,1443.68 2113.91,1443.78 2114.93,1443.89 2115.95,1443.99 2116.96,1444.09 2117.98,1444.19 2119,1444.29 \n",
       "  2120.02,1444.38 2121.04,1444.47 2122.06,1444.56 2123.08,1444.65 2124.1,1444.74 2125.12,1444.83 2126.13,1444.91 2127.15,1444.99 2128.17,1445.07 2129.19,1445.15 \n",
       "  2130.21,1445.23 2131.23,1445.3 2132.25,1445.38 2133.27,1445.45 2134.29,1445.52 2135.31,1445.59 2136.32,1445.66 2137.34,1445.72 2138.36,1445.79 2139.38,1445.85 \n",
       "  2140.4,1445.91 2141.42,1445.97 2142.44,1446.03 2143.46,1446.09 2144.48,1446.14 2145.49,1446.2 2146.51,1446.25 2147.53,1446.3 2148.55,1446.35 2149.57,1446.4 \n",
       "  2150.59,1446.45 2151.61,1446.5 2152.63,1446.54 2153.65,1446.58 2154.66,1446.63 2155.68,1446.67 2156.7,1446.71 2157.72,1446.75 2158.74,1446.79 2159.76,1446.82 \n",
       "  2160.78,1446.86 2161.8,1446.9 2162.82,1446.93 2163.84,1446.96 2164.85,1447 2165.87,1447.03 2166.89,1447.06 2167.91,1447.09 2168.93,1447.11 2169.95,1447.14 \n",
       "  2170.97,1447.17 2171.99,1447.2 2173.01,1447.22 2174.02,1447.24 2175.04,1447.27 2176.06,1447.29 2177.08,1447.31 2178.1,1447.33 2179.12,1447.36 2180.14,1447.38 \n",
       "  2181.16,1447.39 2182.18,1447.41 2183.2,1447.43 2184.21,1447.45 2185.23,1447.47 2186.25,1447.48 2187.27,1447.5 2188.29,1447.51 2189.31,1447.53 2190.33,1447.54 \n",
       "  2191.35,1447.56 2192.37,1447.57 2193.38,1447.58 2194.4,1447.59 2195.42,1447.61 2196.44,1447.62 2197.46,1447.63 2198.48,1447.64 2199.5,1447.65 2200.52,1447.66 \n",
       "  2201.54,1447.67 2202.55,1447.68 2203.57,1447.69 2204.59,1447.69 2205.61,1447.7 2206.63,1447.71 2207.65,1447.72 2208.67,1447.73 2209.69,1447.73 2210.71,1447.74 \n",
       "  2211.73,1447.74 2212.74,1447.75 2213.76,1447.76 2214.78,1447.76 2215.8,1447.77 2216.82,1447.77 2217.84,1447.78 2218.86,1447.78 2219.88,1447.79 2220.9,1447.79 \n",
       "  2221.91,1447.8 2222.93,1447.8 2223.95,1447.8 2224.97,1447.81 2225.99,1447.81 2227.01,1447.81 2228.03,1447.82 2229.05,1447.82 2230.07,1447.82 2231.09,1447.83 \n",
       "  2232.1,1447.83 2233.12,1447.83 2234.14,1447.83 2235.16,1447.84 2236.18,1447.84 2237.2,1447.84 2238.22,1447.84 2239.24,1447.84 2240.26,1447.85 2241.27,1447.85 \n",
       "  2242.29,1447.85 2243.31,1447.85 2244.33,1447.85 2245.35,1447.85 2246.37,1447.85 2247.39,1447.86 2248.41,1447.86 2249.43,1447.86 2250.44,1447.86 2251.46,1447.86 \n",
       "  2252.48,1447.86 2253.5,1447.86 2254.52,1447.86 2255.54,1447.86 2256.56,1447.86 2257.58,1447.87 2258.6,1447.87 2259.62,1447.87 2260.63,1447.87 2261.65,1447.87 \n",
       "  2262.67,1447.87 2263.69,1447.87 2264.71,1447.87 2265.73,1447.87 2266.75,1447.87 2267.77,1447.87 2268.79,1447.87 2269.8,1447.87 2270.82,1447.87 2271.84,1447.87 \n",
       "  2272.86,1447.87 2273.88,1447.87 2274.9,1447.87 2275.92,1447.87 2276.94,1447.87 2277.96,1447.87 2278.97,1447.87 2279.99,1447.87 2281.01,1447.87 2282.03,1447.87 \n",
       "  2283.05,1447.87 2284.07,1447.87 2285.09,1447.87 2286.11,1447.87 2287.13,1447.87 2288.15,1447.87 2289.16,1447.87 2290.18,1447.87 \n",
       "  \"/>\n",
       "</svg>\n"
      ]
     },
     "execution_count": 32,
     "metadata": {},
     "output_type": "execute_result"
    }
   ],
   "source": [
    "plot(density_points[:,1], density_points[:,2], legend=false, title=\"Time Taken For One Gillespie Simulation\" )"
   ]
  },
  {
   "cell_type": "code",
   "execution_count": null,
   "id": "822bea68",
   "metadata": {},
   "outputs": [],
   "source": []
  },
  {
   "cell_type": "code",
   "execution_count": null,
   "id": "e81e9a00",
   "metadata": {},
   "outputs": [],
   "source": []
  },
  {
   "cell_type": "code",
   "execution_count": null,
   "id": "50e47d4e",
   "metadata": {},
   "outputs": [],
   "source": []
  },
  {
   "cell_type": "code",
   "execution_count": null,
   "id": "476874b2",
   "metadata": {},
   "outputs": [],
   "source": []
  },
  {
   "cell_type": "code",
   "execution_count": null,
   "id": "fe5c10b8",
   "metadata": {},
   "outputs": [],
   "source": []
  },
  {
   "cell_type": "code",
   "execution_count": null,
   "id": "203b83cb",
   "metadata": {},
   "outputs": [],
   "source": []
  },
  {
   "cell_type": "code",
   "execution_count": null,
   "id": "f7ee802d",
   "metadata": {},
   "outputs": [],
   "source": []
  },
  {
   "cell_type": "code",
   "execution_count": null,
   "id": "31a46e87",
   "metadata": {},
   "outputs": [],
   "source": []
  },
  {
   "cell_type": "code",
   "execution_count": null,
   "id": "03548d81",
   "metadata": {},
   "outputs": [],
   "source": []
  },
  {
   "cell_type": "code",
   "execution_count": null,
   "id": "ca1b34b2",
   "metadata": {},
   "outputs": [],
   "source": []
  },
  {
   "cell_type": "code",
   "execution_count": null,
   "id": "7855f32a",
   "metadata": {},
   "outputs": [],
   "source": []
  },
  {
   "cell_type": "code",
   "execution_count": null,
   "id": "e6a6534a",
   "metadata": {},
   "outputs": [],
   "source": []
  },
  {
   "cell_type": "code",
   "execution_count": null,
   "id": "c9ace627",
   "metadata": {},
   "outputs": [],
   "source": []
  },
  {
   "cell_type": "code",
   "execution_count": null,
   "id": "5e5c1daf",
   "metadata": {},
   "outputs": [],
   "source": []
  }
 ],
 "metadata": {
  "kernelspec": {
   "display_name": "Julia 1.6.2",
   "language": "julia",
   "name": "julia-1.6"
  },
  "language_info": {
   "file_extension": ".jl",
   "mimetype": "application/julia",
   "name": "julia",
   "version": "1.6.2"
  }
 },
 "nbformat": 4,
 "nbformat_minor": 5
}
