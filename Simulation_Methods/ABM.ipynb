{
 "cells": [
  {
   "cell_type": "code",
   "execution_count": 30,
   "id": "cfed173c",
   "metadata": {},
   "outputs": [],
   "source": [
    "import Pkg\n",
    "using Plots, DelimitedFiles, Colors, Random, Statistics\n",
    "using Distributed\n",
    "\n",
    "length(Sys.cpu_info())\n",
    "addprocs(4) ;"
   ]
  },
  {
   "cell_type": "code",
   "execution_count": 31,
   "id": "435b8360",
   "metadata": {},
   "outputs": [],
   "source": [
    "@everywhere using Random, Distributed"
   ]
  },
  {
   "cell_type": "code",
   "execution_count": 32,
   "id": "ef24d767",
   "metadata": {},
   "outputs": [],
   "source": [
    "Tmax = 80*365\n",
    "Δtout = 7 # time step to save output\n",
    "Δt = 1 # time step for the simulation\n",
    "Nsim = 500 ; # number of simulations"
   ]
  },
  {
   "cell_type": "code",
   "execution_count": 33,
   "id": "1cd68c4d",
   "metadata": {},
   "outputs": [],
   "source": [
    "@everywhere struct mtDNA \n",
    "    rates::Vector{Real}\n",
    "    unique_id::Int\n",
    "    parent_id::Int\n",
    "    status::String\n",
    "    \n",
    "    function mtDNA(rates, unique_id, parent_id, status)\n",
    "        if !(status in [\"wild\", \"mutant\"])\n",
    "            error(\"Molecules must be of type 'wild' or 'mutant' \")\n",
    "        end\n",
    "        if status==\"wild\"\n",
    "            new(rates, unique_id, parent_id, status)\n",
    "        elseif status==\"mutant\"\n",
    "            new(rates, unique_id, parent_id, status)\n",
    "        end\n",
    "    end\n",
    "end "
   ]
  },
  {
   "cell_type": "code",
   "execution_count": 34,
   "id": "f8285dfe",
   "metadata": {},
   "outputs": [],
   "source": [
    "@everywhere rates(mol::mtDNA) = mol.rates\n",
    "@everywhere unique_id(mol::mtDNA) = mol.unique_id\n",
    "@everywhere parent_id(mol::mtDNA) = mol.parent_id\n",
    "@everywhere status(mol::mtDNA) = mol.status "
   ]
  },
  {
   "cell_type": "code",
   "execution_count": 35,
   "id": "3935b19f",
   "metadata": {},
   "outputs": [],
   "source": [
    "@everywhere function counter(system_state)::Vector{Int64}\n",
    "    \"\"\"\n",
    "    Calculates the population size for wild and mutant type\n",
    "    \"\"\"\n",
    "    copy_num = length(system_state)\n",
    "    W = sum([1 for x in system_state if status(x)==\"wild\"])\n",
    "    return [W, copy_num-W]\n",
    "end"
   ]
  },
  {
   "cell_type": "code",
   "execution_count": 36,
   "id": "ef971b79",
   "metadata": {},
   "outputs": [],
   "source": [
    "@everywhere function transform_summ(pop_dynamics)::Array{Any}\n",
    "    copy_num = pop_dynamics[:,1] .+ pop_dynamics[:,2]\n",
    "    mut_load = pop_dynamics[:,2]./copy_num\n",
    "    return hcat(copy_num, mut_load)\n",
    "end"
   ]
  },
  {
   "cell_type": "code",
   "execution_count": 37,
   "id": "641917f7",
   "metadata": {},
   "outputs": [],
   "source": [
    "@everywhere function agented(init, Tmax::Real, dt::Real, out_dt::Real)\n",
    "    N = trunc(Int, Tmax/dt)\n",
    "    Nout = trunc(Int, Tmax/out_dt)\n",
    "    system_state = init\n",
    "    current_id = length(init) + 1\n",
    "    popdym = Array{Union{Float64, Missing}}(undef, (2,Nout+1))\n",
    "    C0 = length(init)\n",
    "    target = 0.0\n",
    "    tt = 0.0\n",
    "    i = 1\n",
    "    for k=1:N\n",
    "        if tt>=target\n",
    "            popdym[:,i] = counter(system_state)\n",
    "            target += out_dt\n",
    "            i += 1\n",
    "        end\n",
    "        molecules_to_remove = Vector{Int}()\n",
    "        new_molecules = Vector{mtDNA}()\n",
    "        for mol_ind=1:length(system_state)\n",
    "            molecule = system_state[mol_ind]\n",
    "            roll = rand(Float64)\n",
    "            cdf = cumsum( rates(molecule) ) \n",
    "            if 0.0<roll && roll<cdf[1] # degredation\n",
    "                append!( molecules_to_remove, mol_ind)\n",
    "            elseif cdf[1]<roll && roll<cdf[2] # replication\n",
    "                append!(molecules_to_remove, mol_ind)\n",
    "                for j=1:2\n",
    "                    current_id += 1\n",
    "                    daughter = mtDNA([3.06e-8,3.06e-8,0]*3600*24, current_id, unique_id(molecule), status(molecule) )\n",
    "                    push!(new_molecules, daughter)\n",
    "                end\n",
    "            elseif cdf[2]<roll && roll<=cdf[3] # mutation\n",
    "            # mutation last as has smallest probability\n",
    "               append!(molecules_to_remove, mol_ind)\n",
    "                for j=1:2\n",
    "                    current_id += 1\n",
    "                    daughter = mtDNA([3.06e-8,3.06e-8,0]*3600*24, current_id, unique_id(molecule), [\"wild\",\"mutant\"][j])\n",
    "                    push!(new_molecules, daughter)\n",
    "                end\n",
    "            end\n",
    "        end\n",
    "        system_state = [mol for (i,mol) in enumerate(system_state) if !(i in molecules_to_remove) ]\n",
    "        append!(system_state, new_molecules)\n",
    "        tt += dt\n",
    "        if sum(counter(system_state)) == 0\n",
    "            popdym[:,i:Nout] = fill(missing, (2,Nout-i+1))\n",
    "            popdym = popdym'\n",
    "            copy_num = popdym[:,1] .+ popdym[:,2]\n",
    "            mut_load = popdym[:,2] ./ copy_num\n",
    "            return hcat(copy_num, mut_load)\n",
    "        end\n",
    "    end\n",
    "    popdym = popdym'\n",
    "    copy_num = popdym[:,1] .+ popdym[:,2]\n",
    "    mut_load = popdym[:,2] ./ copy_num\n",
    "    return hcat(copy_num, mut_load)\n",
    "end"
   ]
  },
  {
   "cell_type": "code",
   "execution_count": 38,
   "id": "9788638f",
   "metadata": {},
   "outputs": [],
   "source": [
    "C0 = 200\n",
    "h = 0.5\n",
    "W0 = round.( C0.*(1 .-h), digits=0)\n",
    "M0 = round.( C0.*h, digits=0)\n",
    "inits = [mtDNA([3.06e-8, 3.06e-8, 0]*3600*24, x,-1,\"wild\") for x=1:W0 ]# initial state of system\n",
    "append!(inits, [mtDNA([3.06e-8, 3.06e-8, 0]*3600*24, x,-1,\"mutant\") for x=W0+1:W0+M0] ) ;"
   ]
  },
  {
   "cell_type": "code",
   "execution_count": 39,
   "id": "3b66e212",
   "metadata": {},
   "outputs": [
    {
     "name": "stdout",
     "output_type": "stream",
     "text": [
      "  1.966014 seconds (57.15 M allocations: 1.963 GiB, 14.26% gc time, 21.23% compilation time)\n"
     ]
    }
   ],
   "source": [
    "@time abm_sim = agented(inits, Tmax, Δt, Δtout)\n",
    "\n",
    "\"\"\"\n",
    "one simple simulation takes 0 - 3 seconds\n",
    "\"\"\"\n",
    "\n",
    "abm_sim ;"
   ]
  },
  {
   "cell_type": "code",
   "execution_count": 40,
   "id": "b4e2f209",
   "metadata": {},
   "outputs": [
    {
     "data": {
      "text/plain": [
       "\"500 simple simulations: 950 seconds \\n\""
      ]
     },
     "execution_count": 40,
     "metadata": {},
     "output_type": "execute_result"
    }
   ],
   "source": [
    "# @time map(agented, Nlist, Tmaxs, Δts, Δtouts) \n",
    "\"\"\"\n",
    "500 simple simulations: 950 seconds \n",
    "\"\"\""
   ]
  },
  {
   "cell_type": "code",
   "execution_count": 41,
   "id": "a915cfc5",
   "metadata": {},
   "outputs": [
    {
     "data": {
      "text/plain": [
       "par_map (generic function with 1 method)"
      ]
     },
     "execution_count": 41,
     "metadata": {},
     "output_type": "execute_result"
    }
   ],
   "source": [
    "function par_map(Nsim, f, init, Tmax, Δt, Δtout)\n",
    "    np = nprocs()  # determine the number of processes available\n",
    "    results = Vector{Any}(undef, Nsim)\n",
    "    i = 1\n",
    "    # function to produce the next work item from the queue.\n",
    "    # in this case it's just an index.\n",
    "    nextidx() = (idx=i; i+=1; idx)\n",
    "    @sync begin\n",
    "        for p=1:np\n",
    "            if p != myid() || np == 1\n",
    "                @async begin\n",
    "                    while true\n",
    "                        idx = nextidx()\n",
    "                        if idx > Nsim\n",
    "                            break\n",
    "                        end\n",
    "                        results[idx] = remotecall_fetch(f, p, inits, Tmax, Δt, Δtout)\n",
    "                    end\n",
    "                end\n",
    "            end\n",
    "        end\n",
    "    end\n",
    "    results\n",
    "end"
   ]
  },
  {
   "cell_type": "code",
   "execution_count": null,
   "id": "9e4f7776",
   "metadata": {},
   "outputs": [],
   "source": [
    "@time simulations = par_map(Nsim, agented, inits, Tmax, Δt, Δtout) ; \n",
    "\"\"\"\n",
    "simple simulution : 280 seconds\n",
    "4 workers\n",
    "time step = 1 day\n",
    "\n",
    "simple simulation : [a long fucking time] 6700 seconds\n",
    "(legit just 24 times longer than the day)\n",
    "4 workers\n",
    "time step = 1 hour\n",
    "\"\"\""
   ]
  },
  {
   "cell_type": "code",
   "execution_count": null,
   "id": "717c2b99",
   "metadata": {},
   "outputs": [],
   "source": [
    "function quantiles(sims, p)\n",
    "    \"\"\"\n",
    "    returns quantile summaries from simulations\n",
    "    \"\"\"\n",
    "    Nsim = length(sims) # Nsim: number of simulations\n",
    "    n = size(sims[1])[1] # length of one simulation\n",
    "    out = Array{Float64}(undef, n,length(p),2)\n",
    "    for t=1:n\n",
    "        out[t,:,1] = quantile(skipmissing([sims[i][t,1] for i=1:Nsim]), p)\n",
    "        out[t,:,2] = quantile(skipmissing([sims[i][t,2] for i=1:Nsim]), p)\n",
    "    end\n",
    "    out\n",
    "end"
   ]
  },
  {
   "cell_type": "code",
   "execution_count": null,
   "id": "35acc4ee",
   "metadata": {},
   "outputs": [],
   "source": [
    "sims_qntl = quantiles(simulations, [0.025,0.25,0.5,0.75,0.975]) ;"
   ]
  },
  {
   "cell_type": "code",
   "execution_count": null,
   "id": "b7d81489",
   "metadata": {
    "scrolled": true
   },
   "outputs": [],
   "source": [
    "myBlack = colorant\"rgb(0,0,0,0.1)\"\n",
    "ts = [0:Δtout:Tmax;]./(365);"
   ]
  },
  {
   "cell_type": "code",
   "execution_count": null,
   "id": "33c2a55a",
   "metadata": {},
   "outputs": [],
   "source": [
    "n = trunc(Int, Tmax/Δtout)\n",
    "sim_mat = Array{Union{Float64, Missing}}(undef, (n+1,2,Nsim))\n",
    "\n",
    "for i=1:Nsim\n",
    "    sim_mat[:,:,i] = simulations[i]\n",
    "end"
   ]
  },
  {
   "cell_type": "code",
   "execution_count": null,
   "id": "77517a32",
   "metadata": {},
   "outputs": [],
   "source": [
    "p1 = plot(ts, tt[:,1,:], color=myBlack, legend=false, title=\"Copy Number\")\n",
    "p2 = plot(ts, tt[:,2,:], color=myBlack, legend=false, title=\"Mutation Load\")\n",
    "plot(p1, p2, layout=(1,2), legend=false)\n",
    "savefig(\"Simulations/PDF/abm_simulations_oneday.pdf\")"
   ]
  },
  {
   "cell_type": "code",
   "execution_count": null,
   "id": "9825ff59",
   "metadata": {},
   "outputs": [],
   "source": [
    "p3 = plot(ts, sims_qntl[:,:,1], title=\"Copy Number Qunatiles\")\n",
    "p4 = plot(ts, sims_qntl[:,:,2], title=\"Mutation Load Quantiles\")\n",
    "plot(p3, p4, layout=(1,2), legend=false)\n",
    "savefig(\"Simulations/PDF/abm_qntls_oneday.pdf\")"
   ]
  },
  {
   "cell_type": "code",
   "execution_count": null,
   "id": "568ca732",
   "metadata": {},
   "outputs": [],
   "source": [
    "writedlm(\"Simulations/CN_qnt_abm_jl_oneday.txt\", sims_qntl[:,:,1])\n",
    "writedlm(\"Simulations/ML_qnt_abm_jl_oneday.txt\", sims_qntl[:,:,2])"
   ]
  },
  {
   "cell_type": "code",
   "execution_count": null,
   "id": "ae86f62e",
   "metadata": {},
   "outputs": [],
   "source": []
  }
 ],
 "metadata": {
  "kernelspec": {
   "display_name": "Julia 1.6.2",
   "language": "julia",
   "name": "julia-1.6"
  },
  "language_info": {
   "file_extension": ".jl",
   "mimetype": "application/julia",
   "name": "julia",
   "version": "1.6.2"
  }
 },
 "nbformat": 4,
 "nbformat_minor": 5
}
